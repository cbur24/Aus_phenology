{
 "cells": [
  {
   "cell_type": "markdown",
   "id": "d7b43d99-d698-40b4-a6cb-1e205a6cc0d7",
   "metadata": {},
   "source": [
    "# Batch run phenology analysis\n",
    "\n",
    "Qsub each tile"
   ]
  },
  {
   "cell_type": "code",
   "execution_count": null,
   "id": "d70a23e7-5a01-4839-a9c2-f02880a81e7a",
   "metadata": {
    "tags": []
   },
   "outputs": [],
   "source": [
    "%matplotlib inline\n",
    "\n",
    "import os\n",
    "import sys\n",
    "import warnings\n",
    "import numpy as np\n",
    "import xarray as xr\n",
    "import pandas as pd\n",
    "\n",
    "import matplotlib.pyplot as plt\n",
    "from odc.geo.xr import assign_crs"
   ]
  },
  {
   "cell_type": "markdown",
   "id": "aa9b77dc-62cc-445f-b650-72d104c6d175",
   "metadata": {},
   "source": [
    "## Open data"
   ]
  },
  {
   "cell_type": "code",
   "execution_count": null,
   "id": "3e7391fc-5c9d-41fb-ad27-342d2badb8b7",
   "metadata": {},
   "outputs": [],
   "source": [
    "ds = xr.open_dataset('/g/data/os22/chad_tmp/Aus_phenology/data/NDVI/NDVI_smooth_AusENDVI-clim_MCD43A4.nc')['NDVI']\n",
    "covariables =  xr.open_dataset('/g/data/os22/chad_tmp/Aus_phenology/data/covars.nc')\n",
    "covariables = covariables.drop_vars('wcf')\n",
    "\n",
    "ss_path = f'/g/data/xc0/project/AusEFlux/data/ndvi_of_baresoil_5km.nc'\n",
    "ss = assign_crs(xr.open_dataset(ss_path)['NDVI'], crs='epsg:4326')\n",
    "ss.name = 'NDVI'\n",
    "\n",
    "#---------testing slices\n",
    "# ds = ds.isel(latitude=slice(200,352), longitude=slice(50,302)) \n",
    "# covariables = covariables.isel(latitude=slice(200,352), longitude=slice(50,302))\n",
    "# ss = ss.isel(latitude=slice(200,352), longitude=slice(50,302))\n",
    "\n",
    "# ds = ds.isel(latitude=slice(200,252), longitude=slice(50,202)) \n",
    "# covariables = covariables.isel(latitude=slice(200,252), longitude=slice(50,202))\n",
    "# ss = ss.isel(latitude=slice(200,252), longitude=slice(50,202))"
   ]
  },
  {
   "cell_type": "markdown",
   "id": "e5431ff9-08fd-4f58-a717-52f15d242139",
   "metadata": {},
   "source": [
    "## Split data into tiles\n",
    "\n",
    "Running all of Aus just takes too long, >500,000 pixels * > 14,000 time steps - dask graph is huge!"
   ]
  },
  {
   "cell_type": "code",
   "execution_count": null,
   "id": "7b7e72dd-43e9-4fdc-9111-434c4a11a624",
   "metadata": {},
   "outputs": [],
   "source": [
    "# Function to split into spatial tiles\n",
    "def split_spatial_tiles(data_array, lat_dim='latitude', lon_dim='longitude', n_lat=2, n_lon=4):\n",
    "    lat_size = data_array.sizes[lat_dim] // n_lat\n",
    "    lon_size = data_array.sizes[lon_dim] // n_lon\n",
    "    \n",
    "    tiles = []\n",
    "    for i in range(n_lat):\n",
    "        for j in range(n_lon):\n",
    "            tile = data_array.isel({\n",
    "                lat_dim: slice(i * lat_size, (i + 1) * lat_size),\n",
    "                lon_dim: slice(j * lon_size, (j + 1) * lon_size)\n",
    "            })\n",
    "            tiles.append(tile)\n",
    "    \n",
    "    return tiles\n",
    "\n",
    "# Split data into spatial tiles (2 latitude x 4 longitude)\n",
    "tiles = split_spatial_tiles(ds, n_lat=2, n_lon=4)\n",
    "covars_tiles = split_spatial_tiles(covariables, n_lat=2, n_lon=4)\n",
    "ss_tiles = split_spatial_tiles(ss, n_lat=2, n_lon=4)\n",
    "\n",
    "#verify no overlaps or missing pixels.\n",
    "assert np.sum(xr.combine_by_coords(tiles).longitude == ds.longitude) == len(ds.longitude)\n",
    "assert np.sum(xr.combine_by_coords(tiles).latitude == ds.latitude) == len(ds.latitude)\n",
    "\n",
    "# create named dictonary\n",
    "tile_names=['NW', 'NNW', 'NNE', 'NE',\n",
    "            'SW', 'SSW', 'SSE', 'SE']\n",
    "tiles_dict = dict(zip(tile_names, tiles))\n",
    "covars_tiles_dict = dict(zip(tile_names, covars_tiles))\n",
    "ss_tiles_dict = dict(zip(tile_names, ss_tiles))\n",
    "\n",
    "#create a plot to visualise tiles\n",
    "fig,axes = plt.subplots(2, 4, figsize=(10,8))\n",
    "for t,ax in zip(tiles, axes.ravel()):\n",
    "    t.isel(time=range(0,20)).mean('time').plot(ax=ax, add_colorbar=False, add_labels=False)\n",
    "    ax.set_title(None);"
   ]
  },
  {
   "cell_type": "markdown",
   "id": "5bf25fb9-8e92-42b2-bee5-501f23b26e7b",
   "metadata": {},
   "source": [
    "## Export"
   ]
  },
  {
   "cell_type": "code",
   "execution_count": null,
   "id": "be3fe74a-f69d-44ba-a160-37535f2fa4c8",
   "metadata": {},
   "outputs": [],
   "source": [
    "for k,v in tiles_dict.items():\n",
    "    print(k)\n",
    "    v.to_netcdf(f'/g/data/os22/chad_tmp/Aus_phenology/data/tiled_data/NDVI_{k}.nc')"
   ]
  },
  {
   "cell_type": "code",
   "execution_count": null,
   "id": "2b0e0dc3-62d3-4144-b05c-66b0773595c3",
   "metadata": {},
   "outputs": [],
   "source": [
    "for k,v in covars_tiles_dict.items():\n",
    "    print(k)\n",
    "    v.to_netcdf(f'/g/data/os22/chad_tmp/Aus_phenology/data/tiled_data/COVARS_{k}.nc')"
   ]
  },
  {
   "cell_type": "code",
   "execution_count": null,
   "id": "d114dbbd-cba9-4648-9986-31165762320e",
   "metadata": {},
   "outputs": [],
   "source": [
    "for k,v in ss_tiles_dict.items():\n",
    "    print(k)\n",
    "    del v.attrs['grid_mapping']\n",
    "    v.to_netcdf(f'/g/data/os22/chad_tmp/Aus_phenology/data/tiled_data/SS_{k}.nc')"
   ]
  },
  {
   "cell_type": "markdown",
   "id": "209b6172-4043-4e61-a50f-d5b178b16f4f",
   "metadata": {},
   "source": [
    "## Submit tiles to PBS job queue"
   ]
  },
  {
   "cell_type": "code",
   "execution_count": null,
   "id": "bafabf4b-f576-4127-b134-66d97d71f675",
   "metadata": {},
   "outputs": [],
   "source": [
    "import os"
   ]
  },
  {
   "cell_type": "code",
   "execution_count": null,
   "id": "146045c7-8859-4ff0-87f1-21cd4b593c35",
   "metadata": {},
   "outputs": [],
   "source": [
    "tiles = [\"'NW'\", \"'NNW'\", \"'NNE'\", \"'NE'\", \"'SW'\", \"'SSW'\", \"'SSE'\", \"'SE'\"] #,\"'NW'\", \"'NNW'\", \n",
    "os.chdir('/g/data/os22/chad_tmp/Aus_phenology/')\n",
    "for t in tiles:\n",
    "    print(t)\n",
    "    os.system(\"qsub -v TILENAME=\"+t+\" src/run_single_tile.sh\")"
   ]
  },
  {
   "cell_type": "code",
   "execution_count": null,
   "id": "3d12dbf0-adaf-4ac6-91f3-3df1f9827b07",
   "metadata": {},
   "outputs": [],
   "source": [
    "!qstat\n",
    "# !qstat -xf 127454605.gadi-pbs"
   ]
  },
  {
   "cell_type": "code",
   "execution_count": null,
   "id": "a67321fa-5746-4871-ae59-7ec07e3153c9",
   "metadata": {},
   "outputs": [],
   "source": []
  },
  {
   "cell_type": "markdown",
   "id": "ddb32c14-b662-4475-a20e-e8bc5cfb8fee",
   "metadata": {},
   "source": [
    "## Run interactively instead\n",
    "\n",
    "Good for testing etc."
   ]
  },
  {
   "cell_type": "code",
   "execution_count": null,
   "id": "12ae0419-241a-41ad-8e00-83c3ae74a1ab",
   "metadata": {},
   "outputs": [],
   "source": [
    "import sys\n",
    "sys.path.append('/g/data/os22/chad_tmp/AusEFlux/src/')\n",
    "from _utils import start_local_dask\n",
    "\n",
    "sys.path.append('/g/data/os22/chad_tmp/Aus_phenology/src')\n",
    "from batch_run_phenology_analysis import phenometrics_etal\n",
    "\n",
    "# %load_ext autoreload\n",
    "# %autoreload 2"
   ]
  },
  {
   "cell_type": "code",
   "execution_count": null,
   "id": "c58fb310-d2e0-45db-8890-0a18341cc11d",
   "metadata": {},
   "outputs": [],
   "source": [
    "## varibles for script\n",
    "n_workers=12\n",
    "memory_limit='40GiB'\n",
    "integral_var = 'IOS'\n",
    "regress_var = 'vPOS'\n",
    "modelling_vars=['co2', 'srad', 'rain', 'tavg', 'vpd']\n",
    "results_path = '/g/data/os22/chad_tmp/Aus_phenology/results/combined_tiles/'\n",
    "template_path='/g/data/os22/chad_tmp/Aus_phenology/data/templates/'"
   ]
  },
  {
   "cell_type": "code",
   "execution_count": null,
   "id": "4094a263-b873-4dfa-8384-02ac4d5368d0",
   "metadata": {
    "scrolled": true
   },
   "outputs": [],
   "source": [
    "start_local_dask(\n",
    "        n_workers=n_workers,\n",
    "        threads_per_worker=1,\n",
    "        memory_limit=memory_limit\n",
    "                    )"
   ]
  },
  {
   "cell_type": "code",
   "execution_count": null,
   "id": "a72127b9-ee34-458e-99d2-7dae350596f1",
   "metadata": {
    "scrolled": true
   },
   "outputs": [],
   "source": [
    "tiles = ['NW','NNW', 'NNE', 'NE', 'SW', 'SSW', 'SSE', 'SE']\n",
    "\n",
    "for t in tiles:\n",
    "    print(t)\n",
    "    phenometrics_etal(\n",
    "        n=t,\n",
    "        results_path=results_path,\n",
    "        template_path=template_path,\n",
    "        integral_var=integral_var,\n",
    "        regress_var=regress_var,\n",
    "        modelling_vars=modelling_vars,\n",
    "    )\n",
    "    break"
   ]
  },
  {
   "cell_type": "code",
   "execution_count": null,
   "id": "3948ef35-01e3-4072-a3e0-365ba283d53b",
   "metadata": {},
   "outputs": [],
   "source": [
    "# t = xr.open_dataset('/g/data/os22/chad_tmp/Aus_phenology/data/templates/template_integral_parcorr.nc')\n",
    "# t = t.drop_vars('vTOS')\n",
    "# t.to_netcdf('/g/data/os22/chad_tmp/Aus_phenology/data/templates/template_integral_parcorr__.nc')"
   ]
  },
  {
   "cell_type": "code",
   "execution_count": null,
   "id": "0dc0b0fb-be9d-4c95-8a7d-9bea475fce74",
   "metadata": {},
   "outputs": [],
   "source": [
    "import xarray as xr\n",
    "import numpy as np\n",
    "ds_mean = xr.open_dataset(f'/g/data/os22/chad_tmp/Aus_phenology/results/combined_tiles/mean_phenology_perpixel_{t}.nc')\n",
    "np.isnan(ds_mean['SOS']).plot()"
   ]
  },
  {
   "cell_type": "code",
   "execution_count": null,
   "id": "8b5339f3-546c-4d5a-89a2-3b90b33f2da6",
   "metadata": {},
   "outputs": [],
   "source": [
    "ds_trends = xr.open_dataset(f'/g/data/os22/chad_tmp/Aus_phenology/results/combined_tiles/trends_phenology_perpixel_{t}.nc')\n",
    "np.isnan(ds_trends['SOS_slope']).plot()"
   ]
  },
  {
   "cell_type": "code",
   "execution_count": null,
   "id": "16c20770-cf31-449f-a94a-49c913ec0036",
   "metadata": {},
   "outputs": [],
   "source": [
    "import xarray as xr\n",
    "p_ios = xr.open_dataset(f'/g/data/os22/chad_tmp/Aus_phenology/results/combined_tiles/IOS_analysis_perpixel_{t}.nc')\n",
    "# np.isnan(ds_mean['SOS']).plot()"
   ]
  },
  {
   "cell_type": "code",
   "execution_count": null,
   "id": "a2ea03b0-f7d4-49c0-b19b-e19dfbf2ca74",
   "metadata": {},
   "outputs": [],
   "source": [
    "p_ios.EOS.plot(vmin=0)"
   ]
  },
  {
   "cell_type": "code",
   "execution_count": null,
   "id": "abc537bc-a8b1-4cad-b36b-b31adc8d1939",
   "metadata": {},
   "outputs": [],
   "source": [
    "import sys\n",
    "sys.path.append('/g/data/os22/chad_tmp/AusEFlux/src/')\n",
    "from _prediction import allNaN_arg\n",
    "\n",
    "ios_most_important_var = allNaN_arg(np.abs(p_ios.to_array()), dim='variable',stat='max', idx=False)"
   ]
  },
  {
   "cell_type": "code",
   "execution_count": null,
   "id": "aab58853-cee7-4059-b9ac-166dffbd9df5",
   "metadata": {},
   "outputs": [],
   "source": [
    "ios_most_important_var.plot()"
   ]
  },
  {
   "cell_type": "code",
   "execution_count": null,
   "id": "cf126475-deaf-46bc-9201-511f6ac01fcf",
   "metadata": {},
   "outputs": [],
   "source": []
  },
  {
   "cell_type": "code",
   "execution_count": null,
   "id": "352a54e8-0948-4210-9bf6-0d478934a952",
   "metadata": {},
   "outputs": [],
   "source": [
    "ds = xr.open_dataset('/g/data/os22/chad_tmp/Aus_phenology/results/combined_tiles/mean_phenology_perpixel_NW.nc')\n",
    "ds.SOS.plot(vmin=0, vmax=365, cmap='twilight')"
   ]
  },
  {
   "cell_type": "code",
   "execution_count": null,
   "id": "c2d96fe0-326a-411e-800f-7970bb294b8c",
   "metadata": {},
   "outputs": [],
   "source": [
    "(ds['LOS_slope']).plot(robust=True)"
   ]
  },
  {
   "cell_type": "code",
   "execution_count": null,
   "id": "ce33b8d2-ff4f-44ba-9c85-6ff108ae4d15",
   "metadata": {},
   "outputs": [],
   "source": [
    "(ds['IOC_slope']).plot(robust=True)"
   ]
  },
  {
   "cell_type": "code",
   "execution_count": null,
   "id": "e4805455-6a84-4e11-a990-bef3444aa173",
   "metadata": {},
   "outputs": [],
   "source": [
    "# (ds['vTOS']).plot(vmin=0.1, vmax=0.9)"
   ]
  },
  {
   "cell_type": "code",
   "execution_count": null,
   "id": "d8c1fa05-8f80-45f1-9d72-e4f25e22cae0",
   "metadata": {},
   "outputs": [],
   "source": []
  },
  {
   "cell_type": "code",
   "execution_count": null,
   "id": "a9ba1732-94cc-4603-affb-b67b18dc5146",
   "metadata": {},
   "outputs": [],
   "source": [
    "import xarray as xr\n",
    "import numpy as np\n",
    "from odc.geo.xr import assign_crs"
   ]
  },
  {
   "cell_type": "code",
   "execution_count": null,
   "id": "c8a9747a-2a26-4abe-b95c-56365d7f3575",
   "metadata": {},
   "outputs": [],
   "source": [
    "ss_path = f'/g/data/xc0/project/AusEFlux/data/ndvi_of_baresoil_5km.nc'\n",
    "ss = assign_crs(xr.open_dataarray(ss_path), crs='epsg:4326')\n",
    "ss"
   ]
  },
  {
   "cell_type": "code",
   "execution_count": null,
   "id": "abd13f35-259c-438b-adc9-ed054f204336",
   "metadata": {},
   "outputs": [],
   "source": [
    "np.isnan(ss).plot()"
   ]
  },
  {
   "cell_type": "code",
   "execution_count": null,
   "id": "7d597e99-e209-49c0-85f2-600a16ae03ff",
   "metadata": {},
   "outputs": [],
   "source": []
  },
  {
   "cell_type": "code",
   "execution_count": null,
   "id": "e13c7770-ac3c-4de1-9e0f-a40d4bf599c6",
   "metadata": {},
   "outputs": [],
   "source": [
    "soil_signal = 0.14"
   ]
  },
  {
   "cell_type": "code",
   "execution_count": null,
   "id": "9aaa4800-3dac-42b8-90f0-c8cfca5c9ae9",
   "metadata": {},
   "outputs": [],
   "source": [
    "if isinstance(soil_signal, float):\n",
    "    pass\n",
    "\n",
    "if isinstance(soil_signal, xr.DataArray):\n",
    "   print('xarray')"
   ]
  },
  {
   "cell_type": "code",
   "execution_count": null,
   "id": "ba7a17f8-a2cb-4802-86fe-9a0cc2f5b2e8",
   "metadata": {},
   "outputs": [],
   "source": []
  },
  {
   "cell_type": "code",
   "execution_count": null,
   "id": "de8d19d1-b2a6-40d1-9a54-747241ddcf5b",
   "metadata": {},
   "outputs": [],
   "source": [
    "import xarray as xr"
   ]
  },
  {
   "cell_type": "code",
   "execution_count": null,
   "id": "1f6b8f36-16a4-4cd8-9f1f-cddc918b9080",
   "metadata": {},
   "outputs": [],
   "source": [
    "# (ds['IOC'] - ds['IOS']).plot(size=6, robust=True)"
   ]
  },
  {
   "cell_type": "code",
   "execution_count": null,
   "id": "fb2e28af-345f-44e0-b93f-bb1200cbfb92",
   "metadata": {},
   "outputs": [],
   "source": [
    "# ds['IOC'].plot(size=6, robust=True)"
   ]
  },
  {
   "cell_type": "code",
   "execution_count": null,
   "id": "039232b3-66bf-4639-ab9c-fcf90074d6de",
   "metadata": {},
   "outputs": [],
   "source": [
    "import pickle\n",
    "product='AusENDVI-clim_MCD43A4'\n",
    "base = '/g/data/os22/chad_tmp/Aus_phenology/'\n",
    "phenometrics_file = f'{base}data/pickle/IBRA_subregions_{product}_phenometrics.pkl'"
   ]
  },
  {
   "cell_type": "code",
   "execution_count": null,
   "id": "428a91ac-a8fd-40bf-8dea-5777d21d5337",
   "metadata": {},
   "outputs": [],
   "source": [
    "with open(phenometrics_file, 'rb') as f:\n",
    "    phenometrics = pickle.load(f)"
   ]
  },
  {
   "cell_type": "code",
   "execution_count": null,
   "id": "2e9f5bfa-98b9-4853-898e-77af49d323f8",
   "metadata": {},
   "outputs": [],
   "source": [
    "r = 'Warre'\n",
    "ds = phenometrics[r].to_xarray()\n",
    "ds = ds.rename({'IOS':'IOC'})"
   ]
  },
  {
   "cell_type": "code",
   "execution_count": null,
   "id": "71ecf231-59a3-4e3b-baa5-8a61e11081cf",
   "metadata": {},
   "outputs": [],
   "source": [
    "from phenology_pixel import IOS_analysis"
   ]
  },
  {
   "cell_type": "code",
   "execution_count": null,
   "id": "4b245577-b1e3-4f4f-936e-d711b6901e64",
   "metadata": {},
   "outputs": [],
   "source": [
    "ds['LOS*vPOS'] = ds['IOC']"
   ]
  },
  {
   "cell_type": "code",
   "execution_count": null,
   "id": "ead41797-22fe-4a20-a6e7-811607d653f8",
   "metadata": {},
   "outputs": [],
   "source": [
    "template_path='/g/data/os22/chad_tmp/Aus_phenology/data/templates/'\n",
    "template = xr.open_dataset(f'{template_path}template_IOC_parcorr.nc')\n",
    "\n",
    "IOS_analysis(ds.expand_dims(latitude=[-33.0],longitude=[135.0]),\n",
    "             template=template).compute()"
   ]
  },
  {
   "cell_type": "code",
   "execution_count": null,
   "id": "2d4d63bf-5137-43ef-88c9-192cd2deb91e",
   "metadata": {},
   "outputs": [],
   "source": []
  },
  {
   "cell_type": "code",
   "execution_count": null,
   "id": "9258bc61-0769-4393-abfe-a2fb15bdff94",
   "metadata": {},
   "outputs": [],
   "source": []
  },
  {
   "cell_type": "code",
   "execution_count": null,
   "id": "55aea3e4-6bc9-4846-a383-e4827b0389fe",
   "metadata": {},
   "outputs": [],
   "source": []
  },
  {
   "cell_type": "code",
   "execution_count": null,
   "id": "8a77bf08-b86a-466e-86f8-9e3d73534d50",
   "metadata": {},
   "outputs": [],
   "source": [
    "ds['POS_year'].values[0]"
   ]
  },
  {
   "cell_type": "code",
   "execution_count": null,
   "id": "29d9b4ca-8161-4a40-9151-b9af0ced97ad",
   "metadata": {},
   "outputs": [],
   "source": [
    "range(     ds['POS_year'].values[-1]"
   ]
  },
  {
   "cell_type": "code",
   "execution_count": null,
   "id": "f74d0d35-f679-48dc-bdfa-00a12a692c40",
   "metadata": {},
   "outputs": [],
   "source": [
    "[i for i in range(int(b),int(a)+1)]"
   ]
  },
  {
   "cell_type": "code",
   "execution_count": null,
   "id": "f614eca1-b6c7-4d03-9b84-7a0e6d64716d",
   "metadata": {},
   "outputs": [],
   "source": [
    "n_seasons = len(ds.index) \n",
    "print(n_seasons)\n",
    "a = ds['POS_year'].values[0]\n",
    "b = ds['POS_year'].values[-1]\n",
    "\n",
    "n_years = len([i for i in range(int(a),int(b)+1)])\n",
    "print(n_years)\n",
    "print('season/yr', n_seasons / n_years) "
   ]
  },
  {
   "cell_type": "code",
   "execution_count": null,
   "id": "ba558c54-f5d3-4c93-ac50-d9377247460e",
   "metadata": {},
   "outputs": [],
   "source": [
    "phenometrics['Alice Tableland']['POS_year'][-1:].item()"
   ]
  },
  {
   "cell_type": "code",
   "execution_count": null,
   "id": "1d703de7-0481-42e8-a32b-6bb51be743e5",
   "metadata": {},
   "outputs": [],
   "source": [
    "import xarray as xr\n",
    "dss = xr.open_dataset('/g/data/os22/chad_tmp/Aus_phenology/data/templates/template_IOS.nc')\n",
    "ds = xr.open_dataset('/g/data/os22/chad_tmp/Aus_phenology/data/templates/template_parcorr.nc')\n",
    "\n",
    "dss['latitude'] = ds.latitude\n",
    "dss['longitude'] = ds.longitude\n",
    "\n",
    "ds['slope_IOC_vs_LOS*vPOS'] = dss['slope_IOS_vs_LOS*vPOS']\n",
    "ds['pearson_r_IOC_vs_LOS*vPOS'] = dss['pearson_r_IOS_vs_LOS*vPOS']\n",
    "print(ds)\n",
    "ds.to_netcdf('/g/data/os22/chad_tmp/Aus_phenology/data/templates/template_IOC_parcorr.nc')"
   ]
  },
  {
   "cell_type": "code",
   "execution_count": null,
   "id": "5bb673eb-dfb8-4c36-97e7-61adcfa1f368",
   "metadata": {},
   "outputs": [],
   "source": [
    "import xarray as xr"
   ]
  },
  {
   "cell_type": "code",
   "execution_count": null,
   "id": "aac63a4e-71c6-4d6c-ab6a-335258ccbf32",
   "metadata": {},
   "outputs": [],
   "source": [
    "ds = xr.open_dataset('/g/data/os22/chad_tmp/Aus_phenology/data/templates/template.nc')\n",
    "ds = ds.rename({'IOC:(LOS*vPOS)':'IOC:(LOC*vPOS)'})\n",
    "ds"
   ]
  },
  {
   "cell_type": "code",
   "execution_count": null,
   "id": "a291af29-e46e-490a-9aa7-0e685a18cde9",
   "metadata": {},
   "outputs": [],
   "source": [
    "ds['LOC'] = ds['LOS']\n",
    "ds['LOC*vPOS'] = ds['LOS*vPOS']\n",
    "ds['IOC:(LOS*vPOS)'] = ds['IOS:(LOS*vPOS)']\n",
    "ds"
   ]
  },
  {
   "cell_type": "code",
   "execution_count": null,
   "id": "a19df38b-5fd1-4a7c-8dd8-58e48fa5726b",
   "metadata": {},
   "outputs": [],
   "source": [
    "ds"
   ]
  },
  {
   "cell_type": "code",
   "execution_count": null,
   "id": "7b5d3d4e-662a-4745-9e7b-24237e438bff",
   "metadata": {},
   "outputs": [],
   "source": [
    "ds = ds.rename({'IOC:(LOS*vPOS)':'IOS:(LOS*vPOS)'})"
   ]
  },
  {
   "cell_type": "code",
   "execution_count": null,
   "id": "8f10da4d-3c71-44b6-8004-b678fe141707",
   "metadata": {},
   "outputs": [],
   "source": [
    "ds.to_netcdf('/g/data/os22/chad_tmp/Aus_phenology/data/templates/template_.nc')"
   ]
  },
  {
   "cell_type": "code",
   "execution_count": null,
   "id": "a3f638d5-a195-4eed-9376-fd15cd7d54be",
   "metadata": {},
   "outputs": [],
   "source": []
  },
  {
   "cell_type": "code",
   "execution_count": null,
   "id": "caca2ea4-f8d4-41b1-a6d2-7531c45a26f9",
   "metadata": {},
   "outputs": [],
   "source": [
    "ds = xr.open_dataset('/g/data/os22/chad_tmp/Aus_phenology/data/templates/template_IOC_parcorr.nc')\n",
    "ds = ds.drop_vars(['slope_IOC_vs_LOS*vPOS', 'pearson_r_IOC_vs_LOS*vPOS', 'vTOS'])\n",
    "ds"
   ]
  },
  {
   "cell_type": "code",
   "execution_count": null,
   "id": "a50a9b4c-aae0-44b9-9d71-0460c45cd804",
   "metadata": {},
   "outputs": [],
   "source": [
    "ds.to_netcdf('/g/data/os22/chad_tmp/Aus_phenology/data/templates/template_integral_parcorr.nc')"
   ]
  },
  {
   "cell_type": "code",
   "execution_count": null,
   "id": "cae602df-1e81-41d9-a993-d08e5394ef41",
   "metadata": {},
   "outputs": [],
   "source": []
  }
 ],
 "metadata": {
  "kernelspec": {
   "display_name": "Python 3 (ipykernel)",
   "language": "python",
   "name": "python3"
  },
  "language_info": {
   "codemirror_mode": {
    "name": "ipython",
    "version": 3
   },
   "file_extension": ".py",
   "mimetype": "text/x-python",
   "name": "python",
   "nbconvert_exporter": "python",
   "pygments_lexer": "ipython3",
   "version": "3.10.0"
  }
 },
 "nbformat": 4,
 "nbformat_minor": 5
}
