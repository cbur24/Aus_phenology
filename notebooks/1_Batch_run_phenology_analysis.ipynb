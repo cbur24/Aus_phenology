{
 "cells": [
  {
   "cell_type": "markdown",
   "id": "d7b43d99-d698-40b4-a6cb-1e205a6cc0d7",
   "metadata": {},
   "source": [
    "# Batch run phenology analysis\n",
    "\n",
    "Qsub each tile"
   ]
  },
  {
   "cell_type": "code",
   "execution_count": null,
   "id": "d70a23e7-5a01-4839-a9c2-f02880a81e7a",
   "metadata": {
    "tags": []
   },
   "outputs": [],
   "source": [
    "%matplotlib inline\n",
    "\n",
    "import os\n",
    "import sys\n",
    "import warnings\n",
    "import numpy as np\n",
    "import xarray as xr\n",
    "import pandas as pd\n",
    "\n",
    "import matplotlib.pyplot as plt\n",
    "from odc.geo.xr import assign_crs\n"
   ]
  },
  {
   "cell_type": "markdown",
   "id": "aa9b77dc-62cc-445f-b650-72d104c6d175",
   "metadata": {},
   "source": [
    "## Open data"
   ]
  },
  {
   "cell_type": "code",
   "execution_count": null,
   "id": "3e7391fc-5c9d-41fb-ad27-342d2badb8b7",
   "metadata": {},
   "outputs": [],
   "source": [
    "ds = xr.open_dataset('/g/data/os22/chad_tmp/Aus_phenology/data/NDVI/NDVI_smooth_AusENDVI-clim_MCD43A4.nc')['NDVI']\n",
    "covariables =  xr.open_dataset('/g/data/os22/chad_tmp/Aus_phenology/data/covars.nc')\n",
    "covariables = covariables.drop_vars('wcf')\n",
    "\n",
    "#testing slices\n",
    "# ds = ds.isel(latitude=slice(200,352), longitude=slice(50,302)) \n",
    "# covariables = covariables.isel(latitude=slice(200,352), longitude=slice(50,302))\n",
    "\n",
    "# ds = ds.isel(latitude=slice(200,252), longitude=slice(50,202)) \n",
    "# covariables = covariables.isel(latitude=slice(200,252), longitude=slice(50,202))"
   ]
  },
  {
   "cell_type": "markdown",
   "id": "e5431ff9-08fd-4f58-a717-52f15d242139",
   "metadata": {},
   "source": [
    "## Split data into tiles\n",
    "\n",
    "Running all of Aus just takes too long, >500,000 pixels * > 14,000 time steps - dask graph is huge"
   ]
  },
  {
   "cell_type": "code",
   "execution_count": null,
   "id": "7b7e72dd-43e9-4fdc-9111-434c4a11a624",
   "metadata": {},
   "outputs": [],
   "source": [
    "# Function to split into spatial tiles\n",
    "def split_spatial_tiles(data_array, lat_dim='latitude', lon_dim='longitude', n_lat=2, n_lon=4):\n",
    "    lat_size = data_array.sizes[lat_dim] // n_lat\n",
    "    lon_size = data_array.sizes[lon_dim] // n_lon\n",
    "    \n",
    "    tiles = []\n",
    "    for i in range(n_lat):\n",
    "        for j in range(n_lon):\n",
    "            tile = data_array.isel({\n",
    "                lat_dim: slice(i * lat_size, (i + 1) * lat_size),\n",
    "                lon_dim: slice(j * lon_size, (j + 1) * lon_size)\n",
    "            })\n",
    "            tiles.append(tile)\n",
    "    \n",
    "    return tiles\n",
    "\n",
    "# Split data into spatial tiles (2 latitude x 4 longitude)\n",
    "tiles = split_spatial_tiles(ds, n_lat=2, n_lon=4)\n",
    "covars_tiles = split_spatial_tiles(covariables, n_lat=2, n_lon=4)\n",
    "\n",
    "#verify no overlaps or missing pixels.\n",
    "assert np.sum(xr.combine_by_coords(tiles).longitude == ds.longitude) == len(ds.longitude)\n",
    "assert np.sum(xr.combine_by_coords(tiles).latitude == ds.latitude) == len(ds.latitude)\n",
    "\n",
    "# create named dictonary\n",
    "tile_names=['NW', 'NNW', 'NNE', 'NE',\n",
    "            'SW', 'SSW', 'SSE', 'SE']\n",
    "tiles_dict = dict(zip(tile_names, tiles))\n",
    "covars_tiles_dict = dict(zip(tile_names, covars_tiles))\n",
    "\n",
    "#create a plot to visualise tiles\n",
    "fig,axes = plt.subplots(2, 4, figsize=(10,8))\n",
    "for t,ax in zip(tiles, axes.ravel()):\n",
    "    t.isel(time=range(0,20)).mean('time').plot(ax=ax, add_colorbar=False, add_labels=False)\n",
    "    ax.set_title(None);"
   ]
  },
  {
   "cell_type": "markdown",
   "id": "5bf25fb9-8e92-42b2-bee5-501f23b26e7b",
   "metadata": {},
   "source": [
    "## Export"
   ]
  },
  {
   "cell_type": "code",
   "execution_count": null,
   "id": "be3fe74a-f69d-44ba-a160-37535f2fa4c8",
   "metadata": {},
   "outputs": [],
   "source": [
    "for k,v in tiles_dict.items():\n",
    "    print(k)\n",
    "    v.to_netcdf(f'/g/data/os22/chad_tmp/Aus_phenology/data/tiled_data/NDVI_{k}.nc')"
   ]
  },
  {
   "cell_type": "code",
   "execution_count": null,
   "id": "2b0e0dc3-62d3-4144-b05c-66b0773595c3",
   "metadata": {},
   "outputs": [],
   "source": [
    "for k,v in covars_tiles_dict.items():\n",
    "    print(k)\n",
    "    v.to_netcdf(f'/g/data/os22/chad_tmp/Aus_phenology/data/tiled_data/COVARS_{k}.nc')"
   ]
  },
  {
   "cell_type": "markdown",
   "id": "209b6172-4043-4e61-a50f-d5b178b16f4f",
   "metadata": {},
   "source": [
    "## Submit tiles to PBS job queue"
   ]
  },
  {
   "cell_type": "code",
   "execution_count": 1,
   "id": "bafabf4b-f576-4127-b134-66d97d71f675",
   "metadata": {},
   "outputs": [],
   "source": [
    "import os"
   ]
  },
  {
   "cell_type": "code",
   "execution_count": 2,
   "id": "146045c7-8859-4ff0-87f1-21cd4b593c35",
   "metadata": {},
   "outputs": [
    {
     "name": "stdout",
     "output_type": "stream",
     "text": [
      "'NNW'\n",
      "127541427.gadi-pbs\n",
      "'NNE'\n",
      "127541428.gadi-pbs\n",
      "'NE'\n",
      "127541429.gadi-pbs\n",
      "'SW'\n",
      "127541430.gadi-pbs\n",
      "'SSW'\n",
      "127541431.gadi-pbs\n",
      "'SSE'\n",
      "127541432.gadi-pbs\n",
      "'SE'\n",
      "127541433.gadi-pbs\n"
     ]
    }
   ],
   "source": [
    "tiles = [\"'NW'\", \"'NNW'\", \"'NNE'\", \"'NE'\", \"'SW'\", \"'SSW'\", \"'SSE'\", \"'SE'\"] #,\n",
    "os.chdir('/g/data/os22/chad_tmp/Aus_phenology/')\n",
    "for t in tiles:\n",
    "    print(t)\n",
    "    os.system(\"qsub -v TILENAME=\"+t+\" src/run_single_tile.sh\")"
   ]
  },
  {
   "cell_type": "code",
   "execution_count": 9,
   "id": "3d12dbf0-adaf-4ac6-91f3-3df1f9827b07",
   "metadata": {},
   "outputs": [
    {
     "name": "stdout",
     "output_type": "stream",
     "text": [
      "Job id                 Name             User              Time Use S Queue\n",
      "---------------------  ---------------- ----------------  -------- - -----\n",
      "127540824.gadi-pbs     sys-dashboard-s* cb3058            00:00:48 R normalsr-exec   \n",
      "127541427.gadi-pbs     run_single_tile* cb3058            47:28:22 R normalsr-exec   \n",
      "127541428.gadi-pbs     run_single_tile* cb3058            49:10:28 R normalsr-exec   \n",
      "127541433.gadi-pbs     run_single_tile* cb3058            45:54:20 R normalsr-exec   \n"
     ]
    }
   ],
   "source": [
    "!qstat\n",
    "# !qstat -xf 127454605.gadi-pbs"
   ]
  },
  {
   "cell_type": "code",
   "execution_count": null,
   "id": "a67321fa-5746-4871-ae59-7ec07e3153c9",
   "metadata": {},
   "outputs": [],
   "source": []
  },
  {
   "cell_type": "markdown",
   "id": "ddb32c14-b662-4475-a20e-e8bc5cfb8fee",
   "metadata": {},
   "source": [
    "## Run interactively instead\n",
    "\n",
    "Good for testing etc."
   ]
  },
  {
   "cell_type": "code",
   "execution_count": null,
   "id": "12ae0419-241a-41ad-8e00-83c3ae74a1ab",
   "metadata": {},
   "outputs": [],
   "source": [
    "import sys\n",
    "sys.path.append('/g/data/os22/chad_tmp/AusEFlux/src/')\n",
    "from _utils import start_local_dask\n",
    "\n",
    "sys.path.append('/g/data/os22/chad_tmp/Aus_phenology/src')\n",
    "from batch_run_phenology_analysis import phenometrics_etal"
   ]
  },
  {
   "cell_type": "code",
   "execution_count": null,
   "id": "c58fb310-d2e0-45db-8890-0a18341cc11d",
   "metadata": {},
   "outputs": [],
   "source": [
    "## varibles for script\n",
    "n_workers=102\n",
    "memory_limit='450GiB'\n",
    "\n",
    "regress_var = 'vPOS'\n",
    "modelling_vars=['co2', 'srad', 'rain', 'tavg', 'vpd']\n",
    "results_path = '/g/data/os22/chad_tmp/Aus_phenology/results/combined_tiles/'\n",
    "template_path='/g/data/os22/chad_tmp/Aus_phenology/data/templates/'"
   ]
  },
  {
   "cell_type": "code",
   "execution_count": null,
   "id": "4094a263-b873-4dfa-8384-02ac4d5368d0",
   "metadata": {
    "scrolled": true
   },
   "outputs": [],
   "source": [
    "start_local_dask(\n",
    "        n_workers=n_workers,\n",
    "        threads_per_worker=1,\n",
    "        memory_limit=memory_limit\n",
    "                    )"
   ]
  },
  {
   "cell_type": "code",
   "execution_count": null,
   "id": "a72127b9-ee34-458e-99d2-7dae350596f1",
   "metadata": {
    "scrolled": true
   },
   "outputs": [],
   "source": [
    "tiles = ['NW', 'NNW', 'NNE', 'NE', 'SW', 'SSW', 'SSE', 'SE']\n",
    "\n",
    "for t in tiles:\n",
    "    print(t)\n",
    "    phenometrics_etal(\n",
    "        n=t,\n",
    "        results_path=results_path,\n",
    "        template_path=template_path,\n",
    "        regress_var=regress_var,\n",
    "        modelling_vars=modelling_vars,\n",
    "    )"
   ]
  },
  {
   "cell_type": "code",
   "execution_count": null,
   "id": "ba558c54-f5d3-4c93-ac50-d9377247460e",
   "metadata": {},
   "outputs": [],
   "source": []
  }
 ],
 "metadata": {
  "kernelspec": {
   "display_name": "Python 3 (ipykernel)",
   "language": "python",
   "name": "python3"
  },
  "language_info": {
   "codemirror_mode": {
    "name": "ipython",
    "version": 3
   },
   "file_extension": ".py",
   "mimetype": "text/x-python",
   "name": "python",
   "nbconvert_exporter": "python",
   "pygments_lexer": "ipython3",
   "version": "3.10.0"
  }
 },
 "nbformat": 4,
 "nbformat_minor": 5
}
