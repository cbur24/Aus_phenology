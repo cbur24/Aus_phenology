{
 "cells": [
  {
   "cell_type": "markdown",
   "id": "8d6185d6-5015-4c74-a294-e3c3cea28081",
   "metadata": {},
   "source": [
    "# Define and map land surface phenology metrics across Australia\n",
    "\n",
    "Including the trends in the phenometrics\n",
    "\n",
    "**To Do:**\n",
    "* ~~Do some testing on running phenometrics per-pixel. Could look to loop pixel by pixel and parallise same as [hdstats](https://github.com/daleroberts/hdstats/blob/main/hdstats/ts.pyx)~~\n",
    "* Sample IBRA regions to see if phenology code works well with the smaller regions\n",
    "* ~~Improve ecoregions by intersecting cropping classes with ecoregions~~\n",
    "* Multiprocess the phenology extraction\n",
    "* ~~Multiprocess time-series extraction~~\n",
    "* ~~Instead of removing the second peak, keep the highest/lowest peak of the two~~\n",
    "* Consider implementing decimal time rather than year+DOY\n",
    "* trends aren't per year....improve\n",
    "* Validate against:\n",
    "    * flux towers,\n",
    "    * VODCAv2,\n",
    "    * TERN phenology\n",
    "    * PKU-GIMMS.\n",
    "    * MODIS only\n",
    "* ~~Map showing number of seasons in the 40 years~~\n",
    "* Inspect how the transition between AVHRR and MODIS impacts trends in seasonal cycle for a sample of ecoregions. And the gapfilling."
   ]
  },
  {
   "cell_type": "code",
   "execution_count": null,
   "id": "be0c7445-4b35-4c1a-b586-353f4a293c32",
   "metadata": {
    "tags": []
   },
   "outputs": [],
   "source": [
    "%matplotlib inline\n",
    "\n",
    "import sys\n",
    "import pickle\n",
    "import warnings\n",
    "import numpy as np\n",
    "import xarray as xr\n",
    "import pandas as pd\n",
    "import seaborn as sb\n",
    "from scipy import stats\n",
    "import geopandas as gpd\n",
    "import contextily as ctx\n",
    "import pymannkendall as mk\n",
    "import matplotlib.pyplot as plt\n",
    "import matplotlib.colors as colors\n",
    "import matplotlib.ticker as ticker\n",
    "from scipy.interpolate import griddata\n",
    "\n",
    "sys.path.append('/g/data/os22/chad_tmp/Aus_phenology/src')\n",
    "from phenology import extract_peaks_troughs, phenometrics\n",
    "\n",
    "%load_ext autoreload\n",
    "%autoreload 2"
   ]
  },
  {
   "cell_type": "markdown",
   "id": "9f402f2d-ab13-41f3-8442-43722664c9d5",
   "metadata": {},
   "source": [
    "## Analysis Parameters\n"
   ]
  },
  {
   "cell_type": "code",
   "execution_count": null,
   "id": "6a9c27f5-4dbd-40e2-904d-961b23786d23",
   "metadata": {
    "tags": []
   },
   "outputs": [],
   "source": [
    "# timeseries_file = '/g/data/os22/chad_tmp/Aus_phenology/data/ecoregions_NDVI_timeseries.pkl'\n",
    "# timeseries_file ='/g/data/os22/chad_tmp/Aus_phenology/data/IBRA_regions_NDVI_timeseries.pkl'\n",
    "timeseries_file ='/g/data/os22/chad_tmp/Aus_phenology/data/IBRA_subregions_NDVI_timeseries.pkl'\n",
    "\n",
    "# ecoregions_file = '/g/data/os22/chad_tmp/Aus_phenology/data/vectors/Ecoregions2017_modified.geojson'\n",
    "# ecoregions_file = '/g/data/os22/chad_tmp/Aus_phenology/data/vectors/IBRAv7_regions_modified.geojson'\n",
    "ecoregions_file = '/g/data/os22/chad_tmp/Aus_phenology/data/vectors/IBRAv7_subregions_modified.geojson'\n",
    "\n",
    "# var='ECO_NAME'\n",
    "# var='REG_NAME_7'\n",
    "var='SUB_NAME_7'\n",
    "\n",
    "# region_type = 'ecoregions'\n",
    "# region_type = 'IBRA_regions'\n",
    "region_type = 'IBRA_subregions'"
   ]
  },
  {
   "cell_type": "markdown",
   "id": "a36d45f1-6dd9-44b4-bb31-825db4303234",
   "metadata": {},
   "source": [
    "## Open data"
   ]
  },
  {
   "cell_type": "code",
   "execution_count": null,
   "id": "3ea1bf71-29b3-4ea7-a9b9-0989f9bfb1f1",
   "metadata": {
    "tags": []
   },
   "outputs": [],
   "source": [
    "with open(timeseries_file, 'rb') as f:\n",
    "    results = pickle.load(f)\n",
    "\n",
    "gdf = gpd.read_file(ecoregions_file)"
   ]
  },
  {
   "cell_type": "markdown",
   "id": "695f636c-237a-4efa-afef-ef87da3e0d19",
   "metadata": {},
   "source": [
    "## Extract phenometrics \n",
    "\n",
    "<!-- import numpy as np\n",
    "import matplotlib.pyplot as plt\n",
    "from scipy.optimize import curve_fit\n",
    "\n",
    "def double_logistic_function(t, wNDVI, mNDVI, S, A, mS, mA):\n",
    "    sigmoid1 = 1 / (1 + np.exp(-mS * (t - S)))\n",
    "    sigmoid2 = 1 / (1 + np.exp(mA * (t - A)))\n",
    "    seasonal_term = sigmoid1 + sigmoid2 - 1\n",
    "    return wNDVI + (mNDVI - wNDVI) * seasonal_term\n",
    "\n",
    "def weight_function(t, S, A, r):\n",
    "    tr = 100 * (t - S) / (A - S)\n",
    "    tr = np.clip(tr, 0, 100)\n",
    "    return np.exp(-np.abs(r) / (1 + tr / 10))\n",
    "\n",
    "def fit_curve(t, ndvi_observed):\n",
    "    initial_guess = [np.min(ndvi_observed), np.max(ndvi_observed), np.mean(t), np.mean(t), 1, 1]\n",
    "    params, _ = curve_fit(double_logistic_function, t, ndvi_observed, p0=initial_guess, maxfev=10000)\n",
    "    residuals = ndvi_observed - double_logistic_function(t, *params)\n",
    "    weights = weight_function(t, params[2], params[3], residuals)\n",
    "    params, _ = curve_fit(double_logistic_function, t, ndvi_observed, p0=initial_guess, sigma=weights, maxfev=10000)\n",
    "    return params\n",
    "\n",
    "doys = ndvi_cycle.time.dt.dayofyear.values[2:]\n",
    "doys_frac = doys/365\n",
    "values = ndvi_cycle.values[2:]\n",
    "\n",
    "##Fit the curve\n",
    "parameters = fit_curve(doys_frac, values)\n",
    "\n",
    "##Plot the observed NDVI values\n",
    "plt.scatter(doys, values, label='Observed NDVI')\n",
    "\n",
    "##Generate points for the fitted curve\n",
    "t_fit = np.linspace(min(doys_frac), max(doys_frac), 365)\n",
    "ndvi_fit = double_logistic_function(t_fit, *parameters)\n",
    "\n",
    "##Plot the fitted curve\n",
    "plt.plot(t_fit*365, ndvi_fit, label='Fitted Curve', color='red')\n",
    "\n",
    "plt.xlabel('Day of the Year')\n",
    "plt.ylabel('NDVI')\n",
    "plt.legend()\n",
    "plt.title('Double Logistic Curve Fitting for NDVI Observations')\n",
    "plt.show() -->"
   ]
  },
  {
   "cell_type": "code",
   "execution_count": null,
   "id": "2274d435-cec9-4a63-9234-4d2031f992d8",
   "metadata": {},
   "outputs": [],
   "source": [
    "eco_regions_phenometrics = phenometrics(results,\n",
    "                                        rolling=90,\n",
    "                                        distance=90,\n",
    "                                        prominence='auto',\n",
    "                                        plateau_size=10,\n",
    "                                        amplitude=0.20\n",
    "                                       )"
   ]
  },
  {
   "cell_type": "markdown",
   "id": "6981ae61-381a-4116-9957-767cef698462",
   "metadata": {},
   "source": [
    "## Save results"
   ]
  },
  {
   "cell_type": "code",
   "execution_count": null,
   "id": "01141218-b62f-4e74-87c1-321bc58bf837",
   "metadata": {},
   "outputs": [],
   "source": [
    "# with open(save_file, 'wb') as f:\n",
    "#     pickle.dump(results, f)"
   ]
  },
  {
   "cell_type": "markdown",
   "id": "39a63a61-9876-41e9-b3b0-b7f1ff841f53",
   "metadata": {},
   "source": [
    "## Plot one ecoregion's phenometrics"
   ]
  },
  {
   "cell_type": "code",
   "execution_count": null,
   "id": "b1db9ab0-5435-4dff-b650-dfc1ca6d67af",
   "metadata": {},
   "outputs": [],
   "source": [
    "l = list(results.keys())\n",
    "l.sort()\n",
    "l[0:5]"
   ]
  },
  {
   "cell_type": "code",
   "execution_count": null,
   "id": "abeb172c-c6dd-4067-ab95-412a4e7ed5a1",
   "metadata": {},
   "outputs": [],
   "source": [
    "# pheno_means[pheno_means[var]=='Northern Jarrah Forest irrigated crop'].explore(column='mean_SOS')"
   ]
  },
  {
   "cell_type": "code",
   "execution_count": null,
   "id": "6b280ff2-265d-4b8b-830c-c2ec78e5c34a",
   "metadata": {},
   "outputs": [],
   "source": [
    "# pheno_means[['mean_SOS', 'geometry', var]].explore(column='mean_SOS', cmap='twilight')"
   ]
  },
  {
   "cell_type": "code",
   "execution_count": null,
   "id": "ac0f4b87-e2ae-4140-8ee9-7b5cfd1ec291",
   "metadata": {
    "scrolled": true
   },
   "outputs": [],
   "source": [
    "# pheno_means[['mean_SOS', 'geometry', var]].explore(column='mean_SOS', cmap='twilight')"
   ]
  },
  {
   "cell_type": "code",
   "execution_count": null,
   "id": "67089622-df52-4b11-9321-0a72d682e47a",
   "metadata": {},
   "outputs": [],
   "source": [
    "# k='Oberon rainfed crop'\n",
    "# eco_regions_phenometrics[k][['SOS_year','SOS','POS','EOS_year','EOS', 'LOS']]"
   ]
  },
  {
   "cell_type": "code",
   "execution_count": null,
   "id": "40dad456-0836-4ddb-961f-8a75ee9147fc",
   "metadata": {},
   "outputs": [],
   "source": [
    "# eco_regions_phenometrics[k].POS.quantile(0.5)\n",
    "eco_regions_phenometrics[k][['SOS','POS','EOS', 'LOS']].quantile(q=0.5, interpolation='lower')"
   ]
  },
  {
   "cell_type": "code",
   "execution_count": null,
   "id": "02a7c31b-5bfc-4f76-a241-1d227408d283",
   "metadata": {},
   "outputs": [],
   "source": [
    "# # k='Australian Alps montane grasslands'\n",
    "# k='Rainfed crop savanna'\n",
    "# # k='Great Sandy-Tanami desert'\n",
    "# k='Eastern Australian warm temperate forests'\n",
    "# k='Southern Downs'\n",
    "# k = 'Eastern Darling Downs rainfed crop'\n",
    "k='Castlereagh-Barwon rainfed crop'\n",
    "# k='Brigalow Belt South'\n",
    "with plt.style.context('ggplot'):\n",
    "    fig,ax = plt.subplots(1,1, figsize=(15,4))\n",
    "    \n",
    "    results[k].plot(ax=ax, c='tab:blue')\n",
    "    ax.scatter(x=[pd.to_datetime(d-1, unit='D', origin=str(int(y))) for d,y in zip(eco_regions_phenometrics[k].SOS.values, eco_regions_phenometrics[k].SOS_year.values)],\n",
    "               y=eco_regions_phenometrics[k].vSOS,\n",
    "              c='tab:green', label='SOS')\n",
    "    \n",
    "    ax.scatter(x=[pd.to_datetime(d-1, unit='D', origin=str(int(y))) for d,y in zip(eco_regions_phenometrics[k].EOS.values, eco_regions_phenometrics[k].EOS_year.values)],\n",
    "               y=eco_regions_phenometrics[k].vEOS,\n",
    "              c='tab:purple', label='EOS')\n",
    "    \n",
    "    ax.scatter(x=[pd.to_datetime(d-1, unit='D', origin=str(int(y))) for d,y in zip(eco_regions_phenometrics[k].POS.values, eco_regions_phenometrics[k].POS_year.values)],\n",
    "                   y=eco_regions_phenometrics[k].vPOS,\n",
    "                  c='black', label='POS')\n",
    "        \n",
    "    ax.scatter(x=[pd.to_datetime(d-1, unit='D', origin=str(int(y))) for d,y in zip(eco_regions_phenometrics[k].TOS.values, eco_regions_phenometrics[k].TOS_year.values)],\n",
    "               y=eco_regions_phenometrics[k].vTOS,\n",
    "              c='tab:orange', label='TOS')\n",
    "    \n",
    "    ax.set_xlabel(None)\n",
    "    ax.set_ylabel('NDVI')\n",
    "    ax.set_title(k, fontsize=15)\n",
    "    ax.legend()\n",
    "    plt.tight_layout()"
   ]
  },
  {
   "cell_type": "markdown",
   "id": "5e4bb569-64f4-419c-8d30-3c8818b409a6",
   "metadata": {},
   "source": [
    "## Plot all regions"
   ]
  },
  {
   "cell_type": "code",
   "execution_count": null,
   "id": "28ec7481-65ed-4057-8930-dc470b585378",
   "metadata": {},
   "outputs": [],
   "source": [
    "# with plt.style.context('ggplot'):\n",
    "#     fig,axes = plt.subplots(len(gdf),1, figsize=(11,65), sharex=True, layout='constrained')\n",
    "#     for k,ax in zip(eco_regions_phenometrics.keys(), axes.ravel()):\n",
    "    \n",
    "#         results[k].plot(ax=ax)\n",
    "#         ax.scatter(x=[pd.to_datetime(d-1, unit='D', origin=str(int(y))) for d,y in zip(eco_regions_phenometrics[k].SOS.values, eco_regions_phenometrics[k].SOS_year.values)],\n",
    "#                    y=eco_regions_phenometrics[k].vSOS,\n",
    "#                   c='tab:green', label='SOS')\n",
    "        \n",
    "#         ax.scatter(x=[pd.to_datetime(d-1, unit='D', origin=str(int(y))) for d,y in zip(eco_regions_phenometrics[k].EOS.values, eco_regions_phenometrics[k].EOS_year.values)],\n",
    "#                    y=eco_regions_phenometrics[k].vEOS,\n",
    "#                   c='tab:purple', label='EOS')\n",
    "        \n",
    "#         ax.scatter(x=[pd.to_datetime(d-1, unit='D', origin=str(int(y))) for d,y in zip(eco_regions_phenometrics[k].POS.values, eco_regions_phenometrics[k].POS_year.values)],\n",
    "#                        y=eco_regions_phenometrics[k].vPOS,\n",
    "#                       c='black', label='POS')\n",
    "            \n",
    "#         ax.scatter(x=[pd.to_datetime(d-1, unit='D', origin=str(int(y))) for d,y in zip(eco_regions_phenometrics[k].TOS.values, eco_regions_phenometrics[k].TOS_year.values)],\n",
    "#                    y=eco_regions_phenometrics[k].vTOS,\n",
    "#                   c='tab:blue', label='TOS')\n",
    "        \n",
    "#         ax.set_xlabel(None)\n",
    "#         ax.set_ylabel('NDVI')\n",
    "#         ax.set_title(k, fontsize=8)\n",
    "        # ax.legend()\n",
    "    "
   ]
  },
  {
   "cell_type": "markdown",
   "id": "5e8460e7-bde6-462e-bb77-55ea46129325",
   "metadata": {},
   "source": [
    "## Summarise average phenometrics with maps of Australia"
   ]
  },
  {
   "cell_type": "code",
   "execution_count": null,
   "id": "dc785092-51de-4833-9518-025895ae6446",
   "metadata": {},
   "outputs": [],
   "source": [
    "means = []\n",
    "for k in eco_regions_phenometrics.keys():\n",
    "    df = eco_regions_phenometrics[k]\n",
    "\n",
    "    #include a column counting the number of seasons\n",
    "    df['n_seasons'] = len(df)\n",
    "    \n",
    "    mean_df = df.quantile(q=0.5, interpolation='lower') # median\n",
    "    mean_df = mean_df.rename({i:'mean_'+i for i in mean_df.index}).to_frame().transpose()\n",
    "    mean_df[var] = k\n",
    "\n",
    "    mean_gdf = gdf.merge(mean_df, on=var)\n",
    "    means.append(mean_gdf)\n",
    "    \n",
    "pheno_means = pd.concat(means).reset_index(drop=True)"
   ]
  },
  {
   "cell_type": "markdown",
   "id": "fe2e0724-9aab-4e8c-955a-2b3ffcc19d64",
   "metadata": {},
   "source": [
    "### Plot"
   ]
  },
  {
   "cell_type": "code",
   "execution_count": null,
   "id": "7405c986-006f-4af7-a63d-e9082330fead",
   "metadata": {},
   "outputs": [],
   "source": [
    "fig,axes=plt.subplots(4,3, figsize=(11,11), sharey=True, sharex=True, layout='constrained')\n",
    "pheno_stats=['SOS','vSOS', 'LOS', \n",
    "             'POS', 'vPOS', 'ROG',\n",
    "             'EOS', 'vEOS', 'ROS',\n",
    "             'IOS', 'vTOS', 'AOS',\n",
    "      ]\n",
    "cmaps = ['twilight', 'gist_earth_r', 'viridis',\n",
    "         'twilight', 'gist_earth_r','magma',\n",
    "         'twilight', 'gist_earth_r', 'magma_r',\n",
    "         'inferno', 'gist_earth_r','plasma'\n",
    "        ]\n",
    "for ax,pheno,cmap in zip(axes.ravel(), pheno_stats, cmaps):\n",
    "    if \"v\" not in pheno:\n",
    "        vmin, vmax=0, 365\n",
    "        label='DOY'\n",
    "    if \"v\" in pheno:\n",
    "        vmin,vmax=0.1, 0.85\n",
    "        label='NDVI'\n",
    "    if 'LOS' in pheno:\n",
    "        vmin, vmax=160, 300\n",
    "        label='days'\n",
    "    if 'AOS' in pheno:\n",
    "        vmin, vmax=0.05, 0.4\n",
    "        label='NDVI'\n",
    "    if 'IOS' in pheno:\n",
    "        vmin, vmax=20, 200\n",
    "        label='NDVI/\\n season'\n",
    "    if 'ROG' in pheno:\n",
    "        vmin, vmax=0.00025, 0.0025\n",
    "        label='NDVI/\\nday'\n",
    "    if 'ROS' in pheno:\n",
    "        vmin, vmax=-0.0025, -0.00025\n",
    "        label='NDVI/\\nday'\n",
    "    im=pheno_means.plot(column='mean_'+pheno, ax=ax, legend=False, cmap=cmap, vmin=vmin, vmax=vmax)\n",
    "    ctx.add_basemap(im, source=ctx.providers.CartoDB.VoyagerNoLabels, crs='EPSG:4326', attribution='', attribution_size=1)\n",
    "    ax.axes.get_xaxis().set_ticks([])\n",
    "    ax.axes.get_yaxis().set_ticks([])\n",
    "    #need to create colorbar manually to have label on top\n",
    "    norm = colors.Normalize(vmin=vmin, vmax=vmax)\n",
    "    cbar = plt.cm.ScalarMappable(norm=norm, cmap=cmap)\n",
    "    ax_cbar = fig.colorbar(cbar, ax=ax, shrink=0.7)\n",
    "    ax_cbar.ax.set_title(label, fontsize=8)\n",
    "    ax.set_title(f'{pheno}, 1982-2021')\n",
    "\n",
    "fig.savefig('/g/data/os22/chad_tmp/Aus_phenology/results/figs/average_phenometrics_map_'+region_type+'.png',\n",
    "            bbox_inches='tight', dpi=300)"
   ]
  },
  {
   "cell_type": "markdown",
   "id": "d05084af-127a-4fbc-abbe-e8cc19876361",
   "metadata": {},
   "source": [
    "## Plot number of seasonal cycles"
   ]
  },
  {
   "cell_type": "code",
   "execution_count": null,
   "id": "d4eaf997-5666-41c4-bb1e-451a7606a196",
   "metadata": {},
   "outputs": [],
   "source": [
    "vmin,vmax=33,45\n",
    "cmap='RdYlBu'\n",
    "fig,ax=plt.subplots(1,1, figsize=(8,8), layout='constrained')\n",
    "im=pheno_means.plot(column='mean_n_seasons',  legend=False, cmap=cmap, vmin=vmin, vmax=vmax, ax=ax)\n",
    "ctx.add_basemap(im, source=ctx.providers.CartoDB.VoyagerNoLabels, crs='EPSG:4326', attribution='', attribution_size=1)\n",
    "ax.axes.get_xaxis().set_ticks([])\n",
    "ax.axes.get_yaxis().set_ticks([])\n",
    "#need to create colorbar manually to have label on top\n",
    "norm = colors.Normalize(vmin=vmin, vmax=vmax)\n",
    "cbar = plt.cm.ScalarMappable(norm=norm, cmap=cmap)\n",
    "ax_cbar = fig.colorbar(cbar, ax=ax, shrink=0.7)\n",
    "ax_cbar.ax.set_title('num seasons', fontsize=8)\n",
    "ax.set_title(f'Number of full vegetation cycles identified (1982-2021)')\n",
    "\n",
    "fig.savefig('/g/data/os22/chad_tmp/Aus_phenology/results/figs/num_seasons_'+region_type+'.png',\n",
    "            bbox_inches='tight', dpi=300);"
   ]
  },
  {
   "cell_type": "markdown",
   "id": "24e9e775-12af-4ea9-8a7b-5008df934ced",
   "metadata": {},
   "source": [
    "## Extract robust trends\n"
   ]
  },
  {
   "cell_type": "code",
   "execution_count": null,
   "id": "4350a09f-b629-4425-9d37-ecdb79284c5d",
   "metadata": {},
   "outputs": [],
   "source": [
    "trends_dfs = []\n",
    "pheno_stats=['SOS','vSOS','LOS','POS','vPOS','AOS',\n",
    "             'EOS', 'vTOS','vEOS','ROG','ROS', 'IOS']\n",
    "i=0\n",
    "for k in eco_regions_phenometrics.keys():\n",
    "    print(\"Feature {:02}/{:02}\\r\".format(i + 1, len(range(0, len(eco_regions_phenometrics)))), end=\"\")\n",
    "    \n",
    "    df = eco_regions_phenometrics[k]\n",
    "    trends = {}\n",
    "    for pheno in pheno_stats:\n",
    "        \n",
    "        result = mk.original_test(eco_regions_phenometrics[k][pheno], alpha=0.1)\n",
    "        # result = stats.linregress(x=df.index, y=df[pheno])\n",
    "        trends[pheno+'_p-value'] = result.p\n",
    "        trends[pheno+'_slope'] = result.slope\n",
    "        trends[pheno+'_intercept'] = result.intercept\n",
    "        trends[var] = k\n",
    "\n",
    "    trend_df=pd.DataFrame(trends, index=range(0,1))\n",
    "    trends_dfs.append(gdf.merge(trend_df, on=var))\n",
    "    i+=1\n",
    "\n",
    "pheno_trends = pd.concat(trends_dfs).reset_index(drop=True)"
   ]
  },
  {
   "cell_type": "markdown",
   "id": "f164aefc-d860-4c47-b240-afcb45d0e267",
   "metadata": {},
   "source": [
    "### Plot\n",
    "\n",
    "> Warning, this takes a very long time. I think due to the hatch plotting"
   ]
  },
  {
   "cell_type": "code",
   "execution_count": null,
   "id": "78dbf3c7-6593-4533-bcca-2cb29a706c19",
   "metadata": {},
   "outputs": [],
   "source": [
    "fig,axes=plt.subplots(4,3, figsize=(11,11),  layout='constrained')#sharey=True, sharex=True,\n",
    "pheno_stats=['SOS','vSOS', 'LOS', \n",
    "             'POS', 'vPOS', 'ROG',\n",
    "             'EOS', 'vEOS', 'ROS',\n",
    "             'AOS', 'vTOS', 'IOS'\n",
    "      ]\n",
    "cmaps = ['coolwarm', 'BrBG', 'PuOr',\n",
    "         'coolwarm', 'BrBG', 'Spectral',\n",
    "         'coolwarm', 'BrBG', 'Spectral_r',\n",
    "         'PiYG','BrBG','PuOr'\n",
    "        ]\n",
    "for ax,pheno,cmap in zip(axes.ravel(), pheno_stats, cmaps):\n",
    "   \n",
    "    if \"v\" not in pheno:\n",
    "        vmin, vmax=-1.5,1.5\n",
    "        label='days/\\nyear'\n",
    "    if \"v\" in pheno:\n",
    "        vmin,vmax=-0.0015, 0.0015\n",
    "        label='NDVI/\\nyear'\n",
    "    if 'LOS' in pheno:\n",
    "        vmin, vmax=-1.5, 1.5\n",
    "        label='days/\\nyear'\n",
    "    if 'AOS' in pheno:\n",
    "        vmin, vmax=-0.002, 0.002\n",
    "        label='NDVI\\nyear'\n",
    "    if 'ROG' in pheno:\n",
    "        vmin, vmax=-2.0e-05, 2.0e-05\n",
    "        label='NDVI/day/\\nyear'\n",
    "    if 'ROS' in pheno:\n",
    "        vmin, vmax=-2.0e-05, 2.0e-05\n",
    "        label='NDVI/day/\\nyear'\n",
    "    if 'IOS' in pheno:\n",
    "        vmin, vmax=-0.4, 0.4\n",
    "        label='NDVI/\\nseason/\\nyear'\n",
    "\n",
    "    # im=pheno_trends.plot(column=pheno+'_slope', ax=ax, legend=False, cmap=cmap, vmin=vmin, vmax=vmax)\n",
    "    \n",
    "    significant = pheno_trends[pheno_trends[pheno+'_p-value'] <= 0.1]\n",
    "    not_significant = pheno_trends[pheno_trends[pheno+'_p-value'] > 0.1]\n",
    "    \n",
    "    im=significant.plot(column=pheno+'_slope', ax=ax, legend=False, cmap=cmap, vmin=vmin, vmax=vmax, hatch='....')     \n",
    "    not_significant.plot(column=pheno+'_slope', ax=ax, legend=False, cmap=cmap, vmin=vmin, vmax=vmax)     \n",
    "\n",
    "    ctx.add_basemap(im, source=ctx.providers.CartoDB.VoyagerNoLabels, crs='EPSG:4326', attribution='', attribution_size=1)\n",
    "    ax.axes.get_xaxis().set_ticks([])\n",
    "    ax.axes.get_yaxis().set_ticks([])\n",
    "    \n",
    "    #need to create colorbar manually to have label on top\n",
    "    norm = colors.Normalize(vmin=vmin, vmax=vmax)\n",
    "    cbar = plt.cm.ScalarMappable(norm=norm, cmap=cmap)\n",
    "    ax_cbar = fig.colorbar(cbar, ax=ax, shrink=0.7)\n",
    "    ax_cbar.ax.set_title(label, fontsize=8)\n",
    "    ax.set_title(f'{pheno}, 1982-2022')\n",
    "    print(pheno)\n",
    "    \n",
    "# axes[3,2].axis('off');\n",
    "fig.savefig('/g/data/os22/chad_tmp/Aus_phenology/results/figs/trends_phenometrics_map_'+region_type+'.png',\n",
    "            bbox_inches='tight', dpi=300)"
   ]
  },
  {
   "cell_type": "code",
   "execution_count": null,
   "id": "5c945bf4-b376-4983-8c29-a166d2c91e58",
   "metadata": {},
   "outputs": [],
   "source": [
    "# fig,axes=plt.subplots(1,1, figsize=(11,11),  layout='constrained')\n",
    "# significant.plot(column='IOS_slope',ax=ax, legend=False, cmap='coolwarm', vmin=-1.5, vmax=1.5, hatch='XXX')   \n",
    "# not_significant.plot(column='SOS_slope',ax=ax, legend=False, cmap='coolwarm', vmin=-1.5, vmax=1.5);"
   ]
  },
  {
   "cell_type": "markdown",
   "id": "0668cef4-e60a-4174-978f-5fc9fc2754a8",
   "metadata": {},
   "source": [
    "## Facet plots of phenology changes through time\n",
    "\n",
    "Maybe instead group the plots by similar land covers e.g. Rainfed cropping regions, forested regions, grasslands"
   ]
  },
  {
   "cell_type": "markdown",
   "id": "5d916e6e-a6b1-4d72-b72b-caadef2a8b9f",
   "metadata": {},
   "source": [
    "### Gridded phenology"
   ]
  },
  {
   "cell_type": "code",
   "execution_count": null,
   "id": "6adb9c9b-929f-48f2-9e1c-4f2e1a5488b5",
   "metadata": {},
   "outputs": [],
   "source": [
    "#create a grid\n",
    "xi = np.linspace(1, 12, 12) #months\n",
    "yi = np.linspace(1982, 2022, 41) #years\n",
    "Xi, Yi = np.meshgrid(xi, yi) #grid coords\n",
    "\n",
    "with plt.style.context('default'):\n",
    "    fig, axes = plt.subplots(7,7, figsize=(12,13), sharex=True, sharey=True)\n",
    "    for ax, (k,v) in zip(axes.reshape(-1), results.items()):\n",
    "        dss = v.resample(time='MS', loffset=pd.Timedelta(14, 'd')).mean()\n",
    "        zi = griddata(points=(dss.time.dt.month, dss.time.dt.year),\n",
    "                      values=dss.values,\n",
    "                      xi=(xi[None, :], yi[:, None]),\n",
    "                      method='nearest')\n",
    "        \n",
    "        sp = ax.contourf(zi, levels=75, cmap='gist_earth_r')\n",
    "        # clb = fig.colorbar(sp, ax=axes, shrink=0.65, format=\"%0.2f\")\n",
    "        # clb.ax.set_title('NDVI', fontsize=5)\n",
    "        ax.set(xticks=range(0,12))\n",
    "        ax.set_xticklabels([\"J\",\"F\",\"M\",\"A\",\"M\",\"J\",\"J\",\"A\",\"S\",\"O\",\"N\",\"D\"], fontsize=8);\n",
    "        ax.set(yticks=range(0,41))\n",
    "        ax.set_yticklabels([str(y) for y in range(1982,2023)], fontsize=8);\n",
    "        ax.yaxis.set_major_locator(ticker.MultipleLocator(base=10))\n",
    "        ax.set_title(k, fontsize=6);\n",
    "    plt.tight_layout();\n",
    "\n",
    "fig.savefig('/g/data/os22/chad_tmp/Aus_phenology/results/figs/phenology_grids_'+region_type+'.png',\n",
    "          bbox_inches='tight', dpi=300);"
   ]
  },
  {
   "cell_type": "markdown",
   "id": "d3f3df33-f2e6-44d1-98bf-e651da51cf97",
   "metadata": {},
   "source": [
    "### Before/after seasonal curves\n",
    "\n",
    "The better way to do this would be to recreate the seasonal cycles using the phenology stats, then we could have time-series that extend beyong just the year"
   ]
  },
  {
   "cell_type": "code",
   "execution_count": null,
   "id": "99be430a-4f3b-42be-bc68-8707a73acdb8",
   "metadata": {},
   "outputs": [],
   "source": [
    "plt.style.use('ggplot')\n",
    "fig, axes = plt.subplots(7,7, figsize=(15,13), sharex=True)\n",
    "for ax, (k,v) in zip(axes.reshape(-1), results.items()):\n",
    "    early_clim = v.sel(time=slice('1982', '2000')).groupby('time.month').mean()\n",
    "    late_clim = v.sel(time=slice('2001', '2021')).groupby('time.month').mean()\n",
    "    early_clim.plot(label='1982-2001', ax=ax)\n",
    "    late_clim.plot(label='2002-2021', ax=ax)\n",
    "    ax.set_xlabel(None)\n",
    "    ax.set_ylabel(None)\n",
    "    #ax.legend()\n",
    "    ax.set_title(k, fontsize=6)\n",
    "    ax.set(xticks=range(1,13))\n",
    "    ax.tick_params(axis='y', labelsize=8)\n",
    "    ax.set_xticklabels([\"J\",\"F\",\"M\",\"A\",\"M\",\"J\",\"J\",\"A\",\"S\",\"O\",\"N\",\"D\"], fontsize=8);\n",
    "fig.supylabel('NDVI')\n",
    "plt.tight_layout()\n",
    "\n",
    "fig.savefig('/g/data/os22/chad_tmp/Aus_phenology/results/figs/phenology_curves_'+region_type+'.png',\n",
    "          bbox_inches='tight', dpi=300);"
   ]
  },
  {
   "cell_type": "code",
   "execution_count": null,
   "id": "89e2469a-4846-46de-88e4-72975049a29e",
   "metadata": {},
   "outputs": [],
   "source": []
  }
 ],
 "metadata": {
  "kernelspec": {
   "display_name": "Python 3 (ipykernel)",
   "language": "python",
   "name": "python3"
  },
  "language_info": {
   "codemirror_mode": {
    "name": "ipython",
    "version": 3
   },
   "file_extension": ".py",
   "mimetype": "text/x-python",
   "name": "python",
   "nbconvert_exporter": "python",
   "pygments_lexer": "ipython3",
   "version": "3.10.0"
  }
 },
 "nbformat": 4,
 "nbformat_minor": 5
}
