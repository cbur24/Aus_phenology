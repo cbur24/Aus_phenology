{
 "cells": [
  {
   "cell_type": "markdown",
   "id": "248c4ba7-1b91-4df6-91c0-cfdfcad54246",
   "metadata": {},
   "source": [
    "# Validate phenology\n",
    "\n",
    "Possibilities:\n",
    "* Validate against\n",
    "    * flux towers,\n",
    "    * VODCAv2,\n",
    "    * TERN phenology\n",
    "    * PKU-GIMMS.\n",
    "    * MODIS only\n",
    "* Inspect how the transition between AVHRR and MODIS impacts trends in seasonal cycle for a sample of ecoregions. And the gapfilling."
   ]
  },
  {
   "cell_type": "code",
   "execution_count": null,
   "id": "2387a15b-2689-4556-8ae5-2bf47beb7112",
   "metadata": {},
   "outputs": [],
   "source": [
    "%matplotlib inline\n",
    "import os\n",
    "import sys\n",
    "import xarray as xr\n",
    "import numpy as np\n",
    "import pandas as pd\n",
    "import scipy.signal\n",
    "import matplotlib.pyplot as plt\n",
    "from odc.geo.xr import assign_crs\n",
    "import warnings\n",
    "warnings.simplefilter(action='ignore')\n",
    "\n",
    "sys.path.append('/g/data/os22/chad_tmp/Aus_phenology/src')\n",
    "from phenology import phenometrics\n",
    "\n",
    "sys.path.append('/g/data/os22/chad_tmp/AusEFlux/src/')\n",
    "from _training import extract_ozflux\n",
    "\n",
    "%load_ext autoreload\n",
    "%autoreload 2"
   ]
  },
  {
   "cell_type": "markdown",
   "id": "b3094738-2361-4dd9-b6c3-82234d0466e8",
   "metadata": {},
   "source": [
    "## Flux towers"
   ]
  },
  {
   "cell_type": "markdown",
   "id": "737cf230-5773-413b-a967-b7d49b1d9638",
   "metadata": {},
   "source": [
    "### Get flux data\n",
    "Flux tower data from OzFlux is in the AusEFlux folder so no need to redownload\n",
    "\n",
    "Only load sites with >80% homogenous landcover. Using Yi's paper\n",
    "https://www.sciencedirect.com/science/article/pii/S0034425724001949\n",
    "\n",
    "Also exclude sites with complex topography as 5km pixel can't account for that."
   ]
  },
  {
   "cell_type": "code",
   "execution_count": null,
   "id": "8e149625-fb7f-4a1f-b94c-e310145960b1",
   "metadata": {},
   "outputs": [],
   "source": [
    "ds = extract_ozflux(version='2023_v1',\n",
    "                        level='L6',\n",
    "                        type='default',\n",
    "                        timestep='Monthly',\n",
    "                        # rs_data_folder='/g/data/os22/chad_tmp/AusEFlux/data/5km/',\n",
    "                        # save_ec_data='/g/data/os22/chad_tmp/AusEFlux/data/ozflux_netcdf/',\n",
    "                        return_coords=True,\n",
    "                        verbose=False,\n",
    "                        export_path='/g/data/os22/chad_tmp/Aus_phenology/data/ozflux/'\n",
    "                        )"
   ]
  },
  {
   "cell_type": "code",
   "execution_count": null,
   "id": "12280218-06d0-4ac5-8288-492d57702848",
   "metadata": {},
   "outputs": [],
   "source": [
    "base = '/g/data/os22/chad_tmp/Aus_phenology/'\n",
    "sites = os.listdir(f'{base}data/ozflux/')\n",
    "homogenous = ['AliceSpringsMulga','DalyUncleared','CowBay', #'CapeTribulation', 'RobsonCreek',\n",
    "              'DryRiver','Gingin','RiggsCreek','TiTreeEast',\n",
    "              'Tumbarumba','Whroo','WombatStateForest']\n",
    "\n",
    "flux_ts = {}\n",
    "for site in sites:\n",
    "    if '.csv' in site:\n",
    "        if any(h in site for h in homogenous): #only homogenous sites\n",
    "            print(site[0:-4])\n",
    "            xx = pd.read_csv(f'{base}data/ozflux/{site}',\n",
    "                             index_col='time', parse_dates=True)\n",
    "\n",
    "            #convert to 1d xarray\n",
    "            lat, lon = xx[['y_coord']].iloc[0].y_coord, xx[['x_coord']].iloc[0].x_coord\n",
    "            xx = xx[['GPP_SOLO_EC']]  #'x_coord', 'y_coord'\n",
    "            xx = xx.to_xarray().expand_dims(dim={'latitude':[lat], 'longitude':[lon]})\n",
    "            xx = xx['GPP_SOLO_EC'].squeeze()\n",
    "            flux_ts[site[0:-4]] = xx\n",
    "        else:\n",
    "            continue"
   ]
  },
  {
   "cell_type": "markdown",
   "id": "4c7f5be1-8f49-462e-8c0d-8d0cf27e205f",
   "metadata": {},
   "source": [
    "### Extract phenology forom flux towers and NDVI"
   ]
  },
  {
   "cell_type": "code",
   "execution_count": null,
   "id": "08e60687-2831-4d16-a459-4fe5cc208d24",
   "metadata": {},
   "outputs": [],
   "source": [
    "# # Savitsky-Golay smoothing function\n",
    "def sg_smooth(ds, window, poly, deriv):\n",
    "    return xr.apply_ufunc(\n",
    "        scipy.signal.savgol_filter,\n",
    "        ds,\n",
    "        input_core_dims=[['time']],\n",
    "        output_core_dims=[['time']],\n",
    "        kwargs=dict(\n",
    "            window_length=window,\n",
    "            polyorder=poly,\n",
    "            deriv=deriv,\n",
    "            mode='interp'),\n",
    "        dask='parallelized'\n",
    "    )"
   ]
  },
  {
   "cell_type": "markdown",
   "id": "baffdc5d-1aa2-4146-89cc-5f1d93091cb5",
   "metadata": {},
   "source": [
    "#### Open NDVI data"
   ]
  },
  {
   "cell_type": "code",
   "execution_count": null,
   "id": "7fcb801e-0cd7-488f-a64a-a4d20f183bd2",
   "metadata": {},
   "outputs": [],
   "source": [
    "path = '/g/data/os22/chad_tmp/AusENDVI/results/publication/AusENDVI-clim_MCD43A4_gapfilled_1982_2022.nc'\n",
    "# path = '/g/data/os22/chad_tmp/AusENDVI/data/NDVI_harmonization/MODIS_NDVI_5km_monthly_200003_202212.nc'\n",
    "# path = '/g/data/os22/chad_tmp/AusEFlux/data/5km/NDVI_5km.nc'\n",
    "# path = '/g/data/os22/chad_tmp/AusENDVI/data/NDVI_harmonization/AVHRR_GIMMS3g_v1.1_1982_2013.nc'\n",
    "# path = '/g/data/os22/chad_tmp/AusENDVI/data/NDVI_harmonization/AVHRR_GIMMS-PKU-MODIS_1982_2022.nc'\n",
    "# path = '/g/data/os22/chad_tmp/NEE_modelling/data/5km/GOSIF_GPP_5km_monthly_2002_2021.nc'\n",
    "# path = '/g/data/os22/chad_tmp/NEE_modelling/data/5km/EVI_5km_monthly_2002_2021.nc'\n",
    "# path = '/g/data/os22/chad_tmp/NEE_modelling/data/5km/LAI_5km_monthly_2002_2021.nc'\n",
    "# path = '/g/data/os22/chad_tmp/NEE_modelling/data/5km/FPAR_5km_monthly_2002_2021.nc'\n",
    "# path = '/g/data/os22/chad_tmp/NEE_modelling/data/1km/kNDVI_1km_monthly_2002_2022.nc'\n",
    "# path = '/g/data/os22/chad_tmp/NEE_modelling/data/1km/NDWI_1km_monthly_2002_2022.nc'\n",
    "# path = '/g/data/os22/chad_tmp/NEE_modelling/data/1km/LST_Tair_1km_monthly_2002_2022.nc'\n",
    "# path = '/g/data/os22/chad_tmp/NEE_modelling/data/1km/DIFFUSE_GPP_1km_monthly_2003_2021.nc'\n",
    "# path = '/g/data/os22/chad_tmp/Aus_phenology/data/VODCAv2_1988_2021.nc'\n",
    "# path = '/g/data/os22/chad_tmp/NEE_modelling/results/predictions/AusEFlux_GPP_2003_2022_1km_quantiles_v1.1.nc'\n",
    "\n",
    "#open GPP\n",
    "# ds = xr.open_dataset(path)\n",
    "# ds = ds['NDVI']\n",
    "\n",
    "ds = xr.open_dataset(path)\n",
    "ds = ds.rename({'AusENDVI_clim_MCD43A4':'NDVI'})\n",
    "ds = ds['NDVI']"
   ]
  },
  {
   "cell_type": "markdown",
   "id": "0aa9fffd-bca6-4bb4-b412-d5df1952c963",
   "metadata": {},
   "source": [
    "#### Process timeseries and calculate phenometrics"
   ]
  },
  {
   "cell_type": "code",
   "execution_count": null,
   "id": "409eb3ab-950f-48e9-b0b4-f7f141428473",
   "metadata": {},
   "outputs": [],
   "source": [
    "flux_pheno = {}\n",
    "ndvi_pheno = {}\n",
    "flux_tss = {}\n",
    "ndvi_tss = {}\n",
    "\n",
    "for k,v in flux_ts.items():\n",
    "    \n",
    "    # Index NDVI at location and time so we have matching tim series\n",
    "    lat,lon = v.latitude, v.longitude\n",
    "    ndvi = ds.sel(latitude=lat, longitude=lon, method='nearest', time=v.time)\n",
    "    ndvi = ndvi.drop_duplicates(dim='time')\n",
    "    v = v.sel(time=ndvi.time, method='nearest')\n",
    "\n",
    "    #smooth\n",
    "    ndvi = ndvi.resample(time=\"2W\").interpolate(\"linear\")\n",
    "    v = v.resample(time=\"2W\").interpolate(\"linear\")\n",
    "    ndvi=sg_smooth(ndvi,window=11, poly=3, deriv=0)\n",
    "    v=sg_smooth(v,window=11, poly=3, deriv=0)\n",
    "    \n",
    "    #interpolate\n",
    "    v = v.sel(time=slice('2000','2021')) #make sure ts isn't longer than NDVI\n",
    "    ndvi = ndvi.sel(time=slice('2000','2021'))\n",
    "    ndvi = ndvi.dropna(dim='time',\n",
    "            how='all').resample(time='1D').interpolate(kind='quadratic')\n",
    "    v = v.dropna(dim='time',\n",
    "            how='all').resample(time='1D').interpolate(kind='quadratic')\n",
    "    \n",
    "\n",
    "    #phenology\n",
    "    ndvi_phen = phenometrics({k:ndvi}, verbose=False)\n",
    "    v_phen = phenometrics({k:v}, verbose=False)\n",
    "    \n",
    "    # add results to dict for plotting\n",
    "    flux_tss[k] = v\n",
    "    ndvi_tss[k] = ndvi\n",
    "    flux_pheno[k] = v_phen[k]\n",
    "    ndvi_pheno[k] = ndvi_phen[k]\n"
   ]
  },
  {
   "cell_type": "markdown",
   "id": "38a17dba-c5de-48d6-9f95-0761f31fb29a",
   "metadata": {},
   "source": [
    "### Plot"
   ]
  },
  {
   "cell_type": "code",
   "execution_count": null,
   "id": "9da75768-4099-4228-8455-ea7195f56806",
   "metadata": {},
   "outputs": [],
   "source": [
    "with plt.style.context('ggplot'):\n",
    "    fig,axes = plt.subplots(5,2, figsize=(20,15), layout='constrained')\n",
    "    for ax, (k,v) in zip(axes.reshape(-1), flux_tss.items()):\n",
    "        ax1 = ax.twinx()\n",
    "        v.plot(ax=ax1, c='tab:blue')\n",
    "        ndvi_tss[k].plot(ax=ax, c='tab:red')\n",
    "        ax.set_title(k)\n",
    "        ax1.set_title(None)\n",
    "        ax1.grid(None)\n",
    "        ax.grid(axis='y', which='both')\n",
    "        ax.set_xlabel(None)\n",
    "        ax1.set_xlabel(None)\n",
    "        ax1.set_xlabel(None)\n",
    "        ax1.set_ylabel('GPP')\n",
    "        ax.set_ylim(0.10,0.9)\n",
    "        ax1.set_ylim(-1,350)\n",
    "    \n",
    "        \n",
    "        # ax.scatter(x=[pd.to_datetime(d-1, unit='D', origin=str(int(y))) for d,y in zip(ndvi_pheno[k].SOS.values, ndvi_pheno[k].SOS_year.values)],\n",
    "        #            y=ndvi_pheno[k].vSOS,\n",
    "        #           c='tab:green', label='SOS', zorder=10)\n",
    "        \n",
    "        # ax.scatter(x=[pd.to_datetime(d-1, unit='D', origin=str(int(y))) for d,y in zip(ndvi_pheno[k].EOS.values, ndvi_pheno[k].EOS_year.values)],\n",
    "        #            y=ndvi_pheno[k].vEOS,\n",
    "        #           c='tab:purple', label='EOS', zorder=10)\n",
    "        \n",
    "        # ax.scatter(x=[pd.to_datetime(d-1, unit='D', origin=str(int(y))) for d,y in zip(ndvi_pheno[k].POS.values, ndvi_pheno[k].POS_year.values)],\n",
    "        #                y=ndvi_pheno[k].vPOS,\n",
    "        #               c='black', label='POS', zorder=10)\n",
    "            \n",
    "        # ax.scatter(x=[pd.to_datetime(d-1, unit='D', origin=str(int(y))) for d,y in zip(ndvi_pheno[k].TOS.values, ndvi_pheno[k].TOS_year.values)],\n",
    "        #            y=ndvi_pheno[k].vTOS,\n",
    "        #           c='tab:orange', label='TOS', zorder=10)\n",
    "# fig.savefig('/g/data/os22/chad_tmp/Aus_phenology/results/figs/flux_tower_validate.png',\n",
    "#             bbox_inches='tight', dpi=300)"
   ]
  },
  {
   "cell_type": "code",
   "execution_count": null,
   "id": "bbf387db-9336-4263-aa2c-b190f8fef918",
   "metadata": {},
   "outputs": [],
   "source": [
    "# v.plot(figsize=(14,5))"
   ]
  },
  {
   "cell_type": "code",
   "execution_count": null,
   "id": "fcb1c3b8-83a7-4e0f-8092-c867e21000a3",
   "metadata": {},
   "outputs": [],
   "source": [
    "# with plt.style.context('ggplot'):\n",
    "#     fig,axes = plt.subplots(5,2, figsize=(20,15), layout='constrained')\n",
    "#     for ax, (k,v) in zip(axes.reshape(-1), flux_tss.items()):\n",
    "#         v.plot(ax=ax, c='tab:blue', label='OzFlux')\n",
    "#         ndvi_tss[k].plot(ax=ax, c='tab:red', label='AusEFlux')\n",
    "#         ax.set_title(k)\n",
    "#         ax.grid(axis='y', which='both')\n",
    "#         ax.set_xlabel(None)\n",
    "#         ax.set_ylabel('GPP gC/m2/month')\n",
    "#         ax.legend()\n",
    "#         # ax.set_ylim(0.10,0.9)\n",
    "#         # ax1.set_ylim(-1,350)\n",
    "    \n",
    "        \n",
    "#         # ax.scatter(x=[pd.to_datetime(d-1, unit='D', origin=str(int(y))) for d,y in zip(ndvi_pheno[k].SOS.values, ndvi_pheno[k].SOS_year.values)],\n",
    "#         #            y=ndvi_pheno[k].vSOS,\n",
    "#         #           c='tab:green', label='SOS', zorder=10)\n",
    "        \n",
    "#         # ax.scatter(x=[pd.to_datetime(d-1, unit='D', origin=str(int(y))) for d,y in zip(ndvi_pheno[k].EOS.values, ndvi_pheno[k].EOS_year.values)],\n",
    "#         #            y=ndvi_pheno[k].vEOS,\n",
    "#         #           c='tab:purple', label='EOS', zorder=10)\n",
    "        \n",
    "#         # ax.scatter(x=[pd.to_datetime(d-1, unit='D', origin=str(int(y))) for d,y in zip(ndvi_pheno[k].POS.values, ndvi_pheno[k].POS_year.values)],\n",
    "#         #                y=ndvi_pheno[k].vPOS,\n",
    "#         #               c='black', label='POS', zorder=10)\n",
    "            \n",
    "#         # ax.scatter(x=[pd.to_datetime(d-1, unit='D', origin=str(int(y))) for d,y in zip(ndvi_pheno[k].TOS.values, ndvi_pheno[k].TOS_year.values)],\n",
    "#         #            y=ndvi_pheno[k].vTOS,\n",
    "#         #           c='tab:orange', label='TOS', zorder=10)\n",
    "# fig.savefig('/g/data/os22/chad_tmp/Aus_phenology/results/figs/flux_tower_validate_GPP.png',\n",
    "#             bbox_inches='tight', dpi=300)"
   ]
  },
  {
   "cell_type": "code",
   "execution_count": null,
   "id": "a480c3b2-ec1a-481f-8720-79211bcf661a",
   "metadata": {},
   "outputs": [],
   "source": []
  },
  {
   "cell_type": "code",
   "execution_count": null,
   "id": "97d199b5-a031-4448-a63a-0c7c66ff6cc7",
   "metadata": {},
   "outputs": [],
   "source": []
  },
  {
   "cell_type": "code",
   "execution_count": null,
   "id": "290d555a-559b-4fb3-83bf-d3c74eccf7e1",
   "metadata": {},
   "outputs": [],
   "source": [
    "    # # Index NDVI at location and time so we have matching tim series\n",
    "    # lat,lon = v.latitude, v.longitude\n",
    "    # ndvi = ds.sel(latitude=lat, longitude=lon, method='nearest')\n",
    "    \n",
    "    # #smooth\n",
    "    # ndvi = ndvi.resample(time=\"2W\").interpolate(\"linear\")\n",
    "    # v = v.sel(time=ndvi.time, method='nearest')\n",
    "    # ndvi=sg_smooth(ndvi, window=11, poly=3, deriv=0)\n",
    "    # v=sg_smooth(v, window=11, poly=3, deriv=0)\n",
    "\n",
    "    # #interpolate\n",
    "    # v = v.drop_duplicates(dim='time')\n",
    "    # ndvi = ndvi.dropna(dim='time',\n",
    "    #         how='all').resample(time='1D').interpolate(kind='quadratic')\n",
    "    # v = v.dropna(dim='time',\n",
    "    #         how='all').resample(time='1D').interpolate(kind='quadratic')\n",
    "\n",
    "    # # same length of time for both ds\n",
    "    # ndvi = ndvi.sel(time=v.time, method='nearest')\n",
    "    # v = v.sel(time=ndvi.time, method='nearest')"
   ]
  }
 ],
 "metadata": {
  "kernelspec": {
   "display_name": "Python 3 (ipykernel)",
   "language": "python",
   "name": "python3"
  },
  "language_info": {
   "codemirror_mode": {
    "name": "ipython",
    "version": 3
   },
   "file_extension": ".py",
   "mimetype": "text/x-python",
   "name": "python",
   "nbconvert_exporter": "python",
   "pygments_lexer": "ipython3",
   "version": "3.10.0"
  }
 },
 "nbformat": 4,
 "nbformat_minor": 5
}
