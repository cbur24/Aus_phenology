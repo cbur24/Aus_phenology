{
 "cells": [
  {
   "cell_type": "markdown",
   "id": "8d6185d6-5015-4c74-a294-e3c3cea28081",
   "metadata": {},
   "source": [
    "# Examine phenometric trends along various gradients\n",
    "\n",
    "* P:PET\n",
    "* P_annual_sd/P_mean_annual\n",
    "* NDVI_mean_annual\n",
    "* Woody cover fraction\n",
    "* Map the trends in VPD and see how they compare with the switch in trends between 1982-2000, and 2000-2022\n",
    "    * From sami's paper: VPD changed minimally between 1982–2000, whereas it rapidly increased between 2001–2019 (Fig. A8). These increases were largest in the most Arid and Temperate regions (12.7 % and 11 % since 1982, respectively; Fig. 6), and when coupled with seasonal reductions in precipitation (Fig. A2) these would have partially offset benefits from increased intrinsic water use efficiency (Eq. 17). "
   ]
  },
  {
   "cell_type": "code",
   "execution_count": null,
   "id": "be0c7445-4b35-4c1a-b586-353f4a293c32",
   "metadata": {
    "tags": []
   },
   "outputs": [],
   "source": [
    "%matplotlib inline\n",
    "\n",
    "import sys\n",
    "import pickle\n",
    "import warnings\n",
    "import odc.geo.xr\n",
    "import numpy as np\n",
    "import xarray as xr\n",
    "import pandas as pd\n",
    "import seaborn as sb\n",
    "from scipy import stats\n",
    "import geopandas as gpd\n",
    "import pymannkendall as mk\n",
    "import matplotlib.pyplot as plt\n",
    "from odc.geo.geom import Geometry\n"
   ]
  },
  {
   "cell_type": "markdown",
   "id": "9f402f2d-ab13-41f3-8442-43722664c9d5",
   "metadata": {},
   "source": [
    "## Analysis Parameters\n"
   ]
  },
  {
   "cell_type": "code",
   "execution_count": null,
   "id": "6a9c27f5-4dbd-40e2-904d-961b23786d23",
   "metadata": {
    "tags": []
   },
   "outputs": [],
   "source": [
    "# product='GIMMS-PKU'\n",
    "product='AusENDVI-clim'\n",
    "# product='AusENDVI-clim_MCD43A4'\n",
    "# product='AusENDVI-clim_2000'\n",
    "# product='GIMMS-PKU_2022'\n",
    "# product='GIMMSv1.1'\n",
    "# product='GIMMSv1.2'\n",
    "# product='MCD43A4'\n",
    "# product='Landsat'\n",
    "\n",
    "timeseries_file = '/g/data/os22/chad_tmp/Aus_phenology/data/pickle/IBRA_subregions_NDVI_'+product+'.pkl'\n",
    "phenometrics_file = '/g/data/os22/chad_tmp/Aus_phenology/data/pickle/IBRA_subregions_'+product+'_phenometrics.pkl'\n",
    "climate_file = '/g/data/os22/chad_tmp/Aus_phenology/data/pickle/IBRA_subregions_climate.pkl'\n",
    "ecoregions_file = '/g/data/os22/chad_tmp/Aus_phenology/data/vectors/IBRAv7_subregions_modified.geojson'\n",
    "\n",
    "var='SUB_NAME_7'"
   ]
  },
  {
   "cell_type": "markdown",
   "id": "a36d45f1-6dd9-44b4-bb31-825db4303234",
   "metadata": {},
   "source": [
    "## Open data\n",
    "\n",
    "* Penman PET from AWRA: '/g/data/os22/chad_tmp/NEE_modelling/data/5km/PET_5km_monthly_2002_2021.nc'\n",
    "* Pan evaporation from ANUClim: '/g/data/os22/chad_tmp/NEE_modelling/data/1km/evap_1km_monthly_2002_2021.nc'\n",
    "* MI: '/g/data/os22/chad_tmp/NEE_modelling/data/5km/MI_5km_monthly_2002_2021.nc'\n",
    "* AI: '/g/data/os22/chad_tmp/NEE_modelling/data/5km/AridityIndex_5km_monthly_2002_2021.nc'"
   ]
  },
  {
   "cell_type": "code",
   "execution_count": null,
   "id": "3ea1bf71-29b3-4ea7-a9b9-0989f9bfb1f1",
   "metadata": {
    "tags": []
   },
   "outputs": [],
   "source": [
    "gdf = gpd.read_file(ecoregions_file)\n",
    "\n",
    "with open(climate_file, 'rb') as f:\n",
    "    climate = pickle.load(f)\n",
    "\n",
    "with open(timeseries_file, 'rb') as f:\n",
    "    ndvi = pickle.load(f)\n",
    "\n",
    "with open(phenometrics_file, 'rb') as f:\n",
    "    phenometrics = pickle.load(f)\n",
    "\n",
    "mi = xr.open_dataarray('/g/data/os22/chad_tmp/NEE_modelling/data/5km/MI_5km_monthly_2002_2021.nc')\n",
    "mi = mi.mean('time')\n",
    "mi = mi.rename('P:PET')\n",
    "mi = xr.where(mi>1.5, 1.5, mi) #remove extreme values\n",
    "\n",
    "wcf = xr.open_dataarray('/g/data/os22/chad_tmp/AusENDVI/data/5km/WCF_5km_monthly_1982_2022.nc')\n",
    "wcf = wcf.mean('time')\n",
    "\n",
    "vegh = xr.open_dataset('/g/data/os22/chad_tmp/AusENDVI/data/5km/VegH_5km_monthly_1982_2022.nc')['VegH']\n",
    "vegh = vegh.mean('time')\n",
    "\n",
    "# trees = xr.open_dataset('/g/data/os22/chad_tmp/AusENDVI/data/5km/trees_5km_monthly_1982_2022.nc')['trees']\n",
    "# trees = trees.mean('time')"
   ]
  },
  {
   "cell_type": "markdown",
   "id": "b486c5ef-83a7-4e4f-bbfd-e49d09bd4547",
   "metadata": {},
   "source": [
    "## Remove all cropping regions"
   ]
  },
  {
   "cell_type": "code",
   "execution_count": null,
   "id": "968a834f-c110-440b-ba39-d0752294d759",
   "metadata": {},
   "outputs": [],
   "source": [
    "ndvi = {k:v for k, v in ndvi.items() if not 'crop' in k}\n",
    "climate = {k:v for k, v in climate.items() if not 'crop' in k}\n",
    "phenometrics = {k:v for k, v in phenometrics.items() if not 'crop' in k}"
   ]
  },
  {
   "cell_type": "markdown",
   "id": "24e9e775-12af-4ea9-8a7b-5008df934ced",
   "metadata": {},
   "source": [
    "## Extract trends and environmental gradients\n"
   ]
  },
  {
   "cell_type": "code",
   "execution_count": null,
   "id": "4350a09f-b629-4425-9d37-ecdb79284c5d",
   "metadata": {},
   "outputs": [],
   "source": [
    "trends_dfs = []\n",
    "pheno_stats=['SOS','vSOS','LOS','POS','vPOS','AOS',\n",
    "             'EOS', 'vTOS','vEOS','ROG','ROS', 'IOS']\n",
    "i=0\n",
    "for k in phenometrics.keys():\n",
    "    print(\"Feature {:02}/{:02}\\r\".format(i + 1, len(range(0, len(phenometrics)))), end=\"\")\n",
    "\n",
    "    #get data for the polygon\n",
    "    df = phenometrics[k]\n",
    "    clim = climate[k].sel(time=slice('1982','2013'))\n",
    "    veg = ndvi[k]\n",
    "\n",
    "    #mask the wcf and mi datasets\n",
    "    geom = Geometry(geom=gdf[gdf[var]==k].geometry.item(), crs=gdf.crs)\n",
    "    moist = mi.odc.mask(poly=geom)\n",
    "    woody = wcf.odc.mask(poly=geom)\n",
    "    height = vegh.odc.mask(poly=geom)\n",
    "    \n",
    "    #now calculate the enviro gradients\n",
    "    #rain variability\n",
    "    annual_rain = clim['rain'].resample(time='YE').sum()\n",
    "    rain_variability = annual_rain.std('time').values.item() / annual_rain.mean('time').values.item()\n",
    "    \n",
    "    #mean NDVI\n",
    "    annual_mean_veg = veg.resample(time='YE').mean().mean('time').values.item()\n",
    "\n",
    "    #mean WCF\n",
    "    woody = woody.mean().values.item()\n",
    "\n",
    "    #mean P:PET\n",
    "    moist = moist.mean().values.item()\n",
    "\n",
    "    #veg height\n",
    "    height = height.mean().values.item()\n",
    "\n",
    "    # loop through phen stats and append\n",
    "    # enviro info\n",
    "    trends = {}\n",
    "    for pheno in pheno_stats:\n",
    "\n",
    "        trends['annual_mean_NDVI'] = annual_mean_veg\n",
    "        trends['rainfall_variability'] = rain_variability\n",
    "        trends['P_PET'] = moist\n",
    "        trends['WCF'] = woody\n",
    "        trends['VegHeight'] = height\n",
    "        \n",
    "        result = mk.original_test(phenometrics[k][pheno], alpha=0.05)\n",
    "        # result = stats.linregress(x=df.index, y=df[pheno])\n",
    "        trends[pheno+'_p-value'] = result.p\n",
    "        trends[pheno+'_slope'] = result.slope\n",
    "        trends[pheno+'_intercept'] = result.intercept\n",
    "        trends[var] = k\n",
    "        \n",
    "    trend_df=pd.DataFrame(trends, index=range(0,1))\n",
    "    trends_dfs.append(gdf.merge(trend_df, on=var))\n",
    "    i+=1\n",
    "\n",
    "pheno_trends = pd.concat(trends_dfs).reset_index(drop=True)\n",
    "pheno_trends = pheno_trends.dropna() #there's one nan by the coast in the north for P:PET"
   ]
  },
  {
   "cell_type": "markdown",
   "id": "f164aefc-d860-4c47-b240-afcb45d0e267",
   "metadata": {},
   "source": [
    "### Plot all variables\n"
   ]
  },
  {
   "cell_type": "code",
   "execution_count": null,
   "id": "27a04918-0654-4965-ae00-e580bf206584",
   "metadata": {},
   "outputs": [],
   "source": [
    "pheno_stats=['SOS_slope','vSOS_slope', 'LOS_slope', \n",
    "             'POS_slope', 'vPOS_slope', 'ROG_slope',\n",
    "             'EOS_slope', 'vEOS_slope', 'ROS_slope',\n",
    "             'AOS_slope', 'vTOS_slope', 'IOS_slope'\n",
    "            ]\n",
    "\n",
    "for variable in ['annual_mean_NDVI', 'WCF', 'rainfall_variability', 'P_PET', 'VegHeight']:\n",
    "    \n",
    "    with plt.style.context('ggplot'):\n",
    "        fig,axes=plt.subplots(4,3, figsize=(10,10),  layout='constrained', sharex=True)\n",
    "        \n",
    "        for ax,pheno in zip(axes.ravel(), pheno_stats):\n",
    "            obs,pred = pheno_trends[variable].values, pheno_trends[pheno].values\n",
    "            sl, i, r, p, s = stats.linregress(obs,pred)\n",
    "            r2 = r**2\n",
    "            \n",
    "            sb.scatterplot(data=pheno_trends, x=variable,y=pheno, alpha=0.7, ax=ax, color='tab:blue')\n",
    "            sb.regplot(data=pheno_trends, x=variable,y=pheno, scatter=False,\n",
    "                       line_kws={'linewidth':1}, color='black', ax=ax)\n",
    "            \n",
    "            ax.axhline(0, color='grey', linestyle='--')\n",
    "            ax.text(.70, .90, 'r\\N{SUPERSCRIPT TWO}={:.2f}'.format(r2),\n",
    "                    transform=ax.transAxes, fontsize=10)\n",
    "            ax.text(.70, .825, 'p={:.3f}'.format(p), transform=ax.transAxes, fontsize=10)\n",
    "    \n",
    "            fig.savefig(f'/g/data/os22/chad_tmp/Aus_phenology/results/figs/Trends_{variable}_{product}.png',\n",
    "                                        bbox_inches='tight', dpi=300)"
   ]
  },
  {
   "cell_type": "markdown",
   "id": "8611ead0-63fa-4bf3-afc7-5e397e07a2ac",
   "metadata": {},
   "source": [
    "## Trends in VPD"
   ]
  },
  {
   "cell_type": "code",
   "execution_count": null,
   "id": "f1300d56-1c47-4e1a-ae2f-4a40ffda112a",
   "metadata": {},
   "outputs": [],
   "source": [
    "from xarrayMannKendall import Mann_Kendall_test"
   ]
  },
  {
   "cell_type": "code",
   "execution_count": null,
   "id": "9f5bb416-8f3b-48fd-a3d2-2bd6bd0d4ee0",
   "metadata": {},
   "outputs": [],
   "source": [
    "vpd = xr.open_dataset('/g/data/os22/chad_tmp/AusENDVI/data/5km/vpd_5km_monthly_1982_2022.nc')['vpd']\n",
    "vpd = vpd.resample(time='YE').mean()"
   ]
  },
  {
   "cell_type": "code",
   "execution_count": null,
   "id": "9cb084f0-5cd6-4d86-92d4-c5b661d3a72b",
   "metadata": {},
   "outputs": [],
   "source": [
    "vpd.mean(['latitude', 'longitude']).plot(figsize=(12,4))\n",
    "plt.ylabel('annual mean VPD')"
   ]
  },
  {
   "cell_type": "code",
   "execution_count": null,
   "id": "6a5220ce-7303-48a4-8646-b86466cd27af",
   "metadata": {},
   "outputs": [],
   "source": [
    "vpd_trend_2000 = Mann_Kendall_test(vpd.sel(time=slice('1982','1999')), alpha=0.05, method='theilslopes',\n",
    "                             coords_name={'time':'time','longitude':'x','latitude':'y'}).compute()\n",
    "\n",
    "vpd_trend_2022 = Mann_Kendall_test(vpd.sel(time=slice('2000','2022')), alpha=0.05, method='theilslopes',\n",
    "                             coords_name={'time':'time','x':'longitude','y':'latitude'}).compute()"
   ]
  },
  {
   "cell_type": "code",
   "execution_count": null,
   "id": "4304c0b3-36c9-4483-9b29-40fe901d0059",
   "metadata": {},
   "outputs": [],
   "source": [
    "vpd_trend_2000.trend.plot(size=5, robust=True, vmin=-0.2, vmax=0.2, cmap='RdBu_r')\n",
    "plt.title('VPD trend 1982-1999')"
   ]
  },
  {
   "cell_type": "code",
   "execution_count": null,
   "id": "54db10d4-f1b4-45af-8639-387a1e41a318",
   "metadata": {},
   "outputs": [],
   "source": [
    "vpd_trend_2022.trend.plot(size=5, robust=True, vmin=-0.2, vmax=0.2, cmap='RdBu_r')\n",
    "plt.title('VPD trend 2000-2022')"
   ]
  },
  {
   "cell_type": "code",
   "execution_count": null,
   "id": "f55017b5-d994-4c73-9d25-11dc4c20b80d",
   "metadata": {},
   "outputs": [],
   "source": []
  }
 ],
 "metadata": {
  "kernelspec": {
   "display_name": "Python 3 (ipykernel)",
   "language": "python",
   "name": "python3"
  },
  "language_info": {
   "codemirror_mode": {
    "name": "ipython",
    "version": 3
   },
   "file_extension": ".py",
   "mimetype": "text/x-python",
   "name": "python",
   "nbconvert_exporter": "python",
   "pygments_lexer": "ipython3",
   "version": "3.10.0"
  }
 },
 "nbformat": 4,
 "nbformat_minor": 5
}
