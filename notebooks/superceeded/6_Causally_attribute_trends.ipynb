{
 "cells": [
  {
   "cell_type": "markdown",
   "id": "8d6185d6-5015-4c74-a294-e3c3cea28081",
   "metadata": {},
   "source": [
    "# Determine causal drivers of trends in LSP metrics\n",
    "\n",
    "\n",
    "***\n",
    "\n",
    "**To Do:**\n",
    "* Determine best way to extract climate variables corresponding with phenology metrics - in this draft workflow I only extract mean climate over the preceeding two months of a given metric.\n",
    "* If using PLS, make maps of the coefficients for each variable.\n",
    "* Consider adding earlier metrics as a co-variable (e.g if modelling POS add SOS.)"
   ]
  },
  {
   "cell_type": "code",
   "execution_count": 1,
   "id": "be0c7445-4b35-4c1a-b586-353f4a293c32",
   "metadata": {
    "tags": []
   },
   "outputs": [],
   "source": [
    "%load_ext autoreload\n",
    "%autoreload 2\n",
    "%matplotlib inline\n",
    "import os\n",
    "import sys\n",
    "import math\n",
    "import pickle\n",
    "import warnings\n",
    "import distinctipy\n",
    "import xarray as xr\n",
    "import pandas as pd\n",
    "import geopandas as gpd\n",
    "import rioxarray as rxr\n",
    "from scipy import stats\n",
    "import seaborn as sb\n",
    "import numpy as np\n",
    "import contextily as ctx\n",
    "import matplotlib.pyplot as plt\n",
    "from scipy.stats import gaussian_kde\n",
    "from datetime import datetime\n",
    "import pymannkendall as mk\n",
    "from odc.geo.xr import assign_crs\n",
    "from odc.geo.geom import Geometry\n",
    "# from matplotlib.colors import ListedColormap\n",
    "from matplotlib.colors import LinearSegmentedColormap\n",
    "from matplotlib.patches import Patch\n",
    "\n",
    "from sklearn.cross_decomposition import PLSRegression\n",
    "from sklearn.linear_model import LinearRegression\n",
    "\n",
    "# import shap\n",
    "# from sklearn.model_selection import train_test_split\n",
    "from sklearn.metrics import r2_score #mean_squared_error\n",
    "# from sklearn.ensemble import RandomForestRegressor\n",
    "\n",
    "# sys.path.append('/g/data/os22/chad_tmp/AusEFlux/src/')\n",
    "# from _utils import start_local_dask"
   ]
  },
  {
   "cell_type": "markdown",
   "id": "9f402f2d-ab13-41f3-8442-43722664c9d5",
   "metadata": {},
   "source": [
    "## Analysis Parameters\n"
   ]
  },
  {
   "cell_type": "code",
   "execution_count": 2,
   "id": "6a9c27f5-4dbd-40e2-904d-961b23786d23",
   "metadata": {
    "tags": []
   },
   "outputs": [],
   "source": [
    "# product='GIMMS-PKU'\n",
    "# product='AusENDVI-clim'\n",
    "product='AusENDVI-clim_MCD43A4'\n",
    "# product='GIMMS-PKU_2022'\n",
    "# product='GIMMSv1.1'\n",
    "# product='GIMMSv1.2'\n",
    "# product='MCD43A4'\n",
    "# product='Landsat'\n",
    "# product='AusENDVI-clim_2000'\n",
    "\n",
    "base = '/g/data/os22/chad_tmp/Aus_phenology/'\n",
    "\n",
    "ds_path = '/g/data/os22/chad_tmp/AusENDVI/results/publication/AusENDVI-clim_MCD43A4_gapfilled_1982_2022.nc'\n",
    "\n",
    "# timeseries_file = '/g/data/os22/chad_tmp/Aus_phenology/data/ecoregions_climate_timeseries.pkl'\n",
    "# timeseries_file ='/g/data/os22/chad_tmp/Aus_phenology/data/IBRA_regions_climate_timeseries.pkl'\n",
    "# timeseries_file =f'{base}data/pickle/IBRA_subregions_{product}_climate.pkl'\n",
    "timeseries_file =f'{base}data/pickle/IBRA_subregions_climate.pkl'\n",
    "\n",
    "# ecoregions_file = '/g/data/os22/chad_tmp/Aus_phenology/data/vectors/Ecoregions2017_modified.geojson'\n",
    "# ecoregions_file = '/g/data/os22/chad_tmp/Aus_phenology/data/vectors/IBRAv7_regions_modified.geojson'\n",
    "ecoregions_file = '/g/data/os22/chad_tmp/Aus_phenology/data/vectors/IBRAv7_subregions_modified.geojson'\n",
    "\n",
    "phenometrics_file = f'{base}data/pickle/IBRA_subregions_{product}_phenometrics.pkl'\n",
    "\n",
    "# var='ECO_NAME'\n",
    "# var='REG_NAME_7'\n",
    "var='SUB_NAME_7'"
   ]
  },
  {
   "cell_type": "markdown",
   "id": "6b6096af-0efe-4f0a-88d7-cc193cd512c2",
   "metadata": {},
   "source": [
    "## Open climate timeseries and phenometrics"
   ]
  },
  {
   "cell_type": "code",
   "execution_count": 3,
   "id": "8f6c51f0-dcb2-4357-8501-976556a00068",
   "metadata": {},
   "outputs": [],
   "source": [
    "with open(timeseries_file, 'rb') as f:\n",
    "    climate = pickle.load(f)\n",
    "\n",
    "with open(phenometrics_file, 'rb') as f:\n",
    "    phenometrics = pickle.load(f)\n",
    "\n",
    "#open ecoregions\n",
    "gdf = gpd.read_file(ecoregions_file)\n",
    "#remove regions we dropped\n",
    "gdf = gdf[gdf[var].isin(list(phenometrics.keys()))]"
   ]
  },
  {
   "cell_type": "markdown",
   "id": "11a159dd-97e9-4105-a5f3-34717911d25f",
   "metadata": {},
   "source": [
    "## Maps"
   ]
  },
  {
   "cell_type": "code",
   "execution_count": null,
   "id": "29b3b9bf-9b0d-4ef1-8f3a-bb07aeb6bd17",
   "metadata": {},
   "outputs": [],
   "source": [
    "# means = []\n",
    "# for k in phenometrics.keys():\n",
    "#     df = phenometrics[k]\n",
    "\n",
    "#     #include a column counting the number of seasons\n",
    "#     df['n_seasons'] = len(df)\n",
    "    \n",
    "#     mean_df = df.quantile(q=0.5, interpolation='lower') # median\n",
    "#     mean_df = mean_df.rename({i:'mean_'+i for i in mean_df.index}).to_frame().transpose()\n",
    "#     mean_df[var] = k\n",
    "\n",
    "#     mean_gdf = gdf.merge(mean_df, on=var)\n",
    "#     means.append(mean_gdf)\n",
    "    \n",
    "# pheno_means = pd.concat(means).reset_index(drop=True)\n",
    "# pheno_means[['mean_POS', 'geometry', var]].explore(column='mean_POS', cmap='twilight')"
   ]
  },
  {
   "cell_type": "markdown",
   "id": "71f2311a-b15c-4366-8093-d4c94fdb799f",
   "metadata": {},
   "source": [
    "## Calculate climate metrics that relate to phenometrics\n",
    "\n",
    "Let's start with peak of season (POS) as thats an easy one.\n",
    "\n",
    "For each ecoregion, find the average date of POS, then we can calculate annual summary statistics around that POS date.  Let's do the two-months preceeding the POS, inclusive. So if the peak is in June, then we can calculate summary statistics from May-June...that'll be a good start"
   ]
  },
  {
   "cell_type": "code",
   "execution_count": null,
   "id": "83e045ee-0413-4385-8092-c28cefc079ae",
   "metadata": {},
   "outputs": [],
   "source": [
    "import sys\n",
    "sys.path.append('/g/data/os22/chad_tmp/Aus_phenology/src')\n",
    "from phenology_pixel import regression_attribution\n",
    "\n",
    "metrics_to_extract = ['vPOS'] #'sos', 'eos', 'los'\n",
    "\n",
    "for metric in metrics_to_extract:\n",
    "\n",
    "    if not os.path.exists(f'{base}/data/{metric}/'):\n",
    "        os.makedirs(f'{base}/data/{metric}/')\n",
    "    \n",
    "    pheno_clim={}\n",
    "    i=0\n",
    "    for index, row in gdf.iterrows():\n",
    "        # print(metric+\" {:02}/{:02}\\r\".format(i + 1, len(range(0, len(gdf)))), end=\"\")\n",
    "        if row[var] == 'East Gippsland Lowlands':\n",
    "            #open corresponding phenometrics\n",
    "            pheno = phenometrics[row[var]]\n",
    "    \n",
    "            covars = regression_attribution(pheno.to_xarray().expand_dims(latitude=[-33.0],longitude=[135.0]),\n",
    "                                  climate[row[var]].rename({'CO2':'co2'}),\n",
    "                                  template=None,\n",
    "                                  pheno_var='vPOS',\n",
    "                                  model_type='delta_slope',\n",
    "                                  modelling_vars=['co2','srad', 'rain','tavg', 'vpd']\n",
    "                                  ).compute()\n",
    "            break\n",
    "        else:\n",
    "            continue\n",
    "covars"
   ]
  },
  {
   "cell_type": "code",
   "execution_count": null,
   "id": "346303ca-6cc3-49d3-8afa-b110b446e1d9",
   "metadata": {},
   "outputs": [],
   "source": [
    "bb = xr.full_like(covars, fill_value=np.nan, dtype='float32')\n",
    "bb.to_netcdf('/g/data/os22/chad_tmp/Aus_phenology/data/templates/template_PCMCI.nc')"
   ]
  },
  {
   "cell_type": "code",
   "execution_count": null,
   "id": "42a0c080-af26-45b7-ae15-518ccddec3c4",
   "metadata": {},
   "outputs": [],
   "source": [
    "# metrics_to_extract = ['vPOS'] #'sos', 'eos', 'los'\n",
    "\n",
    "# for metric in metrics_to_extract:\n",
    "\n",
    "#     if not os.path.exists(f'{base}/data/{metric}/'):\n",
    "#         os.makedirs(f'{base}/data/{metric}/')\n",
    "    \n",
    "#     pheno_clim={}\n",
    "#     i=0\n",
    "#     for index, row in gdf.iterrows():\n",
    "#         print(metric+\" {:02}/{:02}\\r\".format(i + 1, len(range(0, len(gdf)))), end=\"\")\n",
    "    \n",
    "#         #open corresponding phenometrics\n",
    "#         pheno_df = phenometrics[row[var]].rolling(5, min_periods=5).mean().dropna()\n",
    "#         X=climate[row[var]]\n",
    "#         # Summarise climate data over length of season for IOS\n",
    "#         peaks = [pd.Timestamp(datetime.strptime(f'{int(y)} {int(doy)}', '%Y %j')) for y,doy in zip(pheno_df.POS_year, pheno_df.POS)]\n",
    "        \n",
    "#         #iterate through each pPOS and summarise climate data.\n",
    "#         # Use peak-of-year for labelling coordinates\n",
    "#         clim=[]\n",
    "#         for p,y in zip(peaks, pheno_df.POS_year):\n",
    "            \n",
    "#             #subtract months to find the month-range\n",
    "#             b = p - pd.DateOffset(months=1)\n",
    "#             s,e = b.strftime('%Y-%m'), p.strftime('%Y-%m')\n",
    "            \n",
    "#             c = X.sel(time=slice(s,e)) #select months before peak\n",
    "\n",
    "#             r = c['rain']\n",
    "#             r = r.sum('time')\n",
    "#             c = c[[x for x in modelling_vars if x != 'rain']]\n",
    "#             c = c.mean('time')\n",
    "#             c['rain'] = r\n",
    "#             c = c.drop_vars('spatial_ref')\n",
    "#             c = c.assign_coords(year=y)\n",
    "#             clim.append(c)\n",
    "\n",
    "#         #join back into a time series xarray\n",
    "#         c = xr.concat(clim, dim='year')\n",
    "\n",
    "#         break\n",
    "\n",
    "#         # "
   ]
  },
  {
   "cell_type": "markdown",
   "id": "f822d047-6c89-4f85-bf56-0f2754ac1083",
   "metadata": {},
   "source": [
    "### vPOS code"
   ]
  },
  {
   "cell_type": "code",
   "execution_count": null,
   "id": "5dc042f2-e086-42ff-a641-8072fed4cb0a",
   "metadata": {
    "jupyter": {
     "source_hidden": true
    }
   },
   "outputs": [],
   "source": [
    "def months_filter(month, start, end):\n",
    "    return (month >= start) & (month <= end)\n",
    "\n",
    "metrics_to_extract = ['vPOS'] #'sos', 'eos', 'los'\n",
    "\n",
    "for metric in metrics_to_extract:\n",
    "\n",
    "    if not os.path.exists(f'{base}/{metric}/'):\n",
    "        os.makedirs(f'{base}/{metric}/')\n",
    "    \n",
    "    pheno_clim={}\n",
    "    i=0\n",
    "    for index, row in gdf.iterrows():\n",
    "        print(metric+\" {:02}/{:02}\\r\".format(i + 1, len(range(0, len(gdf)))), end=\"\")\n",
    "    \n",
    "        #open corresponding phenometrics\n",
    "        pheno = phenometrics[row[var]]\n",
    "            \n",
    "        #find average time for POS - just use a random year\n",
    "        # doys = [int(i) for i in pheno['pos_times'].values]\n",
    "        # years = [i for i in pheno.year.values]\n",
    "        # times = [pd.Timestamp(datetime.strptime(f'{y} {d}', '%Y %j')) for y, d in zip(years,doys)]\n",
    "        mean_pos = pd.Timestamp(datetime.strptime(f'{2000} {int(pheno.POS.mean())}', '%Y %j'))\n",
    "    \n",
    "        #subtract 2 months to find the month-range for summarising climate\n",
    "        months_before = mean_pos - pd.DateOffset(months=1)\n",
    "    \n",
    "        ##NEED TO IMPROVE THIS SO WHEN MONTHS GO FROM 12-2 FOR EXAMPLE IT STILL WORKS\n",
    "        # m_r = list(range(months_before.month, mean_pos.month+1, 1))\n",
    "        m_r = months_before.month, mean_pos.month\n",
    "        # print(m_r)\n",
    "    \n",
    "        #now we meed to index the climate data by the range of months\n",
    "        trimmed_climate = climate[row[var]].sel(time=months_filter(climate[row[var]]['time.month'],\n",
    "                                                    m_r[0], m_r[-1]))\n",
    "\n",
    "        # select years in climate only in years when peaks occur \n",
    "        # trimmed_climate = trimmed_climate.sel(year=pheno['POS_year'].values)\n",
    "        \n",
    "        #calculate annual climate summary stats\n",
    "        rain=trimmed_climate['rain']\n",
    "        rain=rain.groupby('time.year').sum()\n",
    "        trimmed_climate = trimmed_climate[['CO2', 'srad', 'tavg', 'vpd', 'trees']]\n",
    "        annual_climate = trimmed_climate.groupby('time.year').mean()\n",
    "        annual_climate = annual_climate.sel(year=pheno['POS_year'].values)\n",
    "        annual_climate['rain'] = rain.sel(year=pheno['POS_year'].values)\n",
    "    \n",
    "        # join our POS metric to the climate data after updating\n",
    "        # index of our metric with the years\n",
    "        pheno[f'{metric}'].index = pheno['POS_year'].values\n",
    "        pheno[f'{metric}'].index.name = 'year'\n",
    "        annual_climate[f'{metric}'] = pheno[f'{metric}']\n",
    "        \n",
    "        # if metric != 'los':\n",
    "        #     annual_climate[f'{metric}'] = pheno[f'{metric}']\n",
    "    \n",
    "        #add to results dict\n",
    "        pheno_clim[row[var]] = annual_climate\n",
    "        i+=1\n",
    "    # #export model input data\n",
    "    for k,v in pheno_clim.items():\n",
    "        n=k.replace(\" \", \"_\")\n",
    "        pheno_clim[k].drop_vars('spatial_ref').to_dataframe().to_csv(f'{base}data/{metric}/{n}_{metric}_model_data.csv')\n",
    "        "
   ]
  },
  {
   "cell_type": "markdown",
   "id": "79dc410e-6847-436a-8c7e-ef7e660d0971",
   "metadata": {},
   "source": [
    "## Develop regressions models to predict change in phenometrics\n",
    "\n",
    "To do: extract 'trends' from each timeseries through decomposition and then regress the trends"
   ]
  },
  {
   "cell_type": "code",
   "execution_count": 6,
   "id": "4204c184-66ee-4eb6-b0cc-ac5acb3fd774",
   "metadata": {},
   "outputs": [],
   "source": [
    "path = '/g/data/os22/chad_tmp/Aus_phenology/data/vPOS/Daintree-Bloomfield_vPOS_model_data.csv'\n",
    "pheno_var= 'vPOS'"
   ]
  },
  {
   "cell_type": "markdown",
   "id": "6d26e08b-41b8-4abf-b4d7-492ec680f65e",
   "metadata": {},
   "source": [
    "### Exploratory Plot"
   ]
  },
  {
   "cell_type": "code",
   "execution_count": 7,
   "id": "3606f72a-e6e7-4eec-a56a-939e68f3f804",
   "metadata": {},
   "outputs": [
    {
     "data": {
      "image/png": "[encoded data removed]",
      "text/plain": [
       "<Figure size 1400x600 with 8 Axes>"
      ]
     },
     "metadata": {},
     "output_type": "display_data"
    }
   ],
   "source": [
    "df = pd.read_csv(path, index_col='year')\n",
    "\n",
    "df.index = [pd.Timestamp(datetime.strptime(f'{int(y)}', '%Y')) for y in df.index]\n",
    "# df = df.resample('3YE').mean()\n",
    "df = df.rolling(5, min_periods=5).mean()\n",
    "\n",
    "df = df.dropna()\n",
    "df = df[['vPOS', 'srad', 'CO2', 'rain', 'tavg', 'vpd']]\n",
    "df.plot(subplots=True, layout=(2,4), figsize=(14,6));"
   ]
  },
  {
   "cell_type": "markdown",
   "id": "b6458d2c-9718-44ae-842a-5d9f74ab68e2",
   "metadata": {
    "jp-MarkdownHeadingCollapsed": true
   },
   "source": [
    "## Tst Causal ML methods e.g. econDML"
   ]
  },
  {
   "cell_type": "code",
   "execution_count": null,
   "id": "9c2d7a0c-4d1c-433d-b4f3-13455c21adfc",
   "metadata": {},
   "outputs": [],
   "source": [
    "from econml.dml import LinearDML, CausalForestDML\n",
    "from sklearn.base import BaseEstimator, clone\n",
    "import shap\n",
    "from sklearn.ensemble import RandomForestRegressor"
   ]
  },
  {
   "cell_type": "code",
   "execution_count": null,
   "id": "3250103f-0e8e-49ed-a5d0-cb6775b456e3",
   "metadata": {},
   "outputs": [],
   "source": [
    "#first fit a model with all vars\n",
    "X = df[['CO2','rain', 'tavg', 'vpd', 'srad']]\n",
    "y = df[pheno_var]"
   ]
  },
  {
   "cell_type": "code",
   "execution_count": null,
   "id": "06c5905c-6ff0-4684-978e-b28c9feb6ad7",
   "metadata": {},
   "outputs": [],
   "source": [
    "# Run Double ML, controlling for all the other features\n",
    "def double_ml(y, causal_feature, control_features):\n",
    "    \"\"\"Use doubleML from econML to estimate the slope of the causal effect of a feature.\"\"\"\n",
    "    # rf = RandomForestRegressor(n_estimators=100, random_state = 1)\n",
    "    est = LinearDML(model_y='auto')\n",
    "    est.fit(y, causal_feature, W=control_features)\n",
    "    return est\n",
    "\n",
    "def plot_effect(effect, xs, true_ys, ylim=None):\n",
    "    \"\"\"Plot a double ML effect estimate from econML as a line.\n",
    "\n",
    "    Note that the effect estimate from double ML is an average effect *slope* not a full\n",
    "    function. So we arbitrarily draw the slope of the line as passing through the origin.\n",
    "    \"\"\"\n",
    "    plt.figure(figsize=(5, 3))\n",
    "\n",
    "    pred_xs = [xs.min(), xs.max()]\n",
    "    mid = (xs.min() + xs.max()) / 2\n",
    "    [effect.pred[0] * (xs.min() - mid), effect.pred[0] * (xs.max() - mid)]\n",
    "\n",
    "    #plt.plot(xs, true_ys - true_ys[0], label=\"True causal effect\", color=\"black\", linewidth=3)\n",
    "    point_pred = effect.point_estimate * pred_xs\n",
    "    pred_stderr = effect.stderr * np.abs(pred_xs)\n",
    "    plt.plot(\n",
    "        pred_xs,\n",
    "        point_pred - point_pred[0],\n",
    "        label=\"Double ML slope\",\n",
    "        color=shap.plots.colors.blue_rgb,\n",
    "        linewidth=3,\n",
    "    )\n",
    "    # 99.9% CI\n",
    "    plt.fill_between(\n",
    "        pred_xs,\n",
    "        point_pred - point_pred[0] - 3.291 * pred_stderr,\n",
    "        point_pred - point_pred[0] + 3.291 * pred_stderr,\n",
    "        alpha=0.2,\n",
    "        color=shap.plots.colors.blue_rgb,\n",
    "    )\n",
    "    plt.legend()\n",
    "    plt.xlabel(\"CO2\", fontsize=13)\n",
    "    plt.ylabel(\"Zero centered effect\")\n",
    "    if ylim is not None:\n",
    "        plt.ylim(*ylim)\n",
    "    plt.gca().xaxis.set_ticks_position(\"bottom\")\n",
    "    plt.gca().yaxis.set_ticks_position(\"left\")\n",
    "    plt.gca().spines[\"right\"].set_visible(False)\n",
    "    plt.gca().spines[\"top\"].set_visible(False)\n",
    "    plt.show()\n",
    "\n",
    "def marginal_effects(X, num_samples=100, columns=None, max_points=20, logit=True, seed=0):\n",
    "    \"\"\"Helper function to compute the true marginal causal effects.\"\"\"\n",
    "    if columns is None:\n",
    "        columns = X.columns\n",
    "    ys = [[] for _ in columns]\n",
    "    xs = [X[c].values for c in columns]\n",
    "    xs = np.sort(xs, axis=1)\n",
    "    xs = [xs[i] for i in range(len(xs))]\n",
    "    return list(zip(xs, ys))"
   ]
  },
  {
   "cell_type": "code",
   "execution_count": null,
   "id": "6f84ee6a-314f-4765-96fa-dc63e81f08cb",
   "metadata": {},
   "outputs": [],
   "source": [
    "# estimate the causal effect of CO2 controlling for all the other features\n",
    "causal_feature = \"CO2\"\n",
    "control_features = ['vpd', 'tavg', 'rain', 'srad']\n",
    "effect = double_ml(y, X[causal_feature], X.loc[:, control_features])"
   ]
  },
  {
   "cell_type": "code",
   "execution_count": null,
   "id": "a601d9b8-c0f9-49c6-9238-69fa58c62659",
   "metadata": {},
   "outputs": [],
   "source": [
    "# plot the estimated slope against the true effect\n",
    "xs, true_ys = marginal_effects(X, 10000, X[[causal_feature]], logit=False)[0]\n",
    "plot_effect(effect, xs, true_ys, ylim=(-0.2, 0.2))"
   ]
  },
  {
   "cell_type": "code",
   "execution_count": null,
   "id": "47f1e209-38d0-4473-a45c-6cc013aee1f5",
   "metadata": {},
   "outputs": [],
   "source": []
  },
  {
   "cell_type": "markdown",
   "id": "bf6258c4-c7c9-42d9-9c12-073e812a9f3d",
   "metadata": {},
   "source": [
    "## Causal discovery using PCMCI"
   ]
  },
  {
   "cell_type": "code",
   "execution_count": 4,
   "id": "8bd5f4ff-df5b-4d70-a01b-b39c30c012a1",
   "metadata": {},
   "outputs": [],
   "source": [
    "import tigramite\n",
    "from tigramite import plotting as tp\n",
    "from tigramite import data_processing as pp\n",
    "from tigramite.pcmci import PCMCI\n",
    "from tigramite.independence_tests.robust_parcorr import RobustParCorr"
   ]
  },
  {
   "cell_type": "code",
   "execution_count": 16,
   "id": "bb4b3921-e9dd-40f1-8bfa-3d801b20c6e9",
   "metadata": {},
   "outputs": [
    {
     "name": "stdout",
     "output_type": "stream",
     "text": [
      "Assumed links of 0: {(1, 0): 'o?o', (2, 0): 'o?o', (3, 0): 'o?o', (4, 0): 'o?o', (5, 0): 'o?o'}\n",
      "Assumed links of 1: {}\n",
      "Assumed links of 2: {(0, 0): 'o?o', (1, 0): 'o?o', (3, 0): 'o?o', (4, 0): 'o?o', (5, 0): 'o?o'}\n",
      "Assumed links of 3: {(0, 0): 'o?o', (1, 0): 'o?o', (2, 0): 'o?o', (4, 0): 'o?o', (5, 0): 'o?o'}\n",
      "Assumed links of 4: {(0, 0): 'o?o', (1, 0): 'o?o', (2, 0): 'o?o', (3, 0): 'o?o', (5, 0): 'o?o'}\n",
      "Assumed links of 5: {(0, 0): 'o?o', (1, 0): 'o?o', (2, 0): 'o?o', (3, 0): 'o?o', (4, 0): 'o?o'}\n"
     ]
    },
    {
     "data": {
      "image/png": "[encoded data removed]",
      "text/plain": [
       "<Figure size 640x480 with 1 Axes>"
      ]
     },
     "metadata": {},
     "output_type": "display_data"
    }
   ],
   "source": [
    "data = df.values\n",
    "var_names = list(df.columns)\n",
    "T, N = data.shape\n",
    "tau_max = 0\n",
    "\n",
    "# Initialize dataframe object, specify time axis and variable names\n",
    "dataframe = pp.DataFrame(df.values, \n",
    "                         datatime = df.index, \n",
    "                         var_names=var_names)\n",
    "\n",
    "\n",
    "pcmci = PCMCI(\n",
    "    dataframe=dataframe, \n",
    "    cond_ind_test=RobustParCorr(),\n",
    "    verbosity=0)\n",
    "\n",
    "# # Make solar have no parents\n",
    "idx_srad = df.columns.get_loc(\"srad\")\n",
    "link_assumptions_with_absent_link= {idx_srad: {(i, -tau):'' for i in range(N) for tau in range(0, tau_max+1) if not (i==idx_srad and tau==0)}}\n",
    "link_assumptions =  PCMCI.build_link_assumptions(link_assumptions_absent_link_means_no_knowledge=link_assumptions_with_absent_link,\n",
    "                                   n_component_time_series=N,\n",
    "                                   tau_max=tau_max,\n",
    "                                   tau_min=0)\n",
    "for j in link_assumptions:\n",
    "    print(f\"Assumed links of {j}: {link_assumptions[j]}\")\n",
    "\n",
    "pcmci.verbosity = 0\n",
    "results = pcmci.run_pcmciplus(tau_max=tau_max, pc_alpha=0.05, link_assumptions=link_assumptions)\n",
    "\n",
    "# ## because vPOS is the first column in the dataframe, if we want to extract the MCI values for vPOS we index for the first array in val_matrix\n",
    "# mci_vpos = pd.DataFrame(results['val_matrix'][0]).rename({0:'MCI partial correlations'}, axis=1).reset_index(drop=True).set_index(df.columns)\n",
    "# mci_vpos['p_value'] = pd.DataFrame(results['p_matrix'][0]).rename({0:'p_values'}, axis=1).reset_index(drop=True).set_index(df.columns)\n",
    "\n",
    "tp.plot_graph(\n",
    "    val_matrix=results['val_matrix'],\n",
    "    graph=results['graph'],\n",
    "    cmap_edges='Spectral',\n",
    "    cmap_nodes='Spectral',\n",
    "    var_names=var_names,\n",
    "    link_colorbar_label='cross-MCI',\n",
    "    node_colorbar_label='auto-MCI',\n",
    "    );"
   ]
  },
  {
   "cell_type": "code",
   "execution_count": null,
   "id": "72da43d8-ac50-4824-87a9-f8c9e7416e9a",
   "metadata": {},
   "outputs": [],
   "source": [
    "base = '/g/data/os22/chad_tmp/Aus_phenology/data/'\n",
    "metrics_to_extract = ['vPOS'] #'sos', 'eos', 'los'\n",
    "pheno_var = 'vPOS'\n",
    "for metric in metrics_to_extract:\n",
    "    files = [f for f in os.listdir(f'{base}{metric}/') if f.endswith('.csv') ]\n",
    "    files.sort()\n",
    "    print(metric)\n",
    "    \n",
    "    dffs = []\n",
    "    for f in files:\n",
    "        name = f.removesuffix('_'+metric+'_model_data.csv').replace(\"_\", \" \")\n",
    "        # print('', name)\n",
    "        \n",
    "        #open data\n",
    "        df = pd.read_csv(f'{base}{metric}/{f}', index_col='year')\n",
    "        \n",
    "        df.index = [pd.Timestamp(datetime.strptime(f'{int(y)}', '%Y')) for y in df.index]\n",
    "        # df = df.resample('3YE').mean()\n",
    "        df = df.rolling(5, min_periods=5).mean()\n",
    "        \n",
    "        df = df.dropna() \n",
    "        \n",
    "        # Initialize dataframe object, specify time axis and variable names\n",
    "        T, N = df.values.shape\n",
    "        dataframe = pp.DataFrame(df.values, \n",
    "                                 datatime=df.index, \n",
    "                                 var_names=df.columns)\n",
    "    \n",
    "        pcmci = PCMCI(\n",
    "            dataframe=dataframe, \n",
    "            cond_ind_test=RobustParCorr(),\n",
    "            verbosity=0)\n",
    "        \n",
    "        # # Make solar have no parents.\n",
    "        idx_srad = df.columns.get_loc(\"srad\")\n",
    "        link_assumptions_with_absent_link= {idx_srad: {(i, -tau):'' for i in range(N) for tau in range(0, tau_max+1) if not (i==idx_srad and tau==0)}}\n",
    "        link_assumptions =  PCMCI.build_link_assumptions(link_assumptions_with_absent_link,\n",
    "                                           n_component_time_series=N,\n",
    "                                           tau_max=tau_max,\n",
    "                                           tau_min=0)\n",
    "        \n",
    "        pcmci.verbosity = 0\n",
    "        results = pcmci.run_pcmciplus(tau_max=0, pc_alpha=0.05,\n",
    "                            link_assumptions=link_assumptions)\n",
    "\n",
    "        ## because vPOS is the first column in the dataframe, if we want to extract the MCI values for vPOS we index for the first array in val_matrix\n",
    "        fi = pd.DataFrame(results['val_matrix'][0]).rename({0:'PCMCI'}, axis=1).reset_index(drop=True).set_index(df.columns)\n",
    "        fi['p_values'] = pd.DataFrame(results['p_matrix'][0]).rename({0:'p_values'}, axis=1).reset_index(drop=True).set_index(df.columns)\n",
    "        fi = fi.loc[[fi['PCMCI'].abs().idxmax()]]\n",
    "        \n",
    "        fi = fi.reset_index().rename({'index':'feature'},axis=1)\n",
    "        fi[var] = name\n",
    "        dffs.append(fi)\n",
    "    \n",
    "    top_features = pd.concat(dffs).reset_index(drop=True)\n",
    "    gdf_with_feature = gdf.merge(top_features, on=var)\n",
    "    "
   ]
  },
  {
   "cell_type": "code",
   "execution_count": null,
   "id": "3eeaca62-174a-4e06-9675-914bcaba2885",
   "metadata": {},
   "outputs": [],
   "source": [
    "fi.index.name ='feature'"
   ]
  },
  {
   "cell_type": "code",
   "execution_count": null,
   "id": "bc99acd9-eabe-4007-a247-0d7d30083dfc",
   "metadata": {},
   "outputs": [],
   "source": [
    "['VPOS'] + ['CO2', 'rain', 'srad', 'tavg', 'vpd']"
   ]
  },
  {
   "cell_type": "code",
   "execution_count": null,
   "id": "74776276-236f-4111-8840-be12002a1c98",
   "metadata": {},
   "outputs": [],
   "source": [
    "fi.drop('vPOS').to_xarray().squeeze().expand_dims(latitude=[-33],longitude=[125])"
   ]
  },
  {
   "cell_type": "code",
   "execution_count": null,
   "id": "6e73e5b5-b632-4ad8-8514-440b087048a6",
   "metadata": {},
   "outputs": [],
   "source": [
    "colors = distinctipy.get_colors(len(df.columns)-1,rng=4, pastel_factor=0.3, colorblind_type='Deuteranomaly')\n",
    "cmap = LinearSegmentedColormap.from_list('features', colors, N=len(df.columns)-1)\n",
    "\n",
    "fig,ax=plt.subplots(1,2, figsize=(10,5), sharey=True, layout='constrained')\n",
    "\n",
    "gdf_with_feature.plot(edgecolor=\"black\", linewidth=0.05,facecolor='none', ax=ax[0])\n",
    "a = gdf_with_feature.plot(column='feature', ax=ax[0], legend=True, cmap=cmap)\n",
    "ctx.add_basemap(a, source=ctx.providers.CartoDB.VoyagerNoLabels, crs='EPSG:4326', attribution='', attribution_size=1)\n",
    "\n",
    "gdf_with_feature.plot(edgecolor=\"black\", linewidth=0.05,facecolor='none', ax=ax[1])\n",
    "a=gdf_with_feature.plot(column='PCMCI', ax=ax[1], legend=True, vmin=-0.9, vmax=0.9, cmap='Spectral', legend_kwds={'shrink':0.8})\n",
    "ctx.add_basemap(a, source=ctx.providers.CartoDB.VoyagerNoLabels, crs='EPSG:4326', attribution='', attribution_size=1)\n",
    "\n",
    "# ax[0].set_title('vPOS Slope (NDVI/yr, p<=0.0.05) 1982-2022')\n",
    "# ax[1].set_title('vPOS most important variable');\n",
    "# ax[2].set_title('Sensitivity (PCMCI)');"
   ]
  },
  {
   "cell_type": "code",
   "execution_count": null,
   "id": "0dd46b97-60ab-41aa-81c0-9f386e3bbf8d",
   "metadata": {},
   "outputs": [],
   "source": []
  },
  {
   "cell_type": "code",
   "execution_count": null,
   "id": "67c458c4-504b-4f3c-98d8-02ba600b0273",
   "metadata": {},
   "outputs": [],
   "source": []
  },
  {
   "cell_type": "code",
   "execution_count": null,
   "id": "638262d1-43d2-493b-b520-217a00b9ca97",
   "metadata": {},
   "outputs": [],
   "source": []
  },
  {
   "cell_type": "markdown",
   "id": "7aa1a847-6165-4e38-92f7-a6bf72e6cac6",
   "metadata": {},
   "source": [
    "## Iterative linear modelling\n",
    "\n",
    "To determine the impact each variable has on predicting the slope of phenometric"
   ]
  },
  {
   "cell_type": "code",
   "execution_count": null,
   "id": "7e9c42bf-4685-49c3-b857-97e8bcaa9285",
   "metadata": {},
   "outputs": [],
   "source": [
    "#first fit a model with all vars\n",
    "x = df[['CO2','rain', 'tavg', 'vpd', 'srad']]\n",
    "y = df[pheno_var]\n",
    "\n",
    "lr = PLSRegression().fit(x, y)\n",
    "# lr = BayesianRidge().fit(x, y)\n",
    "# lr = LinearRegression().fit(x, y)\n",
    "# lr = TheilSenRegressor().fit(x, y)\n",
    "prediction = lr.predict(x)\n",
    "r2_all = r2_score(y, prediction)\n",
    "\n",
    "#calculate slope of predicted variable with all params\n",
    "# s_actual, i, r, p, se = stats.linregress(df.index, y)\n",
    "result = mk.original_test(y, alpha=0.1) #\n",
    "s_actual = result.slope\n",
    "i_actual = result.intercept\n",
    "\n",
    "# s, i, r, p, se = stats.linregress(df.index, prediction)\n",
    "result_pred = mk.original_test(prediction, alpha=0.1) #\n",
    "s_prediction = result_pred.slope\n",
    "print(s_actual, s_prediction)\n",
    "print(lr.coef_)\n",
    "\n",
    "fig,ax=plt.subplots(1,1, figsize=(7,4))\n",
    "# ax.plot(y.values, label='Observed', c='tab:blue')\n",
    "y_vals = result.intercept + result.slope *range(0,len(x.index))\n",
    "ax.plot(range(0,len(x.index)), y_vals, label=f'Obs., s={s_actual:0.5f} yr\\u207B\\u00B9')\n",
    "# ax.plot(prediction, label='All')\n",
    "\n",
    "# now fit a model without a given variable\n",
    "# and calculate the slope of the phenometric\n",
    "r_delta={}\n",
    "s_delta={}\n",
    "for v in ['CO2','rain', 'tavg', 'vpd', 'srad']:\n",
    "    #set variable as constant \n",
    "    # constant = x[v].mean()\n",
    "    constant = x[v][0:1].mean()\n",
    "    xx = x.drop(v, axis=1)\n",
    "    xx[v] = constant\n",
    "\n",
    "    #model and determine slope\n",
    "    # lr = TheilSenRegressor().fit(xx, y)\n",
    "    # lr = LinearRegression().fit(xx, y)\n",
    "    # lr = BayesianRidge().fit(xx, y)\n",
    "    lrr = PLSRegression().fit(xx, y)\n",
    "    pred = lrr.predict(xx)\n",
    "    r2 = r2_score(y, pred)\n",
    "    # s_p, i, r, p, se = stats.linregress(df.index, pred)\n",
    "    resulty = mk.original_test(pred, alpha=0.1) #\n",
    "    s_p = resulty.slope\n",
    "    \n",
    "    # plt.plot(y.values, label='Real')\n",
    "    # Fx_slopes_plot(s_p, resulty.intercept, y.values, ax=ax)\n",
    "    y_vals = resulty.intercept + resulty.slope *range(0,len(x.index))\n",
    "    ax.plot(range(0,len(x.index)), y_vals, label=f'{v}, s={s_p:0.5f} yr\\u207B\\u00B9')\n",
    "    # ax.plot(pred, label=v)\n",
    "    #determine the eucliden distance between\n",
    "    #modelled slope and actual (and r2)\n",
    "    \n",
    "    s_delta[v] = math.dist((s_prediction,), (s_p,))\n",
    "    r_delta[v] = math.dist((r2_all,), (r2,))\n",
    "\n",
    "ax.plot(y.values, c='black', linestyle='--')\n",
    "ax.legend()\n",
    "# ax.plot(y.values, label='Observed', c='tab:blue')\n",
    "ax.set_xticks(ticks = range(0,40, 4), labels=range(1985,2022, 4))\n",
    "ax.set_ylabel('vPOS linear trend (NDVI)')\n",
    "ax.set_title('Daintree-Bloomfield')\n",
    "ax.grid()\n",
    "\n",
    "s_delta = pd.Series(s_delta)\n",
    "r_delta = pd.Series(r_delta)\n",
    "sensivity = pd.concat([s_delta, r_delta], axis=1).rename({0:'Slope_difference', 1:'r2_difference'}, axis=1)\n",
    "sensivity\n",
    "\n",
    "fig.savefig(f'/g/data/os22/chad_tmp/Aus_phenology/results/figs/delta_slope_methods_example.png',\n",
    "            bbox_inches='tight', dpi=300)"
   ]
  },
  {
   "cell_type": "markdown",
   "id": "cf46cb99-61d8-4ead-8456-2694aafc0c25",
   "metadata": {},
   "source": [
    "## Model causal drivers\n",
    "\n",
    "trying a couple of methods"
   ]
  },
  {
   "cell_type": "code",
   "execution_count": null,
   "id": "b3de3fd5-0fca-41d9-82fa-21f6fb4e436c",
   "metadata": {},
   "outputs": [],
   "source": [
    "base = '/g/data/os22/chad_tmp/Aus_phenology/data/'\n",
    "metrics_to_extract = ['vPOS'] #'sos', 'eos', 'los'\n",
    "pheno_var = 'vPOS'"
   ]
  },
  {
   "cell_type": "code",
   "execution_count": null,
   "id": "64c9868d-fb41-4e5e-926d-4c2be1489502",
   "metadata": {},
   "outputs": [],
   "source": [
    "# gdf = gpd.read_file('/g/data/os22/chad_tmp/Aus_phenology/data/Ecoregions2017_aus_processed.geojson')"
   ]
  },
  {
   "cell_type": "markdown",
   "id": "0ec1f03c-342f-41a2-ab76-8b71e09dd28b",
   "metadata": {},
   "source": [
    "### Using iterative linear modelling\n",
    "Delta-slope method"
   ]
  },
  {
   "cell_type": "code",
   "execution_count": null,
   "id": "f05c264f-3250-426c-bc3f-a603fae1f30b",
   "metadata": {},
   "outputs": [],
   "source": [
    "for metric in metrics_to_extract:\n",
    "    files = [f for f in os.listdir(f'{base}{metric}/') if f.endswith('.csv') ]\n",
    "    files.sort()\n",
    "    print(metric)\n",
    "    \n",
    "    dffs = []\n",
    "    for f in files:\n",
    "        name = f.removesuffix('_'+metric+'_model_data.csv').replace(\"_\", \" \")\n",
    "        # print('', name)\n",
    "        \n",
    "        #open data\n",
    "        df = pd.read_csv(f'{base}{metric}/{f}', index_col='year')\n",
    "        # df = df[[metric, 'CO2', 'rain', 'srad', 'tavg', 'vpd']]\n",
    "        df = df.rolling(5, min_periods=5).mean()\n",
    "        df = df.dropna()\n",
    "        \n",
    "        #first fit a model with all vars\n",
    "        x = df[['CO2','rain', 'tavg', 'vpd', 'srad']]\n",
    "        y = df[pheno_var]\n",
    "        lr = PLSRegression().fit(x, y)\n",
    "        prediction = lr.predict(x)\n",
    "        r2_all = r2_score(y, prediction)\n",
    "\n",
    "        # Find the robust slope of actual\n",
    "        result_actual = mk.original_test(y, alpha=0.1) #\n",
    "        p_actual = result_actual.p\n",
    "        s_actual = result_actual.slope\n",
    "        \n",
    "        #calculate slope of predicted variable with all params\n",
    "        result_prediction = mk.original_test(prediction, alpha=0.1) #\n",
    "        p_prediction = result_prediction.p\n",
    "        s_prediction = result_prediction.slope\n",
    "\n",
    "        # now fit a model without a given variable\n",
    "        # and calculate the slope of the phenometric\n",
    "        r_delta={}\n",
    "        s_delta={}\n",
    "        for v in ['CO2', 'rain', 'tavg', 'vpd', 'srad']:\n",
    "            #set variable of interest as a constant value \n",
    "            constant = x[v].mean()\n",
    "            xx = x.drop(v, axis=1)\n",
    "            xx[v] = constant\n",
    "        \n",
    "            #model and determine slope\n",
    "            lrr = PLSRegression().fit(xx, y)\n",
    "            pred = lrr.predict(xx)\n",
    "            r2 = r2_score(y, pred)\n",
    "            \n",
    "            result_p = mk.original_test(pred, alpha=0.1)\n",
    "            s_p = result_p.slope\n",
    "\n",
    "            #determine the eucliden distance between\n",
    "            #modelled slope and actual slope (and r2)\n",
    "            s_delta[v] = math.dist((s_prediction,), (s_p,))\n",
    "            r_delta[v] = math.dist((r2_all,), (r2,))\n",
    "\n",
    "        #determine most important feature\n",
    "        s_delta = pd.Series(s_delta)\n",
    "        r_delta = pd.Series(r_delta)\n",
    "        fi = pd.concat([s_delta, r_delta], axis=1).rename({0:'slope_difference', 1:'r2_difference'}, axis=1)\n",
    "        fi = fi.loc[[fi['slope_difference'].idxmax()]]\n",
    "        fi = fi.reset_index().rename({'index':'feature'},axis=1)\n",
    "\n",
    "        #create tidy df\n",
    "        fi[var] = name\n",
    "        fi['phenometric'] = pheno_var\n",
    "        fi['slope_actual'] = s_actual\n",
    "        fi['slope_modelled'] = s_prediction\n",
    "        fi['p_values'] = p_actual\n",
    "        fi['r2'] = r2_all\n",
    "        dffs.append(fi)\n",
    "    \n",
    "    top_features = pd.concat(dffs).reset_index(drop=True)\n",
    "    gdf_with_feature = gdf.merge(top_features, on=var)\n",
    "      "
   ]
  },
  {
   "cell_type": "markdown",
   "id": "7aa778ad-03a2-4e24-9cf9-b1618239be04",
   "metadata": {},
   "source": [
    "### Plot slope method"
   ]
  },
  {
   "cell_type": "code",
   "execution_count": null,
   "id": "6782c2d6-1b17-4851-82b1-3eca9e17f0a5",
   "metadata": {},
   "outputs": [],
   "source": [
    "colors = distinctipy.get_colors(len(x.columns),rng=4, pastel_factor=0.3, colorblind_type='Deuteranomaly')\n",
    "cmap = LinearSegmentedColormap.from_list('features', colors, N=len(x.columns))"
   ]
  },
  {
   "cell_type": "code",
   "execution_count": null,
   "id": "921c3eaf-7c72-4ed0-a632-7f16ea0bea16",
   "metadata": {},
   "outputs": [],
   "source": [
    "fig,ax=plt.subplots(1,3, figsize=(18,5), sharey=True, layout='constrained')\n",
    "\n",
    "significant = gdf_with_feature[gdf_with_feature['p_values'] <= 0.05]\n",
    "\n",
    "gdf_with_feature.plot(edgecolor=\"black\", linewidth=0.05,facecolor='none', ax=ax[0])\n",
    "a=significant.plot(column='slope_actual', ax=ax[0], legend=True, cmap='BrBG', vmax=0.0015,\n",
    "                   vmin=-0.0015, legend_kwds={'shrink':0.8}) #  edgecolor=\"black\", linewidth=0.1 cmap='BrBG',\n",
    "ctx.add_basemap(a, source=ctx.providers.CartoDB.VoyagerNoLabels, crs='EPSG:4326', attribution='', attribution_size=1)\n",
    "\n",
    "gdf_with_feature.plot(edgecolor=\"black\", linewidth=0.05,facecolor='none', ax=ax[1])\n",
    "\n",
    "a=significant.plot(column='feature', ax=ax[1], legend=True, cmap=cmap) # \n",
    "ctx.add_basemap(a, source=ctx.providers.CartoDB.VoyagerNoLabels, crs='EPSG:4326', attribution='', attribution_size=1)\n",
    "\n",
    "gdf_with_feature.plot(edgecolor=\"black\", linewidth=0.05,facecolor='none', ax=ax[2])\n",
    "a=significant.plot(column='slope_difference', ax=ax[2], legend=True,  vmin=0, vmax=0.0014, cmap='magma', legend_kwds={'shrink':0.8})\n",
    "ctx.add_basemap(a, source=ctx.providers.CartoDB.VoyagerNoLabels, crs='EPSG:4326', attribution='', attribution_size=1)\n",
    "\n",
    "ax[0].set_title('vPOS Slope (NDVI/yr, p<=0.05) 1982-2022')\n",
    "ax[1].set_title('vPOS most important variable');\n",
    "ax[2].set_title('Sensitivity ('+u'Δslope'+')');"
   ]
  },
  {
   "cell_type": "markdown",
   "id": "93e62783-820b-4e46-b0b6-1ebe8af835f9",
   "metadata": {},
   "source": [
    "### Relationship between environmental gradients and CO2 sensitivity"
   ]
  },
  {
   "cell_type": "code",
   "execution_count": null,
   "id": "5423b715-1fd4-45a0-9947-690d7458f4fe",
   "metadata": {},
   "outputs": [],
   "source": [
    "mi = xr.open_dataarray('/g/data/os22/chad_tmp/Aus_phenology/data/MI_1982_2022.nc')\n",
    "mi = mi.mean('time')\n",
    "mi = assign_crs(mi, crs='EPSG:4326')\n",
    "mi = mi.rename('P:PET')\n",
    "mi = xr.where(mi>3, np.nan, mi) #remove extreme values"
   ]
  },
  {
   "cell_type": "code",
   "execution_count": null,
   "id": "00b3f526-a3a1-49e2-84f8-f8f7fa31c2b5",
   "metadata": {},
   "outputs": [],
   "source": [
    "results={}\n",
    "for index,row in significant.iterrows():\n",
    "\n",
    "    #mask the wcf and mi datasets\n",
    "    geom = Geometry(geom=row.geometry, crs=significant.crs)\n",
    "    moist = mi.odc.mask(poly=geom)\n",
    "    moist = moist.mean(['latitude','longitude']).values.item()\n",
    "\n",
    "    results[row.SUB_NAME_7] = moist\n",
    "\n",
    "results = pd.Series(results,name='P:PET')\n",
    "significant = significant.join(results, on='SUB_NAME_7')"
   ]
  },
  {
   "cell_type": "code",
   "execution_count": null,
   "id": "ebbf5eba-8fac-4f79-8f20-bfac3f3eb681",
   "metadata": {},
   "outputs": [],
   "source": [
    "fig,ax=plt.subplots(1,1, figsize=(5,4),  layout='constrained', sharey=True, sharex=True)\n",
    "\n",
    "obs,pred = significant['P:PET'].values, significant['slope_difference'].values\n",
    "mask = ~np.isnan(obs) & ~np.isnan(pred)\n",
    "sl, i, r, p, s = stats.linregress(obs,pred)\n",
    "r2 = r**2\n",
    "\n",
    "xy = np.vstack([obs[mask],pred[mask]])\n",
    "z = gaussian_kde(xy)(xy)\n",
    "\n",
    "sb.scatterplot(data=significant, x='P:PET',y='slope_difference', alpha=0.5, ax=ax, c=z)\n",
    "sb.regplot(data=significant, x='P:PET',y='slope_difference',  scatter=False,\n",
    "           line_kws={'linewidth':1}, color='black', ax=ax, robust=True)\n",
    "# ax.set_ylim(-0.006, 0.006)\n",
    "ax.set_title(u'Δslope'+' method')\n",
    "ax.set_ylabel('CO2 Sensitivity ('+u'Δslope'+')')\n",
    "# ax.axhline(0, color='grey', linestyle='--')\n",
    "ax.text(.70, .90, 'r\\N{SUPERSCRIPT TWO}={:.2f}'.format(r2),\n",
    "        transform=ax.transAxes, fontsize=12)\n",
    "ax.text(.70, .825, 'p={:.3f}'.format(p), transform=ax.transAxes, fontsize=12)"
   ]
  },
  {
   "cell_type": "markdown",
   "id": "2a84bb31-1e2f-4d64-a69d-ea4f681f8377",
   "metadata": {},
   "source": [
    "### Partial least squares regression coefficients methods"
   ]
  },
  {
   "cell_type": "code",
   "execution_count": null,
   "id": "d33fd3c8-b90c-4179-a416-a54d90e8444f",
   "metadata": {},
   "outputs": [],
   "source": [
    "for metric in metrics_to_extract:\n",
    "    files = [f for f in os.listdir(f'{base}{metric}/') if f.endswith('.csv') ]\n",
    "    files.sort()\n",
    "    print(metric)\n",
    "    \n",
    "    dffs = []\n",
    "    for f in files:\n",
    "        name = f.removesuffix('_'+metric+'_model_data.csv').replace(\"_\", \" \")\n",
    "        # print('', name)\n",
    "        \n",
    "        #open data\n",
    "        df = pd.read_csv(f'{base}{metric}/{f}', index_col='year')\n",
    "        # df = df[[metric, 'CO2', 'rain', 'srad', 'tavg', 'vpd']]\n",
    "        df = df.rolling(5, min_periods=5).mean()\n",
    "        df = df.dropna()\n",
    "        \n",
    "        #first fit a model with all vars\n",
    "        x = df[['CO2','rain', 'tavg', 'vpd', 'srad']]\n",
    "        y = df[pheno_var]\n",
    "        lr = PLSRegression().fit(x, y)\n",
    "        prediction = lr.predict(x)\n",
    "        r2_all = r2_score(y, prediction)\n",
    "\n",
    "        # Find the robust slope of actual\n",
    "        result_actual = mk.original_test(y, alpha=0.1) #\n",
    "        p_actual = result_actual.p\n",
    "        s_actual = result_actual.slope\n",
    "        \n",
    "        #calculate slope of predicted variable with all params\n",
    "        result_prediction = mk.original_test(prediction, alpha=0.1) #\n",
    "        p_prediction = result_prediction.p\n",
    "        s_prediction = result_prediction.slope\n",
    "\n",
    "        fi = pd.Series(dict(zip(list(x.columns), list(lr.coef_.reshape(len(x.columns)))))).to_frame()\n",
    "        fi = fi.rename({0:'PLS_coefficent'},axis=1)\n",
    "        \n",
    "        # fi = pd.concat([s_delta, r_delta], axis=1).rename({0:'slope_difference', 1:'r2_difference'}, axis=1)\n",
    "        fi = fi.loc[[fi['PLS_coefficent'].abs().idxmax()]]\n",
    "        fi = fi.reset_index().rename({'index':'feature'},axis=1)\n",
    "\n",
    "        # #create tidy df\n",
    "        fi[var] = name\n",
    "        fi['phenometric'] = pheno_var\n",
    "        fi['slope_actual'] = s_actual\n",
    "        fi['slope_modelled'] = s_prediction\n",
    "        fi['p_values'] = p_actual\n",
    "        fi['r2'] = r2_all\n",
    "        dffs.append(fi)\n",
    "\n",
    "    top_features = pd.concat(dffs).reset_index(drop=True)\n",
    "    gdf_with_feature = gdf.merge(top_features, on=var)\n",
    "    "
   ]
  },
  {
   "cell_type": "markdown",
   "id": "cdb4cb9f-a05e-4969-9ff2-7ea114818154",
   "metadata": {},
   "source": [
    "### Plot PLS coefficient method"
   ]
  },
  {
   "cell_type": "code",
   "execution_count": null,
   "id": "d9984030-7c32-4d1e-8a3e-0fc1cc80d564",
   "metadata": {},
   "outputs": [],
   "source": [
    "fig,ax=plt.subplots(1,3, figsize=(18,5), sharey=True, layout='constrained')\n",
    "\n",
    "significant = gdf_with_feature[gdf_with_feature['p_values'] <= 0.05]\n",
    "\n",
    "gdf_with_feature.plot(edgecolor=\"black\", linewidth=0.05,facecolor='none', ax=ax[0])\n",
    "a=significant.plot(column='slope_actual', ax=ax[0], legend=True, cmap='BrBG', vmax=0.002,\n",
    "                   vmin=-0.002, legend_kwds={'shrink':0.8}) #  edgecolor=\"black\", linewidth=0.1 cmap='BrBG',\n",
    "ctx.add_basemap(a, source=ctx.providers.CartoDB.VoyagerNoLabels, crs='EPSG:4326', attribution='', attribution_size=1)\n",
    "\n",
    "gdf_with_feature.plot(edgecolor=\"black\", linewidth=0.05,facecolor='none', ax=ax[1])\n",
    "\n",
    "# colors = distinctipy.get_colors(len(significant.feature.value_counts()),rng=1, colorblind_type='Deuteranomaly', pastel_factor=0.3)\n",
    "# cmap = LinearSegmentedColormap.from_list('features', colors, N=len(significant.feature.value_counts()))\n",
    "\n",
    "a=significant.plot(column='feature', ax=ax[1], legend=True, cmap=cmap)\n",
    "ctx.add_basemap(a, source=ctx.providers.CartoDB.VoyagerNoLabels, crs='EPSG:4326', attribution='', attribution_size=1)\n",
    "\n",
    "gdf_with_feature.plot(edgecolor=\"black\", linewidth=0.05,facecolor='none', ax=ax[2])\n",
    "a=significant.plot(column='PLS_coefficent', ax=ax[2], legend=True, vmin=-0.025, vmax=0.025, cmap='Spectral', legend_kwds={'shrink':0.8})\n",
    "ctx.add_basemap(a, source=ctx.providers.CartoDB.VoyagerNoLabels, crs='EPSG:4326', attribution='', attribution_size=1)\n",
    "\n",
    "ax[0].set_title('vPOS Slope (NDVI/yr, p<=0.0.05) 1982-2022')\n",
    "ax[1].set_title('vPOS most important variable');\n",
    "ax[2].set_title('Sensitivity (PLS coefficient)');"
   ]
  },
  {
   "cell_type": "code",
   "execution_count": null,
   "id": "5fea000b-1b92-477e-9be2-063d704e27d9",
   "metadata": {},
   "outputs": [],
   "source": [
    "gdf_with_feature"
   ]
  },
  {
   "cell_type": "code",
   "execution_count": null,
   "id": "8cfacee6-54db-448f-9d98-8b3f77b9daf7",
   "metadata": {},
   "outputs": [],
   "source": [
    "co2_significant = significant[significant['feature'] == 'CO2']"
   ]
  },
  {
   "cell_type": "code",
   "execution_count": null,
   "id": "c983c712-5d1b-4a14-b0cb-d8fcfdbae2a5",
   "metadata": {},
   "outputs": [],
   "source": [
    "results={}\n",
    "for index,row in co2_significant.iterrows():\n",
    "\n",
    "    #mask the wcf and mi datasets\n",
    "    geom = Geometry(geom=row.geometry, crs=co2_significant.crs)\n",
    "    moist = mi.odc.mask(poly=geom)\n",
    "    moist = moist.mean(['latitude','longitude']).values.item()\n",
    "\n",
    "    results[row.SUB_NAME_7] = moist\n",
    "\n",
    "results = pd.Series(results,name='P:PET')\n",
    "co2_significant = co2_significant.join(results, on='SUB_NAME_7')"
   ]
  },
  {
   "cell_type": "code",
   "execution_count": null,
   "id": "983829a6-467a-45a6-8749-2462406a96f6",
   "metadata": {},
   "outputs": [],
   "source": [
    "fig,ax=plt.subplots(1,1, figsize=(5,4),  layout='constrained', sharey=True, sharex=True)\n",
    "\n",
    "obs,pred = co2_significant['P:PET'].values, co2_significant['PLS_coefficent'].values\n",
    "mask = ~np.isnan(obs) & ~np.isnan(pred)\n",
    "sl, i, r, p, s = stats.linregress(obs,pred)\n",
    "r2 = r**2\n",
    "\n",
    "xy = np.vstack([obs[mask],pred[mask]])\n",
    "z = gaussian_kde(xy)(xy)\n",
    "\n",
    "sb.scatterplot(data=co2_significant, x='P:PET',y='PLS_coefficent', alpha=0.5, ax=ax, c=z)\n",
    "sb.regplot(data=co2_significant, x='P:PET',y='PLS_coefficent',  scatter=False,\n",
    "           line_kws={'linewidth':1}, color='black', ax=ax, robust=True)\n",
    "# ax.set_ylim(-0.006, 0.006)\n",
    "ax.set_title('PLS method')\n",
    "ax.set_ylabel('CO2 Sensitivity PLS method')\n",
    "# ax.axhline(0, color='grey', linestyle='--')\n",
    "ax.text(.70, .90, 'r\\N{SUPERSCRIPT TWO}={:.2f}'.format(r2),\n",
    "        transform=ax.transAxes, fontsize=12)\n",
    "ax.text(.70, .825, 'p={:.3f}'.format(p), transform=ax.transAxes, fontsize=12)"
   ]
  },
  {
   "cell_type": "markdown",
   "id": "3c31853d-d4c6-4fb0-9166-b23b7c428311",
   "metadata": {},
   "source": [
    "### Create a ML model\n",
    "\n",
    "And use Shap feature importance to determine most important features"
   ]
  },
  {
   "cell_type": "code",
   "execution_count": null,
   "id": "0b2aaffb-9310-4ab2-b017-842a7da95487",
   "metadata": {},
   "outputs": [],
   "source": [
    "import shap\n",
    "from sklearn.metrics import r2_score, mean_squared_error\n",
    "from sklearn.ensemble import RandomForestRegressor\n"
   ]
  },
  {
   "cell_type": "code",
   "execution_count": null,
   "id": "9049d28b-4ff5-4310-b170-893cc5274c6c",
   "metadata": {},
   "outputs": [],
   "source": [
    "path = '/g/data/os22/chad_tmp/Aus_phenology/data/vPOS/East_Gippsland_Lowlands_vPOS_model_data.csv'\n",
    "pheno_var= 'vPOS'"
   ]
  },
  {
   "cell_type": "markdown",
   "id": "d997d1f8-b9c9-4c80-9cb8-a6d650f61b3b",
   "metadata": {},
   "source": [
    "### Exploratory Plot"
   ]
  },
  {
   "cell_type": "code",
   "execution_count": null,
   "id": "4055ce41-07b6-45fc-9b67-2d1838fdb27e",
   "metadata": {},
   "outputs": [],
   "source": [
    "df = pd.read_csv(path, index_col='year')\n",
    "df = df.rolling(5, min_periods=1).mean()\n",
    "# df = df.dropna()\n",
    "# df = df[['vPOS', 'pos_times', 'CO2', 'rain', 'srad', 'tavg', 'vpd']]\n",
    "df.plot(subplots=True, layout=(2,4), figsize=(14,6));"
   ]
  },
  {
   "cell_type": "code",
   "execution_count": null,
   "id": "6c64904d-2481-4ac1-8410-6348639d85e8",
   "metadata": {},
   "outputs": [],
   "source": [
    "x = df[['CO2','rain', 'tavg', 'vpd', 'srad']]\n",
    "y = df[pheno_var]\n",
    "\n",
    "rf = RandomForestRegressor(n_estimators=300, random_state = 1).fit(x, y)\n",
    "prediction = rf.predict(x)\n",
    "# mse = mean_squared_error(y, prediction)\n",
    "# rmse = mse**.5\n",
    "# r2 = r2_score(y, prediction)\n",
    "# print(r2)\n",
    "\n",
    "# Lets plot the predictions versus the real values\n",
    "plt.plot(y.values, label='Real')\n",
    "plt.plot(prediction)"
   ]
  },
  {
   "cell_type": "code",
   "execution_count": null,
   "id": "e7b7d07e-1d62-452b-accb-e01e6f62020c",
   "metadata": {},
   "outputs": [],
   "source": [
    "x = df[['CO2','rain', 'tavg', 'vpd', 'srad']]\n",
    "y = df[pheno_var]\n",
    "\n",
    "rf = RandomForestRegressor(n_estimators=100).fit(x, y)\n",
    "explainer = shap.Explainer(rf)\n",
    "shap_values = explainer(x)\n",
    "\n",
    "df_shap = pd.DataFrame(data=shap_values.values,columns=x.columns)\n",
    "df_fi = pd.DataFrame(columns=['feature','importance'])\n",
    "for col in df_shap_values.columns:\n",
    "    importance = df_shap_values[col].abs().mean()\n",
    "    df_fi.loc[len(df_fi)] = [col,importance]\n",
    "\n",
    "ds_fi = df_fi.set_index('feature').to_xarray()\n",
    "ds_fi"
   ]
  },
  {
   "cell_type": "code",
   "execution_count": null,
   "id": "a07c5df4-3d2c-4d99-8398-4cb7a0450ffd",
   "metadata": {},
   "outputs": [],
   "source": [
    "ds_fi"
   ]
  },
  {
   "cell_type": "code",
   "execution_count": null,
   "id": "3ed5d428-7751-4f4d-9cf7-a91c93df8e05",
   "metadata": {},
   "outputs": [],
   "source": [
    "explainer = shap.Explainer(rf)\n",
    "shap_values = explainer(x)\n",
    "\n",
    "# fig, ax = plt.subplots(1,1, figsize=(5,7))\n",
    "shap.plots.bar(shap_values, max_display=10, show=True)\n",
    "# ax = plt.gca() "
   ]
  },
  {
   "cell_type": "markdown",
   "id": "92779080-525e-4ede-9897-c0fc5ff9a711",
   "metadata": {},
   "source": [
    "## Test causal networks"
   ]
  },
  {
   "cell_type": "code",
   "execution_count": null,
   "id": "a3a9aac5-6aaf-4d9b-a7dd-a2b5a31ff930",
   "metadata": {},
   "outputs": [],
   "source": [
    "# import tigramite\n",
    "# from tigramite import data_processing as pp\n",
    "# from tigramite import plotting as tp\n",
    "# from tigramite.pcmci import PCMCI\n",
    "# from tigramite.independence_tests.parcorr import ParCorr"
   ]
  },
  {
   "cell_type": "code",
   "execution_count": null,
   "id": "b685e026-9aec-4b95-bc5d-6766ab4677f1",
   "metadata": {},
   "outputs": [],
   "source": [
    "# df = df[['pos_values','CO2', 'rain', 'tavg', 'vpd','srad']]\n",
    "# data = df.values\n",
    "# T, N = data.shape\n",
    "# var_names = list(df.columns)\n",
    "\n",
    "# # Initialize dataframe object, specify time axis and variable names\n",
    "# dataframe = pp.DataFrame(data, \n",
    "#                          datatime = {0:np.arange(len(data))}, \n",
    "#                          var_names=var_names)\n",
    "\n",
    "# # tp.plot_timeseries(dataframe, figsize=(15, 5));\n",
    "\n",
    "# parcorr = ParCorr(significance='analytic')\n",
    "# pcmci = PCMCI(\n",
    "#     dataframe=dataframe, \n",
    "#     cond_ind_test=parcorr,\n",
    "#     verbosity=1)\n",
    "\n",
    "# correlations = pcmci.run_bivci(tau_max=1, val_only=True)['val_matrix']\n",
    "# matrix_lags = np.argmax(np.abs(correlations), axis=2)\n",
    "\n",
    "# # tp.plot_densityplots(dataframe=dataframe, setup_args={'figsize':(15, 10)}, add_densityplot_args={'matrix_lags':matrix_lags}); plt.show()\n",
    "\n",
    "# tau_max = 0\n",
    "# pc_alpha = 0.01\n",
    "# pcmci.verbosity = 0\n",
    "\n",
    "# results = pcmci.run_pcmciplus(tau_min=0, tau_max=tau_max, pc_alpha=pc_alpha)"
   ]
  },
  {
   "cell_type": "code",
   "execution_count": null,
   "id": "0283a581-a7e6-47e0-8f03-7bca3c369ee0",
   "metadata": {},
   "outputs": [],
   "source": [
    "# print(\"MCI partial correlations\")\n",
    "# print(results['val_matrix'].round(2))"
   ]
  },
  {
   "cell_type": "code",
   "execution_count": null,
   "id": "10ec9a10-9487-41fc-a84e-0d7da75a7789",
   "metadata": {},
   "outputs": [],
   "source": [
    "# tp.plot_graph(\n",
    "#     figsize=(8,4),\n",
    "#     val_matrix=results['val_matrix'],\n",
    "#     graph=results['graph'],\n",
    "#     var_names=var_names,\n",
    "#     link_colorbar_label='cross-MCI (edges)',\n",
    "#     node_colorbar_label='auto-MCI (nodes)',\n",
    "#     ); plt.show()"
   ]
  },
  {
   "cell_type": "code",
   "execution_count": null,
   "id": "9daa9be3-df0d-458c-be0d-ee6337199c20",
   "metadata": {},
   "outputs": [],
   "source": []
  },
  {
   "cell_type": "code",
   "execution_count": null,
   "id": "3ae66afe-1291-421f-b3ee-6747f9ba350b",
   "metadata": {},
   "outputs": [],
   "source": []
  },
  {
   "cell_type": "code",
   "execution_count": null,
   "id": "d99ff2c6-94e4-4416-b87f-4249c3f6ab47",
   "metadata": {},
   "outputs": [],
   "source": []
  },
  {
   "cell_type": "code",
   "execution_count": null,
   "id": "63972f39-8769-42c8-81e1-ef6265fbca6f",
   "metadata": {},
   "outputs": [],
   "source": [
    "# ncpus=10\n",
    "# def clim_timeseries(row, ds, results_dict):\n",
    "#     # clip to ecoregion\n",
    "#     geom = Geometry(geom=row.geometry, crs=gdf.crs)\n",
    "#     yy = ds.odc.mask(poly=geom)\n",
    "    \n",
    "#     #summarise into 1d timeseries\n",
    "#     yy = yy.mean(['latitude', 'longitude'])\n",
    "\n",
    "#     results_dict[row.ECO_NAME] = yy\n",
    "\n",
    "# # parallel function for above function\n",
    "# def _parallel_fun(df, ds, ncpus):\n",
    "\n",
    "#     manager = mp.Manager()\n",
    "#     results_dict = manager.dict()\n",
    "\n",
    "#     # progress bar\n",
    "#     pbar = tqdm(total=len(gdf))\n",
    "\n",
    "#     def update(*a):\n",
    "#         pbar.update()\n",
    "\n",
    "#     with mp.Pool(ncpus) as pool:\n",
    "#         for index, row in df.iterrows():\n",
    "#             pool.apply_async(\n",
    "#                 clim_timeseries,\n",
    "#                 [row, ds, results_dict],\n",
    "#                 callback=update,\n",
    "#             )\n",
    "        \n",
    "#         pool.close()\n",
    "#         pool.join()\n",
    "#         pbar.close()\n",
    "\n",
    "#     return results_dict\n",
    "\n",
    "# # run the parallel function\n",
    "# results_clim = _parallel_fun(gdf, climate, ncpus=ncpus)\n",
    "# results_clim = results_clim._getvalue() #bring into memory\n",
    "\n",
    "# run the sequential function\n",
    "# results_dict={}\n",
    "# for index, row in gdf.iterrows():\n",
    "#     results_clim = clim_timeseries(row, climate, results_dict)"
   ]
  }
 ],
 "metadata": {
  "kernelspec": {
   "display_name": "Python 3 (ipykernel)",
   "language": "python",
   "name": "python3"
  },
  "language_info": {
   "codemirror_mode": {
    "name": "ipython",
    "version": 3
   },
   "file_extension": ".py",
   "mimetype": "text/x-python",
   "name": "python",
   "nbconvert_exporter": "python",
   "pygments_lexer": "ipython3",
   "version": "3.10.0"
  }
 },
 "nbformat": 4,
 "nbformat_minor": 5
}
