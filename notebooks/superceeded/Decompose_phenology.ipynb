{
 "cells": [
  {
   "cell_type": "markdown",
   "id": "527d2c3f-0abd-439c-9484-87dd2d20d775",
   "metadata": {},
   "source": [
    "# Phenology of recurrent and persistent fractions\n",
    "\n",
    "Following Donohue 2009 and Henriques 2024\n",
    "\n",
    "https://agupubs.onlinelibrary.wiley.com/doi/full/10.1029/2023JG007993"
   ]
  },
  {
   "cell_type": "code",
   "execution_count": 1,
   "id": "03938ddc-fd7f-4f4e-b23b-c56c38030c7b",
   "metadata": {},
   "outputs": [
    {
     "name": "stderr",
     "output_type": "stream",
     "text": [
      "Dask configuration key 'ucx' has been deprecated; please use 'distributed.comm.ucx' instead\n",
      "Dask configuration key 'distributed.scheduler.transition-log-length' has been deprecated; please use 'distributed.admin.low-level-log-length' instead\n",
      "Dask configuration key 'distributed.comm.recent-messages-log-length' has been deprecated; please use 'distributed.admin.low-level-log-length' instead\n"
     ]
    }
   ],
   "source": [
    "import sys\n",
    "import pickle\n",
    "import warnings\n",
    "import numpy as np\n",
    "import xarray as xr\n",
    "import pandas as pd\n",
    "import scipy.signal\n",
    "import geopandas as gpd\n",
    "import matplotlib.pyplot as plt\n",
    "from odc.geo.geom import Geometry\n",
    "from odc.geo.xr import assign_crs\n",
    "\n",
    "sys.path.append('/g/data/os22/chad_tmp/Aus_phenology/src')\n",
    "from phenology_pixel import _extract_peaks_troughs, xr_phenometrics"
   ]
  },
  {
   "cell_type": "code",
   "execution_count": null,
   "id": "44588fcf-42ba-411e-9329-9d882a825b4e",
   "metadata": {},
   "outputs": [],
   "source": [
    "# # Savitsky-Golay smoothing function\n",
    "def sg_smooth(ds, window, poly, deriv):\n",
    "    return xr.apply_ufunc(\n",
    "        scipy.signal.savgol_filter,\n",
    "        ds,\n",
    "        input_core_dims=[['time']],\n",
    "        output_core_dims=[['time']],\n",
    "        kwargs=dict(\n",
    "            window_length=window,\n",
    "            polyorder=poly,\n",
    "            deriv=deriv,\n",
    "            mode='interp'),\n",
    "        dask='parallelized'\n",
    "    )"
   ]
  },
  {
   "cell_type": "code",
   "execution_count": null,
   "id": "113cbf50-bf3c-463c-8c75-040c8ea774f4",
   "metadata": {},
   "outputs": [],
   "source": [
    "ecoregions_file = '/g/data/os22/chad_tmp/Aus_phenology/data/vectors/IBRAv7_subregions_modified.geojson'\n",
    "gdf = gpd.read_file(ecoregions_file)"
   ]
  },
  {
   "cell_type": "code",
   "execution_count": null,
   "id": "bbea4fa8-6205-486b-9b1f-dafe2ea49c7d",
   "metadata": {},
   "outputs": [],
   "source": [
    "k = 'Weipa Plateau'"
   ]
  },
  {
   "cell_type": "code",
   "execution_count": null,
   "id": "ef8e0487-0ae5-4fe7-aa3f-386677c97463",
   "metadata": {},
   "outputs": [],
   "source": [
    "# ds = assign_crs(xr.open_dataset('/g/data1a/os22/chad_tmp/Aus_phenology/data/trees_fraction.nc'), crs='epsg:4326')['trees']\n",
    "ds = assign_crs(xr.open_dataset('/g/data1a/os22/chad_tmp/Aus_phenology/data/grass_fraction.nc'), crs='epsg:4326')['grass']\n",
    "\n",
    "#bare soil NDVI data\n",
    "ss_path = f'/g/data/xc0/project/AusEFlux/data/ndvi_of_baresoil_5km.nc'\n",
    "ss = assign_crs(xr.open_dataarray(ss_path), crs='epsg:4326')\n",
    "ss.name = 'NDVI'"
   ]
  },
  {
   "cell_type": "code",
   "execution_count": null,
   "id": "e8dfc4fd-2f9a-4362-b0a3-0869d89e20de",
   "metadata": {},
   "outputs": [],
   "source": [
    "#bare soil NDVI clip to region\n",
    "geom = Geometry(geom=gdf[gdf['SUB_NAME_7'] == k].geometry.item(), crs=gdf.crs)\n",
    "soil = ss.odc.mask(poly=geom)\n",
    "soil = soil.mean().values.item()\n",
    "\n",
    "ds = ds.odc.mask(poly=geom)\n",
    "\n",
    "ds = ds.mean(['latitude', 'longitude'])\n",
    "ds = ds.resample(time=\"2W\").interpolate(\"linear\")\n",
    "ds = sg_smooth(ds,window=11, poly=3, deriv=0)\n",
    "ds =ds.dropna(dim='time',how='all').resample(time='1D').interpolate(kind='quadratic')\n",
    "\n",
    "ds = ds.expand_dims(latitude=[-33.0],longitude=[135.0])\n",
    "ds"
   ]
  },
  {
   "cell_type": "code",
   "execution_count": null,
   "id": "678ad6c2-09ea-4af3-813b-bae3ea5e86e8",
   "metadata": {},
   "outputs": [],
   "source": [
    "#apply pheno\n",
    "p = xr_phenometrics(ds,\n",
    "                rolling=90,\n",
    "                distance=90,\n",
    "                prominence='auto',\n",
    "                plateau_size=10,\n",
    "                amplitude=0.2,\n",
    "                verbose=True,\n",
    "                soil_signal=soil,\n",
    "                   ).compute()\n",
    "\n",
    "p = p.squeeze().drop_vars(['latitude','longitude']).to_dataframe()"
   ]
  },
  {
   "cell_type": "code",
   "execution_count": null,
   "id": "89cb22e9-bdda-40ca-b0e6-7ab6b24c09ef",
   "metadata": {},
   "outputs": [],
   "source": [
    "fig,ax = plt.subplots(1,1, figsize=(12,5))\n",
    "\n",
    "ds.plot(ax=ax, color='tab:blue', linestyle='--', linewidth=0.9, label='Daily NDVI') #.sel(time=slice('1997','2016'))\n",
    "# ax.set_ylim(0.25,0.5)\n",
    "ax.scatter(x=[pd.to_datetime(d-1, unit='D', origin=str(int(y))) for d,y in zip(p.SOS.values, p.SOS_year.values)],\n",
    "           y=p.vSOS,\n",
    "          c='tab:green', label='SOS', zorder=10)\n",
    "\n",
    "ax.scatter(x=[pd.to_datetime(d-1, unit='D', origin=str(int(y))) for d,y in zip(p.EOS.values, p.EOS_year.values)],\n",
    "           y=p.vEOS,\n",
    "          c='tab:purple', label='EOS', zorder=10)\n",
    "\n",
    "ax.scatter(x=[pd.to_datetime(d-1, unit='D', origin=str(int(y))) for d,y in zip(p.POS.values, p.POS_year.values)],\n",
    "               y=p.vPOS,\n",
    "              c='black', label='POS', zorder=10)\n",
    "    \n",
    "ax.scatter(x=[pd.to_datetime(d-1, unit='D', origin=str(int(y))) for d,y in zip(p.TOS.values, p.TOS_year.values)],\n",
    "           y=p.vTOS,\n",
    "          c='tab:orange', label='TOS', zorder=10)\n",
    "\n",
    "ax.set_xlabel(None)\n",
    "ax.set_ylabel(None)\n",
    "ax.set_title(k, fontsize=12)\n",
    "ax.grid()\n",
    "ax.set_yticklabels(['{:2.2f}'.format(x) for x in ax.get_yticks()]);\n",
    "ax.set_xlim(pd.Timestamp(\"1985-01-1\"), pd.Timestamp(\"2022-12-31\"));"
   ]
  },
  {
   "cell_type": "code",
   "execution_count": null,
   "id": "6b640d1e-9764-4812-9b6c-679b87d468b4",
   "metadata": {},
   "outputs": [],
   "source": []
  }
 ],
 "metadata": {
  "kernelspec": {
   "display_name": "Python 3 (ipykernel)",
   "language": "python",
   "name": "python3"
  },
  "language_info": {
   "codemirror_mode": {
    "name": "ipython",
    "version": 3
   },
   "file_extension": ".py",
   "mimetype": "text/x-python",
   "name": "python",
   "nbconvert_exporter": "python",
   "pygments_lexer": "ipython3",
   "version": "3.10.0"
  }
 },
 "nbformat": 4,
 "nbformat_minor": 5
}
