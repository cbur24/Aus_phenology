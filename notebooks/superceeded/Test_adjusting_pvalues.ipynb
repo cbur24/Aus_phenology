{
 "cells": [
  {
   "cell_type": "markdown",
   "id": "d7b43d99-d698-40b4-a6cb-1e205a6cc0d7",
   "metadata": {},
   "source": [
    "# Test methods for adjusting p-values\n",
    "\n",
    "To account for false discovery rate"
   ]
  },
  {
   "cell_type": "code",
   "execution_count": 1,
   "id": "d70a23e7-5a01-4839-a9c2-f02880a81e7a",
   "metadata": {
    "tags": []
   },
   "outputs": [
    {
     "name": "stderr",
     "output_type": "stream",
     "text": [
      "/g/data/os22/chad_tmp/AusENDVI/env/py310/lib/python3.10/site-packages/dask/config.py:779: FutureWarning: Dask configuration key 'ucx' has been deprecated; please use 'distributed.comm.ucx' instead\n",
      "  warnings.warn(\n",
      "/g/data/os22/chad_tmp/AusENDVI/env/py310/lib/python3.10/site-packages/dask/config.py:779: FutureWarning: Dask configuration key 'distributed.scheduler.transition-log-length' has been deprecated; please use 'distributed.admin.low-level-log-length' instead\n",
      "  warnings.warn(\n",
      "/g/data/os22/chad_tmp/AusENDVI/env/py310/lib/python3.10/site-packages/dask/config.py:779: FutureWarning: Dask configuration key 'distributed.comm.recent-messages-log-length' has been deprecated; please use 'distributed.admin.low-level-log-length' instead\n",
      "  warnings.warn(\n"
     ]
    }
   ],
   "source": [
    "import sys\n",
    "import warnings\n",
    "import numpy as np\n",
    "import xarray as xr\n",
    "import pandas as pd\n",
    "import contextily as ctx\n",
    "import matplotlib.pyplot as plt\n",
    "\n",
    "from multipy.fdr import lsu, qvalue, abh, tst, orc\n",
    "from multipy.fwer import sidak, hochberg\n",
    "from multipy.rft import rft_2d\n",
    "from multipy.ihw import ihw_naive\n",
    "\n",
    "sys.path.append('/g/data/os22/chad_tmp/dea-notebooks/Tools/')\n",
    "from dea_tools.classification import sklearn_flatten, sklearn_unflatten\n",
    "from scipy import stats"
   ]
  },
  {
   "cell_type": "markdown",
   "id": "2c57f0af-0b7e-40b7-9713-a3d5a79447a3",
   "metadata": {},
   "source": [
    "## Open per pixel phenology data"
   ]
  },
  {
   "cell_type": "code",
   "execution_count": 2,
   "id": "8868cf16-ff5a-44d6-9e0c-95691e3b2f6a",
   "metadata": {},
   "outputs": [],
   "source": [
    "lin_or_circ = 'circular'\n",
    "\n",
    "p_average = xr.open_dataset(f'/g/data/os22/chad_tmp/Aus_phenology/results/mean_phenology_perpixel_{lin_or_circ}_final.nc')\n",
    "p_trends = xr.open_dataset(f'/g/data/os22/chad_tmp/Aus_phenology/results/trends_phenology_perpixel_{lin_or_circ}_final.nc')"
   ]
  },
  {
   "cell_type": "markdown",
   "id": "9455c8d5-7414-4519-9240-4015ef2a48f9",
   "metadata": {},
   "source": [
    "## Define mask"
   ]
  },
  {
   "cell_type": "code",
   "execution_count": 3,
   "id": "4060597a-1b83-40d4-9cbc-52350c782cca",
   "metadata": {},
   "outputs": [],
   "source": [
    "season_per_year = p_average['n_seasons']/p_average['n_years']\n",
    "non_seasonal = xr.where((season_per_year <= 0.90),1,0)\n",
    "extra_seasonal = xr.where((season_per_year >= 1.1),1,0)\n",
    "seasonality_mask = (non_seasonal | extra_seasonal)\n",
    "\n",
    "sos_nan = np.isnan(p_trends['SOS_slope']).where(~np.isnan(p_average['SOS']))\n",
    "sos_nan = xr.where((sos_nan==1) & (seasonality_mask==0), 1, 0)\n",
    "\n",
    "eos_nan = np.isnan(p_trends['EOS_slope']).where(~np.isnan(p_average['EOS']))\n",
    "eos_nan = xr.where((eos_nan==1) & (seasonality_mask==0), 1, 0)\n",
    "\n",
    "pos_nan = np.isnan(p_trends['POS_slope']).where(~np.isnan(p_average['POS']))\n",
    "pos_nan = xr.where((pos_nan==1) & (seasonality_mask==0), 1, 0)\n",
    "\n",
    "extra_mask = (seasonality_mask | sos_nan | eos_nan | pos_nan)"
   ]
  },
  {
   "cell_type": "markdown",
   "id": "435e9b10-cdaa-4c09-82e7-83ab75730f64",
   "metadata": {},
   "source": [
    "## Adjust p-values"
   ]
  },
  {
   "cell_type": "code",
   "execution_count": 4,
   "id": "0e61ee48-3818-4a02-a420-25f8b7f50fa8",
   "metadata": {},
   "outputs": [
    {
     "name": "stdout",
     "output_type": "stream",
     "text": [
      "19.23 % of valid pixels in Australia has seen significant change in POS (uncorrected p-values)\n"
     ]
    }
   ],
   "source": [
    "var='POS'\n",
    "# p_trends[f'{var}_p_value'].where(extra_mask!=1).plot(robust=True)\n",
    "\n",
    "trends = p_trends[var+'_slope'].where(extra_mask!=1)\n",
    "pval = p_trends[var+'_p_value'].where(extra_mask!=1)\n",
    "\n",
    "total_nonnan = (~np.isnan(trends)).sum().values.item()\n",
    "total_significant = (~np.isnan(trends.where(pval<=0.05))).sum()\n",
    "\n",
    "total_percent_changed = total_significant / total_nonnan * 100\n",
    "print(f'{total_percent_changed:.2f} % of valid pixels in Australia has seen significant change in {var} (uncorrected p-values)')"
   ]
  },
  {
   "cell_type": "code",
   "execution_count": null,
   "id": "0f75a16a-7a0b-4f0f-8536-ce0d09bd7c96",
   "metadata": {},
   "outputs": [],
   "source": [
    "# d = sklearn_flatten(p_trends[f'{var}_p_value'].where(extra_mask!=1).rename({'latitude':'y', 'longitude':'x'}))\n",
    "# mask = ~np.isnan(d) \n",
    "\n",
    "# # p_adj = stats.false_discovery_control(d[mask], method='bh')\n",
    "# # p_adj = lsu(d[mask], q=0.05)\n",
    "# # p_adj = abh(d[mask])\n",
    "# p_adj = tst(d[mask])\n",
    "# # p_adj = orc(d[mask], m0 = np.sum(d[mask]>0.05))\n",
    "# # p_adj = ihw_naive(d[mask], groups=100, method=lsu)\n",
    "# # p_adj = hochberg(d[mask])\n",
    "# # p_adj = rft_2d(p_trends[f'{var}_p_value'].where(extra_mask!=1).fillna(1).data,\n",
    "# #                fwhm=3.0\n",
    "# # )\n",
    "\n"
   ]
  },
  {
   "cell_type": "code",
   "execution_count": null,
   "id": "baac6000-8155-4014-8415-c1ee3632e461",
   "metadata": {},
   "outputs": [],
   "source": [
    "d = sklearn_flatten(p_trends[f'{var}_p_value'].where(extra_mask!=1).rename({'latitude':'y', 'longitude':'x'}))\n",
    "mask = ~np.isnan(d) \n",
    "\n",
    "p_adj = stats.false_discovery_control(d[mask], method='bh')\n",
    "# p_adj = lsu(d[mask], q=0.1)\n",
    "# p_adj = tst(d[mask], q=0.1)\n",
    "\n",
    "p_adj = sklearn_unflatten(p_adj, p_trends[f'{var}_p_value'].where(extra_mask!=1).rename({'latitude':'y', 'longitude':'x'}))\n",
    "p_adj = p_adj.transpose().rename({'y':'latitude', 'x':'longitude'})#.plot(robust=True)\n",
    "\n",
    "# sig_mask = xr.where(p_adj==1, 1, 0)\n",
    "# p_adj = pval.where(sig_mask)\n",
    "\n",
    "total_nonnan = (~np.isnan(trends)).sum().values.item()\n",
    "total_significant = (~np.isnan(trends.where(p_adj<=0.1))).sum() #setting q as 0.1 effectively\n",
    "\n",
    "total_percent_changed = total_significant / total_nonnan * 100\n",
    "print(f'{total_percent_changed:.2f} % of valid pixels in Australia has seen significant change in {var} (corrected p-values)')"
   ]
  },
  {
   "cell_type": "code",
   "execution_count": null,
   "id": "54e04ccc-ad1f-41db-bc1e-27d0096c18ba",
   "metadata": {},
   "outputs": [],
   "source": [
    "fig,ax=plt.subplots(1,2, figsize=(11,5))\n",
    "\n",
    "p_trends[f'{var}_p_value'].where(p_trends[f'{var}_p_value'].where(extra_mask!=1)<=0.05).plot(robust=True, ax=ax[0], add_labels=False, add_colorbar=False)\n",
    "\n",
    "p_adj.where(p_adj<=0.1).plot(robust=True, ax=ax[1], add_labels=False, add_colorbar=False)\n",
    "\n",
    "ax[0].set_title('Uncorrected p-values')\n",
    "ax[1].set_title('Corrected p-values');"
   ]
  },
  {
   "cell_type": "markdown",
   "id": "eba2ba97-6856-4227-bc34-8923e4e78d5b",
   "metadata": {},
   "source": [
    "## Compare p-values"
   ]
  },
  {
   "cell_type": "code",
   "execution_count": null,
   "id": "adceff62-90ce-446a-8fe9-9a9c98ed5183",
   "metadata": {},
   "outputs": [],
   "source": [
    "df = p_adj.to_dataframe(name='p-adjusted')\n",
    "df['p-original'] = pval.to_dataframe(name='p-original').drop('spatial_ref', axis=1)\n",
    "df = df.dropna().reset_index(drop=True)"
   ]
  },
  {
   "cell_type": "code",
   "execution_count": null,
   "id": "8c0c036c-db25-4c21-9dd9-43e6603f0d75",
   "metadata": {},
   "outputs": [],
   "source": [
    "df.plot.scatter(x='p-original', y='p-adjusted')\n",
    "plt.title(f'{var} p-value adjusted using FDR')\n",
    "plt.plot([0, 1], [0, 1], ls=\"--\", c=\".3\");"
   ]
  },
  {
   "cell_type": "code",
   "execution_count": null,
   "id": "4e2c88fa-e16c-4b1b-9fce-0c5300411dcf",
   "metadata": {},
   "outputs": [],
   "source": []
  }
 ],
 "metadata": {
  "kernelspec": {
   "display_name": "Python 3 (ipykernel)",
   "language": "python",
   "name": "python3"
  },
  "language_info": {
   "codemirror_mode": {
    "name": "ipython",
    "version": 3
   },
   "file_extension": ".py",
   "mimetype": "text/x-python",
   "name": "python",
   "nbconvert_exporter": "python",
   "pygments_lexer": "ipython3",
   "version": "3.10.0"
  }
 },
 "nbformat": 4,
 "nbformat_minor": 5
}
