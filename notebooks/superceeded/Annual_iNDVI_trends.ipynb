{
 "cells": [
  {
   "cell_type": "markdown",
   "id": "248c4ba7-1b91-4df6-91c0-cfdfcad54246",
   "metadata": {},
   "source": [
    "# Annual integrated NDVI\n",
    "\n",
    "Rather than calculating the integral of the season (integral from SOS to EOS), instead calculate integrated NDVI each calendar year, then compute the trends. Also need to subtract the soil signal."
   ]
  },
  {
   "cell_type": "code",
   "execution_count": null,
   "id": "2387a15b-2689-4556-8ae5-2bf47beb7112",
   "metadata": {},
   "outputs": [],
   "source": [
    "%matplotlib inline\n",
    "import os\n",
    "import sys\n",
    "import pingouin as pg\n",
    "import xarray as xr\n",
    "import numpy as np\n",
    "import pandas as pd\n",
    "import geopandas as gpd\n",
    "import contextily as ctx\n",
    "import matplotlib.pyplot as plt\n",
    "from xarrayMannKendall import Mann_Kendall_test\n",
    "from odc.geo.xr import assign_crs\n",
    "\n",
    "import warnings\n",
    "warnings.simplefilter(action='ignore')"
   ]
  },
  {
   "cell_type": "code",
   "execution_count": null,
   "id": "822cfdcb-e039-404c-9b49-1375219f8f63",
   "metadata": {},
   "outputs": [],
   "source": [
    "sys.path.append('/g/data/os22/chad_tmp/AusEFlux/src/')\n",
    "from _utils import start_local_dask\n",
    "start_local_dask(n_workers=12, threads_per_worker=1, memory_limit='300GiB')"
   ]
  },
  {
   "cell_type": "markdown",
   "id": "baffdc5d-1aa2-4146-89cc-5f1d93091cb5",
   "metadata": {},
   "source": [
    "#### Open NDVI data and subtract soil signal\n",
    "\n",
    "NDVI data has previously been interpolated to biweekly and S-G smoothed"
   ]
  },
  {
   "cell_type": "code",
   "execution_count": null,
   "id": "7fcb801e-0cd7-488f-a64a-a4d20f183bd2",
   "metadata": {},
   "outputs": [],
   "source": [
    "dask = dict(latitude=250, longitude=250, time=-1)\n",
    "path = '/g/data/os22/chad_tmp/Aus_phenology/data/NDVI/NDVI_smooth_AusENDVI-clim_MCD43A4.nc'\n",
    "ds = xr.open_dataset(path, chunks=dask)\n",
    "ds = ds['NDVI']\n",
    "\n",
    "# subtract soil signal\n",
    "ndvi_min_path =f'/g/data/xc0/project/AusEFlux/data/ndvi_of_baresoil_5km.nc'\n",
    "ndvi_min = xr.open_dataarray(ndvi_min_path, chunks=dask)\n",
    "ds = ds - ndvi_min #bare soil value\n",
    "ds.name = 'NDVI'\n",
    "ds"
   ]
  },
  {
   "cell_type": "markdown",
   "id": "0aa9fffd-bca6-4bb4-b412-d5df1952c963",
   "metadata": {},
   "source": [
    "## Annual iNDVI\n",
    "\n",
    "On daily NDVI! Need hugemem queue for this"
   ]
  },
  {
   "cell_type": "code",
   "execution_count": null,
   "id": "13e9a3fa-ca0c-40dc-897e-8491babd2e54",
   "metadata": {},
   "outputs": [],
   "source": [
    "ds = ds.sel(time=slice('1982', '2021')).fillna(0)\n",
    "ds = ds.resample(time='1D').interpolate(kind='quadratic')\n",
    "indvi = ds.groupby('time.year').map(lambda x: x.integrate('time', datetime_unit='D')).compute()"
   ]
  },
  {
   "cell_type": "markdown",
   "id": "4e6a0149-6a63-44d6-a278-e230800bf4d9",
   "metadata": {},
   "source": [
    "### mask urban and water"
   ]
  },
  {
   "cell_type": "code",
   "execution_count": null,
   "id": "52eccde7-7558-4a1c-92eb-bfa5a2362fbc",
   "metadata": {},
   "outputs": [],
   "source": [
    "mask = xr.open_dataarray('/g/data/xc0/project/AusEFlux/data/urban_water_mask_5km.nc').rename({'x':'longitude', 'y':'latitude'})\n",
    "indvi = indvi.where(mask!=1)"
   ]
  },
  {
   "cell_type": "code",
   "execution_count": null,
   "id": "dac74d4d-b826-4796-a1f8-46a52fb04fb5",
   "metadata": {},
   "outputs": [],
   "source": [
    "indvi.to_netcdf('/g/data/os22/chad_tmp/Aus_phenology/results/iNDVI.nc')"
   ]
  },
  {
   "cell_type": "markdown",
   "id": "0f214ec7-228f-4861-86f6-5569715a1a68",
   "metadata": {},
   "source": [
    "### Trends"
   ]
  },
  {
   "cell_type": "code",
   "execution_count": null,
   "id": "665aa8f5-f46f-4390-87a5-e5514c23f110",
   "metadata": {},
   "outputs": [],
   "source": [
    "indvi = xr.open_dataarray('/g/data/os22/chad_tmp/Aus_phenology/results/iNDVI.nc')\n",
    "mask = xr.open_dataarray('/g/data/xc0/project/AusEFlux/data/urban_water_mask_5km.nc')"
   ]
  },
  {
   "cell_type": "code",
   "execution_count": null,
   "id": "497eb61b-09c8-49d0-8933-2050d1cc9754",
   "metadata": {},
   "outputs": [],
   "source": [
    "trends = Mann_Kendall_test(indvi,\n",
    "                               alpha=0.05,\n",
    "                               method='theilslopes',\n",
    "                               coords_name={'time':'year','x':'longitude','y':'latitude'}\n",
    "                           ).compute()\n",
    "\n",
    "trends = trends.where(mask!=1)              "
   ]
  },
  {
   "cell_type": "code",
   "execution_count": null,
   "id": "af2458a7-57cd-4d7f-ac35-b1cdaafff1f7",
   "metadata": {},
   "outputs": [],
   "source": [
    "fig,ax = plt.subplots(1,1, figsize=(6,6),sharey=True, layout='constrained')\n",
    "\n",
    "im = trends.trend.where(trends.trend!=0).plot(ax=ax, cmap='PuOr', vmin=-1, vmax=1, add_colorbar=False)\n",
    "ctx.add_basemap(ax, source=ctx.providers.CartoDB.VoyagerNoLabels, crs='EPSG:4326', attribution='', attribution_size=1)\n",
    "xr.plot.contourf(trends.trend.where(trends.signif), ax=ax, alpha=0, hatches=['....'], add_colorbar=False)\n",
    "ax.set_title(None)\n",
    "ax.set_yticklabels([])\n",
    "ax.set_ylabel('')\n",
    "ax.set_xlabel('')\n",
    "ax.set_xticklabels([]);\n",
    "\n",
    "cb = fig.colorbar(im, ax=ax, shrink=0.65, orientation='vertical', label='NDVI yr\\u207B\\u00B9')\n",
    "fig.savefig(\"/g/data/os22/chad_tmp/Aus_phenology/results/figs/iNDVI_trends.png\", bbox_inches='tight', dpi=300)"
   ]
  },
  {
   "cell_type": "markdown",
   "id": "36ecdb82-356d-4c51-baa1-8ce2b21609db",
   "metadata": {},
   "source": [
    "## Annual max NDVI"
   ]
  },
  {
   "cell_type": "code",
   "execution_count": null,
   "id": "dc15a4a6-fa86-42fb-824d-5fd833c91f39",
   "metadata": {},
   "outputs": [],
   "source": [
    "annual_max = ds.groupby('time.year').max().compute()"
   ]
  },
  {
   "cell_type": "code",
   "execution_count": null,
   "id": "80af50aa-ea3f-4dab-a0b8-82304dcc289c",
   "metadata": {},
   "outputs": [],
   "source": [
    "mask = xr.open_dataarray('/g/data/xc0/project/AusEFlux/data/urban_water_mask_5km.nc').rename({'x':'longitude', 'y':'latitude'})\n",
    "annual_max = annual_max.where(~mask).where(annual_max>0)"
   ]
  },
  {
   "cell_type": "markdown",
   "id": "5ccd4e79-dbb8-4a03-ae9e-579d91d2d968",
   "metadata": {},
   "source": [
    "### Trends"
   ]
  },
  {
   "cell_type": "code",
   "execution_count": null,
   "id": "126d5333-557b-4609-92d2-63456d10d469",
   "metadata": {},
   "outputs": [],
   "source": [
    "trends_vpos = Mann_Kendall_test(annual_max,\n",
    "                               alpha=0.05,\n",
    "                               method='theilslopes',\n",
    "                               coords_name={'time':'year','x':'longitude','y':'latitude'}\n",
    "                           ).compute()"
   ]
  },
  {
   "cell_type": "code",
   "execution_count": null,
   "id": "471a17c2-3c93-467e-b053-878a55e61dbd",
   "metadata": {},
   "outputs": [],
   "source": [
    "trends_vpos"
   ]
  },
  {
   "cell_type": "code",
   "execution_count": null,
   "id": "9d9a77e9-c59e-49a7-b7aa-2cd742aba7f3",
   "metadata": {},
   "outputs": [],
   "source": [
    "trees = xr.open_dataset('/g/data/os22/chad_tmp/AusENDVI/data/5km/trees_5km_monthly_1982_2022.nc')['trees']\n",
    "trees = trees.mean('time').rename('longitude':'x','latitude':'y'})\n",
    "tree_mask = xr.where(trees>=0.5, 1, 0)\n",
    "\n",
    "#and significant change in vPOS\n",
    "# tree_mask = ((tree_mask) & (trends_vpos.p <=0.05))"
   ]
  },
  {
   "cell_type": "code",
   "execution_count": null,
   "id": "6816cf3a-1399-462b-a187-160c21e895c4",
   "metadata": {},
   "outputs": [],
   "source": []
  },
  {
   "cell_type": "code",
   "execution_count": null,
   "id": "c2c996ea-0b42-49e3-81f6-9d887b8241f8",
   "metadata": {},
   "outputs": [],
   "source": [
    "tree_mask.plot()"
   ]
  },
  {
   "cell_type": "markdown",
   "id": "50fe7b17-d62a-406a-b1b2-69ea001e525e",
   "metadata": {},
   "source": [
    "## Partial correlation"
   ]
  },
  {
   "cell_type": "code",
   "execution_count": null,
   "id": "3094188f-f416-45d8-a25b-b70c00384509",
   "metadata": {},
   "outputs": [],
   "source": []
  },
  {
   "cell_type": "code",
   "execution_count": null,
   "id": "b497f7a5-565c-45df-afd9-15d026a33a1e",
   "metadata": {},
   "outputs": [],
   "source": []
  },
  {
   "cell_type": "code",
   "execution_count": null,
   "id": "443c5cef-4cc3-4301-955c-c59cc917f189",
   "metadata": {},
   "outputs": [],
   "source": []
  },
  {
   "cell_type": "code",
   "execution_count": null,
   "id": "0c538b0f-6a1d-4b92-938a-ed7ac77a75fd",
   "metadata": {},
   "outputs": [],
   "source": []
  },
  {
   "cell_type": "code",
   "execution_count": null,
   "id": "9f8fefe5-83ae-44e9-ab69-5c40cefc4982",
   "metadata": {
    "scrolled": true
   },
   "outputs": [],
   "source": [
    "import os\n",
    "import xarray as xr\n",
    "import numpy as np\n",
    "import pandas as pd\n",
    "from odc.geo.xr import assign_crs\n",
    "\n",
    "import sys\n",
    "sys.path.append('/g/data/os22/chad_tmp/AusEFlux/src/')\n",
    "from _utils import start_local_dask\n",
    "start_local_dask(n_workers=15, threads_per_worker=1, memory_limit='120GiB')"
   ]
  },
  {
   "cell_type": "code",
   "execution_count": null,
   "id": "65e58918-8b19-450e-bb81-ebc2423747c3",
   "metadata": {
    "scrolled": true
   },
   "outputs": [],
   "source": [
    "base = '/g/data/ub8/au/OzWALD/8day/NDVI/'\n",
    "files = [f'{base}{i}' for i in os.listdir(base) if i.endswith(\".nc\")]\n",
    "files.sort()\n",
    "years = [str(i) for i in range(2000, 2024)]\n",
    "for f, y in zip(files, years):\n",
    "    print(f)    \n",
    "    ds = xr.open_dataset(f,chunks=dict(time=-1, latitude=1000, longitude=1000))\n",
    "    # ds = ds.transpose('time', 'latitude', 'longitude')\n",
    "    \n",
    "    #tidy up\n",
    "    ds = assign_crs(ds, crs='epsg:4326')\n",
    "    ds = ds.to_array()\n",
    "    ds = ds.squeeze().drop('variable')\n",
    "    ds.attrs['nodata'] = np.nan\n",
    "    \n",
    "    #resample time\n",
    "    ds = ds.resample(time='MS', loffset=pd.Timedelta(14, 'd')).mean().compute()\n",
    "    ds.attrs['nodata'] = np.nan\n",
    "    ds = ds.transpose('time', 'latitude', 'longitude')\n",
    "    ds.astype('float32').to_netcdf(f'/g/data/os22/chad_tmp/Aus_phenology/data/NDVI/ozwald_ndvi/NDVI_{y}.nc')\n"
   ]
  },
  {
   "cell_type": "code",
   "execution_count": null,
   "id": "abfd9131-2831-4b53-b34e-f19e0defa2cf",
   "metadata": {},
   "outputs": [],
   "source": [
    "base = '/g/data/os22/chad_tmp/Aus_phenology/data/NDVI/ozwald_ndvi/'\n",
    "files = [f'{base}/{i}' for i in os.listdir(base) if i.endswith(\".nc\")]\n",
    "files.sort()\n",
    "# chunks=dict(time=1, latitude=1000, longitude=1000)\n",
    "#combine annual files into one file\n",
    "ds = xr.open_mfdataset(files).sel(time=slice('2001', '2022'))\n",
    "\n",
    "ds = ds.chunk(dict(time=-1)).interpolate_na(dim='time', method='linear', limit=2)\n",
    "\n",
    "# ds_monthly = ds.groupby('time.month').mean()\n",
    "# ds = ds.groupby(\"time.month\").fillna(ds_monthly)\n",
    "# ds = assign_crs(ds, crs='epsg:4326')\n",
    "\n"
   ]
  },
  {
   "cell_type": "code",
   "execution_count": null,
   "id": "87b807a8-b7cc-406a-a3ec-8b0267c8393a",
   "metadata": {},
   "outputs": [],
   "source": [
    "ds = ds.compute()"
   ]
  },
  {
   "cell_type": "code",
   "execution_count": null,
   "id": "a7a4f681-a23c-4449-9a50-fef9ff77cdee",
   "metadata": {},
   "outputs": [],
   "source": [
    "ds.to_netcdf('/g/data/os22/chad_tmp/Aus_phenology/data/NDVI/NDVI_OzWALD_500m.nc')"
   ]
  },
  {
   "cell_type": "code",
   "execution_count": null,
   "id": "bbf387db-9336-4263-aa2c-b190f8fef918",
   "metadata": {},
   "outputs": [],
   "source": [
    "# v.plot(figsize=(14,5))"
   ]
  },
  {
   "cell_type": "code",
   "execution_count": null,
   "id": "fcb1c3b8-83a7-4e0f-8092-c867e21000a3",
   "metadata": {},
   "outputs": [],
   "source": [
    "# with plt.style.context('ggplot'):\n",
    "#     fig,axes = plt.subplots(5,2, figsize=(20,15), layout='constrained')\n",
    "#     for ax, (k,v) in zip(axes.reshape(-1), flux_tss.items()):\n",
    "#         v.plot(ax=ax, c='tab:blue', label='OzFlux')\n",
    "#         ndvi_tss[k].plot(ax=ax, c='tab:red', label='AusEFlux')\n",
    "#         ax.set_title(k)\n",
    "#         ax.grid(axis='y', which='both')\n",
    "#         ax.set_xlabel(None)\n",
    "#         ax.set_ylabel('GPP gC/m2/month')\n",
    "#         ax.legend()\n",
    "#         # ax.set_ylim(0.10,0.9)\n",
    "#         # ax1.set_ylim(-1,350)\n",
    "    \n",
    "        \n",
    "#         # ax.scatter(x=[pd.to_datetime(d-1, unit='D', origin=str(int(y))) for d,y in zip(ndvi_pheno[k].SOS.values, ndvi_pheno[k].SOS_year.values)],\n",
    "#         #            y=ndvi_pheno[k].vSOS,\n",
    "#         #           c='tab:green', label='SOS', zorder=10)\n",
    "        \n",
    "#         # ax.scatter(x=[pd.to_datetime(d-1, unit='D', origin=str(int(y))) for d,y in zip(ndvi_pheno[k].EOS.values, ndvi_pheno[k].EOS_year.values)],\n",
    "#         #            y=ndvi_pheno[k].vEOS,\n",
    "#         #           c='tab:purple', label='EOS', zorder=10)\n",
    "        \n",
    "#         # ax.scatter(x=[pd.to_datetime(d-1, unit='D', origin=str(int(y))) for d,y in zip(ndvi_pheno[k].POS.values, ndvi_pheno[k].POS_year.values)],\n",
    "#         #                y=ndvi_pheno[k].vPOS,\n",
    "#         #               c='black', label='POS', zorder=10)\n",
    "            \n",
    "#         # ax.scatter(x=[pd.to_datetime(d-1, unit='D', origin=str(int(y))) for d,y in zip(ndvi_pheno[k].TOS.values, ndvi_pheno[k].TOS_year.values)],\n",
    "#         #            y=ndvi_pheno[k].vTOS,\n",
    "#         #           c='tab:orange', label='TOS', zorder=10)\n",
    "# fig.savefig('/g/data/os22/chad_tmp/Aus_phenology/results/figs/flux_tower_validate_GPP.png',\n",
    "#             bbox_inches='tight', dpi=300)"
   ]
  },
  {
   "cell_type": "code",
   "execution_count": null,
   "id": "a480c3b2-ec1a-481f-8720-79211bcf661a",
   "metadata": {},
   "outputs": [],
   "source": []
  },
  {
   "cell_type": "code",
   "execution_count": null,
   "id": "97d199b5-a031-4448-a63a-0c7c66ff6cc7",
   "metadata": {},
   "outputs": [],
   "source": []
  },
  {
   "cell_type": "code",
   "execution_count": null,
   "id": "290d555a-559b-4fb3-83bf-d3c74eccf7e1",
   "metadata": {},
   "outputs": [],
   "source": [
    "    # # Index NDVI at location and time so we have matching tim series\n",
    "    # lat,lon = v.latitude, v.longitude\n",
    "    # ndvi = ds.sel(latitude=lat, longitude=lon, method='nearest')\n",
    "    \n",
    "    # #smooth\n",
    "    # ndvi = ndvi.resample(time=\"2W\").interpolate(\"linear\")\n",
    "    # v = v.sel(time=ndvi.time, method='nearest')\n",
    "    # ndvi=sg_smooth(ndvi, window=11, poly=3, deriv=0)\n",
    "    # v=sg_smooth(v, window=11, poly=3, deriv=0)\n",
    "\n",
    "    # #interpolate\n",
    "    # v = v.drop_duplicates(dim='time')\n",
    "    # ndvi = ndvi.dropna(dim='time',\n",
    "    #         how='all').resample(time='1D').interpolate(kind='quadratic')\n",
    "    # v = v.dropna(dim='time',\n",
    "    #         how='all').resample(time='1D').interpolate(kind='quadratic')\n",
    "\n",
    "    # # same length of time for both ds\n",
    "    # ndvi = ndvi.sel(time=v.time, method='nearest')\n",
    "    # v = v.sel(time=ndvi.time, method='nearest')"
   ]
  }
 ],
 "metadata": {
  "kernelspec": {
   "display_name": "Python 3 (ipykernel)",
   "language": "python",
   "name": "python3"
  },
  "language_info": {
   "codemirror_mode": {
    "name": "ipython",
    "version": 3
   },
   "file_extension": ".py",
   "mimetype": "text/x-python",
   "name": "python",
   "nbconvert_exporter": "python",
   "pygments_lexer": "ipython3",
   "version": "3.10.0"
  }
 },
 "nbformat": 4,
 "nbformat_minor": 5
}
