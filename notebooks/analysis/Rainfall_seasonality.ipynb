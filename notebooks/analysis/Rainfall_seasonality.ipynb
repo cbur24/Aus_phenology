{
 "cells": [
  {
   "cell_type": "markdown",
   "id": "8d6185d6-5015-4c74-a294-e3c3cea28081",
   "metadata": {},
   "source": [
    "# Map shifts in the start and end of rainy seasons\n",
    "\n",
    "Following some publications for determining start and end of climatological rainfall\n",
    "* https://agupubs.onlinelibrary.wiley.com/doi/full/10.1002/2016JD025428\n",
    "* https://journals.ametsoc.org/view/journals/clim/14/22/1520-0442_2001_014_4308_ivotrs_2.0.co_2.xml?tab_body=pdf\n",
    "\n",
    "Complicated python function here too: https://github.com/rjbombardi/onset_demise_rainy_season"
   ]
  },
  {
   "cell_type": "code",
   "execution_count": null,
   "id": "be0c7445-4b35-4c1a-b586-353f4a293c32",
   "metadata": {
    "tags": []
   },
   "outputs": [],
   "source": [
    "%matplotlib inline\n",
    "\n",
    "import os\n",
    "import sys\n",
    "import warnings\n",
    "import numpy as np\n",
    "import xarray as xr\n",
    "import pandas as pd\n",
    "import contextily as ctx\n",
    "import matplotlib as mpl\n",
    "import geopandas as gpd\n",
    "from scipy.signal import find_peaks\n",
    "from shapely.geometry import box\n",
    "from odc.geo.geom import Geometry\n",
    "import matplotlib.pyplot as plt\n",
    "from odc.geo.xr import assign_crs\n",
    "from mpl_toolkits.axes_grid1.inset_locator import inset_axes\n",
    "\n",
    "sys.path.append('/g/data/os22/chad_tmp/AusEFlux/src/')\n",
    "from _prediction import allNaN_arg\n",
    "from _utils import round_coords\n"
   ]
  },
  {
   "cell_type": "code",
   "execution_count": null,
   "id": "d2cd2507-28a4-49ac-a0c9-ff540dacfecb",
   "metadata": {},
   "outputs": [],
   "source": [
    "import sys\n",
    "sys.path.append('/g/data/os22/chad_tmp/AusEFlux/src/')\n",
    "from _utils import start_local_dask\n",
    "\n",
    "client = start_local_dask(mem_safety_margin='2Gb')\n",
    "client"
   ]
  },
  {
   "cell_type": "markdown",
   "id": "a36d45f1-6dd9-44b4-bb31-825db4303234",
   "metadata": {},
   "source": [
    "## Open data"
   ]
  },
  {
   "cell_type": "code",
   "execution_count": null,
   "id": "270557f3-841f-43cb-9b75-c8579fb6b9e6",
   "metadata": {},
   "outputs": [],
   "source": [
    "# ANUClim rain\n",
    "rain = xr.open_dataset('/g/data/os22/chad_tmp/Aus_phenology/data/rainfall_ANUClim_daily_5km_1960_2022.nc',\n",
    "                      chunks=dict(latitude=250,longitude=250, time=-1))['rain']\n",
    "\n",
    "#CHIRPS daily rainfall\n",
    "# rain = xr.open_dataset('/g/data/os22/chad_tmp/Aus_phenology/data/rainfall_CHIRPS_daily_5km_1981_2023.nc',\n",
    "#                       chunks=dict(latitude=250,longitude=250, time=-1))['rain']\n",
    "\n",
    "#silo rain\n",
    "# rain = xr.open_dataset('/scratch/xc0/chad/1km/rain_1km.nc',\n",
    "#                       chunks=dict(latitude=750,longitude=750, time=-1))['rain']\n",
    "\n",
    "# rain = rain.resample(time=\"1W\").interpolate(\"linear\").compute()"
   ]
  },
  {
   "cell_type": "markdown",
   "id": "57faf1ee-a3ad-4d75-b4b0-db816659e201",
   "metadata": {},
   "source": [
    "## Extract climatology differences between epochs for example region\n",
    "\n",
    "Using Southwest WA as there's been a significant decline in rainfall amounts and timing."
   ]
  },
  {
   "cell_type": "code",
   "execution_count": null,
   "id": "75a3de30-f736-4d1f-9dd7-4baa4c4369c9",
   "metadata": {},
   "outputs": [],
   "source": [
    "gdf = gpd.read_file('/g/data/os22/chad_tmp/Aus_phenology/data/vectors/IBRAv7_subregions_modified.geojson')"
   ]
  },
  {
   "cell_type": "code",
   "execution_count": null,
   "id": "7a3581bc-b5de-4352-a08d-eb0ad0778b25",
   "metadata": {},
   "outputs": [],
   "source": [
    "# gdf.explore(column='SUB_NAME_7',\n",
    "#             tiles = 'https://server.arcgisonline.com/ArcGIS/rest/services/World_Imagery/MapServer/tile/{z}/{y}/{x}',\n",
    "#             attr = 'Esri',\n",
    "#             name = 'Esri Satellite',\n",
    "#             control = True,\n",
    "#             legend=False\n",
    "#            )"
   ]
  },
  {
   "cell_type": "code",
   "execution_count": null,
   "id": "3fb21964-b26d-4232-9a37-78be188e1763",
   "metadata": {},
   "outputs": [],
   "source": [
    "plotname = 'Carnegie'#'Victorian Alps'  #'Geraldton Hills rainfed crop' 'Weipa Plateau'\n",
    "# Claraville Plains Eastern Darling Downs rainfed crop Geraldton Hills rainfed crop Highlands-Southern Fall\n",
    "\n",
    "minx,miny,maxx,maxy = gdf[gdf['SUB_NAME_7']==plotname].geometry.bounds.values[0]\n",
    "lat=slice(maxy,miny) \n",
    "lon=slice(minx,maxx)\n",
    "\n",
    "rain_subset = rain.sel(longitude=lon, latitude=lat).compute()"
   ]
  },
  {
   "cell_type": "code",
   "execution_count": null,
   "id": "3c2441af-9ff0-4e45-a23b-c110d5a12e82",
   "metadata": {},
   "outputs": [],
   "source": [
    "# clim_mean = rain_subset.mean('time')\n",
    "\n",
    "#first calculate the day-of-year rainfall climatology for the first 20 years\n",
    "clim_mean_month_early = rain_subset.sel(time=slice('1980','2000')).groupby('time.dayofyear').mean()\n",
    "#now calculate the long-term mean daily rainfall\n",
    "clim_mean_early = rain_subset.sel(time=slice('1980','2000')).mean('time')\n",
    "#calculate the cumulative daily rainfall anomaly\n",
    "cml_rain_anom_early = (clim_mean_month_early - clim_mean_early).cumsum(dim='dayofyear')\n",
    "\n",
    "#same again but for the last 20 years of the time series\n",
    "clim_mean_month_late = rain_subset.sel(time=slice('2001','2023')).groupby('time.dayofyear').mean()\n",
    "clim_mean_late = rain_subset.sel(time=slice('2001','2023')).mean('time')\n",
    "cml_rain_anom_late = (clim_mean_month_late - clim_mean_late).cumsum(dim='dayofyear')\n",
    "\n",
    "# mase to remove zero where there used to be nans\n",
    "mask = ~np.isnan(clim_mean_month_early.mean('dayofyear'))"
   ]
  },
  {
   "cell_type": "markdown",
   "id": "078471fd-5c9d-4613-8c48-86536d290e23",
   "metadata": {},
   "source": [
    "### Determine the min and max points of cumulative anomalies\n",
    "\n",
    "This shows where the SOS and EOS of the rainfall seasons occur."
   ]
  },
  {
   "cell_type": "code",
   "execution_count": null,
   "id": "de0dd1fa-232c-476a-9fed-05a181c7bb96",
   "metadata": {},
   "outputs": [],
   "source": [
    "eos_doy = cml_rain_anom_early.mean(['latitude', 'longitude']).rolling(dayofyear=30, min_periods=1).mean().idxmax(dim='dayofyear').values.item()\n",
    "eos_rain = cml_rain_anom_early.mean(['latitude', 'longitude']).rolling(dayofyear=30, min_periods=1).mean().sel(dayofyear=eos_doy).values.item()\n",
    "\n",
    "sos_doy = cml_rain_anom_early.mean(['latitude', 'longitude']).rolling(dayofyear=30, min_periods=1).mean().idxmin(dim='dayofyear').values.item()\n",
    "sos_rain = cml_rain_anom_early.mean(['latitude', 'longitude']).rolling(dayofyear=30, min_periods=1).mean().sel(dayofyear=sos_doy).values.item()\n",
    "\n",
    "eos_doy_late = cml_rain_anom_late.mean(['latitude', 'longitude']).rolling(dayofyear=30, min_periods=1).mean().idxmax(dim='dayofyear').values.item()\n",
    "eos_rain_late = cml_rain_anom_late.mean(['latitude', 'longitude']).rolling(dayofyear=30, min_periods=1).mean().sel(dayofyear=eos_doy_late).values.item()\n",
    "\n",
    "sos_doy_late = cml_rain_anom_late.mean(['latitude', 'longitude']).rolling(dayofyear=30, min_periods=1).mean().idxmin(dim='dayofyear').values.item()\n",
    "sos_rain_late = cml_rain_anom_late.mean(['latitude', 'longitude']).rolling(dayofyear=30, min_periods=1).mean().sel(dayofyear=sos_doy_late).values.item()"
   ]
  },
  {
   "cell_type": "markdown",
   "id": "cd1e69e9-29c7-4bc3-a2eb-c05128372fe1",
   "metadata": {},
   "source": [
    "### Create a plot to demonstrate method"
   ]
  },
  {
   "cell_type": "code",
   "execution_count": null,
   "id": "b518cd6e-76f4-4337-b212-1f2d61ae139b",
   "metadata": {},
   "outputs": [],
   "source": [
    "fig,ax = plt.subplots(1,1, figsize=(8,5))\n",
    "ax1=ax.twinx()\n",
    "# clim_mean_month_early.mean(['latitude', 'longitude']).plot()\n",
    "pl1=(clim_mean_month_early - clim_mean_early).mean(['latitude', 'longitude']).plot(ax=ax,\n",
    "                                    label='1982-2001 climatological rainfall anomaly', linestyle='--', linewidth=0.75)\n",
    "pl2=cml_rain_anom_early.mean(['latitude', 'longitude']).rolling(dayofyear=30, min_periods=1).mean().plot(ax=ax1, label='1982-2001 cumulative rainfall anomaly')\n",
    "\n",
    "# clim_mean_month_late.mean(['latitude', 'longitude']).plot()\n",
    "pl3=(clim_mean_month_late - clim_mean_late).mean(['latitude', 'longitude']).plot(ax=ax, \n",
    "                                    label='2002-2022 climatological rainfall anomaly',linestyle='--', linewidth=0.75)\n",
    "pl4=cml_rain_anom_late.mean(['latitude', 'longitude']).rolling(dayofyear=30, min_periods=1).mean().plot(ax=ax1, label='2002-2022 cumulative rainfall anomaly')\n",
    "\n",
    "#add sos\n",
    "ax1.plot(sos_doy, sos_rain, 'or')\n",
    "ax1.annotate('SOS',\n",
    "            xy=(sos_doy, sos_rain),\n",
    "            xytext=(10, 15),\n",
    "            textcoords='offset points',\n",
    "            arrowprops=dict(arrowstyle='-|>'))\n",
    "\n",
    "ax1.plot(sos_doy_late, sos_rain_late, 'or')\n",
    "ax1.annotate('SOS',\n",
    "            xy=(sos_doy_late, sos_rain_late),\n",
    "            xytext=(10, 15),\n",
    "            textcoords='offset points',\n",
    "            arrowprops=dict(arrowstyle='-|>'))\n",
    "\n",
    "#add eos\n",
    "ax1.plot(eos_doy, eos_rain, 'or')\n",
    "ax1.plot(eos_doy_late, eos_rain_late, 'or')\n",
    "ax1.annotate('EOS',\n",
    "            xy=(eos_doy, eos_rain),\n",
    "            xytext=(-10, -25),\n",
    "            textcoords='offset points',\n",
    "            arrowprops=dict(arrowstyle='-|>'))\n",
    "\n",
    "ax1.annotate('EOS',\n",
    "            xy=(eos_doy_late, eos_rain_late),\n",
    "            xytext=(-10, -25),\n",
    "            textcoords='offset points',\n",
    "            arrowprops=dict(arrowstyle='-|>'))\n",
    "\n",
    "plots=pl1+pl2+pl3+pl4\n",
    "labels = [l.get_label() for l in plots]\n",
    "ax.legend(plots, labels, loc='upper right')\n",
    "ax.set_ylabel('Daily rainfall anomaly (mm/day)')\n",
    "ax1.set_ylabel('Cumulative daily rainfall anomaly (mm)')\n",
    "ax.axhline(0, c='grey')\n",
    "ax.grid(alpha=0.75)\n",
    "ax.set_title(None)\n",
    "ax1.set_title(plotname)\n",
    "fig.savefig(f'/g/data/os22/chad_tmp/Aus_phenology/results/figs/zonal_rainfall_patterns_{plotname}.png',\n",
    "            bbox_inches='tight', dpi=300);"
   ]
  },
  {
   "cell_type": "markdown",
   "id": "7a729f56-0a8b-459f-9f12-008207e1e59f",
   "metadata": {},
   "source": [
    "## Now run australia-wide"
   ]
  },
  {
   "cell_type": "markdown",
   "id": "e98d2583-a23f-4601-9c3d-1e2df3f5d8e3",
   "metadata": {},
   "source": [
    "### Consider masking very high variance regions\n",
    "\n",
    "Simpler if we just use annual variance. This has the added advantage of limiting the results to regions where the rainfall gauges are more prominent"
   ]
  },
  {
   "cell_type": "code",
   "execution_count": null,
   "id": "dcd553fa-f271-4245-b54c-a502e0752860",
   "metadata": {},
   "outputs": [],
   "source": [
    "# annual_rain =  rain.sel(time=slice('1960','2022')).resample(time='YS').sum()\n",
    "# clim_mean = annual_rain.mean('time').compute()\n",
    "# clim_std = annual_rain.std('time').compute()\n",
    "\n",
    "# scaled_variance = clim_std / clim_mean\n",
    "\n",
    "# high_daily_variance = xr.where(scaled_variance < 0.4, 1,0)\n",
    "# rain = rain.where(high_daily_variance)\n",
    "\n",
    "# high_daily_variance.plot();\n",
    "# plt.title(f'% remaining: {(np.sum(high_daily_variance) / np.sum(~np.isnan(clim_mean.where(clim_mean>0))) * 100).item():2.2f}');"
   ]
  },
  {
   "cell_type": "code",
   "execution_count": null,
   "id": "e5f5f2c2-f6ee-4d45-996a-dbece5f9403d",
   "metadata": {
    "scrolled": true
   },
   "outputs": [],
   "source": [
    "# def stand_anomalies(ds, mean, std):\n",
    "#     return xr.apply_ufunc(\n",
    "#         lambda x, m, s: (x - m) / s,\n",
    "#             ds.groupby(\"time.dayofyear\"),\n",
    "#             mean,\n",
    "#             std,\n",
    "#             dask='allowed'\n",
    "#     )\n",
    "    \n",
    "# ds_clim_mean = rain.groupby(\"time.dayofyear\").mean('time').compute()\n",
    "# ds_clim_std = rain.groupby(\"time.dayofyear\").std('time').compute()\n",
    "# rain_anom = stand_anomalies(rain, ds_clim_mean, ds_clim_std).compute()\n",
    "\n",
    "# del ds_clim_mean\n",
    "# del ds_clim_std\n",
    "\n",
    "# anom_mask = xr.where((rain_anom > -3.5) & (rain_anom < 3.5), 1, 0).drop_vars('dayofyear')\n",
    "\n",
    "# del rain_anom\n",
    "\n",
    "# rain = rain.compute()\n",
    "# rain = rain.where(anom_mask).astype('float32')\n",
    "# rain = rain.chunk(dict(latitude=250,longitude=250, time=-1))"
   ]
  },
  {
   "cell_type": "code",
   "execution_count": null,
   "id": "f86c5360-94b9-4546-bac3-9bfe27c0f2c6",
   "metadata": {},
   "outputs": [],
   "source": [
    "clim_mean_month_early = rain.sel(time=slice('1980','2000')).groupby('time.dayofyear').mean().compute()\n",
    "clim_mean_early = rain.sel(time=slice('1980','2000')).mean('time').compute()\n",
    "cml_rain_anom_early = (clim_mean_month_early - clim_mean_early).cumsum(dim='dayofyear').rolling(dayofyear=30, center=True, min_periods=1).mean()\n",
    "\n",
    "clim_mean_month_late = rain.sel(time=slice('2001','2022')).groupby('time.dayofyear').mean().compute()\n",
    "clim_mean_late = rain.sel(time=slice('2001','2022')).mean('time').compute()\n",
    "cml_rain_anom_late = (clim_mean_month_late - clim_mean_late).cumsum(dim='dayofyear').rolling(dayofyear=30, center=True, min_periods=1).mean()\n",
    "\n",
    "mask = ~np.isnan(clim_mean_month_early.mean('dayofyear')).compute()\n",
    "\n",
    "early_clim_max = cml_rain_anom_early.idxmax(dim='dayofyear').where(mask) \n",
    "late_clim_max = cml_rain_anom_late.idxmax(dim='dayofyear').where(mask)\n",
    "early_clim_min = cml_rain_anom_early.idxmin(dim='dayofyear').where(mask)\n",
    "late_clim_min = cml_rain_anom_late.idxmin(dim='dayofyear').where(mask)"
   ]
  },
  {
   "cell_type": "markdown",
   "id": "3fed5230-73c8-4737-913c-a19566adf7dd",
   "metadata": {},
   "source": [
    "### Determine regions with double peaks and mask"
   ]
  },
  {
   "cell_type": "code",
   "execution_count": null,
   "id": "4a7bdf6f-7214-4e89-8a87-38d8705e3163",
   "metadata": {},
   "outputs": [],
   "source": [
    "# def count_peaks_1d(time_series, prominence=4):\n",
    "#     peaks, _ = find_peaks(time_series, prominence=prominence)\n",
    "#     return len(peaks)\n",
    "\n",
    "# n_peaks = xr.apply_ufunc(count_peaks_1d,\n",
    "#                          cml_rain_anom_late,\n",
    "#                          input_core_dims=[[\"dayofyear\"]],\n",
    "#                          output_core_dims=[[]],\n",
    "#                          dask=\"allowed\",\n",
    "#                          vectorize=True)\n",
    "\n",
    "# n_peaks.plot.imshow(robust=True, size=5, add_labels=False);\n",
    "# plt.title('Number of climatolgical cumulative daily\\nrainfall anomaly peaks (peaks >= 2.5mm/day)');"
   ]
  },
  {
   "cell_type": "code",
   "execution_count": null,
   "id": "08e690a5-c5c4-402f-a339-f032036b1661",
   "metadata": {},
   "outputs": [],
   "source": [
    "# double_rainfall_peaks = xr.where(n_peaks>1, 0, 1)"
   ]
  },
  {
   "cell_type": "markdown",
   "id": "ee55a610-705e-4fce-8e25-aee8508eee66",
   "metadata": {},
   "source": [
    "### Veg phenology regions mask"
   ]
  },
  {
   "cell_type": "code",
   "execution_count": null,
   "id": "0a63a314-4248-4fff-9dc2-9e5e2b2d4153",
   "metadata": {},
   "outputs": [],
   "source": [
    "lin_or_circ = 'circular'\n",
    "\n",
    "p_average = assign_crs(xr.open_dataset(f'/g/data/os22/chad_tmp/Aus_phenology/results/mean_phenology_perpixel_{lin_or_circ}_final.nc'), crs='EPSG:4326')\n",
    "p_trends = assign_crs(xr.open_dataset(f'/g/data/os22/chad_tmp/Aus_phenology/results/trends_phenology_perpixel_{lin_or_circ}_final.nc'), crs='EPSG:4326')\n",
    "\n",
    "nan_mask = ~np.isnan(p_average['POS'])\n",
    "\n",
    "season_per_year = p_average['n_seasons']/p_average['n_years']\n",
    "non_seasonal = xr.where((season_per_year <= 0.90),1,0)\n",
    "extra_seasonal = xr.where((season_per_year >= 1.1),1,0)\n",
    "seasonality_mask = (non_seasonal | extra_seasonal)"
   ]
  },
  {
   "cell_type": "markdown",
   "id": "dec66d00-9e33-48f2-afe2-b8aa09187ed3",
   "metadata": {},
   "source": [
    "## Find difference between rainfall climatologies"
   ]
  },
  {
   "cell_type": "code",
   "execution_count": null,
   "id": "70bf04fc-82b4-42bf-82b7-e57cf3380731",
   "metadata": {},
   "outputs": [],
   "source": [
    "diff_clean_max = (late_clim_max - early_clim_max)\n",
    "diff_clean_min = (late_clim_min - early_clim_min)"
   ]
  },
  {
   "cell_type": "code",
   "execution_count": null,
   "id": "932fda92-6b7a-4111-bad4-ac40e3486442",
   "metadata": {},
   "outputs": [],
   "source": [
    "diff_clean_max = (late_clim_max - early_clim_max)\n",
    "diff_clean_min = (late_clim_min - early_clim_min)\n",
    "\n",
    "#where jumps are greater than half a year, rectify by add/subtracting 365\n",
    "diff_clean_max = xr.where(diff_clean_max<-183, diff_clean_max+365, diff_clean_max)\n",
    "diff_clean_max = xr.where(diff_clean_max>183, diff_clean_max-365, diff_clean_max)\n",
    "\n",
    "diff_clean_min = xr.where(diff_clean_min<-183, diff_clean_min+365, diff_clean_min)\n",
    "diff_clean_min = xr.where(diff_clean_min>183, diff_clean_min-365, diff_clean_min)"
   ]
  },
  {
   "cell_type": "markdown",
   "id": "dc7325bc-2b32-4806-9f3f-9ec8561575ba",
   "metadata": {},
   "source": [
    "### Plot EOS differences"
   ]
  },
  {
   "cell_type": "code",
   "execution_count": null,
   "id": "bb270291-df5e-48fd-a55e-615fda116a9c",
   "metadata": {},
   "outputs": [],
   "source": [
    "corr_data = [early_clim_max, late_clim_max, (diff_clean_max)] \n",
    "products=['EOS 1980-2000', 'EOS 2001-2022','EOS Difference (recent - past)'] \n",
    "\n",
    "fig,axes = plt.subplots(1,3, figsize=(14,5), sharey=True, layout='constrained')\n",
    "\n",
    "for ax, dss, n in zip(axes.ravel(), corr_data, products):\n",
    "    if n=='EOS Difference (recent - past)':\n",
    "        cmap='PiYG'\n",
    "        vmin=-50\n",
    "        vmax=50\n",
    "    else:\n",
    "        cmap='twilight'\n",
    "        vmin=0\n",
    "        vmax=365   #.where(high_daily_variance).where(double_rainfall_peaks)\n",
    "    im = dss.where(seasonality_mask!=1).where(nan_mask).plot(cmap=cmap, ax=ax, vmin=vmin, vmax=vmax, add_colorbar=False)   \n",
    "    ctx.add_basemap(ax, source=ctx.providers.CartoDB.VoyagerNoLabels, crs='EPSG:4326', attribution='', attribution_size=1)\n",
    "    if n=='EOS Difference (recent - past)':\n",
    "        cbar = fig.colorbar(im, orientation='horizontal',\n",
    "                ax=ax,\n",
    "                cmap=cmap,\n",
    "                ticks=[-50,-40, -30, -20, -10, 0, 10, 20, 30, 40, 50],\n",
    "                shrink=0.80\n",
    "               )\n",
    "        cbar.ax.set_title('<--shifted early - days - shifted later-->', fontsize=10)\n",
    "        cbar.ax.tick_params(labelsize=10)\n",
    "    else:\n",
    "        cbar = fig.colorbar(im, orientation='horizontal',\n",
    "                        ax=ax,\n",
    "                        norm = mpl.colors.Normalize(vmin=0, vmax=365),\n",
    "                        ticks=np.arange(0,365, 50),\n",
    "                        cmap=cmap,\n",
    "                        shrink=0.80\n",
    "                       )\n",
    "        # cbar.set_ticklabels([\"J\",\"F\",\"M\",\"A\",\"M\",\"J\",\"J\",\"A\",\"S\",\"O\",\"N\",\"D\"], fontsize=10)\n",
    "        cbar.ax.set_title('Rainfall EOS dayofyear', fontsize=10)\n",
    "    ax.set_yticklabels([])\n",
    "    ax.set_xticklabels([])\n",
    "    ax.set_title(f'{n}', fontsize=12)\n",
    "    ax.set_ylabel('')\n",
    "    ax.set_xlabel('')\n",
    "\n",
    "# plt.subplots_adjust(wspace=0.075)\n",
    "fig.savefig(f'/g/data/os22/chad_tmp/Aus_phenology/results/figs/rainfall_EOS_shifting_patterns.png',\n",
    "            bbox_inches='tight', dpi=300);"
   ]
  },
  {
   "cell_type": "markdown",
   "id": "f43ebe4c-4b47-4a02-a578-720cb0785007",
   "metadata": {},
   "source": [
    "### Plot SOS differences"
   ]
  },
  {
   "cell_type": "code",
   "execution_count": null,
   "id": "742406fa-32f8-44c2-9034-9662bef72cf8",
   "metadata": {},
   "outputs": [],
   "source": [
    "corr_data = [early_clim_min, late_clim_min, (diff_clean_min)] \n",
    "products=['SOS 1980-2000', 'SOS 2001-2022','SOS Difference (recent - past)'] \n",
    "\n",
    "fig,axes = plt.subplots(1,3, figsize=(14,5), sharey=True, layout='constrained')\n",
    "\n",
    "for ax, dss, n in zip(axes.ravel(), corr_data, products):\n",
    "    if n=='SOS Difference (recent - past)':\n",
    "        cmap='PiYG'\n",
    "        vmin=-50\n",
    "        vmax=50\n",
    "    else:\n",
    "        cmap='twilight'\n",
    "        vmin=0\n",
    "        vmax=365 #.where(nan_mask).where(high_daily_variance).where(double_rainfall_peaks)\n",
    "    im = dss.where(seasonality_mask!=1).plot(cmap=cmap, ax=ax, vmin=vmin, vmax=vmax, add_colorbar=False) \n",
    "    ctx.add_basemap(ax, source=ctx.providers.CartoDB.VoyagerNoLabels, crs='EPSG:4326', attribution='', attribution_size=1)\n",
    "    if n=='SOS Difference (recent - past)':\n",
    "        cbar = fig.colorbar(im, orientation='horizontal',\n",
    "                ax=ax,\n",
    "                cmap=cmap,\n",
    "                ticks=[-50,-40, -30, -20, -10, 0, 10, 20, 30, 40, 50],\n",
    "                shrink=0.80\n",
    "               )\n",
    "        cbar.ax.set_title('<--shifted early - days - shifted later-->', fontsize=10)\n",
    "        cbar.ax.tick_params(labelsize=10)\n",
    "    else:\n",
    "        cbar = fig.colorbar(im, orientation='horizontal',\n",
    "                        ax=ax,\n",
    "                        norm = mpl.colors.Normalize(vmin=0, vmax=365),\n",
    "                        ticks=np.arange(0,365, 50),\n",
    "                        cmap=cmap,\n",
    "                        shrink=0.80\n",
    "                       )\n",
    "        # cbar.set_ticklabels([\"J\",\"F\",\"M\",\"A\",\"M\",\"J\",\"J\",\"A\",\"S\",\"O\",\"N\",\"D\"], fontsize=10)\n",
    "        cbar.ax.set_title('Rainfall SOS dayofyear', fontsize=10)\n",
    "    ax.set_yticklabels([])\n",
    "    ax.set_xticklabels([])\n",
    "    ax.set_title(f'{n}', fontsize=12)\n",
    "    ax.set_ylabel('')\n",
    "    ax.set_xlabel('')\n",
    "\n",
    "# plt.subplots_adjust(wspace=0.075)\n",
    "fig.savefig(f'/g/data/os22/chad_tmp/Aus_phenology/results/figs/rainfall_SOS_shifting_patterns.png',\n",
    "            bbox_inches='tight', dpi=300);"
   ]
  },
  {
   "cell_type": "markdown",
   "id": "cbda7ad1-8370-488f-817e-3e6b94b3ed87",
   "metadata": {},
   "source": [
    "## Calculate lengths of rainy season"
   ]
  },
  {
   "cell_type": "code",
   "execution_count": null,
   "id": "655c8903-1608-411e-8d9a-96a801366cd7",
   "metadata": {},
   "outputs": [],
   "source": [
    "length_early = early_clim_max - early_clim_min\n",
    "length_late = late_clim_max - late_clim_min\n",
    "\n",
    "length_early = xr.where(length_early<0, length_early+365, length_early) #negative means min is higher than max so invert\n",
    "# length_early = xr.where(length_early>300, length_early-365, length_early) #if the season is really long then...\n",
    "\n",
    "length_late = xr.where(length_late<0, length_late+365, length_late) #negative means min is higher than max so invert\n",
    "# length_late = xr.where(length_late>300, length_late-365, length_late) #if the season is really long then..."
   ]
  },
  {
   "cell_type": "code",
   "execution_count": null,
   "id": "00aaced4-5443-48c8-ad19-0812bfba7643",
   "metadata": {},
   "outputs": [],
   "source": [
    "fig,ax= plt.subplots(1,3, figsize=(16,4), sharey=True)\n",
    "early_clim_min.plot(cmap='twilight', ax=ax[0])\n",
    "early_clim_max.plot(cmap='twilight', ax=ax[1])\n",
    "length_early.plot(ax=ax[2], robust=True);\n",
    "ax[0].set_title('SOS')\n",
    "ax[1].set_title('EOS');"
   ]
  },
  {
   "cell_type": "code",
   "execution_count": null,
   "id": "48bfd7ca-5cd5-42e5-b1a8-d73a70325e8c",
   "metadata": {},
   "outputs": [],
   "source": [
    "fig,ax= plt.subplots(1,3, figsize=(16,4), sharey=True)\n",
    "late_clim_min.plot(cmap='twilight', ax=ax[0])\n",
    "late_clim_max.plot(cmap='twilight', ax=ax[1])\n",
    "length_late.plot(ax=ax[2], robust=True);\n",
    "ax[0].set_title('SOS')\n",
    "ax[1].set_title('EOS');"
   ]
  },
  {
   "cell_type": "markdown",
   "id": "3744fc18-73e0-41f6-8d6a-c41bb243894b",
   "metadata": {},
   "source": [
    "### Change in LOS"
   ]
  },
  {
   "cell_type": "code",
   "execution_count": null,
   "id": "898fbe77-0a17-4c2c-bd62-9ca35b674cab",
   "metadata": {},
   "outputs": [],
   "source": [
    "length_change = length_late - length_early"
   ]
  },
  {
   "cell_type": "code",
   "execution_count": null,
   "id": "1adb9a13-5804-46ea-bc1c-bef3c0298dc4",
   "metadata": {},
   "outputs": [],
   "source": [
    "corr_data = [diff_clean_min, diff_clean_max, length_change] \n",
    "products=['Rain SOS Difference (recent - past)', 'Rain EOS Difference (recent - past)','Change in rainy season length'] \n",
    "\n",
    "fig,axes = plt.subplots(1,3, figsize=(14,5), sharey=True, layout='constrained')\n",
    "\n",
    "for ax, dss, n in zip(axes.ravel(), corr_data, products):\n",
    "    if \"Difference\" in n:\n",
    "        cmap='PiYG'\n",
    "        vmin=-50\n",
    "        vmax=50\n",
    "    else:\n",
    "        cmap='PRGn'\n",
    "        vmin=-60\n",
    "        vmax=60  #.where(nan_mask).where(high_daily_variance).where(double_rainfall_peaks)\n",
    "    \n",
    "    im = dss.where(seasonality_mask!=1).plot(cmap=cmap, ax=ax, vmin=vmin, vmax=vmax, add_colorbar=False) \n",
    "    ctx.add_basemap(ax, source=ctx.providers.CartoDB.VoyagerNoLabels, crs='EPSG:4326', attribution='', attribution_size=1)\n",
    "    if \"Difference\" in n:\n",
    "        cbar = fig.colorbar(im, orientation='horizontal',\n",
    "                ax=ax,\n",
    "                cmap=cmap,\n",
    "                ticks=[-50,-40, -30, -20, -10, 0, 10, 20, 30, 40, 50],\n",
    "                shrink=0.80\n",
    "               )\n",
    "        cbar.ax.set_title('<--shifted early - days - shifted later-->', fontsize=10)\n",
    "        cbar.ax.tick_params(labelsize=10)\n",
    "    else:\n",
    "        cbar = fig.colorbar(im, orientation='horizontal',\n",
    "                        ax=ax,\n",
    "                        norm = mpl.colors.Normalize(vmin=-60, vmax=60),\n",
    "                        ticks=np.arange(-60,70, 10),\n",
    "                        cmap=cmap,\n",
    "                        shrink=0.80\n",
    "                       )\n",
    "        cbar.ax.set_title('Change in length of rainy season (days)', fontsize=10)\n",
    "    ax.set_yticklabels([])\n",
    "    ax.set_xticklabels([])\n",
    "    ax.set_title(f'{n}', fontsize=12)\n",
    "    ax.set_ylabel('')\n",
    "    ax.set_xlabel('')\n",
    "\n",
    "# plt.subplots_adjust(wspace=0.075)\n",
    "fig.savefig(f'/g/data/os22/chad_tmp/Aus_phenology/results/figs/rainfall_season_length_change.png',\n",
    "            bbox_inches='tight', dpi=300);"
   ]
  },
  {
   "cell_type": "markdown",
   "id": "b21b42b7-dbce-47f5-9577-e8e5978f1125",
   "metadata": {},
   "source": [
    "## Interactive plots"
   ]
  },
  {
   "cell_type": "code",
   "execution_count": null,
   "id": "60d66144-31f3-4714-92a3-a3a8901996f1",
   "metadata": {},
   "outputs": [],
   "source": [
    "# assign_crs(diff_clean_min, crs='EPSG:4326').odc.explore(\n",
    "#             tiles = 'https://server.arcgisonline.com/ArcGIS/rest/services/World_Imagery/MapServer/tile/{z}/{y}/{x}',\n",
    "#             attr = 'Esri',\n",
    "#             name = 'Esri Satellite',\n",
    "#             control = True,\n",
    "#             legend=False,\n",
    "#             cmap='PiYG',\n",
    "#             vmin=-60,\n",
    "#             vmax=60\n",
    "#            )"
   ]
  },
  {
   "cell_type": "code",
   "execution_count": null,
   "id": "e86fe667-1e9f-44c9-b32d-66e5f5cb0e9d",
   "metadata": {},
   "outputs": [],
   "source": [
    "# assign_crs(diff_clean_max, crs='EPSG:4326').odc.explore(\n",
    "#             tiles = 'https://server.arcgisonline.com/ArcGIS/rest/services/World_Imagery/MapServer/tile/{z}/{y}/{x}',\n",
    "#             attr = 'Esri',\n",
    "#             name = 'Esri Satellite',\n",
    "#             control = True,\n",
    "#             legend=False,\n",
    "#             cmap='PiYG',\n",
    "#             vmin=-60,\n",
    "#             vmax=60\n",
    "#            )"
   ]
  },
  {
   "cell_type": "code",
   "execution_count": null,
   "id": "4fd135fd-abc0-47cc-8843-c0100bf1f6d0",
   "metadata": {},
   "outputs": [],
   "source": [
    "# assign_crs(length_change, crs='EPSG:4326').odc.explore(\n",
    "#             tiles = 'https://server.arcgisonline.com/ArcGIS/rest/services/World_Imagery/MapServer/tile/{z}/{y}/{x}',\n",
    "#             attr = 'Esri',\n",
    "#             name = 'Esri Satellite',\n",
    "#             control = True,\n",
    "#             legend=False,\n",
    "#             cmap='PRGn',\n",
    "#             vmin=-60,\n",
    "#             vmax=60\n",
    "#            )\n"
   ]
  },
  {
   "cell_type": "markdown",
   "id": "fa9b703b-6d84-43cd-8ce9-91dc7136b9f2",
   "metadata": {},
   "source": [
    "## Mega rainfall change Plot"
   ]
  },
  {
   "cell_type": "code",
   "execution_count": null,
   "id": "49688432-1220-4227-a253-b697bdb78143",
   "metadata": {},
   "outputs": [],
   "source": [
    "# gdf.explore(column='SUB_NAME_7',\n",
    "#             tiles = 'https://server.arcgisonline.com/ArcGIS/rest/services/World_Imagery/MapServer/tile/{z}/{y}/{x}',\n",
    "#             attr = 'Esri',\n",
    "#             name = 'Esri Satellite',\n",
    "#             control = True,\n",
    "#             legend=False\n",
    "#            )"
   ]
  },
  {
   "cell_type": "code",
   "execution_count": null,
   "id": "2f02217b-167a-421c-a955-5b249eee99c4",
   "metadata": {},
   "outputs": [],
   "source": [
    "locs =[\n",
    "    'Tallering','Limme', 'Laura Lowlands', #West Warrego Carnegie\n",
    "    'Eastern Goldfield', 'Scenic Rim', #'Marlborough Plains',\n",
    "    'Fitzgerald','Lowan Mallee', 'Culgoa-Bokhar'#'Southern Wooded Downs'\n",
    "      ]\n",
    "# gdf_locs_bounds = gdf[gdf['SUB_NAME_7'].isin(locs)]\n",
    "names=[]\n",
    "polys = []\n",
    "for idx,row in gdf[gdf['SUB_NAME_7'].isin(locs)].iterrows():\n",
    "    b = row.geometry.bounds\n",
    "    poly = box(minx=b[0], miny=b[1],maxx=b[2],maxy=b[3])\n",
    "    polys.append(poly)\n",
    "    names.append(row.SUB_NAME_7)\n",
    "\n",
    "gdf_locs_bounds = gpd.GeoDataFrame(names, geometry=polys).rename({0:'SUB_NAME_7'},axis=1)\n",
    "gdf_locs_bounds.crs = 'EPSG:4326'"
   ]
  },
  {
   "cell_type": "code",
   "execution_count": null,
   "id": "8bfb4631-989c-4edd-8be2-0bfd159af7fd",
   "metadata": {},
   "outputs": [],
   "source": [
    "layout = [\n",
    "    ['A',  'B',    'C'],\n",
    "    ['D','center', 'E'],\n",
    "    ['F','G', 'H'],\n",
    "]\n",
    "\n",
    "# Create the mosaic plot\n",
    "fig, axes = plt.subplot_mosaic(layout, figsize=(15, 12), layout='constrained')\n",
    "\n",
    "subax=[\n",
    "    axes['A'], axes['B'],axes['C'],axes['D'],\n",
    "    axes['E'],axes['F'],axes['G'], axes['H']\n",
    "      ]\n",
    "\n",
    "#centre image of change in rainy season length .where(high_daily_variance)\n",
    "im = length_change.where(seasonality_mask!=1).where(nan_mask).plot(\n",
    "    cmap='PRGn', ax=axes['center'], vmin=-60, vmax=60, add_labels=False, add_colorbar=False) \n",
    "\n",
    "#plot boxes on top of centre image\n",
    "gdf_locs_bounds.plot(ax=axes['center'], color=None, facecolor=\"none\", edgecolor='tab:red',linewidth=1)\n",
    "\n",
    "#colourbar insides the plot\n",
    "axins1 = inset_axes(axes['center'],width=\"60%\",height=\"5%\",loc=\"lower left\", borderpad=1.75)\n",
    "cbar = fig.colorbar(im,cax=axins1,orientation='horizontal')\n",
    "cbar.ax.set_title('Change in length of rainy season (days)', fontsize=9)\n",
    "\n",
    "ctx.add_basemap(axes['center'], source=ctx.providers.CartoDB.VoyagerNoLabels, crs='EPSG:4326', attribution='', attribution_size=1)\n",
    "axes['center'].set_yticklabels([])\n",
    "axes['center'].set_xticklabels([])\n",
    "axes['center'].set_title(None)\n",
    "\n",
    "for ax,k,v in zip(subax, locs, [gdf_locs_bounds[gdf_locs_bounds['SUB_NAME_7']==x] for x in locs]):\n",
    "    print(k)\n",
    "    \n",
    "    minx,miny,maxx,maxy = v.geometry.bounds.values[0]\n",
    "    lat=slice(maxy,miny) \n",
    "    lon=slice(minx,maxx)\n",
    "    rain_subset = rain.sel(longitude=lon, latitude=lat).compute()\n",
    "    # rain_subset = rain.odc(longitude=lon, latitude=lat).compute()\n",
    "    \n",
    "    clim_mean_month_early = rain_subset.sel(time=slice('1980','2000')).groupby('time.dayofyear').mean().mean(['latitude', 'longitude'])\n",
    "    clim_mean_early = rain_subset.sel(time=slice('1980','2000')).mean('time').mean(['latitude', 'longitude'])\n",
    "    cml_rain_anom_early = (clim_mean_month_early - clim_mean_early).cumsum(dim='dayofyear')\n",
    "    \n",
    "    clim_mean_month_late = rain_subset.sel(time=slice('2001','2022')).groupby('time.dayofyear').mean().mean(['latitude', 'longitude'])\n",
    "    clim_mean_late = rain_subset.sel(time=slice('2001','2022')).mean('time').mean(['latitude', 'longitude'])\n",
    "    cml_rain_anom_late = (clim_mean_month_late - clim_mean_late).cumsum(dim='dayofyear')\n",
    "    \n",
    "    mask = ~np.isnan(clim_mean_month_early.mean('dayofyear'))\n",
    "    ax1=ax.twinx()\n",
    "    pl1=(clim_mean_month_early - clim_mean_early).plot(\n",
    "        ax=ax,label='1980-2000 climatological rainfall anomaly', linestyle='--', linewidth=0.75)\n",
    "    pl2=cml_rain_anom_early.rolling(dayofyear=30, min_periods=1).mean().plot(\n",
    "        ax=ax1, label='1980-2000 cumulative rainfall anomaly')\n",
    "    \n",
    "    pl3=(clim_mean_month_late - clim_mean_late).plot(ax=ax, \n",
    "                                        label='2001-2022 climatological rainfall anomaly',linestyle='--', linewidth=0.75)\n",
    "    pl4=cml_rain_anom_late.rolling(dayofyear=30, min_periods=1).mean().plot(\n",
    "        ax=ax1, label='2001-2022 cumulative rainfall anomaly')\n",
    "\n",
    "    eos_doy = cml_rain_anom_early.rolling(dayofyear=30, min_periods=1).mean().idxmax(dim='dayofyear').values.item()\n",
    "    eos_rain = cml_rain_anom_early.rolling(dayofyear=30, min_periods=1).mean().sel(dayofyear=eos_doy).values.item()\n",
    "    sos_doy = cml_rain_anom_early.rolling(dayofyear=30, min_periods=1).mean().idxmin(dim='dayofyear').values.item()\n",
    "    sos_rain = cml_rain_anom_early.rolling(dayofyear=30, min_periods=1).mean().sel(dayofyear=sos_doy).values.item()\n",
    "    eos_doy_late = cml_rain_anom_late.rolling(dayofyear=30, min_periods=1).mean().idxmax(dim='dayofyear').values.item()\n",
    "    eos_rain_late = cml_rain_anom_late.rolling(dayofyear=30, min_periods=1).mean().sel(dayofyear=eos_doy_late).values.item()\n",
    "    sos_doy_late = cml_rain_anom_late.rolling(dayofyear=30, min_periods=1).mean().idxmin(dim='dayofyear').values.item()\n",
    "    sos_rain_late = cml_rain_anom_late.rolling(dayofyear=30, min_periods=1).mean().sel(dayofyear=sos_doy_late).values.item()\n",
    "    \n",
    "    #add sos\n",
    "    ax1.plot(sos_doy, sos_rain, 'or')\n",
    "    ax1.plot(sos_doy_late, sos_rain_late, 'or')\n",
    "    \n",
    "    #add eos\n",
    "    ax1.plot(eos_doy, eos_rain, 'bo')\n",
    "    ax1.plot(eos_doy_late, eos_rain_late, 'bo')\n",
    "    \n",
    "    plots=pl1+pl2+pl3+pl4\n",
    "    labels = [l.get_label() for l in plots]\n",
    "    # ax.legend(plots, labels, loc='upper right')\n",
    "    ax.axhline(0, c='grey')\n",
    "    ax.grid(alpha=0.75)\n",
    "    ax.set_title(None)\n",
    "    ax1.set_title(k)\n",
    "    ax1.set_xlabel(None)\n",
    "    ax.set_xlabel(None)\n",
    "    ax1.set_ylabel(None)\n",
    "    ax.set_ylabel(None)\n",
    "\n",
    "fig.savefig(f'/g/data/os22/chad_tmp/Aus_phenology/results/figs/rainfall_seasonality_headlinefigure.png',\n",
    "          bbox_inches='tight', dpi=300);"
   ]
  },
  {
   "cell_type": "code",
   "execution_count": null,
   "id": "50d6a27a-73ef-4fa1-89f7-88aedea6aacc",
   "metadata": {},
   "outputs": [],
   "source": [
    "# get handles and labels for reuse\n",
    "label_params = (plots,labels)\n",
    "\n",
    "figl, axl = plt.subplots()\n",
    "axl.axis(False)\n",
    "axl.legend(*label_params, loc=\"best\", fontsize=12, markerscale=2, ncol=4)\n",
    "figl.savefig(f'/g/data/os22/chad_tmp/Aus_phenology/results/figs/rainfall_seasonality_legend.png',\n",
    "          bbox_inches='tight', dpi=300);"
   ]
  },
  {
   "cell_type": "code",
   "execution_count": null,
   "id": "859e5f98-1eb1-47be-8cf1-6c2a627510c8",
   "metadata": {},
   "outputs": [],
   "source": []
  },
  {
   "cell_type": "code",
   "execution_count": null,
   "id": "19ab3af5-5c23-4326-a3b2-e8862069caac",
   "metadata": {},
   "outputs": [],
   "source": []
  },
  {
   "cell_type": "markdown",
   "id": "1639db41-9e4f-4687-ad06-60ad01314d13",
   "metadata": {},
   "source": [
    "## Process daily chirps\n",
    "\n",
    "https://data.chc.ucsb.edu/products/CHIRPS-2.0/global_daily/netcdf/"
   ]
  },
  {
   "cell_type": "code",
   "execution_count": null,
   "id": "4a3515f0-5c30-48e9-a264-2ad2c98aac4c",
   "metadata": {},
   "outputs": [],
   "source": [
    "# base = '/g/data/os22/chad_tmp/Aus_phenology/data/chirps_daily/'\n",
    "# gbox = xr.open_dataset('/g/data/os22/chad_tmp/AusENDVI/data/5km/rain_5km_monthly_1981_2022.nc').odc.geobox\n",
    "# files = [i for i in os.listdir(base) if i.endswith('nc')]\n",
    "# files.sort()\n",
    "\n",
    "# ds = xr.open_mfdataset([base+i for i in files])\n",
    "# ds = assign_crs(ds, crs='epsg:4236')\n",
    "# ds = ds.sel(latitude=slice(-45,-10), longitude=slice(111,155))\n",
    "# ds = ds.to_array(name='rain')\n",
    "# ds = ds.drop_vars('variable').squeeze()\n",
    "# ds.attrs['nodata'] = np.nan\n",
    "# ds = ds.chunk(dict(time=365, latitude=700, longitude=880))\n",
    "# ds = ds.odc.reproject(how=gbox, resampling='bilinear')\n",
    "# ds = round_coords(ds)\n",
    "# ds = ds.rename('rain')\n",
    "# ds.astype('float32').compute().to_netcdf('/g/data/os22/chad_tmp/Aus_phenology/data/rainfall_CHIRPS_daily_5km_1981_2023.nc')"
   ]
  },
  {
   "cell_type": "markdown",
   "id": "fbefdf5a-fda0-4c4d-b155-116da8f64d9a",
   "metadata": {},
   "source": [
    "### Get daily rainfall from ANUClim"
   ]
  },
  {
   "cell_type": "code",
   "execution_count": null,
   "id": "6292b492-0a14-42b7-a672-88168a27d56a",
   "metadata": {
    "scrolled": true
   },
   "outputs": [],
   "source": [
    "# import os\n",
    "# import xarray as xr\n",
    "# from odc.geo.xr import assign_crs\n",
    "# import numpy as np\n",
    "\n",
    "# import sys\n",
    "# sys.path.append('/g/data/os22/chad_tmp/AusEFlux/src/')\n",
    "# from _utils import start_local_dask, round_coords\n",
    "\n",
    "# client = start_local_dask(mem_safety_margin='2Gb')\n",
    "# client"
   ]
  },
  {
   "cell_type": "code",
   "execution_count": null,
   "id": "fb441793-2e8e-40b2-8300-ae9fbe7ef878",
   "metadata": {
    "scrolled": true
   },
   "outputs": [],
   "source": [
    "# base='/g/data/gh70/ANUClimate/v2-0/stable/day/'\n",
    "# var =  'rain'\n",
    "\n",
    "# years = [str(i) for i in range(1960,1981)]\n",
    "# gbox = xr.open_dataset('/g/data/os22/chad_tmp/AusENDVI/data/5km/rain_5km_monthly_1981_2022.nc').odc.geobox\n",
    "\n",
    "# i=0\n",
    "# pp = []\n",
    "# for y in years:\n",
    "#     print(\" {:02}/{:02}\\r\".format(i + 1, len(years)), end=\"\")\n",
    "#     ds = xr.open_mfdataset([base+var+'/'+y+'/'+i for i in os.listdir(base+var+'/'+y+'/')])\n",
    "#     # ds = ds.chunk(dict(lat=500, lon=500, time=-1))\n",
    "#     ds = assign_crs(ds, crs='epsg:4283') #GDA94\n",
    "#     ds = ds.drop_vars('crs')[var]\n",
    "#     ds.attrs['nodata'] = np.nan\n",
    "#     ds = ds.odc.reproject(gbox, resampling='bilinear').compute()\n",
    "#     ds = round_coords(ds)\n",
    "#     pp.append(ds)\n",
    "#     i+=1\n",
    "\n",
    "# ds = xr.concat(pp, dim='time').sortby('time')\n",
    "# ds = ds.compute()\n",
    "# ds = ds.rename(var)\n",
    "\n",
    "# ds.astype('float32').to_netcdf('/g/data/os22/chad_tmp/Aus_phenology/data/rainfall_ANUClim_daily_5km_1960_1980.nc')"
   ]
  }
 ],
 "metadata": {
  "kernelspec": {
   "display_name": "Python 3 (ipykernel)",
   "language": "python",
   "name": "python3"
  },
  "language_info": {
   "codemirror_mode": {
    "name": "ipython",
    "version": 3
   },
   "file_extension": ".py",
   "mimetype": "text/x-python",
   "name": "python",
   "nbconvert_exporter": "python",
   "pygments_lexer": "ipython3",
   "version": "3.10.0"
  }
 },
 "nbformat": 4,
 "nbformat_minor": 5
}
