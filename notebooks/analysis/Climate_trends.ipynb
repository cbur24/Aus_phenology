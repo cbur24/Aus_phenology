{
 "cells": [
  {
   "cell_type": "markdown",
   "id": "8d6185d6-5015-4c74-a294-e3c3cea28081",
   "metadata": {},
   "source": [
    "# Map annual and seasonal trends in climate variables\n",
    "\n",
    "* P:PET\n",
    "* VPD\n",
    "* rainfall"
   ]
  },
  {
   "cell_type": "code",
   "execution_count": null,
   "id": "be0c7445-4b35-4c1a-b586-353f4a293c32",
   "metadata": {
    "tags": []
   },
   "outputs": [],
   "source": [
    "%matplotlib inline\n",
    "\n",
    "import sys\n",
    "import dask\n",
    "import warnings\n",
    "import odc.geo.xr\n",
    "import numpy as np\n",
    "import os\n",
    "from odc.geo.xr import assign_crs\n",
    "import xarray as xr\n",
    "import pandas as pd\n",
    "# import seaborn as sb\n",
    "import contextily as ctx\n",
    "import matplotlib as mpl\n",
    "import matplotlib.pyplot as plt\n",
    "from mpl_toolkits.axes_grid1.inset_locator import inset_axes\n",
    "\n",
    "sys.path.append('/g/data/os22/chad_tmp/AusEFlux/src/')\n",
    "from _utils import round_coords\n",
    "\n",
    "# sys.path.append('/g/data/os22/chad_tmp/AusEFlux/src/')\n",
    "# from _prediction import allNaN_arg\n",
    "\n",
    "from xarrayMannKendall import Mann_Kendall_test"
   ]
  },
  {
   "cell_type": "code",
   "execution_count": null,
   "id": "5b651201-233c-4f24-b088-7151861c08fb",
   "metadata": {},
   "outputs": [],
   "source": [
    "import sys\n",
    "sys.path.append('/g/data/os22/chad_tmp/AusEFlux/src/')\n",
    "from _utils import start_local_dask\n",
    "\n",
    "client = start_local_dask(mem_safety_margin='2Gb')\n",
    "client"
   ]
  },
  {
   "cell_type": "markdown",
   "id": "a36d45f1-6dd9-44b4-bb31-825db4303234",
   "metadata": {},
   "source": [
    "## Open data\n"
   ]
  },
  {
   "cell_type": "code",
   "execution_count": null,
   "id": "3ea1bf71-29b3-4ea7-a9b9-0989f9bfb1f1",
   "metadata": {
    "tags": []
   },
   "outputs": [],
   "source": [
    "vpd = xr.open_dataset('/g/data/os22/chad_tmp/AusENDVI/data/5km/vpd_5km_monthly_1982_2022.nc')['vpd']\n",
    "\n",
    "# pet = xr.open_dataset('/g/data/os22/chad_tmp/Aus_phenology/data/PET_1981_2022.nc')['PET']\n",
    "# mi = xr.open_dataarray('/g/data/os22/chad_tmp/Aus_phenology/data/MI_1982_2022.nc')\n",
    "pet = xr.open_dataset('/g/data/os22/chad_tmp/Aus_phenology/data/PET_GLEAM_1982_2022.nc')['PET']\n",
    "\n",
    "rain = xr.open_dataset('/g/data/os22/chad_tmp/AusENDVI/data/5km/rain_5km_monthly_1981_2022.nc')['rain']\n",
    "# rain = xr.open_dataset('/g/data/os22/chad_tmp/Aus_phenology/data/rainfall_CHIRPS_daily_5km_1981_2023.nc',\n",
    "#                       chunks=dict(latitude=250, longitude=250))['rain']\n",
    "\n",
    "rain = rain.sel(time=slice('1982','2022'))\n",
    "pet = pet.sel(time=slice('1982','2022'))\n",
    "\n",
    "# pet['time'] = [pd.offsets.MonthBegin().rollback(t)+pd.Timedelta(14, 'd') for t in pet['time'].values]"
   ]
  },
  {
   "cell_type": "code",
   "execution_count": null,
   "id": "170fdd6d-9e25-4f2e-84a5-8553a0f6bd09",
   "metadata": {},
   "outputs": [],
   "source": [
    "# rain = rain.resample(time='MS').sum().compute()\n",
    "# rain['time'] = rain['time'] + pd.Timedelta(14, 'd') #Make time the middle of the month\n",
    "\n",
    "mi = rain/pet"
   ]
  },
  {
   "cell_type": "code",
   "execution_count": null,
   "id": "34699200-fa62-47bc-800d-13fd04217d0e",
   "metadata": {},
   "outputs": [],
   "source": [
    "mi = mi.rename('P:PET')\n",
    "mi = xr.where(mi>5, 5, mi) #remove extreme values\n",
    "mi = xr.where(mi<0, 0, mi) #remove negative values"
   ]
  },
  {
   "cell_type": "markdown",
   "id": "06f32742-aa14-43a5-9d00-2b31e5d15000",
   "metadata": {},
   "source": [
    "## Mask to study region"
   ]
  },
  {
   "cell_type": "code",
   "execution_count": null,
   "id": "6a8422c1-f05e-4ba9-93b5-efe0858754a1",
   "metadata": {},
   "outputs": [],
   "source": [
    "lin_or_circ = 'circular'\n",
    "\n",
    "p_average = assign_crs(xr.open_dataset(f'/g/data/os22/chad_tmp/Aus_phenology/results/mean_phenology_perpixel_{lin_or_circ}_final.nc'), crs='EPSG:4326')\n",
    "p_trends = assign_crs(xr.open_dataset(f'/g/data/os22/chad_tmp/Aus_phenology/results/trends_phenology_perpixel_{lin_or_circ}_final.nc'), crs='EPSG:4326')\n",
    "\n",
    "nan_mask = ~np.isnan(p_average['POS'])\n",
    "\n",
    "season_per_year = p_average['n_seasons']/p_average['n_years']\n",
    "non_seasonal = xr.where((season_per_year <= 0.90),1,0)\n",
    "extra_seasonal = xr.where((season_per_year >= 1.1),1,0)\n",
    "seasonality_mask = (non_seasonal | extra_seasonal)"
   ]
  },
  {
   "cell_type": "code",
   "execution_count": null,
   "id": "7ee64358-d0af-4b80-ba78-9ecb81370323",
   "metadata": {},
   "outputs": [],
   "source": [
    "vpd = vpd.where(seasonality_mask!=1)\n",
    "rain = rain.where(seasonality_mask!=1)\n",
    "mi = mi.where(seasonality_mask!=1)\n",
    "\n",
    "vpd = vpd.where(nan_mask)\n",
    "rain = rain.where(nan_mask)\n",
    "mi = mi.where(nan_mask)"
   ]
  },
  {
   "cell_type": "markdown",
   "id": "5f43939a-bf5d-4e34-a9f2-e1b91ceb71e4",
   "metadata": {},
   "source": [
    "## Annual trends"
   ]
  },
  {
   "cell_type": "code",
   "execution_count": null,
   "id": "ff47053f-9f67-4e85-b009-34a4f0028259",
   "metadata": {},
   "outputs": [],
   "source": [
    "a_rain = rain.resample(time='YE', label='left').sum()\n",
    "mask = xr.where(a_rain.max('time')==0, 0, 1)\n",
    "a_rain = a_rain.where(mask)\n",
    "\n",
    "a_vpd = vpd.resample(time='YE', label='left').mean()\n",
    "a_mi = mi.resample(time='YE', label='left').mean()"
   ]
  },
  {
   "cell_type": "code",
   "execution_count": null,
   "id": "9f9c4c3b-aafd-481d-9ec4-f1eacc3e4a46",
   "metadata": {},
   "outputs": [],
   "source": [
    "annual_res = {}\n",
    "prod =[a_rain, a_vpd, a_mi]\n",
    "names = ['rainfall', 'VPD', 'Aridity']\n",
    "for ds, name in zip(prod,names):\n",
    "    print(name)\n",
    "    _trends = Mann_Kendall_test(ds,\n",
    "                               alpha=0.05,\n",
    "                               method='theilslopes',\n",
    "                               coords_name={'time':'time','x':'longitude','y':'latitude'})\n",
    "                              \n",
    "    annual_res[name] = _trends.compute()"
   ]
  },
  {
   "cell_type": "code",
   "execution_count": null,
   "id": "5ce583ac-ce4b-4b37-9134-c038328ebc13",
   "metadata": {},
   "outputs": [],
   "source": [
    "fig,ax = plt.subplots(1,3, figsize=(12,4),sharey=True,sharex=True, layout='constrained')\n",
    "cmaps = ['BrBG', 'RdBu_r', 'PuOr']\n",
    "labels = 'Rainfall mm yr\\u207B\\u00B9', 'VPD HPa yr\\u207B\\u00B9', 'P:PET yr\\u207B\\u00B9'\n",
    "\n",
    "for s, a, cmap, l in zip(names, ax.reshape(-1), cmaps, labels):\n",
    "    if s=='VPD':\n",
    "        im = annual_res[s].trend.where(annual_res[s].trend!=0).plot(ax=a, cmap=cmap,vmin=-0.1, vmax=0.1, add_colorbar=False)\n",
    "    else:\n",
    "        im = annual_res[s].trend.where(annual_res[s].trend!=0).plot(ax=a, cmap=cmap,robust=True, add_colorbar=False)\n",
    "    ctx.add_basemap(a, source=ctx.providers.CartoDB.VoyagerNoLabels, crs='EPSG:4326', attribution='', attribution_size=1)\n",
    "    xr.plot.contourf(annual_res[s].trend.where(annual_res[s].signif), ax=a, alpha=0, hatches=['....'], add_colorbar=False)\n",
    "\n",
    "    axins = inset_axes(a, width=\"55%\",height=\"5%\",loc=\"lower left\", borderpad=2)\n",
    "    cbar3 = fig.colorbar(im, cax=axins, orientation='horizontal')\n",
    "    cbar3.ax.set_title(l, fontsize=10)\n",
    "    \n",
    "    a.set_yticklabels([])\n",
    "    a.set_ylabel('')\n",
    "    a.set_xlabel('')\n",
    "    a.set_xticklabels([]);\n",
    "\n",
    "fig.savefig(\"/g/data/os22/chad_tmp/Aus_phenology/results/figs/climate_annual_trends.png\", bbox_inches='tight', dpi=300)"
   ]
  },
  {
   "cell_type": "markdown",
   "id": "75b20db7-06d6-4a03-890e-f7536d1ddfa0",
   "metadata": {},
   "source": [
    "## Seasonal trends"
   ]
  },
  {
   "cell_type": "code",
   "execution_count": null,
   "id": "46390148-467e-4b61-80d8-5c4b2fefc197",
   "metadata": {},
   "outputs": [],
   "source": [
    "q_rain = rain.resample(time='QE-DEC', label='left').sum()\n",
    "q_vpd = vpd.resample(time='QE-DEC', label='left').mean()\n",
    "q_mi = mi.resample(time='QE-DEC', label='left').mean()\n",
    "# q_wcf = wcf.resample(time='QE-DEC', label='left').mean()\n",
    "\n",
    "#mask zeros from the sum() for rainfall\n",
    "mask = xr.where(q_rain.mean('time')==0, 0, 1)\n",
    "q_rain = q_rain.where(mask)\n",
    "\n",
    "#because DJF is missing in 1981 Dec, start in March 1982\n",
    "q_rain = q_rain.sel(time=slice('1982-03','2022'))\n",
    "q_vpd = q_vpd.sel(time=slice('1983-03','2022'))\n",
    "q_mi = q_mi.sel(time=slice('1983-03','2022'))\n",
    "# q_wcf = q_wcf.sel(time=slice('1983-03','2022'))"
   ]
  },
  {
   "cell_type": "markdown",
   "id": "4e22df24-3413-4e3e-9355-d107b4eec5be",
   "metadata": {},
   "source": [
    "### rain"
   ]
  },
  {
   "cell_type": "code",
   "execution_count": null,
   "id": "1ad65c60-5f4e-49df-b629-4a129a49fb01",
   "metadata": {},
   "outputs": [],
   "source": [
    "rain_res = {}\n",
    "for season in (\"DJF\", \"MAM\", \"JJA\", \"SON\"):\n",
    "    print(season)\n",
    "    xx = q_rain.sel(time=q_rain['time.season']==season)\n",
    "    xx['time'] = xx.time.dt.year\n",
    "    _trends = Mann_Kendall_test(xx,\n",
    "                               alpha=0.05,\n",
    "                               method='theilslopes',\n",
    "                               coords_name={'time':'time','x':'longitude','y':'latitude'}\n",
    "                              ).compute()\n",
    "    rain_res[season] = _trends\n"
   ]
  },
  {
   "cell_type": "code",
   "execution_count": null,
   "id": "efe4361e-8738-444b-927a-1a41920b0357",
   "metadata": {},
   "outputs": [],
   "source": [
    "# fig,ax = plt.subplots(1,1, figsize=(8,8))\n",
    "# im = rain_res['JJA'].trend.where(rain_res['JJA'].trend!=0).plot( vmin=-0.5, vmax=0.5)\n",
    "# ctx.add_basemap(ax, source=ctx.providers.CartoDB.VoyagerNoLabels, crs='EPSG:4326', attribution='', attribution_size=1)"
   ]
  },
  {
   "cell_type": "code",
   "execution_count": null,
   "id": "fa375042-dc70-4012-9cc8-9460af223cac",
   "metadata": {},
   "outputs": [],
   "source": [
    "fig,ax = plt.subplots(1,4, figsize=(15,4),sharey=True, layout='constrained')\n",
    "for s, a in zip([\"DJF\", \"MAM\", \"JJA\", \"SON\"], ax.reshape(-1)):\n",
    "    im = rain_res[s].trend.rolling(y=5, x=5, center=True, min_periods=1).mean().where(rain_res[s].trend!=0).plot(ax=a, cmap='BrBG', vmin=-3, vmax=3, add_colorbar=False)\n",
    "    ctx.add_basemap(a, source=ctx.providers.CartoDB.VoyagerNoLabels, crs='EPSG:4326', attribution='', attribution_size=1)\n",
    "    xr.plot.contourf(rain_res[s].trend.where(rain_res[s].signif).where(rain_res[s].trend!=0), ax=a, alpha=0, hatches=['....'], add_colorbar=False)\n",
    "    a.set_title(s)\n",
    "    a.set_yticklabels([])\n",
    "    a.set_ylabel('')\n",
    "    a.set_xlabel('')\n",
    "    a.set_xticklabels([]);\n",
    "\n",
    "cb = fig.colorbar(im, ax=ax, shrink=0.65, orientation='vertical', label='Rainfall trend (mm/yr)')\n",
    "fig.savefig(\"/g/data/os22/chad_tmp/Aus_phenology/results/figs/rainfall_seasonal_trends.png\", bbox_inches='tight', dpi=300)"
   ]
  },
  {
   "cell_type": "markdown",
   "id": "b9b902ec-e1cf-4fbf-aaa4-7b1c240bf484",
   "metadata": {},
   "source": [
    "### VPD"
   ]
  },
  {
   "cell_type": "code",
   "execution_count": null,
   "id": "2d51ab51-1e12-4953-89be-a0ccf7ffb242",
   "metadata": {},
   "outputs": [],
   "source": [
    "vpd_res = {}\n",
    "for season in (\"DJF\", \"MAM\", \"JJA\", \"SON\"):\n",
    "    print(season)\n",
    "    xx = q_vpd.sel(time=q_vpd['time.season']==season)\n",
    "    xx['time'] = xx.time.dt.year\n",
    "    _trends = Mann_Kendall_test(xx,\n",
    "                               alpha=0.05,\n",
    "                               method='theilslopes',\n",
    "                               coords_name={'time':'time','x':'longitude','y':'latitude'}\n",
    "                              ).compute()\n",
    "    vpd_res[season] = _trends"
   ]
  },
  {
   "cell_type": "code",
   "execution_count": null,
   "id": "d3611e1d-cfcc-468a-b52f-1d79405f184f",
   "metadata": {},
   "outputs": [],
   "source": [
    "fig,ax = plt.subplots(1,4, figsize=(15,4),sharey=True, layout='constrained')\n",
    "for s, a in zip([\"DJF\", \"MAM\", \"JJA\", \"SON\"], ax.reshape(-1)):\n",
    "    im = vpd_res[s].trend.where(vpd_res[s].trend!=0).plot(ax=a, cmap='RdBu_r', vmin=-0.2, vmax=0.2, add_colorbar=False)\n",
    "    ctx.add_basemap(a, source=ctx.providers.CartoDB.VoyagerNoLabels, crs='EPSG:4326', attribution='', attribution_size=1)\n",
    "    xr.plot.contourf(vpd_res[s].trend.where(vpd_res[s].signif), ax=a, alpha=0, hatches=['....'], add_colorbar=False)\n",
    "    a.set_title(s)\n",
    "    a.set_yticklabels([])\n",
    "    a.set_ylabel('')\n",
    "    a.set_xlabel('')\n",
    "    a.set_xticklabels([]);\n",
    "\n",
    "cb = fig.colorbar(im, ax=ax, shrink=0.65, orientation='vertical', label='VPD HPa yr\\u207B\\u00B9')\n",
    "fig.savefig(\"/g/data/os22/chad_tmp/Aus_phenology/results/figs/vpd_seasonal_trends.png\", bbox_inches='tight', dpi=300)"
   ]
  },
  {
   "cell_type": "markdown",
   "id": "d28e656f-1c58-4cc7-8238-77b36eee05ff",
   "metadata": {},
   "source": [
    "### moisture index"
   ]
  },
  {
   "cell_type": "code",
   "execution_count": null,
   "id": "5cfef500-3759-468e-854a-5533e2932dc8",
   "metadata": {},
   "outputs": [],
   "source": [
    "mi_res = {}\n",
    "for season in (\"DJF\", \"MAM\", \"JJA\", \"SON\"):\n",
    "    print(season)\n",
    "    xx = q_mi.sel(time=q_mi['time.season']==season)\n",
    "    xx['time'] = xx.time.dt.year\n",
    "    _trends = Mann_Kendall_test(xx,\n",
    "                               alpha=0.05,\n",
    "                               method='theilslopes',\n",
    "                               coords_name={'time':'time','x':'longitude','y':'latitude'}\n",
    "                              ).compute()\n",
    "    mi_res[season] = _trends"
   ]
  },
  {
   "cell_type": "code",
   "execution_count": null,
   "id": "214284f1-e9cb-492d-8e8c-86dc1f363219",
   "metadata": {},
   "outputs": [],
   "source": [
    "fig,ax = plt.subplots(1,4, figsize=(15,4),sharey=True, layout='constrained')\n",
    "for s, a in zip([\"DJF\", \"MAM\", \"JJA\", \"SON\"], ax.reshape(-1)):\n",
    "    im = mi_res[s].trend.rolling(y=5, x=5, center=True, min_periods=1).mean().where(mi_res[s].trend!=0).plot(ax=a, cmap='PuOr', vmin=-0.007, vmax=0.007, add_colorbar=False)\n",
    "    ctx.add_basemap(a, source=ctx.providers.CartoDB.VoyagerNoLabels, crs='EPSG:4326', attribution='', attribution_size=1)\n",
    "    xr.plot.contourf(mi_res[s].trend.where(mi_res[s].signif), ax=a, alpha=0, hatches=['....'], add_colorbar=False)\n",
    "    a.set_title(s)\n",
    "    a.set_yticklabels([])\n",
    "    a.set_ylabel('')\n",
    "    a.set_xlabel('')\n",
    "    a.set_xticklabels([]);\n",
    "\n",
    "cb = fig.colorbar(im, ax=ax, shrink=0.65, orientation='vertical', label='P:PET yr\\u207B\\u00B9')\n",
    "fig.savefig(\"/g/data/os22/chad_tmp/Aus_phenology/results/figs/mi_seasonal_trends.png\", bbox_inches='tight', dpi=300)"
   ]
  },
  {
   "cell_type": "markdown",
   "id": "528c06cf-1fbf-482a-8762-18148b12f46d",
   "metadata": {},
   "source": [
    "## Preprocess GLEAM evap"
   ]
  },
  {
   "cell_type": "code",
   "execution_count": null,
   "id": "9ada74bc-e5cc-49c4-81f8-4a12202832ab",
   "metadata": {
    "scrolled": true
   },
   "outputs": [],
   "source": [
    "# import os\n",
    "# import xarray as xr\n",
    "# import pandas as pd\n",
    "# import numpy as np\n",
    "# from odc.geo.xr import assign_crs\n",
    "\n",
    "# import sys\n",
    "# sys.path.append('/g/data/os22/chad_tmp/AusEFlux/src/')\n",
    "# from _utils import start_local_dask, round_coords\n",
    "\n",
    "# client = start_local_dask(mem_safety_margin='2Gb')\n",
    "# client"
   ]
  },
  {
   "cell_type": "code",
   "execution_count": null,
   "id": "c05aae33-6e22-48d6-8e5d-f722c18c7687",
   "metadata": {},
   "outputs": [],
   "source": [
    "# base = '/g/data/os22/chad_tmp/Aus_phenology/data/GLEAM/'\n",
    "# gbox= xr.open_dataset('/g/data/os22/chad_tmp/AusENDVI/data/5km/rain_5km_monthly_1981_2022.nc').odc.geobox\n",
    "\n",
    "# files = [f'{base}{i}' for i in os.listdir(base) if i.endswith(\".nc\")]\n",
    "# files.sort()\n",
    "\n",
    "# # #combine annual files into one file\n",
    "# ds = xr.open_mfdataset(files)\n",
    "# ds = ds.sel(lat=slice(-10,-45), lon=slice(111,155))\n",
    "# ds = ds.rename({'lat':'latitude', 'lon':'longitude'})\n",
    "# ds = assign_crs(ds['Ep'], crs='EPSG:4236')\n",
    "# ds = ds.rename('PET')\n",
    "# ds.attrs['nodata'] = np.nan\n",
    "# ds = ds.chunk(dict(time=1), longitude=1000, latitude=1000).odc.reproject(gbox, resampling='bilinear').compute()\n",
    "# ds = round_coords(ds)\n",
    "# ds = ds.rename('PET')\n",
    "# ds['time'] = [pd.offsets.MonthBegin().rollback(t)+pd.Timedelta(14, 'd') for t in ds['time'].values]"
   ]
  },
  {
   "cell_type": "code",
   "execution_count": null,
   "id": "ee923815-b9e8-49c4-9355-c0261c445c9b",
   "metadata": {},
   "outputs": [],
   "source": [
    "# ds.isel(time=12).plot.imshow(robust=True)"
   ]
  },
  {
   "cell_type": "code",
   "execution_count": null,
   "id": "ed9334c3-df89-45cf-88f1-c0fa3f96bb05",
   "metadata": {},
   "outputs": [],
   "source": [
    "# ds.to_netcdf('/g/data/os22/chad_tmp/Aus_phenology/data/PET_GLEAM_1980_2023.nc')"
   ]
  },
  {
   "cell_type": "code",
   "execution_count": null,
   "id": "ab29822d-6790-489e-b81a-1592d46a95a7",
   "metadata": {},
   "outputs": [],
   "source": []
  }
 ],
 "metadata": {
  "kernelspec": {
   "display_name": "Python 3 (ipykernel)",
   "language": "python",
   "name": "python3"
  },
  "language_info": {
   "codemirror_mode": {
    "name": "ipython",
    "version": 3
   },
   "file_extension": ".py",
   "mimetype": "text/x-python",
   "name": "python",
   "nbconvert_exporter": "python",
   "pygments_lexer": "ipython3",
   "version": "3.10.0"
  }
 },
 "nbformat": 4,
 "nbformat_minor": 5
}
