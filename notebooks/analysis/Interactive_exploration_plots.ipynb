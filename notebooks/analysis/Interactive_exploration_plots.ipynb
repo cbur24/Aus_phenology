{
 "cells": [
  {
   "cell_type": "markdown",
   "id": "8d6185d6-5015-4c74-a294-e3c3cea28081",
   "metadata": {},
   "source": [
    "# Create interactive plots\n",
    "\n",
    "This notebook is to assist in exploring the results"
   ]
  },
  {
   "cell_type": "code",
   "execution_count": 1,
   "id": "be0c7445-4b35-4c1a-b586-353f4a293c32",
   "metadata": {
    "tags": []
   },
   "outputs": [
    {
     "name": "stderr",
     "output_type": "stream",
     "text": [
      "/g/data/os22/chad_tmp/AusENDVI/env/py310/lib/python3.10/site-packages/dask/config.py:779: FutureWarning: Dask configuration key 'ucx' has been deprecated; please use 'distributed.comm.ucx' instead\n",
      "  warnings.warn(\n",
      "/g/data/os22/chad_tmp/AusENDVI/env/py310/lib/python3.10/site-packages/dask/config.py:779: FutureWarning: Dask configuration key 'distributed.scheduler.transition-log-length' has been deprecated; please use 'distributed.admin.low-level-log-length' instead\n",
      "  warnings.warn(\n",
      "/g/data/os22/chad_tmp/AusENDVI/env/py310/lib/python3.10/site-packages/dask/config.py:779: FutureWarning: Dask configuration key 'distributed.comm.recent-messages-log-length' has been deprecated; please use 'distributed.admin.low-level-log-length' instead\n",
      "  warnings.warn(\n"
     ]
    }
   ],
   "source": [
    "%matplotlib inline\n",
    "\n",
    "import sys\n",
    "import warnings\n",
    "import odc.geo.xr\n",
    "import xarray as xr\n",
    "import branca.colormap as cm\n",
    "import matplotlib as mpl\n",
    "from odc.geo.xr import assign_crs\n",
    "\n",
    "sys.path.append('/g/data/os22/chad_tmp/AusEFlux/src/')\n",
    "from _utils import round_coords"
   ]
  },
  {
   "cell_type": "markdown",
   "id": "9f402f2d-ab13-41f3-8442-43722664c9d5",
   "metadata": {},
   "source": [
    "## Analysis Parameters\n"
   ]
  },
  {
   "cell_type": "code",
   "execution_count": null,
   "id": "b531f21e-a897-4d81-a9c0-12d607a70d61",
   "metadata": {},
   "outputs": [],
   "source": [
    "p_average = assign_crs(xr.open_dataset('/g/data/os22/chad_tmp/Aus_phenology/results/mean_phenology_perpixel.nc'), crs='EPSG:4326')\n",
    "p_trends = assign_crs(xr.open_dataset('/g/data/os22/chad_tmp/Aus_phenology/results/trends_phenology_perpixel.nc'), crs='EPSG:4326')\n",
    "p_parcorr = assign_crs(xr.open_dataset('/g/data/os22/chad_tmp/Aus_phenology/results/ios'), crs='EPSG:4326')"
   ]
  },
  {
   "cell_type": "markdown",
   "id": "17b6a9be-6f19-485c-8b27-db4e6b24cb1d",
   "metadata": {},
   "source": [
    "## Masking"
   ]
  },
  {
   "cell_type": "code",
   "execution_count": null,
   "id": "4f2d2dbc-fe90-4afe-ad7f-c6de8d848940",
   "metadata": {},
   "outputs": [],
   "source": [
    "crops = xr.open_dataset('/g/data/os22/chad_tmp/Aus_phenology/data/croplands_5km.nc')['croplands']\n",
    "crops = xr.where(crops!=1, 0, 1) #all cropping\n",
    "crops = round_coords(crops)"
   ]
  },
  {
   "cell_type": "code",
   "execution_count": null,
   "id": "1430ca66-47d5-4b1c-92a5-2bbc391c9855",
   "metadata": {},
   "outputs": [],
   "source": [
    "p_trends = round_coords(p_trends)\n",
    "p_trends = p_trends.where(crops)\n",
    "\n",
    "# p_parcorr = round_coords(p_parcorr)\n",
    "# p_parcorr = p_parcorr.where(crops)"
   ]
  },
  {
   "cell_type": "markdown",
   "id": "c0009f70-adcf-4b7e-81ac-eb792a9a0f76",
   "metadata": {},
   "source": [
    "## Long-term average phenology\n",
    "\n",
    "\n"
   ]
  },
  {
   "cell_type": "code",
   "execution_count": null,
   "id": "a0f53725-eadd-4afd-b7b9-9d23dd8c7a18",
   "metadata": {},
   "outputs": [],
   "source": [
    "var = 'SOS'\n",
    "cmap='twilight'\n",
    "vmin, vmax= 0,365\n",
    "m = p_average[var].odc.explore(\n",
    "            tiles = 'https://server.arcgisonline.com/ArcGIS/rest/services/World_Imagery/MapServer/tile/{z}/{y}/{x}',\n",
    "            attr = 'Esri',\n",
    "            name = 'Esri Satellite',\n",
    "            cmap=cmap,\n",
    "            vmin=vmin,\n",
    "            vmax=vmax\n",
    ")\n",
    "\n",
    "cmaps = mpl.colormaps[cmap]\n",
    "colormap = cm.LinearColormap(cmaps.colors, vmin=vmin,vmax=vmax, caption=var)\n",
    "m.add_child(colormap)"
   ]
  },
  {
   "cell_type": "markdown",
   "id": "04f61dc0-b943-4115-b38c-1206160d07c5",
   "metadata": {},
   "source": [
    "## Trends"
   ]
  },
  {
   "cell_type": "code",
   "execution_count": null,
   "id": "228230b7-1084-4290-afa5-5fc255e77ea3",
   "metadata": {},
   "outputs": [],
   "source": [
    "var = 'vTOS'\n",
    "cmap='BrBG'\n",
    "vmin, vmax= -0.002,0.002\n",
    "\n",
    "m = p_trends[var+'_slope'].where(p_trends['vPOS_p_value']<=0.05).odc.explore(\n",
    "            tiles = 'https://server.arcgisonline.com/ArcGIS/rest/services/World_Imagery/MapServer/tile/{z}/{y}/{x}',\n",
    "            attr = 'Esri',\n",
    "            name = 'Esri Satellite',\n",
    "            cmap=cmap,\n",
    "            vmin=vmin,\n",
    "            vmax=vmax\n",
    ")\n",
    "m\n",
    "# cmaps = mpl.colormaps[cmap]\n",
    "# colormap = cm.LinearColormap(cmaps, vmin=vmin,vmax=vmax, caption=var)\n",
    "# m.add_child(colormap)"
   ]
  },
  {
   "cell_type": "code",
   "execution_count": null,
   "id": "ffaefbb7-9957-44c0-be71-d7ce05366b9f",
   "metadata": {},
   "outputs": [],
   "source": [
    "var = 'IOS'\n",
    "cmap='PuOr'\n",
    "vmin, vmax= -1,1\n",
    "\n",
    "m = p_trends[var+'_slope'].where(p_trends[var+'_p_value']<=0.05).odc.explore(\n",
    "            tiles = 'https://server.arcgisonline.com/ArcGIS/rest/services/World_Imagery/MapServer/tile/{z}/{y}/{x}',\n",
    "            attr = 'Esri',\n",
    "            name = 'Esri Satellite',\n",
    "            cmap=cmap,\n",
    "            vmin=vmin,\n",
    "            vmax=vmax\n",
    ")\n",
    "m"
   ]
  },
  {
   "cell_type": "markdown",
   "id": "00000b8b-03d1-4523-bbcc-e18897d7d87c",
   "metadata": {},
   "source": [
    "## Seasonal component most correlated with IOS"
   ]
  },
  {
   "cell_type": "code",
   "execution_count": null,
   "id": "42c7b248-abb6-41f8-82e4-d89beba821ac",
   "metadata": {},
   "outputs": [],
   "source": [
    "import numpy as np\n",
    "import sys\n",
    "sys.path.append('/g/data/os22/chad_tmp/AusEFlux/src/')\n",
    "from _prediction import allNaN_arg\n",
    "\n",
    "import distinctipy\n",
    "from matplotlib.colors import LinearSegmentedColormap"
   ]
  },
  {
   "cell_type": "code",
   "execution_count": null,
   "id": "99ab6af8-1806-4567-9660-beb1b13f2b54",
   "metadata": {},
   "outputs": [],
   "source": [
    "max_corr = allNaN_arg(np.abs(p_parcorr.to_array()), dim='variable',stat='max', idx=False)"
   ]
  },
  {
   "cell_type": "code",
   "execution_count": null,
   "id": "37d9253e-96f2-4ff0-b1d1-5fc49104332d",
   "metadata": {},
   "outputs": [],
   "source": [
    "categories = list(p_parcorr.data_vars)\n",
    "colours = distinctipy.get_colors(len(categories), pastel_factor=0.5, rng=2)\n",
    "cmap = LinearSegmentedColormap.from_list(\"cwc\", colours, N=len(categories))\n",
    "vmin, vmax= 0,7\n",
    "\n",
    "m = max_corr.odc.explore(\n",
    "            tiles = 'https://server.arcgisonline.com/ArcGIS/rest/services/World_Imagery/MapServer/tile/{z}/{y}/{x}',\n",
    "            attr = 'Esri',\n",
    "            name = 'Esri Satellite',\n",
    "            cmap=cmap,\n",
    "            vmin=vmin,\n",
    "            vmax=vmax\n",
    ")\n",
    "m"
   ]
  },
  {
   "cell_type": "code",
   "execution_count": null,
   "id": "f1740782-71fa-45cf-9ac1-f2af493a7748",
   "metadata": {},
   "outputs": [],
   "source": []
  }
 ],
 "metadata": {
  "kernelspec": {
   "display_name": "Python 3 (ipykernel)",
   "language": "python",
   "name": "python3"
  },
  "language_info": {
   "codemirror_mode": {
    "name": "ipython",
    "version": 3
   },
   "file_extension": ".py",
   "mimetype": "text/x-python",
   "name": "python",
   "nbconvert_exporter": "python",
   "pygments_lexer": "ipython3",
   "version": "3.10.0"
  }
 },
 "nbformat": 4,
 "nbformat_minor": 5
}
