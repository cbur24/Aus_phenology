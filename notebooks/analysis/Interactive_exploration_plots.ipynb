{
 "cells": [
  {
   "cell_type": "markdown",
   "id": "8d6185d6-5015-4c74-a294-e3c3cea28081",
   "metadata": {},
   "source": [
    "# Create interactive plots\n",
    "\n",
    "This notebook is to assist in exploring the results"
   ]
  },
  {
   "cell_type": "code",
   "execution_count": null,
   "id": "be0c7445-4b35-4c1a-b586-353f4a293c32",
   "metadata": {
    "tags": []
   },
   "outputs": [],
   "source": [
    "%matplotlib inline\n",
    "\n",
    "import sys\n",
    "import warnings\n",
    "import odc.geo.xr\n",
    "import xarray as xr\n",
    "import branca.colormap as cm\n",
    "import matplotlib as mpl\n",
    "from odc.geo.xr import assign_crs\n",
    "\n",
    "sys.path.append('/g/data/os22/chad_tmp/AusEFlux/src/')\n",
    "from _utils import round_coords"
   ]
  },
  {
   "cell_type": "markdown",
   "id": "9f402f2d-ab13-41f3-8442-43722664c9d5",
   "metadata": {},
   "source": [
    "## Analysis Parameters\n"
   ]
  },
  {
   "cell_type": "code",
   "execution_count": null,
   "id": "b531f21e-a897-4d81-a9c0-12d607a70d61",
   "metadata": {},
   "outputs": [],
   "source": [
    "lin_or_circ = 'circular'\n",
    "\n",
    "p_average = assign_crs(xr.open_dataset(f'/g/data/os22/chad_tmp/Aus_phenology/results/mean_phenology_perpixel_{lin_or_circ}.nc'), crs='EPSG:4326')\n",
    "p_trends = assign_crs(xr.open_dataset(f'/g/data/os22/chad_tmp/Aus_phenology/results/trends_phenology_perpixel_{lin_or_circ}_TEST.nc'), crs='EPSG:4326')\n",
    "# p_parcorr = assign_crs(xr.open_dataset(f'/g/data/os22/chad_tmp/Aus_phenology/results/ios_analysis_perpixel_{lin_or_circ}.nc'), crs='EPSG:4326')"
   ]
  },
  {
   "cell_type": "markdown",
   "id": "17b6a9be-6f19-485c-8b27-db4e6b24cb1d",
   "metadata": {},
   "source": [
    "## Masking"
   ]
  },
  {
   "cell_type": "code",
   "execution_count": null,
   "id": "4f2d2dbc-fe90-4afe-ad7f-c6de8d848940",
   "metadata": {},
   "outputs": [],
   "source": [
    "crops = xr.open_dataset('/g/data/os22/chad_tmp/Aus_phenology/data/croplands_5km.nc')['croplands']\n",
    "crops = xr.where(crops!=1, 0, 1) #all cropping\n",
    "crops = round_coords(crops)"
   ]
  },
  {
   "cell_type": "code",
   "execution_count": null,
   "id": "1430ca66-47d5-4b1c-92a5-2bbc391c9855",
   "metadata": {},
   "outputs": [],
   "source": [
    "# p_trends = round_coords(p_trends)\n",
    "# p_trends = p_trends.where(crops)\n",
    "\n",
    "# p_parcorr = round_coords(p_parcorr)\n",
    "# p_parcorr = p_parcorr.where(crops)"
   ]
  },
  {
   "cell_type": "markdown",
   "id": "c0009f70-adcf-4b7e-81ac-eb792a9a0f76",
   "metadata": {},
   "source": [
    "## Long-term average phenology\n",
    "\n",
    "\n"
   ]
  },
  {
   "cell_type": "code",
   "execution_count": null,
   "id": "a0f53725-eadd-4afd-b7b9-9d23dd8c7a18",
   "metadata": {},
   "outputs": [],
   "source": [
    "var = 'SOS'\n",
    "cmap='twilight'\n",
    "vmin, vmax= 0, 365\n",
    "m = p_average[var].odc.explore(\n",
    "            tiles = 'https://server.arcgisonline.com/ArcGIS/rest/services/World_Imagery/MapServer/tile/{z}/{y}/{x}',\n",
    "            attr = 'Esri',\n",
    "            name = 'Esri Satellite',\n",
    "            cmap=cmap,\n",
    "            vmin=vmin,\n",
    "            vmax=vmax\n",
    ")\n",
    "\n",
    "cmaps = mpl.colormaps[cmap]\n",
    "colormap = cm.LinearColormap(cmaps.colors, vmin=vmin,vmax=vmax, caption=var)\n",
    "m.add_child(colormap)"
   ]
  },
  {
   "cell_type": "markdown",
   "id": "04f61dc0-b943-4115-b38c-1206160d07c5",
   "metadata": {},
   "source": [
    "## Trends"
   ]
  },
  {
   "cell_type": "code",
   "execution_count": null,
   "id": "8d1f555e-116b-4c24-95f7-6d789b067a62",
   "metadata": {},
   "outputs": [],
   "source": [
    "var = 'LOS'\n",
    "cmap='PuOr'\n",
    "vmin, vmax= -2,2\n",
    "\n",
    "m = p_trends[var+'_slope'].odc.explore( #.where(p_trends[var+'_p_value']<=0.05)\n",
    "            tiles = 'https://server.arcgisonline.com/ArcGIS/rest/services/World_Imagery/MapServer/tile/{z}/{y}/{x}',\n",
    "            attr = 'Esri',\n",
    "            name = 'Esri Satellite',\n",
    "            cmap=cmap,\n",
    "            vmin=vmin,\n",
    "            vmax=vmax\n",
    ")\n",
    "m"
   ]
  },
  {
   "cell_type": "code",
   "execution_count": null,
   "id": "1bfa0772-a031-4091-8c91-9cfdbc8e74b5",
   "metadata": {},
   "outputs": [],
   "source": [
    "var = 'SOS'\n",
    "cmap='RdBu_r'\n",
    "vmin, vmax= -2,2\n",
    "\n",
    "m = p_trends[var+'_slope'].odc.explore( #.where(p_trends[var+'_p_value']<=0.05)\n",
    "            tiles = 'https://server.arcgisonline.com/ArcGIS/rest/services/World_Imagery/MapServer/tile/{z}/{y}/{x}',\n",
    "            attr = 'Esri',\n",
    "            name = 'Esri Satellite',\n",
    "            cmap=cmap,\n",
    "            vmin=vmin,\n",
    "            vmax=vmax\n",
    ")\n",
    "m"
   ]
  },
  {
   "cell_type": "code",
   "execution_count": null,
   "id": "228230b7-1084-4290-afa5-5fc255e77ea3",
   "metadata": {},
   "outputs": [],
   "source": [
    "var = 'EOS'\n",
    "cmap='RdBu_r'\n",
    "vmin, vmax= -2,2\n",
    "\n",
    "m = p_trends[var+'_slope'].odc.explore( #.where(p_trends[var+'_p_value']<=0.05)\n",
    "            tiles = 'https://server.arcgisonline.com/ArcGIS/rest/services/World_Imagery/MapServer/tile/{z}/{y}/{x}',\n",
    "            attr = 'Esri',\n",
    "            name = 'Esri Satellite',\n",
    "            cmap=cmap,\n",
    "            vmin=vmin,\n",
    "            vmax=vmax\n",
    ")\n",
    "m\n",
    "# cmaps = mpl.colormaps[cmap]\n",
    "# colormap = cm.LinearColormap(cmaps, vmin=vmin, vmax=vmax, caption=var)\n",
    "# m.add_child(colormap)"
   ]
  },
  {
   "cell_type": "code",
   "execution_count": null,
   "id": "ffaefbb7-9957-44c0-be71-d7ce05366b9f",
   "metadata": {},
   "outputs": [],
   "source": [
    "var = 'IOS'\n",
    "cmap='PuOr'\n",
    "vmin, vmax= -1,1\n",
    "\n",
    "m = p_trends[var+'_slope'].where(p_trends[var+'_p_value']<=0.05).odc.explore(\n",
    "            tiles = 'https://server.arcgisonline.com/ArcGIS/rest/services/World_Imagery/MapServer/tile/{z}/{y}/{x}',\n",
    "            attr = 'Esri',\n",
    "            name = 'Esri Satellite',\n",
    "            cmap=cmap,\n",
    "            vmin=vmin,\n",
    "            vmax=vmax\n",
    ")\n",
    "m"
   ]
  },
  {
   "cell_type": "code",
   "execution_count": null,
   "id": "02ad2953-60da-4ed3-8dff-74cfc2a13f62",
   "metadata": {},
   "outputs": [],
   "source": [
    "season_per_year = p_average['n_seasons']/p_average['n_years']\n",
    "non_seasonal = xr.where((season_per_year <= 0.90),1,0)\n",
    "extra_seasonal = xr.where((season_per_year >= 1.1),1,0)\n",
    "seasonality_mask = (non_seasonal | extra_seasonal)"
   ]
  },
  {
   "cell_type": "code",
   "execution_count": null,
   "id": "b089c620-9944-4563-b034-7e063648264b",
   "metadata": {},
   "outputs": [],
   "source": [
    "vmin,vmax=0.7,1.3\n",
    "cmap='RdYlBu'\n",
    "\n",
    "m = season_per_year.odc.explore(\n",
    "            tiles = 'https://server.arcgisonline.com/ArcGIS/rest/services/World_Imagery/MapServer/tile/{z}/{y}/{x}',\n",
    "            attr = 'Esri',\n",
    "            name = 'Esri Satellite',\n",
    "            cmap=cmap,\n",
    "            vmin=vmin,\n",
    "            vmax=vmax\n",
    ")\n",
    "m"
   ]
  },
  {
   "cell_type": "markdown",
   "id": "0020bace-7139-4c7a-8ca1-2369d0527abc",
   "metadata": {},
   "source": [
    "## Percentage of pixels with change"
   ]
  },
  {
   "cell_type": "code",
   "execution_count": null,
   "id": "c0b5ae4d-08db-4d7f-aead-77190e4b2fed",
   "metadata": {},
   "outputs": [],
   "source": []
  },
  {
   "cell_type": "code",
   "execution_count": null,
   "id": "ddb105d8-20fb-4294-aacb-b55421033df4",
   "metadata": {},
   "outputs": [],
   "source": [
    "import numpy as np"
   ]
  },
  {
   "cell_type": "code",
   "execution_count": null,
   "id": "3de6ff05-990b-4aa3-8d58-2debd1c86db7",
   "metadata": {},
   "outputs": [],
   "source": [
    "for var in ['SOS', 'POS', 'EOS', 'LOS']:\n",
    "    trends = p_trends[var+'_slope'].where(seasonality_mask!=1)\n",
    "    pval = p_trends[var+'_p_value'].where(seasonality_mask!=1)\n",
    "    \n",
    "    total_nonnan = (~np.isnan(trends)).sum().values.item()\n",
    "    total_significant = (~np.isnan(trends.where(pval<=0.05))).sum()\n",
    "    significant_positive = (~np.isnan(trends.where(trends>0).where(pval <=0.05))).sum().values.item()\n",
    "    significant_negative = (~np.isnan(trends.where(trends<0).where(pval <=0.05))).sum().values.item()\n",
    "    \n",
    "    total_percent_changed = total_significant / total_nonnan * 100\n",
    "    total_percent_positive_change = significant_positive / total_nonnan * 100\n",
    "    total_percent_negative_change = significant_negative / total_nonnan * 100\n",
    "    \n",
    "    print(f'{total_percent_changed:.2f} % of valid pixels in Australia has seen significant change in {var}')\n",
    "    print(f'{total_percent_positive_change:.2f} % of valid pixels in Australia has seen significant positive trends in {var}')\n",
    "    print(f'{total_percent_negative_change:.2f} % of valid pixels in Australia has seen significant negative trends in {var}')\n",
    "    print('\\n')\n"
   ]
  },
  {
   "cell_type": "code",
   "execution_count": null,
   "id": "64df08a9-d369-4513-810c-9756812429ab",
   "metadata": {},
   "outputs": [],
   "source": [
    "p_trends[var+'_slope'].plot(vmin=-2, vmax=2)"
   ]
  },
  {
   "cell_type": "code",
   "execution_count": null,
   "id": "961dea20-35ab-4d8d-960f-1555db9575c6",
   "metadata": {},
   "outputs": [],
   "source": [
    "for var in ['vSOS', 'vPOS', 'vEOS', 'AOS', 'ROG', 'ROS', 'IOS']:\n",
    "    trends = p_trends[var+'_slope'].where(seasonality_mask!=1)\n",
    "    pval = p_trends[var+'_p_value'].where(seasonality_mask!=1)\n",
    "    \n",
    "    total_nonnan = (~np.isnan(trends)).sum().values.item()\n",
    "    total_significant = (~np.isnan(trends.where(pval<=0.05))).sum()\n",
    "    significant_positive = (~np.isnan(trends.where(trends>0).where(pval <=0.05))).sum().values.item()\n",
    "    significant_negative = (~np.isnan(trends.where(trends<0).where(pval <=0.05))).sum().values.item()\n",
    "    \n",
    "    total_percent_changed = total_significant / total_nonnan * 100\n",
    "    total_percent_positive_change = significant_positive / total_nonnan * 100\n",
    "    total_percent_negative_change = significant_negative / total_nonnan * 100\n",
    "    \n",
    "    print(f'{total_percent_changed:.2f} % of valid pixels in Australia have seen significant change in {var}')\n",
    "    print(f'{total_percent_positive_change:.2f} % of valid pixels in Australia have seen significant positive trends in {var}')\n",
    "    print(f'{total_percent_negative_change:.2f} % of valid pixels in Australia have seen significant negative trends in {var}')\n",
    "    print('\\n')"
   ]
  },
  {
   "cell_type": "markdown",
   "id": "00000b8b-03d1-4523-bbcc-e18897d7d87c",
   "metadata": {},
   "source": [
    "## Seasonal component most correlated with IOS"
   ]
  },
  {
   "cell_type": "code",
   "execution_count": null,
   "id": "42c7b248-abb6-41f8-82e4-d89beba821ac",
   "metadata": {},
   "outputs": [],
   "source": [
    "import numpy as np\n",
    "import sys\n",
    "sys.path.append('/g/data/os22/chad_tmp/AusEFlux/src/')\n",
    "from _prediction import allNaN_arg\n",
    "\n",
    "import distinctipy\n",
    "from matplotlib.colors import LinearSegmentedColormap"
   ]
  },
  {
   "cell_type": "code",
   "execution_count": null,
   "id": "99ab6af8-1806-4567-9660-beb1b13f2b54",
   "metadata": {},
   "outputs": [],
   "source": [
    "max_corr = allNaN_arg(np.abs(p_parcorr.to_array()), dim='variable',stat='max', idx=False)"
   ]
  },
  {
   "cell_type": "code",
   "execution_count": null,
   "id": "37d9253e-96f2-4ff0-b1d1-5fc49104332d",
   "metadata": {},
   "outputs": [],
   "source": [
    "categories = list(p_parcorr.data_vars)\n",
    "colours = distinctipy.get_colors(len(categories), pastel_factor=0.5, rng=2)\n",
    "cmap = LinearSegmentedColormap.from_list(\"cwc\", colours, N=len(categories))\n",
    "vmin, vmax= 0,7\n",
    "\n",
    "m = max_corr.odc.explore(\n",
    "            tiles = 'https://server.arcgisonline.com/ArcGIS/rest/services/World_Imagery/MapServer/tile/{z}/{y}/{x}',\n",
    "            attr = 'Esri',\n",
    "            name = 'Esri Satellite',\n",
    "            cmap=cmap,\n",
    "            vmin=vmin,\n",
    "            vmax=vmax\n",
    ")\n",
    "m"
   ]
  },
  {
   "cell_type": "code",
   "execution_count": null,
   "id": "f1740782-71fa-45cf-9ac1-f2af493a7748",
   "metadata": {},
   "outputs": [],
   "source": []
  }
 ],
 "metadata": {
  "kernelspec": {
   "display_name": "Python 3 (ipykernel)",
   "language": "python",
   "name": "python3"
  },
  "language_info": {
   "codemirror_mode": {
    "name": "ipython",
    "version": 3
   },
   "file_extension": ".py",
   "mimetype": "text/x-python",
   "name": "python",
   "nbconvert_exporter": "python",
   "pygments_lexer": "ipython3",
   "version": "3.10.0"
  }
 },
 "nbformat": 4,
 "nbformat_minor": 5
}
