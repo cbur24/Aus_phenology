{
 "cells": [
  {
   "cell_type": "markdown",
   "id": "8d6185d6-5015-4c74-a294-e3c3cea28081",
   "metadata": {},
   "source": [
    "# Create interactive plots\n",
    "\n",
    "This notebook is to assist in exploring the phenology results"
   ]
  },
  {
   "cell_type": "code",
   "execution_count": null,
   "id": "be0c7445-4b35-4c1a-b586-353f4a293c32",
   "metadata": {
    "tags": []
   },
   "outputs": [],
   "source": [
    "%matplotlib inline\n",
    "\n",
    "import sys\n",
    "import warnings\n",
    "import odc.geo.xr\n",
    "import xarray as xr\n",
    "import branca.colormap as cm\n",
    "import matplotlib as mpl\n",
    "from odc.geo.xr import assign_crs\n",
    "\n",
    "sys.path.append('/g/data/os22/chad_tmp/AusEFlux/src/')\n",
    "from _utils import round_coords"
   ]
  },
  {
   "cell_type": "markdown",
   "id": "9f402f2d-ab13-41f3-8442-43722664c9d5",
   "metadata": {},
   "source": [
    "## Analysis Parameters\n"
   ]
  },
  {
   "cell_type": "code",
   "execution_count": null,
   "id": "b531f21e-a897-4d81-a9c0-12d607a70d61",
   "metadata": {},
   "outputs": [],
   "source": [
    "lin_or_circ = 'circular'\n",
    "\n",
    "p_average = assign_crs(xr.open_dataset(f'/g/data/os22/chad_tmp/Aus_phenology/results/mean_phenology_perpixel_{lin_or_circ}.nc'), crs='EPSG:4326')\n",
    "p_trends = assign_crs(xr.open_dataset(f'/g/data/os22/chad_tmp/Aus_phenology/results/trends_phenology_perpixel_{lin_or_circ}.nc'), crs='EPSG:4326')\n",
    "# p_parcorr = assign_crs(xr.open_dataset(f'/g/data/os22/chad_tmp/Aus_phenology/results/ios_analysis_perpixel_{lin_or_circ}.nc'), crs='EPSG:4326')"
   ]
  },
  {
   "cell_type": "markdown",
   "id": "17b6a9be-6f19-485c-8b27-db4e6b24cb1d",
   "metadata": {},
   "source": [
    "## Masking"
   ]
  },
  {
   "cell_type": "code",
   "execution_count": null,
   "id": "4f2d2dbc-fe90-4afe-ad7f-c6de8d848940",
   "metadata": {},
   "outputs": [],
   "source": [
    "season_per_year = p_average['n_seasons']/p_average['n_years']\n",
    "non_seasonal = xr.where((season_per_year <= 0.90),1,0)\n",
    "extra_seasonal = xr.where((season_per_year >= 1.1),1,0)\n",
    "seasonality_mask = (non_seasonal | extra_seasonal)"
   ]
  },
  {
   "cell_type": "markdown",
   "id": "c0009f70-adcf-4b7e-81ac-eb792a9a0f76",
   "metadata": {},
   "source": [
    "## Long-term average phenology\n",
    "\n",
    "\n"
   ]
  },
  {
   "cell_type": "code",
   "execution_count": null,
   "id": "a0f53725-eadd-4afd-b7b9-9d23dd8c7a18",
   "metadata": {},
   "outputs": [],
   "source": [
    "var = 'SOS'\n",
    "cmap='twilight'\n",
    "vmin, vmax= 0, 365\n",
    "m = p_average[var].odc.explore(\n",
    "            tiles = 'https://server.arcgisonline.com/ArcGIS/rest/services/World_Imagery/MapServer/tile/{z}/{y}/{x}',\n",
    "            attr = 'Esri',\n",
    "            name = 'Esri Satellite',\n",
    "            cmap=cmap,\n",
    "            vmin=vmin,\n",
    "            vmax=vmax\n",
    ")\n",
    "\n",
    "cmaps = mpl.colormaps[cmap]\n",
    "colormap = cm.LinearColormap(cmaps.colors, vmin=vmin,vmax=vmax, caption=var)\n",
    "m.add_child(colormap)"
   ]
  },
  {
   "cell_type": "code",
   "execution_count": null,
   "id": "49e8b1d7-fac0-42cd-8b1a-dcad365fc903",
   "metadata": {},
   "outputs": [],
   "source": [
    "var = 'EOS'\n",
    "cmap='twilight'\n",
    "vmin, vmax= 0, 365\n",
    "m = p_average[var].odc.explore(\n",
    "            tiles = 'https://server.arcgisonline.com/ArcGIS/rest/services/World_Imagery/MapServer/tile/{z}/{y}/{x}',\n",
    "            attr = 'Esri',\n",
    "            name = 'Esri Satellite',\n",
    "            cmap=cmap,\n",
    "            vmin=vmin,\n",
    "            vmax=vmax\n",
    ")\n",
    "\n",
    "cmaps = mpl.colormaps[cmap]\n",
    "colormap = cm.LinearColormap(cmaps.colors, vmin=vmin,vmax=vmax, caption=var)\n",
    "m.add_child(colormap)"
   ]
  },
  {
   "cell_type": "markdown",
   "id": "04f61dc0-b943-4115-b38c-1206160d07c5",
   "metadata": {},
   "source": [
    "## Trends"
   ]
  },
  {
   "cell_type": "code",
   "execution_count": null,
   "id": "1bfa0772-a031-4091-8c91-9cfdbc8e74b5",
   "metadata": {},
   "outputs": [],
   "source": [
    "var = 'SOS'\n",
    "cmap='RdBu_r'\n",
    "vmin, vmax= -2,2\n",
    "\n",
    "m = p_trends[var+'_slope'].odc.explore( #.where(p_trends[var+'_p_value']<=0.05)\n",
    "            tiles = 'https://server.arcgisonline.com/ArcGIS/rest/services/World_Imagery/MapServer/tile/{z}/{y}/{x}',\n",
    "            attr = 'Esri',\n",
    "            name = 'Esri Satellite',\n",
    "            cmap=cmap,\n",
    "            vmin=vmin,\n",
    "            vmax=vmax\n",
    ")\n",
    "m"
   ]
  },
  {
   "cell_type": "code",
   "execution_count": null,
   "id": "228230b7-1084-4290-afa5-5fc255e77ea3",
   "metadata": {},
   "outputs": [],
   "source": [
    "var = 'POS'\n",
    "cmap='RdBu_r'\n",
    "vmin, vmax= -2,2\n",
    "\n",
    "m = p_trends[var+'_slope'].where(seasonality_mask!=1).odc.explore( #.where(p_trends[var+'_p_value']<=0.05)\n",
    "            tiles = 'https://server.arcgisonline.com/ArcGIS/rest/services/World_Imagery/MapServer/tile/{z}/{y}/{x}',\n",
    "            attr = 'Esri',\n",
    "            name = 'Esri Satellite',\n",
    "            cmap=cmap,\n",
    "            vmin=vmin,\n",
    "            vmax=vmax\n",
    ")\n",
    "m\n",
    "# cmaps = mpl.colormaps[cmap]\n",
    "# colormap = cm.LinearColormap(cmaps, vmin=vmin, vmax=vmax, caption=var)\n",
    "# m.add_child(colormap)"
   ]
  },
  {
   "cell_type": "code",
   "execution_count": null,
   "id": "c9e3a2e2-23db-49ae-959b-e44277792d75",
   "metadata": {},
   "outputs": [],
   "source": [
    "var = 'EOS'\n",
    "cmap='RdBu_r'\n",
    "vmin, vmax= -2,2\n",
    "\n",
    "m = p_trends[var+'_slope'].odc.explore( #.where(p_trends[var+'_p_value']<=0.05)\n",
    "            tiles = 'https://server.arcgisonline.com/ArcGIS/rest/services/World_Imagery/MapServer/tile/{z}/{y}/{x}',\n",
    "            attr = 'Esri',\n",
    "            name = 'Esri Satellite',\n",
    "            cmap=cmap,\n",
    "            vmin=vmin,\n",
    "            vmax=vmax\n",
    ")\n",
    "m"
   ]
  },
  {
   "cell_type": "code",
   "execution_count": null,
   "id": "ffaefbb7-9957-44c0-be71-d7ce05366b9f",
   "metadata": {},
   "outputs": [],
   "source": [
    "var = 'IOS'\n",
    "cmap='PuOr'\n",
    "vmin, vmax= -1,1\n",
    "\n",
    "m = p_trends[var+'_slope'].where(p_trends[var+'_p_value']<=0.05).odc.explore(\n",
    "            tiles = 'https://server.arcgisonline.com/ArcGIS/rest/services/World_Imagery/MapServer/tile/{z}/{y}/{x}',\n",
    "            attr = 'Esri',\n",
    "            name = 'Esri Satellite',\n",
    "            cmap=cmap,\n",
    "            vmin=vmin,\n",
    "            vmax=vmax\n",
    ")\n",
    "m"
   ]
  },
  {
   "cell_type": "code",
   "execution_count": null,
   "id": "8a37c765-5780-44ae-8a8b-c4e7c9d0f007",
   "metadata": {},
   "outputs": [],
   "source": [
    "var = 'AOS'\n",
    "cmap='PiYG'\n",
    "vmin, vmax= -0.0025, 0.0025\n",
    "\n",
    "m = p_trends[var+'_slope'].where(p_trends[var+'_p_value']<=0.05).odc.explore( #.where(p_trends[var+'_p_value']<=0.05)\n",
    "            tiles = 'https://server.arcgisonline.com/ArcGIS/rest/services/World_Imagery/MapServer/tile/{z}/{y}/{x}',\n",
    "            attr = 'Esri',\n",
    "            name = 'Esri Satellite',\n",
    "            cmap=cmap,\n",
    "            vmin=vmin,\n",
    "            vmax=vmax\n",
    ")\n",
    "m"
   ]
  },
  {
   "cell_type": "code",
   "execution_count": null,
   "id": "b089c620-9944-4563-b034-7e063648264b",
   "metadata": {},
   "outputs": [],
   "source": [
    "vmin,vmax=0.7,1.3\n",
    "cmap='RdYlBu'\n",
    "\n",
    "m = season_per_year.odc.explore(\n",
    "            tiles = 'https://server.arcgisonline.com/ArcGIS/rest/services/World_Imagery/MapServer/tile/{z}/{y}/{x}',\n",
    "            attr = 'Esri',\n",
    "            name = 'Esri Satellite',\n",
    "            cmap=cmap,\n",
    "            vmin=vmin,\n",
    "            vmax=vmax\n",
    ")\n",
    "m"
   ]
  }
 ],
 "metadata": {
  "kernelspec": {
   "display_name": "Python 3 (ipykernel)",
   "language": "python",
   "name": "python3"
  },
  "language_info": {
   "codemirror_mode": {
    "name": "ipython",
    "version": 3
   },
   "file_extension": ".py",
   "mimetype": "text/x-python",
   "name": "python",
   "nbconvert_exporter": "python",
   "pygments_lexer": "ipython3",
   "version": "3.10.0"
  }
 },
 "nbformat": 4,
 "nbformat_minor": 5
}
