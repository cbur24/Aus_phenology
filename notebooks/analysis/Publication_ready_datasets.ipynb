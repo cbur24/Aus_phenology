{
 "cells": [
  {
   "cell_type": "markdown",
   "id": "8d6185d6-5015-4c74-a294-e3c3cea28081",
   "metadata": {},
   "source": [
    "# Prepare datasets for publishing"
   ]
  },
  {
   "cell_type": "code",
   "execution_count": null,
   "id": "be0c7445-4b35-4c1a-b586-353f4a293c32",
   "metadata": {
    "tags": []
   },
   "outputs": [],
   "source": [
    "%matplotlib inline\n",
    "\n",
    "import sys\n",
    "import warnings\n",
    "import odc.geo.xr\n",
    "import numpy as np\n",
    "import xarray as xr\n",
    "import matplotlib.pyplot as plt\n",
    "from odc.geo.xr import assign_crs"
   ]
  },
  {
   "cell_type": "markdown",
   "id": "9f402f2d-ab13-41f3-8442-43722664c9d5",
   "metadata": {},
   "source": [
    "## Open datasets\n"
   ]
  },
  {
   "cell_type": "code",
   "execution_count": null,
   "id": "b531f21e-a897-4d81-a9c0-12d607a70d61",
   "metadata": {},
   "outputs": [],
   "source": [
    "p_average = assign_crs(xr.open_dataset(f'/g/data/os22/chad_tmp/Aus_phenology/results/mean_phenology_perpixel_circular.nc'), crs='EPSG:4326')\n",
    "p_trends = assign_crs(xr.open_dataset(f'/g/data/os22/chad_tmp/Aus_phenology/results/trends_phenology_perpixel_circular.nc'), crs='EPSG:4326')"
   ]
  },
  {
   "cell_type": "markdown",
   "id": "17b6a9be-6f19-485c-8b27-db4e6b24cb1d",
   "metadata": {},
   "source": [
    "## Masking"
   ]
  },
  {
   "cell_type": "code",
   "execution_count": null,
   "id": "4f2d2dbc-fe90-4afe-ad7f-c6de8d848940",
   "metadata": {},
   "outputs": [],
   "source": [
    "season_per_year = p_average['n_seasons']/p_average['n_years']\n",
    "non_seasonal = xr.where((season_per_year <= 0.90),1,0)\n",
    "extra_seasonal = xr.where((season_per_year >= 1.1),1,0)\n",
    "seasonality_mask = (non_seasonal | extra_seasonal)\n",
    "\n",
    "sos_nan = np.isnan(p_trends['SOS_slope']).where(~np.isnan(p_average['SOS']))\n",
    "sos_nan = xr.where((sos_nan==1) & (seasonality_mask==0), 1, 0)\n",
    "\n",
    "eos_nan = np.isnan(p_trends['EOS_slope']).where(~np.isnan(p_average['EOS']))\n",
    "eos_nan = xr.where((eos_nan==1) & (seasonality_mask==0), 1, 0)\n",
    "\n",
    "pos_nan = np.isnan(p_trends['POS_slope']).where(~np.isnan(p_average['POS']))\n",
    "pos_nan = xr.where((pos_nan==1) & (seasonality_mask==0), 1, 0)\n",
    "\n",
    "extra_mask = (seasonality_mask | sos_nan | eos_nan | pos_nan)"
   ]
  },
  {
   "cell_type": "code",
   "execution_count": null,
   "id": "f1740782-71fa-45cf-9ac1-f2af493a7748",
   "metadata": {},
   "outputs": [],
   "source": [
    "p_average = p_average.where(seasonality_mask!=1)\n",
    "p_trends = p_trends.where(extra_mask!=1)"
   ]
  },
  {
   "cell_type": "markdown",
   "id": "88c52e75-7deb-4272-bbd6-69b2d6519777",
   "metadata": {},
   "source": [
    "## Plot"
   ]
  },
  {
   "cell_type": "code",
   "execution_count": null,
   "id": "dd618bc2-f97b-4b87-be0c-9a811854ea41",
   "metadata": {},
   "outputs": [],
   "source": [
    "fig,ax = plt.subplots(1,2, figsize=(10,4),sharey=True, layout='constrained')\n",
    "p_average['SOS'].plot(ax=ax[0], cmap='twilight')\n",
    "p_trends['SOS_slope'].plot(ax=ax[1], cmap='RdBu_r');\n",
    "ax[0].set_title('SOS')\n",
    "ax[1].set_title('SOS trend');"
   ]
  },
  {
   "cell_type": "markdown",
   "id": "2ead666b-7e16-4512-a2f5-e6cc1bc48146",
   "metadata": {},
   "source": [
    "## Add metadata"
   ]
  },
  {
   "cell_type": "code",
   "execution_count": null,
   "id": "e6e06703-cdd3-4277-ae43-cd100b3fdba7",
   "metadata": {},
   "outputs": [],
   "source": [
    "attrs_dict_average={}\n",
    "attrs_dict_average['nodata'] = np.nan\n",
    "attrs_dict_average['crs'] = 'EPSG:4326'\n",
    "attrs_dict_average['version'] = 'v1.0'\n",
    "attrs_dict_average['description'] = 'Long-term (1982-2022) average land surface phenology for Australia. Variables SOS, POS, EOS, TOS are calculated using the circular mean approach, while the SOS_std, POS_std, EOS_std, TOS_std refer to the circular standard deviation of the same variables. All other variables are calculated using a median statistic. Refer to the accompanying publication for acronym descriptions.'\n",
    "attrs_dict_average['citation'] = 'TBC'\n",
    "attrs_dict_average['email'] = 'chad.burton@anu.edu.au'\n",
    "p_average.attrs = attrs_dict_average\n",
    "p_average"
   ]
  },
  {
   "cell_type": "code",
   "execution_count": null,
   "id": "fe3cd6ad-b977-438a-bc3f-a436b9425f61",
   "metadata": {},
   "outputs": [],
   "source": [
    "attrs_dict_trend={}\n",
    "attrs_dict_trend['nodata'] = np.nan\n",
    "attrs_dict_trend['crs'] = 'EPSG:4326'\n",
    "attrs_dict_trend['version'] = 'v1.0'\n",
    "attrs_dict_trend['description'] = 'Long-term (1982-2022) land surface phenology trends for Australia. Refer to the accompanying publication for acronym  descriptions and for a description of how trends are calculated.'\n",
    "attrs_dict_trend['citation'] = 'TBC'\n",
    "attrs_dict_trend['email'] = 'chad.burton@anu.edu.au'\n",
    "p_trends.attrs = attrs_dict_trend\n",
    "p_trends"
   ]
  },
  {
   "cell_type": "markdown",
   "id": "5b5ca464-c8a1-4921-b660-cf5d751d23c9",
   "metadata": {},
   "source": [
    "## Export"
   ]
  },
  {
   "cell_type": "code",
   "execution_count": null,
   "id": "dda1f613-b355-4c68-9903-0e9f23ddc28b",
   "metadata": {},
   "outputs": [],
   "source": [
    "p_average.to_netcdf('/g/data/os22/chad_tmp/Aus_phenology/results/publication_datasets/Australian_LSP_average_1982_2022_v1.0.nc')\n",
    "p_trends.to_netcdf('/g/data/os22/chad_tmp/Aus_phenology/results/publication_datasets/Australian_LSP_trends_1982_2022_v1.0.nc')"
   ]
  },
  {
   "cell_type": "code",
   "execution_count": null,
   "id": "baa254c4-68b3-4b32-ab15-982748d6df08",
   "metadata": {},
   "outputs": [],
   "source": []
  }
 ],
 "metadata": {
  "kernelspec": {
   "display_name": "Python 3 (ipykernel)",
   "language": "python",
   "name": "python3"
  },
  "language_info": {
   "codemirror_mode": {
    "name": "ipython",
    "version": 3
   },
   "file_extension": ".py",
   "mimetype": "text/x-python",
   "name": "python",
   "nbconvert_exporter": "python",
   "pygments_lexer": "ipython3",
   "version": "3.10.0"
  }
 },
 "nbformat": 4,
 "nbformat_minor": 5
}
