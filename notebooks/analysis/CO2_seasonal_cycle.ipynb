{
 "cells": [
  {
   "cell_type": "markdown",
   "id": "5a5f6b17-d024-468c-b8d7-0b143035125d",
   "metadata": {},
   "source": [
    "# Atmospheric CO2 seasonal cycles\n",
    "\n",
    "Using the data from Cape Grimm"
   ]
  },
  {
   "cell_type": "code",
   "execution_count": null,
   "id": "a9e32e98-c099-4a0e-8955-a1ef06f09c57",
   "metadata": {},
   "outputs": [],
   "source": [
    "import pandas as pd\n",
    "import matplotlib.pyplot as plt\n",
    "import xarray as xr\n",
    "import seaborn as sb\n",
    "import numpy as np\n",
    "import statsmodels.formula.api as smf\n",
    "from scipy.signal import detrend"
   ]
  },
  {
   "cell_type": "code",
   "execution_count": null,
   "id": "48e96c35-a25b-4b4f-aa1b-6e4500c51ac7",
   "metadata": {},
   "outputs": [],
   "source": [
    "df = pd.read_csv('/g/data/os22/chad_tmp/AusENDVI/data/CapeGrim_CO2_data.csv')\n",
    "df['time']= pd.to_datetime(df[['year', 'month', 'day']])\n",
    "df  = df.set_index('time').drop(['year', 'month', 'day'], axis=1)\n",
    "\n",
    "#detrend\n",
    "df['CO2(ppm)'] = detrend(df['CO2(ppm)'].values)"
   ]
  },
  {
   "cell_type": "code",
   "execution_count": null,
   "id": "cf1e464a-8159-4c44-a2d5-4c862ecdc2c5",
   "metadata": {},
   "outputs": [],
   "source": [
    "ds = df.to_xarray()\n",
    "ds = ds.sel(time=slice('1982','2022'))"
   ]
  },
  {
   "cell_type": "code",
   "execution_count": null,
   "id": "bfa307b0-ef82-409a-8798-b43668dc8641",
   "metadata": {},
   "outputs": [],
   "source": [
    "early_mean = ds['CO2(ppm)'].sel(time=slice('1982','2000')).mean('time')\n",
    "early_clim = ds['CO2(ppm)'].sel(time=slice('1982','2000')).groupby('time.month').mean()\n",
    "\n",
    "late_mean = ds['CO2(ppm)'].sel(time=slice('2001','2022')).mean('time')\n",
    "late_clim = ds['CO2(ppm)'].sel(time=slice('2001','2022')).groupby('time.month').mean()\n",
    "\n",
    "(early_clim-early_mean).plot(label='1982-2000')\n",
    "(late_clim-late_mean).plot(label='2001-2022')\n",
    "\n",
    "plt.legend()\n",
    "plt.title('Cape Grim CO2 average annual cycle (detrended and normalised)');"
   ]
  },
  {
   "cell_type": "code",
   "execution_count": null,
   "id": "a46e85af-a905-4d9d-911f-fd816b7d6b17",
   "metadata": {},
   "outputs": [],
   "source": [
    "def range(ds):\n",
    "    return ds.max() - ds.min()\n",
    "\n",
    "annual_range = ds['CO2(ppm)'].groupby('time.year').apply(range)"
   ]
  },
  {
   "cell_type": "code",
   "execution_count": null,
   "id": "24627e4d-cae5-40a4-8e8d-b3411fb1a4b0",
   "metadata": {},
   "outputs": [],
   "source": [
    "df = annual_range.to_dataframe().reset_index().rename({'year':'x', 'CO2(ppm)':'y'}, axis=1)\n",
    "\n",
    "weights = np.polyfit(df['x'],df['y'], 1)\n",
    "model = np.poly1d(weights)\n",
    "results = smf.ols(formula='y ~ model(x)', data=df).fit()\n",
    "p = results.pvalues['model(x)']\n",
    "r2 = results.rsquared\n",
    "\n",
    "fig,ax = plt.subplots(1,1, figsize=(7,4))\n",
    "annual_range.plot(ax=ax)\n",
    "sb.lineplot(ax=ax, x=df['x'], y=model(df['x']), color=\"blue\", lw=1)\n",
    "ax.text(0.10, 0.85, f\"$p$: {p:.3f}\\n$R^2$: {r2:.2f}\", transform=ax.transAxes, fontsize=10)\n",
    "ax.grid(alpha=0.75)\n",
    "ax.set_ylabel('Annual range in CO2 (ppm)')\n",
    "ax.set_xlabel(None)\n",
    "plt.title('Cape Grim annual CO2 range (detrended)');"
   ]
  }
 ],
 "metadata": {
  "kernelspec": {
   "display_name": "Python 3 (ipykernel)",
   "language": "python",
   "name": "python3"
  },
  "language_info": {
   "codemirror_mode": {
    "name": "ipython",
    "version": 3
   },
   "file_extension": ".py",
   "mimetype": "text/x-python",
   "name": "python",
   "nbconvert_exporter": "python",
   "pygments_lexer": "ipython3",
   "version": "3.10.0"
  }
 },
 "nbformat": 4,
 "nbformat_minor": 5
}
