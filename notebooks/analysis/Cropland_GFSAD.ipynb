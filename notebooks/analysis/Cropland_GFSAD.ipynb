{
 "cells": [
  {
   "cell_type": "markdown",
   "metadata": {},
   "source": [
    "# Process GFSAD rainfed and irrigated cropping layers for Australia\n",
    "\n",
    "Downloaded from here: https://lpdaac.usgs.gov/products/lgrip30v001/\n"
   ]
  },
  {
   "cell_type": "markdown",
   "metadata": {},
   "source": [
    "## Load packages"
   ]
  },
  {
   "cell_type": "code",
   "execution_count": null,
   "metadata": {},
   "outputs": [],
   "source": [
    "import sys\n",
    "import os\n",
    "import xarray as xr\n",
    "import rioxarray as rxr\n",
    "from rioxarray import merge\n",
    "from odc.geo.xr import assign_crs\n",
    "from odc.geo.xr import write_cog"
   ]
  },
  {
   "cell_type": "markdown",
   "metadata": {},
   "source": [
    "## Combine tiles"
   ]
  },
  {
   "cell_type": "code",
   "execution_count": null,
   "metadata": {},
   "outputs": [],
   "source": [
    "base='/g/data/os22/chad_tmp/Aus_phenology/data/gfsad/'\n",
    "files = [base+i for i in os.listdir(base)]\n",
    "\n",
    "tifs = []\n",
    "for f in files:\n",
    "    tifs.append(rxr.open_rasterio(f).squeeze().drop_vars('band'))\n",
    "\n",
    "merged = merge.merge_arrays(tifs)\n",
    "merged = assign_crs(merged, crs='EPSG:4326')\n",
    "\n",
    "#save and then reload\n",
    "write_cog(merged, fname='/g/data/os22/chad_tmp/Aus_phenology/data/croplands_30m.tif')"
   ]
  },
  {
   "cell_type": "markdown",
   "metadata": {},
   "source": [
    "## Open and reproject to 5 km resolution\n",
    "\n",
    "This is a tradeoff between high-enough resolution to resolve smaller irrigated regions, while not having too much complexity in the final vector file. Keep in mind the NDVI data is 5 km resolution"
   ]
  },
  {
   "cell_type": "code",
   "execution_count": null,
   "metadata": {},
   "outputs": [],
   "source": [
    "import sys\n",
    "import xarray as xr\n",
    "import rioxarray as rxr\n",
    "from odc.geo.xr import assign_crs\n",
    "\n",
    "# sys.path.append('/g/data/os22/chad_tmp/AusEFlux/src/')\n",
    "# from _utils import start_local_dask\n",
    "# start_local_dask()"
   ]
  },
  {
   "cell_type": "code",
   "execution_count": null,
   "metadata": {},
   "outputs": [],
   "source": [
    "#reopen file\n",
    "ds = rxr.open_rasterio('/g/data/os22/chad_tmp/Aus_phenology/data/croplands_30m.tif',\n",
    "                      chunks=dict(x=250, y=250)).squeeze().drop_vars('band')\n",
    "ds.attrs['nodata'] = 0"
   ]
  },
  {
   "cell_type": "code",
   "execution_count": null,
   "metadata": {},
   "outputs": [],
   "source": [
    "#file to reproject too\n",
    "# ds_path = '/g/data/os22/chad_tmp/NEE_modelling/data/1km/Landcover_1km_monthly_2002_2021.nc'\n",
    "ds_path = '/g/data/os22/chad_tmp/AusENDVI/results/publication/AusENDVI-clim_MCD43A4_gapfilled_1982_2022.nc'\n",
    "gbox = assign_crs(xr.open_dataset(ds_path), crs='EPSG:4326').odc.geobox\n",
    "\n",
    "ds = ds.odc.reproject(how=gbox,resampling='mode').compute()\n",
    "ds = ds.rename('croplands')"
   ]
  },
  {
   "cell_type": "code",
   "execution_count": null,
   "metadata": {},
   "outputs": [],
   "source": [
    "# ds.plot.imshow(size=10)\n",
    "ds.to_netcdf('/g/data/os22/chad_tmp/Aus_phenology/data/croplands_5km.nc')"
   ]
  },
  {
   "cell_type": "code",
   "execution_count": null,
   "metadata": {},
   "outputs": [],
   "source": [
    "ds.odc.explore(\n",
    "           tiles = 'https://server.arcgisonline.com/ArcGIS/rest/services/World_Imagery/MapServer/tile/{z}/{y}/{x}',\n",
    "           attr = 'Esri',\n",
    "           name = 'Esri Satellite',\n",
    "           )"
   ]
  },
  {
   "cell_type": "markdown",
   "metadata": {},
   "source": [
    "### Make a figure."
   ]
  },
  {
   "cell_type": "code",
   "execution_count": null,
   "metadata": {},
   "outputs": [],
   "source": [
    "import contextily as ctx\n",
    "import matplotlib.pyplot as plt\n",
    "import distinctipy\n",
    "from matplotlib.colors import LinearSegmentedColormap\n",
    "from matplotlib.patches import Patch"
   ]
  },
  {
   "cell_type": "code",
   "execution_count": null,
   "metadata": {},
   "outputs": [],
   "source": [
    "ds=xr.open_dataset('/g/data/os22/chad_tmp/Aus_phenology/data/croplands_5km.nc')['croplands']"
   ]
  },
  {
   "cell_type": "code",
   "execution_count": null,
   "metadata": {},
   "outputs": [],
   "source": [
    "ds.plot()"
   ]
  },
  {
   "cell_type": "code",
   "execution_count": null,
   "metadata": {},
   "outputs": [],
   "source": [
    "fig,ax=plt.subplots(1,1, figsize=(7,6), sharey=True, sharex=True, layout='constrained')\n",
    "\n",
    "names=['Rainfed', 'Irrigated']\n",
    "names.sort()\n",
    "colors = distinctipy.get_colors(len(names), pastel_factor=0.3)\n",
    "legend_elements = [Patch(facecolor=c, edgecolor=c,label=n) for c,n in zip(colors,names)]\n",
    "\n",
    "\n",
    "im= ds.where(ds>1).plot(ax=ax,cmap=LinearSegmentedColormap.from_list(\n",
    "        'ecoregions', colors, N=len(names)), add_colorbar=False, add_labels=False)\n",
    "ctx.add_basemap(ax, source=ctx.providers.CartoDB.VoyagerNoLabels, crs='EPSG:4326', attribution='', attribution_size=1)\n",
    "# cbar = plt.colorbar(im, shrink=0.75, orientation='vertical')\n",
    "# cbar.ax.set_title('NDVI', fontsize=10)\n",
    "ax.set_title('GFSAD croplands at 5km resolution', fontsize=14);\n",
    "\n",
    "# # Create the figure\n",
    "# fig, ax = plt.subplots()\n",
    "# ax.axis(False)\n",
    "ax.legend(handles=legend_elements, loc=\"best\", fontsize=10, ncol=1);\n",
    "fig.savefig('/g/data/os22/chad_tmp/Aus_phenology/results/figs/GFSAD_croplands.png', bbox_inches='tight', dpi=300)"
   ]
  },
  {
   "cell_type": "code",
   "execution_count": null,
   "metadata": {},
   "outputs": [],
   "source": []
  }
 ],
 "metadata": {
  "kernelspec": {
   "display_name": "Python 3 (ipykernel)",
   "language": "python",
   "name": "python3"
  },
  "language_info": {
   "codemirror_mode": {
    "name": "ipython",
    "version": 3
   },
   "file_extension": ".py",
   "mimetype": "text/x-python",
   "name": "python",
   "nbconvert_exporter": "python",
   "pygments_lexer": "ipython3",
   "version": "3.10.0"
  }
 },
 "nbformat": 4,
 "nbformat_minor": 4
}
