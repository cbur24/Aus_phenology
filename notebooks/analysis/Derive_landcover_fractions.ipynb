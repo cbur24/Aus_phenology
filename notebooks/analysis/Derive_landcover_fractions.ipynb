{
 "cells": [
  {
   "cell_type": "markdown",
   "id": "fc3b47f3-76d3-453f-8d98-d18f262c9bce",
   "metadata": {},
   "source": [
    "# Long-term veg cover fractions (Trees, Grass, Bare)\n",
    "\n",
    "Following [Donohue 2009](https://onlinelibrary.wiley.com/doi/full/10.1111/j.1365-2486.2008.01746.x)"
   ]
  },
  {
   "cell_type": "code",
   "execution_count": null,
   "id": "fb3bd8fc-db42-41f3-b75e-a8616375a27d",
   "metadata": {},
   "outputs": [],
   "source": [
    "import xarray as xr\n",
    "import numpy as np\n",
    "from odc.geo.xr import assign_crs\n",
    "import matplotlib.pyplot as plt"
   ]
  },
  {
   "cell_type": "markdown",
   "id": "caeb0599-daf5-4205-af36-2e477f4ef035",
   "metadata": {},
   "source": [
    "## Analysis Parameters"
   ]
  },
  {
   "cell_type": "code",
   "execution_count": null,
   "id": "d00bc5bd-c9f3-413f-a6c5-6323e357d43b",
   "metadata": {},
   "outputs": [],
   "source": [
    "# enter NDVI value of bare soil (or path to perpixel estimate)\n",
    "ndvi_min = '/g/data/xc0/project/AusEFlux/data/ndvi_of_baresoil_5km.nc'\n",
    "\n",
    "# likely maximum NDVI\n",
    "ndvi_max = 0.91\n",
    "\n",
    "#ndvi data is here\n",
    "ndvi_path = '/g/data/os22/chad_tmp/AusENDVI/results/publication/AusENDVI-clim_MCD43A4_gapfilled_1982_2022_0.2.0.nc'\n",
    "\n",
    "#Export location\n",
    "results_path = '/g/data/os22/chad_tmp/Aus_phenology/data/'"
   ]
  },
  {
   "cell_type": "markdown",
   "id": "412f683f-2779-453e-aa19-082e0f26e0a6",
   "metadata": {},
   "source": [
    "## Open NDVI data"
   ]
  },
  {
   "cell_type": "code",
   "execution_count": null,
   "id": "5f44ae50-7c94-4034-a3d1-f4a47feb0c24",
   "metadata": {},
   "outputs": [],
   "source": [
    "ds = xr.open_dataset(ndvi_path)['AusENDVI_clim_MCD43A4']"
   ]
  },
  {
   "cell_type": "markdown",
   "id": "89c40a50-77d5-4b7c-bb33-6940aba74b69",
   "metadata": {},
   "source": [
    "## Define function"
   ]
  },
  {
   "cell_type": "code",
   "execution_count": null,
   "id": "44dae1f7-7b53-4e7b-986e-6d0baf731968",
   "metadata": {},
   "outputs": [],
   "source": [
    "def _vegetation_fractions(\n",
    "    ds, #ndvi data\n",
    "    ndvi_min=0.141,\n",
    "    ndvi_max=0.91,\n",
    "    dask_chunks=None#dict(latitude=250, longitude=250, time=-1\n",
    "):\n",
    "    \"\"\"\n",
    "    Calculate per-pixel fraction of trees, grass, bare using the methods defined by\n",
    "    Donohue et al. (2009).\n",
    "\n",
    "    Requires NDVI (not any other vegetation index).\n",
    "\n",
    "    `ndvi_min` is the minimum NDVI that a pixel can achieve, this can either be\n",
    "    a float (e.g 0.141) or a path to a per-pixel estimate of minimum NDVI. \n",
    "    \n",
    "    \"\"\"\n",
    "    \n",
    "    # NDVI value of bare soil (supplied by Luigi Renzullo)\n",
    "    if isinstance(ndvi_min, str): \n",
    "        ndvi_min = xr.open_dataarray(ndvi_min)\n",
    "\n",
    "    #calculate f-total\n",
    "    ft = (ds - ndvi_min) / (ndvi_max - ndvi_min)\n",
    "    ft = xr.where(ft<0, 0, ft)\n",
    "    ft = xr.where(ft>1, 1, ft)\n",
    "    \n",
    "    #calculate initial persistent fraction (equation 1 & 2 in Donohue 2009)\n",
    "    persist = ft.rolling(time=7, min_periods=1).min()\n",
    "    persist = persist.rolling(time=9, min_periods=1).mean()\n",
    "    \n",
    "    #calculate initial recurrent fraction (equation 3 in Donohue 2009)\n",
    "    recurrent = ft - persist\n",
    "    \n",
    "    ###------- equations 4 & 5 in Donohue 2009----------------\n",
    "    persist = xr.where(recurrent<0, persist - np.abs(recurrent), persist) #eq4\n",
    "    recurrent = ft - persist # eq 5\n",
    "    ## ---------------------------------------------------------\n",
    "    \n",
    "    #ensure values are between 0 and 1\n",
    "    persist = xr.where(persist<0, 0, persist)\n",
    "    recurrent = xr.where(recurrent<0, 0, recurrent)\n",
    "    \n",
    "    #assign variable names\n",
    "    recurrent.name='grass'\n",
    "    persist.name='trees'\n",
    "    \n",
    "    # # Aggregate to annual layers\n",
    "    # # Use the maximum fraction of trees and grass to create annual layers.\n",
    "    # # Bare soil is the residual\n",
    "    # persist_annual = persist.resample(time='1YE').max().compute()\n",
    "    # recurrent_annual = recurrent.resample(time='1YE').max().compute()\n",
    "    # bare_annual = 1-(persist_annual+recurrent_annual)\n",
    "    # bare_annual.name='bare'\n",
    "\n",
    "    \n",
    "    # # add right metadata\n",
    "    # persist_annual.attrs['nodata'] = np.nan\n",
    "    # recurrent_annual.attrs['nodata'] = np.nan\n",
    "    # bare_annual.attrs['nodata'] = np.nan\n",
    "    \n",
    "    # persist_annual = assign_crs(persist_annual, crs='EPSG:4326')\n",
    "    # recurrent_annual = assign_crs(recurrent_annual, crs='EPSG:4326')\n",
    "    # bare_annual = assign_crs(bare_annual, crs='EPSG:4326')\n",
    "\n",
    "    # return persist_annual, recurrent_annual, bare_annual\n",
    "    return persist, recurrent"
   ]
  },
  {
   "cell_type": "markdown",
   "id": "75a07680-edd6-4f0f-b7dc-a798c431569c",
   "metadata": {},
   "source": [
    "## Calculate veg fractions"
   ]
  },
  {
   "cell_type": "code",
   "execution_count": null,
   "id": "22fd19f6-f629-403c-8d7f-c5cbae394acf",
   "metadata": {},
   "outputs": [],
   "source": [
    "# trees, grass, bare = _vegetation_fractions(\n",
    "#     ds, #ndvi data\n",
    "#     ndvi_min=ndvi_min,\n",
    "#     ndvi_max=0.91\n",
    "# )\n",
    "\n",
    "trees, grass = _vegetation_fractions(\n",
    "    ds, #ndvi data\n",
    "    ndvi_min=ndvi_min,\n",
    "    ndvi_max=0.91\n",
    ")"
   ]
  },
  {
   "cell_type": "markdown",
   "id": "bc3fbb62-cab7-46de-825f-0d3a60eb803a",
   "metadata": {},
   "source": [
    "## Plot individual year"
   ]
  },
  {
   "cell_type": "code",
   "execution_count": null,
   "id": "2ca19cb7-1700-4d3a-97c8-894361d28171",
   "metadata": {},
   "outputs": [],
   "source": [
    "year = '2022'"
   ]
  },
  {
   "cell_type": "code",
   "execution_count": null,
   "id": "0a56d7f9-02a5-483b-8751-af15747cb5d7",
   "metadata": {},
   "outputs": [],
   "source": [
    "fig,ax=plt.subplots(1,3, figsize=(15,5), sharey=True, layout='constrained')\n",
    "trees.sel(time=year).squeeze().plot.imshow(ax=ax[0], cmap='gist_earth_r', add_colorbar=False, add_labels=False) #vmax=1, vmin=0,\n",
    "grass.sel(time=year).squeeze().plot.imshow(ax=ax[1], cmap='gist_earth_r', add_colorbar=False, add_labels=False)\n",
    "bare.sel(time=year).squeeze().plot.imshow(ax=ax[2], vmin=0, cmap='gist_earth_r', add_labels=False)\n",
    "\n",
    "ax[0].set_title(f'Persistent fraction {year}')\n",
    "ax[1].set_title(f'Recurrent fraction {year}')\n",
    "ax[2].set_title(f'Bare fraction {year}');"
   ]
  },
  {
   "cell_type": "markdown",
   "id": "dc6a7eec-9205-4c97-a4be-e67c28e2788c",
   "metadata": {},
   "source": [
    "### Plot Aus-wide time-series"
   ]
  },
  {
   "cell_type": "code",
   "execution_count": null,
   "id": "46cf2ecf-e60a-4313-81de-366fc80683b1",
   "metadata": {},
   "outputs": [],
   "source": [
    "fig,ax=plt.subplots(1,1, figsize=(12,4))\n",
    "trees.mean(['latitude', 'longitude']).plot(ax=ax, label='Persistent')\n",
    "grass.mean(['latitude', 'longitude']).plot(ax=ax, label='Recurrent')\n",
    "ax.legend()\n",
    "plt.ylabel('Land cover fractions')\n",
    "plt.title('Mean fractions across Australia')\n",
    "ax.grid()\n",
    "ax.set_xlabel(None)\n",
    "# ax.set_ylim(0.1,0.25);\n",
    "# bare.mean(['latitude', 'longitude']).plot(ax=ax, label='bare')"
   ]
  },
  {
   "cell_type": "markdown",
   "id": "bd662055-f1df-419a-9d5c-2194e121da91",
   "metadata": {},
   "source": [
    "### Export annual files "
   ]
  },
  {
   "cell_type": "code",
   "execution_count": null,
   "id": "64c6df9a-b8d2-4cb2-b6ff-a32098b5f081",
   "metadata": {},
   "outputs": [],
   "source": [
    "trees.to_netcdf(f'{results_path}trees_fraction.nc')\n",
    "grass.to_netcdf(f'{results_path}grass_fraction.nc')\n",
    "# bare.to_netcdf(f'{results_path}bare_fraction.nc')"
   ]
  },
  {
   "cell_type": "code",
   "execution_count": null,
   "id": "fd2179f2-8941-4211-83c4-99462f50e7d3",
   "metadata": {},
   "outputs": [],
   "source": []
  }
 ],
 "metadata": {
  "kernelspec": {
   "display_name": "Python 3 (ipykernel)",
   "language": "python",
   "name": "python3"
  },
  "language_info": {
   "codemirror_mode": {
    "name": "ipython",
    "version": 3
   },
   "file_extension": ".py",
   "mimetype": "text/x-python",
   "name": "python",
   "nbconvert_exporter": "python",
   "pygments_lexer": "ipython3",
   "version": "3.10.0"
  }
 },
 "nbformat": 4,
 "nbformat_minor": 5
}
