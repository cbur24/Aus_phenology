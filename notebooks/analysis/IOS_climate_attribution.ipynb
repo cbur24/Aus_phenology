{
 "cells": [
  {
   "cell_type": "markdown",
   "id": "d7b43d99-d698-40b4-a6cb-1e205a6cc0d7",
   "metadata": {},
   "source": [
    "# Summarise the attribution analysis\n",
    "\n",
    "In this notebook we generate a number of plots demonstrating the statistical attribution of IOS trends"
   ]
  },
  {
   "cell_type": "code",
   "execution_count": null,
   "id": "d70a23e7-5a01-4839-a9c2-f02880a81e7a",
   "metadata": {
    "tags": []
   },
   "outputs": [],
   "source": [
    "import os\n",
    "import sys\n",
    "import xvec\n",
    "import scipy\n",
    "import textwrap\n",
    "import warnings\n",
    "import distinctipy\n",
    "import numpy as np\n",
    "import xarray as xr\n",
    "import pandas as pd\n",
    "import seaborn as sb\n",
    "from scipy import stats\n",
    "import geopandas as gpd\n",
    "import contextily as ctx\n",
    "import matplotlib.pyplot as plt\n",
    "from odc.geo.xr import assign_crs\n",
    "import matplotlib.colors as colors\n",
    "import matplotlib.ticker as ticker\n",
    "from scipy.stats import gaussian_kde\n",
    "from scipy.interpolate import griddata\n",
    "from matplotlib.colors import LinearSegmentedColormap\n",
    "from mpl_toolkits.axes_grid1.inset_locator import inset_axes\n",
    "\n",
    "sys.path.append('/g/data/os22/chad_tmp/AusEFlux/src/')\n",
    "from _prediction import allNaN_arg\n",
    "from _utils import round_coords\n",
    "# from _feature_datasets import _c4_grass_fraction\n",
    "\n",
    "%matplotlib inline"
   ]
  },
  {
   "cell_type": "markdown",
   "id": "2c57f0af-0b7e-40b7-9713-a3d5a79447a3",
   "metadata": {},
   "source": [
    "## Open data\n"
   ]
  },
  {
   "cell_type": "code",
   "execution_count": null,
   "id": "8868cf16-ff5a-44d6-9e0c-95691e3b2f6a",
   "metadata": {},
   "outputs": [],
   "source": [
    "#phenology data\n",
    "p_attribution_pls = assign_crs(xr.open_dataset('/g/data/os22/chad_tmp/Aus_phenology/results/attribution_IOS_PLS_perpixel.nc'), crs='EPSG:4326')\n",
    "p_attribution_ml = assign_crs(xr.open_dataset('/g/data/os22/chad_tmp/Aus_phenology/results/attribution_IOS_ML_perpixel.nc'), crs='EPSG:4326')\n",
    "# p_attribution_pcmci = assign_crs(xr.open_dataset('/g/data/os22/chad_tmp/Aus_phenology/results/attribution_vPOS_PCMCI_perpixel.nc'), crs='EPSG:4326')\n",
    "# p_attribution_delta_slope = assign_crs(xr.open_dataset('/g/data/os22/chad_tmp/Aus_phenology/results/attribution_vPOS_delta_slope_perpixel.nc'), crs='EPSG:4326')"
   ]
  },
  {
   "cell_type": "markdown",
   "id": "a42b09aa-51b3-4aa1-9eec-d037449869a2",
   "metadata": {},
   "source": [
    "## Summary plots"
   ]
  },
  {
   "cell_type": "markdown",
   "id": "3046747a-d9d1-4961-a25f-847b0da250b6",
   "metadata": {},
   "source": [
    "### Climate atttribution for IOS trends"
   ]
  },
  {
   "cell_type": "code",
   "execution_count": null,
   "id": "b18341a9-bebe-40ce-b934-4f06563dca50",
   "metadata": {},
   "outputs": [],
   "source": [
    "clim_most_important_var_pls = allNaN_arg(np.abs(p_attribution_pls.PLS_coefficent), dim='feature',stat='max', idx=False)\n",
    "clim_most_important_var_ml = allNaN_arg(np.abs(p_attribution_ml.importance), dim='feature',stat='max', idx=False)\n",
    "\n",
    "# clim_most_important_var_pcmci = allNaN_arg(np.abs(p_attribution_pcmci.PCMCI), dim='feature',stat='max', idx=False)\n",
    "# clim_most_important_var_delta_slope = allNaN_arg(np.abs(p_attribution_delta_slope.delta_slope), dim='feature',stat='max', idx=False)"
   ]
  },
  {
   "cell_type": "code",
   "execution_count": null,
   "id": "9de1d413-b5df-4641-baec-be5cf0532016",
   "metadata": {},
   "outputs": [],
   "source": [
    "dss = [p_attribution_pls, p_attribution_ml]#, p_attribution_pcmci, p_attribution_delta_slope\n",
    "variables = ['PLS_coefficent', 'importance',] # 'PCMCI', 'delta_slope'\n",
    "cmaps = ['Spectral', 'plasma'] #'Spectral', 'plasma'\n",
    "units = ['Coeff.', 'SHAP\\nvalue'] # 'PCMCI', u'ΔSlope'\n",
    "vmins = [-0.03, 0.0] #-0.75, 0.0\n",
    "vmaxs = [0.03, 0.05] #0.75, 0.0025\n",
    "\n",
    "for ds,vars,cmap,u,vmin,vmax, in zip(dss,variables,cmaps,units,vmins,vmaxs):\n",
    "    fig,axes=plt.subplots(1,5,figsize=(18,6), layout='constrained')\n",
    "    d = ds[vars]\n",
    "    for v,ax in zip(d.feature.values, axes.ravel()):\n",
    "        d.sel(feature=v).plot(add_labels=False,ax=ax,robust=True, cmap=cmap, add_colorbar=False)\n",
    "        ctx.add_basemap(ax, source=ctx.providers.CartoDB.VoyagerNoLabels, crs='EPSG:4326', attribution='', attribution_size=1)\n",
    "        ax.axes.get_xaxis().set_ticks([])\n",
    "        ax.axes.get_yaxis().set_ticks([])\n",
    "        ax.set_title(v)\n",
    "    \n",
    "    norm = colors.Normalize(vmin=vmin, vmax=vmax)\n",
    "    cbar = plt.cm.ScalarMappable(norm=norm, cmap=cmap)\n",
    "    ax_cbar = fig.colorbar(cbar, ax=ax, shrink=0.4)\n",
    "    ax_cbar.ax.set_title(u, fontsize=10);"
   ]
  },
  {
   "cell_type": "markdown",
   "id": "cfd3b880-6d61-458c-b21b-a797c821a29f",
   "metadata": {},
   "source": [
    "#### Plot"
   ]
  },
  {
   "cell_type": "code",
   "execution_count": null,
   "id": "e3de3352-0f42-4862-a5d7-ebae9420ed17",
   "metadata": {},
   "outputs": [],
   "source": [
    "categories = list(p_attribution_pls.feature.values)\n",
    "colours = distinctipy.get_colors(len(categories), pastel_factor=0.5, rng=2)\n",
    "cmap = LinearSegmentedColormap.from_list(\"cwc\", colours, N=len(categories))\n",
    "\n",
    "dss = [\n",
    "    clim_most_important_var_pls, clim_most_important_var_ml, #clim_most_important_var_pcmci, clim_most_important_var_delta_slope,\n",
    "    p_attribution_pls, p_attribution_ml#, p_attribution_pcmci, p_attribution_delta_slope\n",
    "]\n",
    "\n",
    "names = ['PLS regression', 'RF regression',#, 'PCMCI', u'ΔSlope',\n",
    "        'PLS regression', 'RF regression'#, 'PCMCI', u'ΔSlope'\n",
    "        ]\n",
    "\n",
    "variables = [\n",
    "    'PLS_coefficent', 'importance',# 'PCMCI', 'delta_slope',\n",
    "    'PLS_coefficent', 'importance'#, 'PCMCI', 'delta_slope'\n",
    "]\n",
    "cmaps = ['plasma', 'plasma', #'plasma', 'plasma',\n",
    "         'plasma', 'plasma'#, 'plasma', 'plasma'\n",
    "        ]\n",
    "\n",
    "units = ['PLS Coefficient', 'SHAP value', #'PCMCI', u'ΔSlope',\n",
    "         'PLS Coefficient', 'SHAP value'#, 'PCMCI', u'ΔSlope'\n",
    "        ]\n",
    "\n",
    "\n",
    "fig,axes=plt.subplots(1,2,figsize=(12,6),layout='constrained', sharey=True, sharex=True)\n",
    "\n",
    "for ds,n,vars,c,u,ax,i in zip(dss,names,variables,cmaps,units,axes.ravel(),range(len(dss))):\n",
    "    im = ds.plot(add_colorbar=False,ax=ax, add_labels=False, cmap=cmap)\n",
    "    ctx.add_basemap(ax, source=ctx.providers.CartoDB.VoyagerNoLabels, crs='EPSG:4326', attribution='', attribution_size=1)\n",
    "    ax.axes.get_xaxis().set_ticks([])\n",
    "    ax.axes.get_yaxis().set_ticks([])\n",
    "    axins1 = inset_axes(ax,width=\"55%\",height=\"5%\",loc=\"lower left\", borderpad=2)\n",
    "    cbar = fig.colorbar(im, cax=axins1, ticks=[0.4,1.2,2,2.8, 3.65],orientation='horizontal')\n",
    "    cbar.ax.set_xticklabels(categories)\n",
    "    cbar.ax.set_title(n, fontsize=10)"
   ]
  },
  {
   "cell_type": "code",
   "execution_count": null,
   "id": "3d51ae3b-9cf9-4666-89ee-03ade90f8e6f",
   "metadata": {},
   "outputs": [],
   "source": []
  }
 ],
 "metadata": {
  "kernelspec": {
   "display_name": "Python 3 (ipykernel)",
   "language": "python",
   "name": "python3"
  },
  "language_info": {
   "codemirror_mode": {
    "name": "ipython",
    "version": 3
   },
   "file_extension": ".py",
   "mimetype": "text/x-python",
   "name": "python",
   "nbconvert_exporter": "python",
   "pygments_lexer": "ipython3",
   "version": "3.10.0"
  }
 },
 "nbformat": 4,
 "nbformat_minor": 5
}
