{
 "cells": [
  {
   "cell_type": "markdown",
   "id": "8d6185d6-5015-4c74-a294-e3c3cea28081",
   "metadata": {},
   "source": [
    "# Compare double logistic curve fitting with quadratic interpolation\n",
    "\n",
    "These methods allow us to go from bi-weekly data to daily, but they appraoch the problem differently.\n",
    "\n",
    "Double logistics code example is taken from: https://stackoverflow.com/questions/77639914/ndvi-double-logistic-curve-fitting-in-python\n"
   ]
  },
  {
   "cell_type": "code",
   "execution_count": 1,
   "id": "be0c7445-4b35-4c1a-b586-353f4a293c32",
   "metadata": {
    "tags": []
   },
   "outputs": [],
   "source": [
    "%matplotlib inline\n",
    "\n",
    "import sys\n",
    "import pickle\n",
    "import warnings\n",
    "import numpy as np\n",
    "import xarray as xr\n",
    "from scipy import stats\n",
    "import geopandas as gpd\n",
    "import matplotlib.pyplot as plt"
   ]
  },
  {
   "cell_type": "markdown",
   "id": "9f402f2d-ab13-41f3-8442-43722664c9d5",
   "metadata": {},
   "source": [
    "## Analysis Parameters\n"
   ]
  },
  {
   "cell_type": "code",
   "execution_count": 4,
   "id": "6a9c27f5-4dbd-40e2-904d-961b23786d23",
   "metadata": {
    "tags": []
   },
   "outputs": [],
   "source": [
    "timeseries_file = '/g/data/os22/chad_tmp/Aus_phenology/data/ecoregions_NDVI_timeseries.pkl'\n",
    "ecoregions_file = '/g/data/os22/chad_tmp/Aus_phenology/data/vectors/Ecoregions2017_modified.geojson'"
   ]
  },
  {
   "cell_type": "markdown",
   "id": "a36d45f1-6dd9-44b4-bb31-825db4303234",
   "metadata": {},
   "source": [
    "## Open data"
   ]
  },
  {
   "cell_type": "code",
   "execution_count": 5,
   "id": "3ea1bf71-29b3-4ea7-a9b9-0989f9bfb1f1",
   "metadata": {
    "tags": []
   },
   "outputs": [],
   "source": [
    "with open(timeseries_file, 'rb') as f:\n",
    "    results = pickle.load(f)\n",
    "\n",
    "gdf = gpd.read_file(ecoregions_file)"
   ]
  },
  {
   "cell_type": "markdown",
   "id": "695f636c-237a-4efa-afef-ef87da3e0d19",
   "metadata": {},
   "source": [
    "## Test double logistic curve fitting on seasonal cycle\n",
    "\n",
    "<!-- import numpy as np\n",
    "import matplotlib.pyplot as plt\n",
    "from scipy.optimize import curve_fit\n",
    "\n",
    "def double_logistic_function(t, wNDVI, mNDVI, S, A, mS, mA):\n",
    "    sigmoid1 = 1 / (1 + np.exp(-mS * (t - S)))\n",
    "    sigmoid2 = 1 / (1 + np.exp(mA * (t - A)))\n",
    "    seasonal_term = sigmoid1 + sigmoid2 - 1\n",
    "    return wNDVI + (mNDVI - wNDVI) * seasonal_term\n",
    "\n",
    "def weight_function(t, S, A, r):\n",
    "    tr = 100 * (t - S) / (A - S)\n",
    "    tr = np.clip(tr, 0, 100)\n",
    "    return np.exp(-np.abs(r) / (1 + tr / 10))\n",
    "\n",
    "def fit_curve(t, ndvi_observed):\n",
    "    initial_guess = [np.min(ndvi_observed), np.max(ndvi_observed), np.mean(t), np.mean(t), 1, 1]\n",
    "    params, _ = curve_fit(double_logistic_function, t, ndvi_observed, p0=initial_guess, maxfev=10000)\n",
    "    residuals = ndvi_observed - double_logistic_function(t, *params)\n",
    "    weights = weight_function(t, params[2], params[3], residuals)\n",
    "    params, _ = curve_fit(double_logistic_function, t, ndvi_observed, p0=initial_guess, sigma=weights, maxfev=10000)\n",
    "    return params\n",
    "\n",
    "doys = ndvi_cycle.time.dt.dayofyear.values[2:]\n",
    "doys_frac = doys/365\n",
    "values = ndvi_cycle.values[2:]\n",
    "\n",
    "##Fit the curve\n",
    "parameters = fit_curve(doys_frac, values)\n",
    "\n",
    "##Plot the observed NDVI values\n",
    "plt.scatter(doys, values, label='Observed NDVI')\n",
    "\n",
    "##Generate points for the fitted curve\n",
    "t_fit = np.linspace(min(doys_frac), max(doys_frac), 365)\n",
    "ndvi_fit = double_logistic_function(t_fit, *parameters)\n",
    "\n",
    "##Plot the fitted curve\n",
    "plt.plot(t_fit*365, ndvi_fit, label='Fitted Curve', color='red')\n",
    "\n",
    "plt.xlabel('Day of the Year')\n",
    "plt.ylabel('NDVI')\n",
    "plt.legend()\n",
    "plt.title('Double Logistic Curve Fitting for NDVI Observations')\n",
    "plt.show() -->\n",
    "\n",
    "\n",
    "<!-- def xr_count_peaks(ds, order=16):\n",
    "    def _find_peaks(ds):\n",
    "        peaks = scipy.signal.argrelextrema(ds, np.greater, order=order)\n",
    "        # peaks = scipy.signal.find_peaks(ds, height=0.2, distance=order)\n",
    "        return len(peaks[0])\n",
    "    \n",
    "    ds_n_peaks = xr.apply_ufunc(_find_peaks,\n",
    "                              ds, \n",
    "                              input_core_dims=[['time']],\n",
    "                              vectorize=True, \n",
    "                              dask='parallelized',\n",
    "                              output_dtypes=[np.float32]\n",
    "                             )\n",
    "\n",
    "    return ds_n_peaks.rename('n_peaks')\n",
    "\n",
    "%%time\n",
    "n_peaks = xr_count_peaks(ds_smooth.sel(time=slice('2004-09', '2006-03'))) -->"
   ]
  },
  {
   "cell_type": "code",
   "execution_count": 6,
   "id": "47a31849-e73b-4926-89a1-42303a151a5d",
   "metadata": {},
   "outputs": [],
   "source": [
    "from scipy.optimize import curve_fit\n",
    "\n",
    "def double_logistic_function(t, wNDVI, mNDVI, S, A, mS, mA):\n",
    "    sigmoid1 = 1 / (1 + np.exp(-mS * (t - S)))\n",
    "    sigmoid2 = 1 / (1 + np.exp(mA * (t - A)))\n",
    "    seasonal_term = sigmoid1 + sigmoid2 - 1\n",
    "    return wNDVI + (mNDVI - wNDVI) * seasonal_term\n",
    "\n",
    "def weight_function(t, S, A, r):\n",
    "    tr = 100 * (t - S) / (A - S)\n",
    "    tr = np.clip(tr, 0, 100)\n",
    "    return np.exp(-np.abs(r) / (1 + tr / 10))\n",
    "\n",
    "def fit_curve(t, ndvi_observed):\n",
    "    initial_guess = [np.min(ndvi_observed), np.max(ndvi_observed), np.mean(t), np.mean(t), 1, 1]\n",
    "    params, _ = curve_fit(double_logistic_function, t, ndvi_observed, p0=initial_guess, maxfev=10000)\n",
    "    residuals = ndvi_observed - double_logistic_function(t, *params)\n",
    "    weights = weight_function(t, params[2], params[3], residuals)\n",
    "    params, _ = curve_fit(double_logistic_function, t, ndvi_observed, p0=initial_guess, sigma=weights, maxfev=10000)\n",
    "    return params"
   ]
  },
  {
   "cell_type": "markdown",
   "id": "e2fd3c5e-871f-4486-9359-9d7c033fdb06",
   "metadata": {},
   "source": [
    "### Extract a time series to test with"
   ]
  },
  {
   "cell_type": "code",
   "execution_count": 7,
   "id": "ee0693c2-f604-44fa-b1db-caf0c9a053f7",
   "metadata": {},
   "outputs": [],
   "source": [
    "# l = list(results.keys())\n",
    "# l.sort()\n",
    "# l"
   ]
  },
  {
   "cell_type": "code",
   "execution_count": 8,
   "id": "290c3aee-0220-43c5-a384-827faf51f847",
   "metadata": {},
   "outputs": [
    {
     "name": "stderr",
     "output_type": "stream",
     "text": [
      "/g/data/os22/chad_tmp/AusENDVI/env/py310/lib/python3.10/site-packages/xarray/core/groupby.py:532: FutureWarning: 'M' is deprecated and will be removed in a future version, please use 'ME' instead.\n",
      "  index_grouper = pd.Grouper(\n"
     ]
    }
   ],
   "source": [
    "k = 'Jarrah-Karri forest and shrublands'\n",
    "ndvi_cycle = results[k].sel(time=slice('2002-02', '2002-12')).resample(time='ME').mean()"
   ]
  },
  {
   "cell_type": "markdown",
   "id": "e60571ae-411d-4ac7-b497-5623976aa78a",
   "metadata": {},
   "source": [
    "## Fit curves"
   ]
  },
  {
   "cell_type": "code",
   "execution_count": 9,
   "id": "bcd039c6-8d78-436d-b84b-3c4c929a0099",
   "metadata": {},
   "outputs": [
    {
     "name": "stderr",
     "output_type": "stream",
     "text": [
      "/jobfs/119510324.gadi-pbs/ipykernel_509531/2141155704.py:5: RuntimeWarning: overflow encountered in exp\n",
      "  sigmoid2 = 1 / (1 + np.exp(mA * (t - A)))\n"
     ]
    }
   ],
   "source": [
    "doys = ndvi_cycle.time.dt.dayofyear.values#[2:]\n",
    "doys_frac = doys/365\n",
    "values = ndvi_cycle.values#[2:]\n",
    "\n",
    "##Fit the curve\n",
    "parameters = fit_curve(doys_frac, values)\n",
    "\n",
    "##Generate points for the fitted curve\n",
    "t_fit = np.linspace(min(doys_frac), max(doys_frac), 365)\n",
    "ndvi_fit = double_logistic_function(t_fit, *parameters)\n",
    "\n",
    "#compare with quadratic\n",
    "quad = ndvi_cycle.dropna(dim='time', how='all').resample(time='1D').interpolate(kind='cubic')\n",
    "\n"
   ]
  },
  {
   "cell_type": "markdown",
   "id": "e1c37840-0c1f-4b03-90ac-824bc0053506",
   "metadata": {},
   "source": [
    "## Plot"
   ]
  },
  {
   "cell_type": "code",
   "execution_count": 11,
   "id": "a254f348-b55f-4218-ae49-674844064251",
   "metadata": {},
   "outputs": [
    {
     "data": {
      "image/png": "[encoded data removed]",
      "text/plain": [
       "<Figure size 640x480 with 1 Axes>"
      ]
     },
     "metadata": {},
     "output_type": "display_data"
    }
   ],
   "source": [
    "plt.scatter(doys, values, label='Observed NDVI')\n",
    "plt.plot(t_fit*365, ndvi_fit, label='Double logistic curve', color='red')\n",
    "plt.plot(quad.time.dt.dayofyear, quad.values, label='Quadratic Daily Interp.', color='green')\n",
    "plt.xlabel('Day of the Year')\n",
    "plt.ylabel('NDVI')\n",
    "plt.legend()\n",
    "# plt.title('Double Logistic Curve Fitting for NDVI Observations')\n",
    "plt.show()"
   ]
  },
  {
   "cell_type": "code",
   "execution_count": null,
   "id": "fb5b2800-fb5a-47e8-a63a-f1afe7e327b8",
   "metadata": {},
   "outputs": [],
   "source": []
  },
  {
   "cell_type": "code",
   "execution_count": null,
   "id": "05408f3e-774e-4543-9df1-69cf03ceeede",
   "metadata": {},
   "outputs": [],
   "source": []
  }
 ],
 "metadata": {
  "kernelspec": {
   "display_name": "Python 3 (ipykernel)",
   "language": "python",
   "name": "python3"
  },
  "language_info": {
   "codemirror_mode": {
    "name": "ipython",
    "version": 3
   },
   "file_extension": ".py",
   "mimetype": "text/x-python",
   "name": "python",
   "nbconvert_exporter": "python",
   "pygments_lexer": "ipython3",
   "version": "3.10.0"
  }
 },
 "nbformat": 4,
 "nbformat_minor": 5
}
