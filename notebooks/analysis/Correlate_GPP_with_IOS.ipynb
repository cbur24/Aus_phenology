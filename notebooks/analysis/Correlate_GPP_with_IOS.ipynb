{
 "cells": [
  {
   "cell_type": "markdown",
   "id": "248c4ba7-1b91-4df6-91c0-cfdfcad54246",
   "metadata": {},
   "source": [
    "# How does annual GPP compare with IOS? \n",
    "\n"
   ]
  },
  {
   "cell_type": "code",
   "execution_count": null,
   "id": "2387a15b-2689-4556-8ae5-2bf47beb7112",
   "metadata": {},
   "outputs": [],
   "source": [
    "%matplotlib inline\n",
    "import os\n",
    "import sys\n",
    "import xarray as xr\n",
    "import numpy as np\n",
    "import seaborn as sb\n",
    "import pandas as pd\n",
    "import geopandas as gpd\n",
    "import matplotlib.pyplot as plt\n",
    "from scipy import stats\n",
    "from scipy.stats import skew\n",
    "from scipy.stats import gaussian_kde\n",
    "from odc.geo.xr import assign_crs\n",
    "from sklearn.metrics import mean_absolute_error, r2_score\n",
    "import warnings\n",
    "warnings.simplefilter(action='ignore')\n",
    "\n",
    "\n",
    "# sys.path.append('/g/data/os22/chad_tmp/AusEFlux/src/')\n",
    "# from _training import extract_ozflux"
   ]
  },
  {
   "cell_type": "markdown",
   "id": "b3094738-2361-4dd9-b6c3-82234d0466e8",
   "metadata": {},
   "source": [
    "## Append pixel values of datasets to OzFlux fluxes"
   ]
  },
  {
   "cell_type": "code",
   "execution_count": null,
   "id": "467f6de7-b757-4a1e-8692-c486f1540520",
   "metadata": {},
   "outputs": [],
   "source": [
    "#Comparison datasets\n",
    "base='/g/data/r78/cb3058/phd/comparison_datasets/'\n",
    "comparisons = {\n",
    "    'MODIS_GPP':base+'MODIS_GPP_1km_monthly_2002_2021.nc',\n",
    "    'GOSIF_GPP':base+'GOSIF_GPP_5km_monthly_2002_2021.nc',\n",
    "    'OzWALD_GPP':base+'OzWALD_GPP_1km_2003_2023.nc',\n",
    "    'DIFFUSE_GPP':base+'DIFFUSE_GPP_1km_monthly_2003_2021.nc',\n",
    "    'FLUXCOM_RS_GPP':base+'GPP_rs.nc',\n",
    "    'FLUXCOM_RS_NEE':base+'NEE_rs.nc',\n",
    "    'FLUXCOM_RS_ER':base+'TER_rs.nc',\n",
    "    'AusEFlux_NEE_v1.2':'/g/data/os22/chad_tmp/AusEFlux/results/AusEFlux/NEE/',\n",
    "    'AusEFlux_GPP_v1.2':'/g/data/os22/chad_tmp/AusEFlux/results/AusEFlux/GPP/',\n",
    "    'AusEFlux_ER_v1.2':'/g/data/os22/chad_tmp/AusEFlux/results/AusEFlux/ER/',\n",
    "    'AusEFlux_ER_v1.2':'/g/data/os22/chad_tmp/AusEFlux/results/AusEFlux/ET/'\n",
    "}"
   ]
  },
  {
   "cell_type": "markdown",
   "id": "c8cc7211-ecd0-42a3-a090-20232dac23de",
   "metadata": {},
   "source": [
    "### Grab the fluxes from the training data"
   ]
  },
  {
   "cell_type": "code",
   "execution_count": null,
   "id": "12280218-06d0-4ac5-8288-492d57702848",
   "metadata": {},
   "outputs": [],
   "source": [
    "base = '/g/data/os22/chad_tmp/AusEFlux/data/training_data/'\n",
    "sites = os.listdir(f'{base}')\n",
    "ec_exclusions=['DalyUncleared', 'RedDirtMelonFarm', 'Loxton']\n",
    "\n",
    "flux_ts = {}\n",
    "for site in sites:\n",
    "    if '.csv' in site:\n",
    "        if any(exc in site for exc in ec_exclusions): #don't load the excluded sites\n",
    "            print('skip', site[0:-4])\n",
    "            continue\n",
    "        else:\n",
    "            xx = pd.read_csv(f'{base}{site}',\n",
    "                             index_col='time', parse_dates=True)\n",
    "        \n",
    "        #convert to 1d xarray\n",
    "        lat, lon = xx[['y_coord']].iloc[0].y_coord, xx[['x_coord']].iloc[0].x_coord\n",
    "        xx = xx[['GPP_SOLO_EC', 'NEE_SOLO_EC', 'ER_SOLO_EC', 'ET_EC']]  #'x_coord', 'y_coord'\n",
    "        xx = xx.to_xarray().expand_dims(dim={'latitude':[lat], 'longitude':[lon]})\n",
    "        xx = xx.squeeze()\n",
    "        flux_ts[site[0:-4]] = xx"
   ]
  },
  {
   "cell_type": "markdown",
   "id": "4b405312-cff4-4612-8b08-5f89d20bacb2",
   "metadata": {},
   "source": [
    "### Loop through comparsison datasets and extract pixel values"
   ]
  },
  {
   "cell_type": "code",
   "execution_count": null,
   "id": "09c89c12-8695-41e7-b8a1-e77f100b5c94",
   "metadata": {},
   "outputs": [],
   "source": [
    "results=[]\n",
    "for k,v in flux_ts.items():\n",
    "    print(k)\n",
    "    lat=v.latitude.values.item()\n",
    "    lon=v.longitude.values.item()\n",
    "    time=v.time\n",
    "    \n",
    "    for prod,path in comparisons.items():\n",
    "        #print(prod)\n",
    "        #deal with AusEFlux datasets\n",
    "        if 'AusEFlux' in prod:\n",
    "            files = [f'{path}/{i}' for i in os.listdir(path) if i.endswith(\".nc\")]\n",
    "            files.sort()\n",
    "        \n",
    "            #combine annual files into one file\n",
    "            ds = xr.open_mfdataset(files)\n",
    "            for i in ds.data_vars:\n",
    "                if \"median\" in i:\n",
    "                    var=i\n",
    "            ds = ds[var]\n",
    "            \n",
    "        elif 'FLUXCOM' in prod:\n",
    "            ds = xr.open_dataset(path)\n",
    "            ds=ds[path[-9:-6]]\n",
    "            ds = ds*30\n",
    "                \n",
    "        else:\n",
    "            ds = xr.open_dataarray(path)\n",
    "\n",
    "        ds = ds.sel(latitude=lat, longitude=lon, method='nearest').sel(time=slice(time[0], time[-1]))\n",
    "        ds = ds.reindex(time=time, method='nearest', tolerance='1D').compute()#.dropna(dim='time') \n",
    "        \n",
    "        if prod=='MODIS_GPP':\n",
    "            ds = ds*1000\n",
    "                \n",
    "        if prod=='DIFFUSE_GPP':\n",
    "            ds = ds*30\n",
    "\n",
    "        v[prod]=ds\n",
    "    \n",
    "    df = v.to_dataframe()\n",
    "    df = df.drop(['spatial_ref'], axis=1)\n",
    "    df['site'] = k\n",
    "    results.append(df)\n",
    "    \n",
    "#combine all results into one larges df\n",
    "df = pd.concat(results)\n",
    "df_with_time= df.copy()\n",
    "df = df.reset_index(drop=True)"
   ]
  },
  {
   "cell_type": "markdown",
   "id": "694cbf26-fc00-4a17-a4df-7b9824cbbf57",
   "metadata": {},
   "source": [
    "## Plot"
   ]
  },
  {
   "cell_type": "code",
   "execution_count": null,
   "id": "35a0439c-a39c-49cf-a4eb-5ff2610eb7eb",
   "metadata": {},
   "outputs": [],
   "source": [
    "var='GPP'\n",
    "font=14"
   ]
  },
  {
   "cell_type": "markdown",
   "id": "56e75c2a-fbe6-48e0-873d-ac29c2886f9f",
   "metadata": {},
   "source": [
    "### Monthly comparisons"
   ]
  },
  {
   "cell_type": "code",
   "execution_count": null,
   "id": "026cdc10-8ed2-49f0-830f-cb6452da00f9",
   "metadata": {},
   "outputs": [],
   "source": [
    "with plt.style.context('ggplot'):\n",
    "    if var == 'GPP':\n",
    "        products=['MODIS_GPP', 'GOSIF_GPP','OzWALD_GPP', 'DIFFUSE_GPP', 'AusEFlux_GPP_v1.2', 'FLUXCOM_RS_GPP'] \n",
    "        fig,axes = plt.subplots(1,6, figsize=(20,5), sharey=True, sharex=True)\n",
    "        \n",
    "    if var=='NEE':\n",
    "        products=['AusEFlux_NEE_v1.2','FLUXCOM_RS_NEE']\n",
    "        fig,axes = plt.subplots(1,2, figsize=(8,4), sharey=True, sharex=True)\n",
    "    \n",
    "    if var=='ER':\n",
    "        products=['AusEFlux_ER_v1.2','FLUXCOM_RS_TER']\n",
    "        fig,axes = plt.subplots(1,2, figsize=(10,5), sharey=True, sharex=True)\n",
    "    \n",
    "    for prod, ax in zip(products, axes.ravel()):\n",
    "        \n",
    "        obs,pred = df[var+'_SOLO_EC'].values, df[prod].values\n",
    "        mask = ~np.isnan(obs) & ~np.isnan(pred)\n",
    "        slope, intercept, r_value, p_value, std_err = stats.linregress(obs[mask],pred[mask])\n",
    "        r2 = r_value**2\n",
    "        # r2 = r2_score(obs, pred)\n",
    "        # r2 = sp.stats.pearsonr(obs, pred)\n",
    "        ac = mean_absolute_error(obs[mask], pred[mask])\n",
    "        \n",
    "        xy = np.vstack([obs[mask],pred[mask]])\n",
    "        z = gaussian_kde(xy)(xy)\n",
    "    \n",
    "        sb.scatterplot(data=df, x=var+'_SOLO_EC', y=prod, c=z, s=50, lw=1, alpha=0.5, ax=ax) #\n",
    "        sb.regplot(data=df, x=var+'_SOLO_EC',y=prod, scatter=False, color='blue', ax=ax)\n",
    "        sb.regplot(data=df, x=var+'_SOLO_EC',y=var+'_SOLO_EC', color='black', scatter=False, line_kws={'linestyle':'dashed'}, ax=ax)\n",
    "        ax.set_title(prod, fontsize=font)\n",
    "        ax.set_xlabel('')\n",
    "        ax.set_ylabel('')\n",
    "        # ax.set_aspect(1.5)\n",
    "        ax.text(.05, .90, 'r\\N{SUPERSCRIPT TWO}={:.2f}'.format(np.mean(r2)),\n",
    "                transform=ax.transAxes, fontsize=font)\n",
    "        ax.text(.05, .825, 'MAE={:.3g}'.format(np.mean(ac)),\n",
    "                transform=ax.transAxes, fontsize=font)\n",
    "        ax.tick_params(axis='x', labelsize=font)\n",
    "        ax.tick_params(axis='y', labelsize=font)\n",
    "    \n",
    "    fig.supylabel('Predicted '+var+' gC m\\N{SUPERSCRIPT TWO} mon⁻¹', x=0.01, y=0.5, fontsize=font)\n",
    "    fig.supxlabel('Observed '+var+' gC m\\N{SUPERSCRIPT TWO} mon⁻¹', fontsize=font);\n",
    "    # plt.tight_layout()\n",
    "    plt.tight_layout(pad=1.0)\n",
    "    fig.savefig('/g/data/os22/chad_tmp/AusEFlux/results/figs/cross_val_intercomparison_native_'+var+'.png',\n",
    "               bbox_inches='tight', dpi=300)"
   ]
  },
  {
   "cell_type": "markdown",
   "id": "ab94d767-b5cd-4729-a4f9-356201113783",
   "metadata": {},
   "source": [
    "### Annual comparisons\n",
    "\n",
    "Coloured by biome"
   ]
  },
  {
   "cell_type": "code",
   "execution_count": null,
   "id": "1809b911-74ce-4aed-8f05-1477aeea9bc6",
   "metadata": {},
   "outputs": [],
   "source": [
    "gdf = gpd.read_file('/g/data/os22/chad_tmp/NEE_modelling/data/bioclimatic_regions.geojson')\n",
    "\n",
    "gdf_ts = gpd.GeoDataFrame(\n",
    "    df_with_time, geometry=gpd.points_from_xy(df_with_time.longitude, df_with_time.latitude))\n",
    "\n",
    "gdf_ts.crs = gdf.crs\n",
    "\n",
    "gdf_ts = gdf_ts.sjoin(gdf, how=\"left\")\n",
    "\n",
    "gdf_ts.loc[gdf_ts['site'] == 'CapeTribulation', ['bioclimatic_regions']] = 1.0\n",
    "gdf_ts.loc[gdf_ts['site'] == 'CowBay', ['bioclimatic_regions']] = 1.0"
   ]
  },
  {
   "cell_type": "code",
   "execution_count": null,
   "id": "237b2d02-3fca-4e7b-ae6d-cfd25c7c2992",
   "metadata": {},
   "outputs": [],
   "source": [
    "with plt.style.context('ggplot'):\n",
    "    fig, ax = plt.subplots(1,1, figsize=(5,5))\n",
    "    gdf.plot(column='region_name', ax=ax, alpha=0.25)\n",
    "    gdf_ts.plot(ax=ax, column='region_name', legend=True)\n",
    "    ax.grid(None)"
   ]
  },
  {
   "cell_type": "code",
   "execution_count": null,
   "id": "8a992646-d6c1-40b9-b888-4f910ca3d95a",
   "metadata": {},
   "outputs": [],
   "source": [
    "#resample to mean over the year\n",
    "df= gdf_ts.drop(['geometry', 'region_name'],axis=1).groupby('site').resample('Y').mean()\n",
    "### Reclassify region names for nice plotting\n",
    "df.loc[df['bioclimatic_regions'] == 1.0, ['region']] = 'Tropics'\n",
    "df.loc[df['bioclimatic_regions'] == 2.0, ['region']] = 'Savanna'\n",
    "df.loc[df['bioclimatic_regions'] == 3.0, ['region']] = 'Warm Temperate'\n",
    "df.loc[df['bioclimatic_regions'] == 4.0, ['region']] = 'Cool Temperate'\n",
    "df.loc[df['bioclimatic_regions'] == 5.0, ['region']] = 'Mediterranean'\n",
    "df.loc[df['bioclimatic_regions'] == 6.0, ['region']] = 'Desert'"
   ]
  },
  {
   "cell_type": "code",
   "execution_count": null,
   "id": "3f5d52e6-bea5-49fb-baff-68fbef1c3f80",
   "metadata": {},
   "outputs": [],
   "source": [
    "with plt.style.context('ggplot'):\n",
    "    if var == 'GPP':\n",
    "        products=['MODIS_GPP', 'GOSIF_GPP','OzWALD_GPP', 'DIFFUSE_GPP', 'AusEFlux_GPP_v1.2', 'FLUXCOM_RS_GPP'] \n",
    "        fig,axes = plt.subplots(1,6, figsize=(20,5), sharey=True, sharex=True)\n",
    "        \n",
    "    if var=='NEE':\n",
    "        products=['AusEFlux_NEE_v1.2','FLUXCOM_RS_NEE']\n",
    "        fig,axes = plt.subplots(1,2, figsize=(8,4), sharey=True, sharex=True)\n",
    "    \n",
    "    if var=='ER':\n",
    "        products=['AusEFlux_ER_v1.2','FLUXCOM_RS_TER']\n",
    "        fig,axes = plt.subplots(1,2, figsize=(10,5), sharey=True, sharex=True)\n",
    "    \n",
    "    for prod, ax in zip(products, axes.ravel()):\n",
    "        \n",
    "        obs,pred = df[var+'_SOLO_EC'].values, df[prod].values\n",
    "        mask = ~np.isnan(obs) & ~np.isnan(pred)\n",
    "        slope, intercept, r_value, p_value, std_err = stats.linregress(obs[mask],pred[mask])\n",
    "        r2 = r_value**2\n",
    "        # r2 = r2_score(obs, pred)\n",
    "        # r2 = sp.stats.pearsonr(obs, pred)\n",
    "        ac = mean_absolute_error(obs[mask], pred[mask])\n",
    "        \n",
    "        sb.scatterplot(data=df, x=var+'_SOLO_EC', y=prod, hue='region', s=75, lw=1, ax=ax, legend=False) #\n",
    "        sb.regplot(data=df, x=var+'_SOLO_EC',y=prod, scatter=False, color='blue', ax=ax)\n",
    "        sb.regplot(data=df, x=var+'_SOLO_EC',y=var+'_SOLO_EC', color='black', scatter=False, line_kws={'linestyle':'dashed'}, ax=ax)\n",
    "        ax.set_title(prod, fontsize=font)\n",
    "        ax.set_xlabel('')\n",
    "        ax.set_ylabel('')\n",
    "        # ax.set_aspect(1.5)\n",
    "        ax.text(.05, .90, 'r\\N{SUPERSCRIPT TWO}={:.2f}'.format(np.mean(r2)),\n",
    "                transform=ax.transAxes, fontsize=font)\n",
    "        ax.text(.05, .825, 'MAE={:.3g}'.format(np.mean(ac)),\n",
    "                transform=ax.transAxes, fontsize=font)\n",
    "        ax.tick_params(axis='x', labelsize=font)\n",
    "        ax.tick_params(axis='y', labelsize=font)\n",
    "    \n",
    "    fig.supylabel('Predicted '+var+' gC m\\N{SUPERSCRIPT TWO} yr⁻¹', x=0.01, y=0.5, fontsize=font)\n",
    "    fig.supxlabel('Observed '+var+' gC m\\N{SUPERSCRIPT TWO} yr⁻¹', fontsize=font);\n",
    "    # plt.tight_layout()\n",
    "    plt.tight_layout(pad=1.0)\n",
    "    fig.savefig('/g/data/os22/chad_tmp/AusEFlux/results/figs/cross_val_intercomparison_native_annual_biome_'+var+'.png',\n",
    "               bbox_inches='tight', dpi=300)"
   ]
  },
  {
   "cell_type": "code",
   "execution_count": null,
   "id": "f47a3e77-0ecc-4c38-8d9d-201e39237738",
   "metadata": {},
   "outputs": [],
   "source": [
    "# get handles and labels for reuse\n",
    "label_params = ax.get_legend_handles_labels() \n",
    "\n",
    "figl, axl = plt.subplots()\n",
    "axl.axis(False)\n",
    "axl.legend(*label_params, loc='best', fontsize=24, markerscale=4, ncol=1)\n",
    "figl.savefig('/g/data/os22/chad_tmp/AusEFlux/results/figs/legend_biomes.png',\n",
    "            bbox_inches='tight', dpi=300)"
   ]
  }
 ],
 "metadata": {
  "kernelspec": {
   "display_name": "Python 3 (ipykernel)",
   "language": "python",
   "name": "python3"
  },
  "language_info": {
   "codemirror_mode": {
    "name": "ipython",
    "version": 3
   },
   "file_extension": ".py",
   "mimetype": "text/x-python",
   "name": "python",
   "nbconvert_exporter": "python",
   "pygments_lexer": "ipython3",
   "version": "3.10.0"
  }
 },
 "nbformat": 4,
 "nbformat_minor": 5
}
