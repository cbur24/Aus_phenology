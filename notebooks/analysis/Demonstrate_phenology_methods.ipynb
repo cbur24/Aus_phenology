{
 "cells": [
  {
   "cell_type": "markdown",
   "id": "8d6185d6-5015-4c74-a294-e3c3cea28081",
   "metadata": {},
   "source": [
    "# Create example plots that show phenology extraction methods\n",
    "\n",
    "Each step from input NDVI to output phenology metrics"
   ]
  },
  {
   "cell_type": "code",
   "execution_count": null,
   "id": "be0c7445-4b35-4c1a-b586-353f4a293c32",
   "metadata": {
    "tags": []
   },
   "outputs": [],
   "source": [
    "%matplotlib inline\n",
    "\n",
    "import sys\n",
    "import pickle\n",
    "import warnings\n",
    "import numpy as np\n",
    "import xarray as xr\n",
    "import pandas as pd\n",
    "import seaborn as sb\n",
    "import scipy.signal\n",
    "from scipy import stats\n",
    "import geopandas as gpd\n",
    "import matplotlib.pyplot as plt\n",
    "from odc.geo.xr import assign_crs\n",
    "from odc.geo.geom import Geometry\n",
    "\n",
    "sys.path.append('/g/data/os22/chad_tmp/Aus_phenology/src')\n",
    "from phenology_pixel_circular import _extract_peaks_troughs, xr_phenometrics\n",
    "\n",
    "%load_ext autoreload\n",
    "%autoreload 2"
   ]
  },
  {
   "cell_type": "markdown",
   "id": "9f402f2d-ab13-41f3-8442-43722664c9d5",
   "metadata": {},
   "source": [
    "## Analysis Parameters\n"
   ]
  },
  {
   "cell_type": "code",
   "execution_count": null,
   "id": "e000aeb6-c6dd-4344-999c-fb58e16df20f",
   "metadata": {
    "tags": []
   },
   "outputs": [],
   "source": [
    "# k = 'Alice Tableland'\n",
    "# k = 'Western Mallee'\n",
    "# k='Simpson Desert'\n",
    "k = 'Atarting'\n",
    "\n",
    "ds_path = '/g/data/os22/chad_tmp/AusENDVI/results/publication/AusENDVI-clim_MCD43A4_gapfilled_1982_2022_0.2.0.nc'\n",
    "\n",
    "ecoregions_file = '/g/data/os22/chad_tmp/Aus_phenology/data/vectors/IBRAv7_subregions_modified.geojson'\n",
    "\n",
    "var='SUB_NAME_7'"
   ]
  },
  {
   "cell_type": "markdown",
   "id": "b16ec0d8-af6c-420a-aa5c-8f231b79f93e",
   "metadata": {},
   "source": [
    "## Open data"
   ]
  },
  {
   "cell_type": "code",
   "execution_count": null,
   "id": "801f1620-06b1-465b-ae28-98754825cfb8",
   "metadata": {
    "tags": []
   },
   "outputs": [],
   "source": [
    "ds = assign_crs(xr.open_dataset(ds_path), crs='EPSG:4326')\n",
    "ds = ds.rename({'AusENDVI_clim_MCD43A4':'NDVI'})\n",
    "ds = ds['NDVI']\n",
    "\n",
    "#bare soil NDVI data\n",
    "ss_path = f'/g/data/xc0/project/AusEFlux/data/ndvi_of_baresoil_5km.nc'\n",
    "ss = assign_crs(xr.open_dataset(ss_path)['NDVI'], crs='epsg:4326')\n",
    "ss.name = 'NDVI'"
   ]
  },
  {
   "cell_type": "markdown",
   "id": "522c6720-a034-48e2-8892-bf704083ce61",
   "metadata": {},
   "source": [
    "## Clip to a region"
   ]
  },
  {
   "cell_type": "code",
   "execution_count": null,
   "id": "d04f9441-a1a3-4b5e-9310-42c535fa0822",
   "metadata": {},
   "outputs": [],
   "source": [
    "gdf = gpd.read_file(ecoregions_file)\n",
    "gdf = gdf[gdf[var]==k]"
   ]
  },
  {
   "cell_type": "code",
   "execution_count": null,
   "id": "c0ba9e51-464c-4bdf-94e7-afed219f20b8",
   "metadata": {},
   "outputs": [],
   "source": [
    "#clip to ecoregion\n",
    "geom = Geometry(geom=gdf.iloc[0].geometry, crs=gdf.crs)\n",
    "ds = ds.odc.mask(poly=geom)\n",
    "ds = ds.dropna(dim='longitude', how='all').dropna(dim='latitude', how='all')\n",
    "\n",
    "#mask soil ndvi\n",
    "soil = ss.odc.mask(poly=geom)\n",
    "soil = soil.mean().values.item()\n",
    "\n",
    "# #summarise into 1d timeseries\n",
    "ds = ds.mean(['latitude', 'longitude'])"
   ]
  },
  {
   "cell_type": "markdown",
   "id": "276d8e55-021e-49bd-a483-a1122bc56dc6",
   "metadata": {},
   "source": [
    "## Smoothing filters"
   ]
  },
  {
   "cell_type": "code",
   "execution_count": null,
   "id": "52f92497-5db3-4dfa-944d-27c904ababef",
   "metadata": {},
   "outputs": [],
   "source": [
    "#resample before we smooth\n",
    "ds_smooth = ds.resample(time=\"2W\").interpolate(\"linear\")\n",
    "\n",
    "# # Savitsky-Golay smoothing\n",
    "ds_smooth = xr.apply_ufunc(\n",
    "        scipy.signal.savgol_filter,\n",
    "        ds_smooth,\n",
    "        input_core_dims=[['time']],\n",
    "        output_core_dims=[['time']],\n",
    "        kwargs=dict(\n",
    "            window_length=11,\n",
    "            polyorder=3,\n",
    "            deriv=0,\n",
    "            mode='interp'),\n",
    "        dask='parallelized'\n",
    "    )\n",
    "\n",
    "ds_trim = ds.sel(time=slice('2011','2015'))\n",
    "ds_smooth_trim = ds_smooth.sel(time=slice('2011','2015'))"
   ]
  },
  {
   "cell_type": "markdown",
   "id": "b5dd15c2-332b-4239-8e93-d40495d03e83",
   "metadata": {},
   "source": [
    "## Interpolation to daily"
   ]
  },
  {
   "cell_type": "code",
   "execution_count": null,
   "id": "591634b6-ab30-4175-bd26-6f09fce5651d",
   "metadata": {},
   "outputs": [],
   "source": [
    "quad=ds_smooth_trim.dropna(dim='time', how='all').resample(time='1D').interpolate(kind='quadratic')"
   ]
  },
  {
   "cell_type": "markdown",
   "id": "39a63a61-9876-41e9-b3b0-b7f1ff841f53",
   "metadata": {},
   "source": [
    "## Show peak/trough extraction"
   ]
  },
  {
   "cell_type": "code",
   "execution_count": null,
   "id": "08c5e9bb-3ba3-4350-ab97-9fa35f49f6a3",
   "metadata": {},
   "outputs": [],
   "source": [
    "d={k:ds_smooth.dropna(dim='time', how='all').resample(time='1D').interpolate(kind='quadratic')}"
   ]
  },
  {
   "cell_type": "code",
   "execution_count": null,
   "id": "aaa3bbfd-9490-4248-a1ab-5e4479d7740b",
   "metadata": {},
   "outputs": [],
   "source": [
    "peaks_troughs = _extract_peaks_troughs(d[k],\n",
    "                                    rolling=90,\n",
    "                                    distance=90,\n",
    "                                    prominence='auto',\n",
    "                                    plateau_size=10,\n",
    "                                     )"
   ]
  },
  {
   "cell_type": "markdown",
   "id": "695f636c-237a-4efa-afef-ef87da3e0d19",
   "metadata": {},
   "source": [
    "## Extract phenometrics \n",
    "\n",
    "<!-- import numpy as np\n",
    "import matplotlib.pyplot as plt\n",
    "from scipy.optimize import curve_fit\n",
    "\n",
    "def double_logistic_function(t, wNDVI, mNDVI, S, A, mS, mA):\n",
    "    sigmoid1 = 1 / (1 + np.exp(-mS * (t - S)))\n",
    "    sigmoid2 = 1 / (1 + np.exp(mA * (t - A)))\n",
    "    seasonal_term = sigmoid1 + sigmoid2 - 1\n",
    "    return wNDVI + (mNDVI - wNDVI) * seasonal_term\n",
    "\n",
    "def weight_function(t, S, A, r):\n",
    "    tr = 100 * (t - S) / (A - S)\n",
    "    tr = np.clip(tr, 0, 100)\n",
    "    return np.exp(-np.abs(r) / (1 + tr / 10))\n",
    "\n",
    "def fit_curve(t, ndvi_observed):\n",
    "    initial_guess = [np.min(ndvi_observed), np.max(ndvi_observed), np.mean(t), np.mean(t), 1, 1]\n",
    "    params, _ = curve_fit(double_logistic_function, t, ndvi_observed, p0=initial_guess, maxfev=10000)\n",
    "    residuals = ndvi_observed - double_logistic_function(t, *params)\n",
    "    weights = weight_function(t, params[2], params[3], residuals)\n",
    "    params, _ = curve_fit(double_logistic_function, t, ndvi_observed, p0=initial_guess, sigma=weights, maxfev=10000)\n",
    "    return params\n",
    "\n",
    "doys = ndvi_cycle.time.dt.dayofyear.values[2:]\n",
    "doys_frac = doys/365\n",
    "values = ndvi_cycle.values[2:]\n",
    "\n",
    "##Fit the curve\n",
    "parameters = fit_curve(doys_frac, values)\n",
    "\n",
    "##Plot the observed NDVI values\n",
    "plt.scatter(doys, values, label='Observed NDVI')\n",
    "\n",
    "##Generate points for the fitted curve\n",
    "t_fit = np.linspace(min(doys_frac), max(doys_frac), 365)\n",
    "ndvi_fit = double_logistic_function(t_fit, *parameters)\n",
    "\n",
    "##Plot the fitted curve\n",
    "plt.plot(t_fit*365, ndvi_fit, label='Fitted Curve', color='red')\n",
    "\n",
    "plt.xlabel('Day of the Year')\n",
    "plt.ylabel('NDVI')\n",
    "plt.legend()\n",
    "plt.title('Double Logistic Curve Fitting for NDVI Observations')\n",
    "plt.show() -->\n",
    "\n",
    "\n",
    "<!-- def xr_count_peaks(ds, order=16):\n",
    "    def _find_peaks(ds):\n",
    "        peaks = scipy.signal.argrelextrema(ds, np.greater, order=order)\n",
    "        # peaks = scipy.signal.find_peaks(ds, height=0.2, distance=order)\n",
    "        return len(peaks[0])\n",
    "    \n",
    "    ds_n_peaks = xr.apply_ufunc(_find_peaks,\n",
    "                              ds, \n",
    "                              input_core_dims=[['time']],\n",
    "                              vectorize=True, \n",
    "                              dask='parallelized',\n",
    "                              output_dtypes=[np.float32]\n",
    "                             )\n",
    "\n",
    "    return ds_n_peaks.rename('n_peaks')\n",
    "\n",
    "%%time\n",
    "n_peaks = xr_count_peaks(ds_smooth.sel(time=slice('2004-09', '2006-03'))) -->"
   ]
  },
  {
   "cell_type": "code",
   "execution_count": null,
   "id": "2274d435-cec9-4a63-9234-4d2031f992d8",
   "metadata": {},
   "outputs": [],
   "source": [
    "d={k: ds_smooth.dropna(dim='time', how='all').resample(time='1D').interpolate(kind='quadratic')}#.sel(time=slice('2009','2022'))}\n",
    "\n",
    "eco_regions_phenometrics = xr_phenometrics(d[k].expand_dims(latitude=[-33.0],longitude=[135.0]),\n",
    "                    rolling=90,\n",
    "                    distance=90,\n",
    "                    prominence='auto',\n",
    "                    plateau_size=10,\n",
    "                    amplitude=0.2,\n",
    "                    soil_signal=soil,\n",
    "                       ).compute()\n",
    "\n",
    "eco_regions_phenometrics = eco_regions_phenometrics.squeeze().to_dataframe()"
   ]
  },
  {
   "cell_type": "markdown",
   "id": "6381be9d-6baa-41d2-89ed-c5cfee6c8c74",
   "metadata": {},
   "source": [
    "## Plot"
   ]
  },
  {
   "cell_type": "code",
   "execution_count": null,
   "id": "1d00175d-5ba9-4de2-bb38-d90ec97c27a7",
   "metadata": {},
   "outputs": [],
   "source": [
    "ds_8day = xr.open_dataset('/g/data/os22/chad_tmp/Aus_phenology/data/NDVI_mcd43a4_8day_2014_2020.nc')['NDVI']\n",
    "ds_8day = assign_crs(ds_8day, 'epsg:4326')\n",
    "\n",
    "ds_8day = ds_8day.odc.mask(poly=geom)\n",
    "ds_8day = ds_8day.dropna(dim='longitude', how='all').dropna(dim='latitude', how='all')\n",
    "ds_8day = ds_8day.mean(['latitude', 'longitude'])"
   ]
  },
  {
   "cell_type": "code",
   "execution_count": null,
   "id": "7bcdd1cf-c6dd-4463-8cb2-3ce414377b0d",
   "metadata": {},
   "outputs": [],
   "source": [
    "phenometrics_trim = eco_regions_phenometrics.iloc[-11:-6]"
   ]
  },
  {
   "cell_type": "code",
   "execution_count": null,
   "id": "89e2469a-4846-46de-88e4-72975049a29e",
   "metadata": {},
   "outputs": [],
   "source": [
    "fig,ax=plt.subplots(4,1, figsize=(10,10))\n",
    "\n",
    "ds.sel(time=slice('2011','2015')).plot(ax=ax[0], label='NDVI Observed')\n",
    "ds_smooth.sel(time=slice('2011','2015')).plot(ax=ax[0], label='Bi-monthly & S-G smoothed')\n",
    "ax[0].legend()\n",
    "ax[0].grid()\n",
    "ax[0].set_title(None)\n",
    "ax[0].set_xlabel(None)\n",
    "\n",
    "ax[1].scatter(ds_trim.time, ds_trim.values, label='Observed NDVI', color='tab:orange')\n",
    "ax[1].scatter(ds_smooth_trim.time, ds_smooth_trim.values, label='Bi-monthly & S-G smoothed', color='tab:blue')\n",
    "ax[1].plot(quad.time, quad.values, label='Quadratic Interp. Daily', color='tab:green')\n",
    "ax[1].set_xlabel(None)\n",
    "ax[1].set_ylabel('NDVI')\n",
    "ax[1].legend()\n",
    "ax[1].set_title(None)\n",
    "ax[1].grid()\n",
    "\n",
    "ax[2].scatter(peaks_troughs.index[-24:-13],  peaks_troughs['peaks'][-24:-13],  c='black', label='Peak', zorder=10);\n",
    "ax[2].scatter(peaks_troughs.index[-24:-13],  peaks_troughs['troughs'][-24:-13],  c='tab:purple', label='Trough', zorder=11);\n",
    "d[k].sel(time=slice('2011','2015')).plot(ax=ax[2], label='Observed', c='tab:blue')\n",
    "d[k].rolling(time=90, min_periods=1, center=True).max().sel(time=slice('2011','2015')).plot(ax=ax[2], label='Rolling maximum',c='tab:green')\n",
    "d[k].rolling(time=90, min_periods=1, center=True).min().sel(time=slice('2011','2015')).plot(ax=ax[2], label='Rolling minimum', c='tab:orange')\n",
    "ax[2].legend(ncols=2)\n",
    "ax[2].grid()\n",
    "ax[2].set_title(None)\n",
    "ax[2].set_xlabel(None)\n",
    "\n",
    "d[k].sel(time=slice('2011','2015')).plot(ax=ax[3], color='tab:blue', label='Daily NDVI')\n",
    "\n",
    "ax[3].scatter(x=[pd.to_datetime(d-1, unit='D', origin=str(int(y))) for d,y in zip(phenometrics_trim.SOS.values, phenometrics_trim.SOS_year.values)],\n",
    "           y=phenometrics_trim.vSOS,\n",
    "          c='tab:green', label='SOS', zorder=10)\n",
    "\n",
    "ax[3].scatter(x=[pd.to_datetime(d-1, unit='D', origin=str(int(y))) for d,y in zip(phenometrics_trim.EOS.values, phenometrics_trim.EOS_year.values)],\n",
    "           y=phenometrics_trim.vEOS,\n",
    "          c='tab:purple', label='EOS', zorder=10)\n",
    "\n",
    "ax[3].scatter(x=[pd.to_datetime(d-1, unit='D', origin=str(int(y))) for d,y in zip(phenometrics_trim.POS.values, phenometrics_trim.POS_year.values)],\n",
    "               y=phenometrics_trim.vPOS,\n",
    "              c='black', label='POS', zorder=10)\n",
    "    \n",
    "ax[3].scatter(x=[pd.to_datetime(d-1, unit='D', origin=str(int(y))) for d,y in zip(phenometrics_trim.TOS.values, phenometrics_trim.TOS_year.values)],\n",
    "           y=phenometrics_trim.vTOS,\n",
    "          c='tab:orange', label='TOS', zorder=10)\n",
    "\n",
    "ax[3].set_xlabel(None)\n",
    "ax[3].set_ylabel('NDVI')\n",
    "ax[3].legend(ncols=2)\n",
    "ax[3].grid()\n",
    "ax[3].set_title(None)\n",
    "plt.suptitle(k, fontsize=15)\n",
    "\n",
    "ds_8day.sel(time=slice('2011','2015')).plot(ax=ax[3], label='8-day NDVI')\n",
    "plt.tight_layout();\n",
    "\n",
    "# fig.savefig(f'/g/data/os22/chad_tmp/Aus_phenology/results/figs/demonstrate_methods_{k}.png',\n",
    "#             bbox_inches='tight', dpi=300)"
   ]
  },
  {
   "cell_type": "code",
   "execution_count": null,
   "id": "8fa349ac-980f-4dbb-bfc0-0b92d5e22ab8",
   "metadata": {},
   "outputs": [],
   "source": []
  }
 ],
 "metadata": {
  "kernelspec": {
   "display_name": "Python 3 (ipykernel)",
   "language": "python",
   "name": "python3"
  },
  "language_info": {
   "codemirror_mode": {
    "name": "ipython",
    "version": 3
   },
   "file_extension": ".py",
   "mimetype": "text/x-python",
   "name": "python",
   "nbconvert_exporter": "python",
   "pygments_lexer": "ipython3",
   "version": "3.10.0"
  }
 },
 "nbformat": 4,
 "nbformat_minor": 5
}
