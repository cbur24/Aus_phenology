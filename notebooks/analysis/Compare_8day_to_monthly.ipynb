{
 "cells": [
  {
   "cell_type": "markdown",
   "id": "8d6185d6-5015-4c74-a294-e3c3cea28081",
   "metadata": {},
   "source": [
    "# How does the monthly resolution impact phenology extraction?\n",
    "\n",
    "Compare with 8-day NDVI"
   ]
  },
  {
   "cell_type": "code",
   "execution_count": null,
   "id": "be0c7445-4b35-4c1a-b586-353f4a293c32",
   "metadata": {
    "tags": []
   },
   "outputs": [],
   "source": [
    "%matplotlib inline\n",
    "\n",
    "import sys\n",
    "import pickle\n",
    "import warnings\n",
    "import numpy as np\n",
    "import xarray as xr\n",
    "import pandas as pd\n",
    "import scipy.signal\n",
    "import geopandas as gpd\n",
    "import matplotlib.pyplot as plt\n",
    "from odc.geo.geom import Geometry\n",
    "from odc.geo.xr import assign_crs\n",
    "\n",
    "sys.path.append('/g/data/os22/chad_tmp/Aus_phenology/src')\n",
    "from phenology_pixel_circular import _extract_peaks_troughs, xr_phenometrics\n",
    "\n",
    "import sys\n",
    "sys.path.append('/g/data/xc0/project/AusEFlux/src/')\n",
    "from _utils import round_coords, start_local_dask\n",
    "\n",
    "# %load_ext autoreload\n",
    "# %autoreload 2"
   ]
  },
  {
   "cell_type": "code",
   "execution_count": null,
   "id": "6d1d038c-29b1-41da-8faf-33a4317c4bc7",
   "metadata": {},
   "outputs": [],
   "source": [
    "# client = start_local_dask(mem_safety_margin='2Gb')\n",
    "# client"
   ]
  },
  {
   "cell_type": "markdown",
   "id": "9f402f2d-ab13-41f3-8442-43722664c9d5",
   "metadata": {},
   "source": [
    "## Analysis Parameters\n"
   ]
  },
  {
   "cell_type": "code",
   "execution_count": null,
   "id": "6a9c27f5-4dbd-40e2-904d-961b23786d23",
   "metadata": {
    "tags": []
   },
   "outputs": [],
   "source": [
    "product='AusENDVI-clim_MCD43A4'\n",
    "timeseries_file = '/g/data/os22/chad_tmp/Aus_phenology/data/pickle/IBRA_subregions_NDVI_'+product+'.pkl'\n",
    "save_file = '/g/data/os22/chad_tmp/Aus_phenology/data/pickle/IBRA_subregions_'+product+'_phenometrics_new.pkl'\n",
    "ecoregions_file = '/g/data/os22/chad_tmp/Aus_phenology/data/vectors/IBRAv7_subregions_modified.geojson'\n",
    "var='SUB_NAME_7'\n",
    "region_type = 'IBRA_subregions'\n",
    "years='1982-2022'"
   ]
  },
  {
   "cell_type": "markdown",
   "id": "c4ef2e3a-8419-4d62-9c71-a8367b309dda",
   "metadata": {},
   "source": [
    "## Select region\n",
    "\n",
    "Some more strongly water-limited and highly variable regions to test if monthly upscaled data is missing rapid growth and senescence pulses."
   ]
  },
  {
   "cell_type": "code",
   "execution_count": null,
   "id": "7a8f9891-7840-4318-98b3-b134038d169f",
   "metadata": {},
   "outputs": [],
   "source": [
    "# k = 'Birdum'\n",
    "k ='Atarting'\n",
    "# k ='Murrumbidgee'\n",
    "# k='Carnarvon Ranges'\n"
   ]
  },
  {
   "cell_type": "markdown",
   "id": "a36d45f1-6dd9-44b4-bb31-825db4303234",
   "metadata": {},
   "source": [
    "## Open datasets"
   ]
  },
  {
   "cell_type": "code",
   "execution_count": null,
   "id": "3ea1bf71-29b3-4ea7-a9b9-0989f9bfb1f1",
   "metadata": {
    "tags": []
   },
   "outputs": [],
   "source": [
    "gdf = gpd.read_file(ecoregions_file)\n",
    "\n",
    "phenometrics_file = '/g/data/os22/chad_tmp/Aus_phenology/data/pickle/IBRA_subregions_AusENDVI-clim_MCD43A4_phenometrics_new.pkl'\n",
    "with open(phenometrics_file, 'rb') as f:\n",
    "    eco_regions_phenometrics = pickle.load(f)\n",
    "\n",
    "#NDVI timeseries processed earlier to daily\n",
    "with open(timeseries_file, 'rb') as f:\n",
    "    results = pickle.load(f)\n",
    "\n",
    "ds_8day = xr.open_dataset('/g/data/os22/chad_tmp/Aus_phenology/data/NDVI_mcd43a4_8day_2014_2020.nc')['NDVI']\n",
    "ds_8day = assign_crs(ds_8day, 'epsg:4326')"
   ]
  },
  {
   "cell_type": "markdown",
   "id": "45d5368c-ae88-4af7-b380-8881c2ed051f",
   "metadata": {},
   "source": [
    "### Process 8-day data to daily\n",
    "\n",
    "Matching the smoothing and interpolation of manuscript."
   ]
  },
  {
   "cell_type": "code",
   "execution_count": null,
   "id": "51398c86-041e-47c3-921f-4aca83853f9c",
   "metadata": {},
   "outputs": [],
   "source": [
    "geom = Geometry(geom=gdf[gdf['SUB_NAME_7'] == k].geometry.reset_index(drop=True)[0], crs=gdf.crs)\n",
    "\n",
    "ds_8day_clip = ds_8day.odc.mask(poly=geom)\n",
    "ds_8day_clip = ds_8day_clip.dropna(dim='latitude', how='all').dropna(dim='longitude', how='all')"
   ]
  },
  {
   "cell_type": "code",
   "execution_count": null,
   "id": "26fcbeca-6f08-4b64-8cfa-e4a18a850eaf",
   "metadata": {},
   "outputs": [],
   "source": [
    "# ds_8day_clip.sel(time='2016').plot(col='time', col_wrap=10);"
   ]
  },
  {
   "cell_type": "code",
   "execution_count": null,
   "id": "cf39a669-9a5c-443b-b4f0-0ad1dd0347bf",
   "metadata": {},
   "outputs": [],
   "source": [
    "#fill the all-NaN slices with a fill value\n",
    "nan_mask = np.isnan(ds_8day_clip).sum('time') == len(ds_8day_clip.time)\n",
    "ds_8day_clip = xr.where(nan_mask, -99, ds_8day_clip)\n",
    "\n",
    "#interpolate away NaNs\n",
    "ds_8day_clip = ds_8day_clip.interpolate_na(dim='time', method='cubic', fill_value=\"extrapolate\")\n",
    "\n",
    "# # Savitsky-Golay smoothing\n",
    "ds_8day_clip = xr.apply_ufunc(\n",
    "        scipy.signal.savgol_filter,\n",
    "        ds_8day_clip,\n",
    "        input_core_dims=[['time']],\n",
    "        output_core_dims=[['time']],\n",
    "        kwargs=dict(\n",
    "            window_length=15,#higher time freq than monthly so higher window length to ~match \n",
    "            polyorder=3,\n",
    "            deriv=0,\n",
    "            mode='interp'),\n",
    "        dask='parallelized'\n",
    "    )\n",
    "\n",
    "#now we can interpolate to daily\n",
    "ds_8day_clip = ds_8day_clip.resample(time='1D').interpolate(kind='quadratic').astype('float32')\n",
    "\n",
    "#now mask out -99 values\n",
    "ds_8day_clip = ds_8day_clip.where(~nan_mask)\n",
    "\n",
    "#now collapse spatial dims\n",
    "ds_8day_clip = ds_8day_clip.mean(['latitude','longitude'])"
   ]
  },
  {
   "cell_type": "markdown",
   "id": "ffe268cc-bac1-4076-b64f-150c9f76d5a9",
   "metadata": {},
   "source": [
    "## Plot monthly alongside 8-day upscaled NDVI"
   ]
  },
  {
   "cell_type": "code",
   "execution_count": null,
   "id": "4b57ca7b-cea9-46d7-9aaa-bf53ed885a37",
   "metadata": {},
   "outputs": [],
   "source": [
    "ds = results[k]\n",
    "\n",
    "fig,ax=plt.subplots(1,1, figsize=(6,3))\n",
    "ds.plot(ax=ax, color='tab:blue', linestyle='--', linewidth=1.0, label='Monthly upscaled NDVI') #.sel(time=slice('1997','2016'))\n",
    "\n",
    "ax.scatter(x=[pd.to_datetime(d-1, unit='D', origin=str(int(y))) for d,y in zip(eco_regions_phenometrics[k].SOS.values, eco_regions_phenometrics[k].SOS_year.values)],\n",
    "       y=eco_regions_phenometrics[k].vSOS,\n",
    "      c='tab:green', zorder=10)\n",
    "\n",
    "ax.scatter(x=[pd.to_datetime(d-1, unit='D', origin=str(int(y))) for d,y in zip(eco_regions_phenometrics[k].EOS.values, eco_regions_phenometrics[k].EOS_year.values)],\n",
    "       y=eco_regions_phenometrics[k].vEOS,\n",
    "      c='tab:purple', zorder=10)\n",
    "\n",
    "ax.scatter(x=[pd.to_datetime(d-1, unit='D', origin=str(int(y))) for d,y in zip(eco_regions_phenometrics[k].POS.values, eco_regions_phenometrics[k].POS_year.values)],\n",
    "           y=eco_regions_phenometrics[k].vPOS,\n",
    "          c='black', zorder=10)\n",
    "\n",
    "ax.scatter(x=[pd.to_datetime(d-1, unit='D', origin=str(int(y))) for d,y in zip(eco_regions_phenometrics[k].TOS.values, eco_regions_phenometrics[k].TOS_year.values)],\n",
    "       y=eco_regions_phenometrics[k].vTOS,\n",
    "      c='tab:orange', zorder=10)\n",
    "\n",
    "\n",
    "ds_8day_clip.plot(ax=ax, color='tab:red', linestyle='--', linewidth=1.0, label='8-day upscaled NDVI')\n",
    "\n",
    "ax.set_xlim(pd.to_datetime(330, unit='D', origin='2014'), pd.to_datetime(30, unit='D', origin='2020'))\n",
    "ax.set_xlabel(None)\n",
    "ax.set_ylabel('NDVI')\n",
    "ax.set_title(k, fontsize=12)\n",
    "ax.legend()\n",
    "ax.grid(which='both')\n",
    "# ax.set_ylim(0.5,0.9)\n",
    "\n",
    "# fig.savefig(f'/g/data/os22/chad_tmp/Aus_phenology/results/figs/compare_temporal_periods_{k}.png',\n",
    "#             bbox_inches='tight', dpi=300)"
   ]
  },
  {
   "cell_type": "code",
   "execution_count": null,
   "id": "7628c2b4-8d8a-4241-92f1-d264c2072860",
   "metadata": {},
   "outputs": [],
   "source": [
    "# gdf.explore(column='SUB_NAME_7',\n",
    "#             tiles = 'https://server.arcgisonline.com/ArcGIS/rest/services/World_Imagery/MapServer/tile/{z}/{y}/{x}',\n",
    "#             attr = 'Esri',\n",
    "#             name = 'Esri Satellite',\n",
    "#             control = True,\n",
    "#             legend=False\n",
    "#            )"
   ]
  },
  {
   "cell_type": "code",
   "execution_count": null,
   "id": "1eab934e-da05-495e-902f-aac74a99156d",
   "metadata": {},
   "outputs": [],
   "source": []
  },
  {
   "cell_type": "code",
   "execution_count": null,
   "id": "9b216fb7-6793-49d3-ac99-e9a10637a6f4",
   "metadata": {},
   "outputs": [],
   "source": []
  },
  {
   "cell_type": "markdown",
   "id": "0d9f1108-a2b8-49b5-8a95-3a91565f8d32",
   "metadata": {},
   "source": [
    "## Process 8-day NDVI\n",
    "\n",
    "We'll use this to compare against monthly."
   ]
  },
  {
   "cell_type": "code",
   "execution_count": null,
   "id": "083e37d3-6680-4827-a8a1-0edecc72c477",
   "metadata": {},
   "outputs": [],
   "source": [
    "# # Grab a common grid to reproject all datasets too \n",
    "# gbox_path = f'/g/data/xc0/project/AusEFlux/data/grid_5km'\n",
    "# with open(gbox_path, 'rb') as f:\n",
    "#     gbox = pickle.load(f)"
   ]
  },
  {
   "cell_type": "code",
   "execution_count": null,
   "id": "b64641e1-6be7-4a41-9dfc-4a221adf876f",
   "metadata": {
    "scrolled": true
   },
   "outputs": [],
   "source": [
    "# base = '/g/data/ub8/au/'\n",
    "# years=['2014','2015', '2016', '2017', '2018', '2019', '2020']\n",
    "\n",
    "# arrs=[]\n",
    "# for year in years:\n",
    "#     print(year)\n",
    "#     modis_sr_inputs = {\n",
    "#         'SR_B1': 'MODIS/mosaic/MCD43A4.006/MCD43A4.006.b01.500m_0620_0670nm_nbar.'+year+'.nc',\n",
    "#         'SR_B2': 'MODIS/mosaic/MCD43A4.006/MCD43A4.006.b02.500m_0841_0876nm_nbar.'+year+'.nc',\n",
    "#          }\n",
    "    \n",
    "#     d = {}\n",
    "#     for k,i in modis_sr_inputs.items():\n",
    "        \n",
    "#         #open and do some prelim processing\n",
    "#         ds = xr.open_dataset(base+i, chunks='auto')\n",
    "#         ds = assign_crs(ds, crs='epsg:4326')\n",
    "#         ds = ds.to_array()\n",
    "#         ds = ds.squeeze().drop_vars('variable')\n",
    "#         ds.attrs['nodata'] = np.nan\n",
    "#         ds = ds.rename(k)        \n",
    "#         d[k] = ds #add to dict\n",
    "    \n",
    "#     ds = (d['SR_B2'] - d['SR_B1']) / (d['SR_B2'] + d['SR_B1'])\n",
    "    \n",
    "#     ds.attrs['nodata'] = np.nan\n",
    "    \n",
    "#     # resample spatial\n",
    "#     ds = ds.odc.reproject(gbox, resampling='average').compute()  # bring into memory\n",
    "    \n",
    "#     #tidy up\n",
    "#     ds = round_coords(ds)\n",
    "#     ds = ds.rename('NDVI')\n",
    "#     ds = ds.where(ds>0)\n",
    "#     arrs.append(ds)\n",
    "\n",
    "# ds = xr.concat(arrs, dim='time').sortby('time')\n",
    "\n",
    "# ds.to_netcdf('/g/data/os22/chad_tmp/Aus_phenology/data/NDVI_mcd43a4_8day_2014_2020.nc')"
   ]
  },
  {
   "cell_type": "code",
   "execution_count": null,
   "id": "2d0ef626-a5ef-4bef-986e-e3a0bb670363",
   "metadata": {},
   "outputs": [],
   "source": [
    "# # Grab a common grid to reproject all datasets too \n",
    "# gbox_path = f'/g/data/xc0/project/AusEFlux/data/grid_5km'\n",
    "# with open(gbox_path, 'rb') as f:\n",
    "#     gbox = pickle.load(f)\n",
    "\n",
    "# years=['2014','2015', '2016', '2017', '2018', '2019', '2020']\n",
    "\n",
    "# data_path = '/g/data/ub8/au/OzWALD/8day/NDVI/'\n",
    "\n",
    "# arrs=[]\n",
    "# for y in years:\n",
    "#     ds = xr.open_dataset(f'{data_path}OzWALD.NDVI.{y}.nc', chunks=\"auto\")['NDVI']\n",
    "#     ds = ds.transpose('time', 'latitude', 'longitude')\n",
    "#     ds = assign_crs(ds, 'epsg:4326')\n",
    "#     ds.attrs['nodata'] = np.nan\n",
    "#     # resample spatial\n",
    "#     ds = ds.odc.reproject(gbox, resampling='average').compute()\n",
    "#     ds = round_coords(ds)\n",
    "#     ds = ds.rename('NDVI')\n",
    "#     arrs.append(ds)\n",
    "\n",
    "# ds_8day = xr.concat(arrs, dim='time').sortby('time')\n",
    "\n",
    "# ds_8day.to_netcdf('/g/data/os22/chad_tmp/Aus_phenology/data/NDVI_8day_2014_2020.nc')"
   ]
  }
 ],
 "metadata": {
  "kernelspec": {
   "display_name": "Python 3 (ipykernel)",
   "language": "python",
   "name": "python3"
  },
  "language_info": {
   "codemirror_mode": {
    "name": "ipython",
    "version": 3
   },
   "file_extension": ".py",
   "mimetype": "text/x-python",
   "name": "python",
   "nbconvert_exporter": "python",
   "pygments_lexer": "ipython3",
   "version": "3.10.0"
  }
 },
 "nbformat": 4,
 "nbformat_minor": 5
}
