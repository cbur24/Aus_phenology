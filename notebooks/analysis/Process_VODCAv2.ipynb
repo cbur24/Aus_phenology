{
 "cells": [
  {
   "cell_type": "markdown",
   "metadata": {},
   "source": [
    "# Process VODCA v2\n",
    "\n",
    "Downloaded from here: https://essd.copernicus.org/preprints/essd-2024-35/\n"
   ]
  },
  {
   "cell_type": "markdown",
   "metadata": {},
   "source": [
    "## Load packages"
   ]
  },
  {
   "cell_type": "code",
   "execution_count": null,
   "metadata": {},
   "outputs": [],
   "source": [
    "import sys\n",
    "import os\n",
    "import xarray as xr\n",
    "import pandas as pd\n",
    "import numpy as np\n",
    "from odc.geo.xr import assign_crs"
   ]
  },
  {
   "cell_type": "markdown",
   "metadata": {},
   "source": [
    "## Combine files"
   ]
  },
  {
   "cell_type": "code",
   "execution_count": null,
   "metadata": {},
   "outputs": [],
   "source": [
    "base='/g/data/os22/chad_tmp/Aus_phenology/data/VODCA_CXKu/daily_images_VODCA_CXKu/'\n",
    "years = [str(i) for i in range(1988,2022)]"
   ]
  },
  {
   "cell_type": "code",
   "execution_count": null,
   "metadata": {},
   "outputs": [],
   "source": [
    "dss=[]\n",
    "for y in years:\n",
    "    print(y)\n",
    "    files = [base+y+'/'+i for i in os.listdir(base+y)]\n",
    "    files.sort()\n",
    "    ds = xr.open_mfdataset(files)\n",
    "    ds = ds.rename({'lat':'latitude', 'lon':'longitude'})\n",
    "    ds = assign_crs(ds['VODCA_CXKu'], crs='EPSG:4326')\n",
    "    ds = ds.sel(latitude=slice(-10,-45), longitude=slice(110,155))\n",
    "    ds = ds.resample(time='MS', loffset=pd.Timedelta(14, 'd')).mean()\n",
    "    dss.append(ds.compute())\n",
    "\n",
    "vodca = xr.concat(dss, dim='time').sortby('time')"
   ]
  },
  {
   "cell_type": "code",
   "execution_count": null,
   "metadata": {},
   "outputs": [],
   "source": [
    "vodca.mean('time').plot(robust=True)"
   ]
  },
  {
   "cell_type": "code",
   "execution_count": null,
   "metadata": {},
   "outputs": [],
   "source": [
    "vodca.mean(['latitude','longitude']).plot(figsize=(12,4))"
   ]
  },
  {
   "cell_type": "code",
   "execution_count": null,
   "metadata": {},
   "outputs": [],
   "source": [
    "vodca.to_netcdf('/g/data/os22/chad_tmp/Aus_phenology/data/VODCAv2_1988_2021.nc')"
   ]
  },
  {
   "cell_type": "markdown",
   "metadata": {},
   "source": [
    "## Process TerraClimate PET\n",
    "\n",
    "And calculate P:PET\n",
    "\n",
    "Other datasets: http://thredds.northwestknowledge.net:8080/thredds/terraclimate_aggregated.html"
   ]
  },
  {
   "cell_type": "code",
   "execution_count": null,
   "metadata": {},
   "outputs": [],
   "source": [
    "from _utils import round_coords"
   ]
  },
  {
   "cell_type": "code",
   "execution_count": null,
   "metadata": {},
   "outputs": [],
   "source": [
    "import sys\n",
    "sys.path.append('/g/data/os22/chad_tmp/AusEFlux/src/')\n",
    "from _utils import start_local_dask, round_coords\n",
    "client = start_local_dask()\n",
    "client"
   ]
  },
  {
   "cell_type": "code",
   "execution_count": null,
   "metadata": {},
   "outputs": [],
   "source": [
    "ds = xr.open_dataset('http://thredds.northwestknowledge.net:8080/thredds/dodsC/agg_terraclimate_pet_1958_CurrentYear_GLOBE.nc')\n",
    "ds = ds.rename({'lat':'latitude', 'lon':'longitude'})\n",
    "ds = assign_crs(ds['pet'], crs='EPSG:4326')\n",
    "ds = ds.sel(latitude=slice(-10,-45), longitude=slice(110,155))\n",
    "ds = ds.sel(time=slice('1981','2022'))\n",
    "\n",
    "rain = xr.open_dataset('/g/data/os22/chad_tmp/AusENDVI/data/5km/rain_5km_monthly_1981_2022.nc')['rain']\n",
    "ds['time'] = rain.time #shift time by half month\n",
    "ds.attrs['nodata']=np.nan\n",
    "ds = ds.chunk(time=1)\n",
    "ds = ds.odc.reproject(how=rain.odc.geobox, resampling='bilinear').compute()\n",
    "ds = round_coords(ds)\n",
    "ds = ds.rename('PET')\n",
    "ds.to_netcdf('/g/data/os22/chad_tmp/Aus_phenology/data/PET_1981_2022.nc')"
   ]
  },
  {
   "cell_type": "code",
   "execution_count": null,
   "metadata": {},
   "outputs": [],
   "source": [
    "mi = rain/ds\n",
    "mi = mi.rename('MI')"
   ]
  },
  {
   "cell_type": "code",
   "execution_count": null,
   "metadata": {},
   "outputs": [],
   "source": [
    "mi.sel(time=slice('1982','2022')).to_netcdf('/g/data/os22/chad_tmp/Aus_phenology/data/MI_1982_2022.nc')"
   ]
  },
  {
   "cell_type": "code",
   "execution_count": null,
   "metadata": {},
   "outputs": [],
   "source": []
  }
 ],
 "metadata": {
  "kernelspec": {
   "display_name": "Python 3 (ipykernel)",
   "language": "python",
   "name": "python3"
  },
  "language_info": {
   "codemirror_mode": {
    "name": "ipython",
    "version": 3
   },
   "file_extension": ".py",
   "mimetype": "text/x-python",
   "name": "python",
   "nbconvert_exporter": "python",
   "pygments_lexer": "ipython3",
   "version": "3.10.0"
  }
 },
 "nbformat": 4,
 "nbformat_minor": 4
}
