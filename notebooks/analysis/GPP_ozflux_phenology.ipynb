{
 "cells": [
  {
   "cell_type": "markdown",
   "id": "248c4ba7-1b91-4df6-91c0-cfdfcad54246",
   "metadata": {},
   "source": [
    "# Extract phenology from OzFlux GPP\n",
    "\n",
    "This is to show that the algorithm performs well regardless of NDVI or GPP"
   ]
  },
  {
   "cell_type": "code",
   "execution_count": null,
   "id": "2387a15b-2689-4556-8ae5-2bf47beb7112",
   "metadata": {},
   "outputs": [],
   "source": [
    "%matplotlib inline\n",
    "import os\n",
    "import sys\n",
    "import pingouin as pg\n",
    "import xarray as xr\n",
    "import numpy as np\n",
    "import pandas as pd\n",
    "import geopandas as gpd\n",
    "import scipy.signal\n",
    "import contextily as ctx\n",
    "import matplotlib.pyplot as plt\n",
    "from scipy import stats\n",
    "import seaborn as sb\n",
    "from odc.geo.xr import assign_crs\n",
    "import matplotlib.colors as colors\n",
    "import distinctipy\n",
    "from matplotlib.colors import LinearSegmentedColormap\n",
    "from mpl_toolkits.axes_grid1.inset_locator import inset_axes\n",
    "import warnings\n",
    "warnings.simplefilter(action='ignore')\n",
    "\n",
    "import sys\n",
    "sys.path.append('/g/data/os22/chad_tmp/Aus_phenology/src')\n",
    "from phenology_pixel_circular import xr_phenometrics"
   ]
  },
  {
   "cell_type": "code",
   "execution_count": null,
   "id": "7d2f71e4-38fe-4449-af02-093750c751ec",
   "metadata": {},
   "outputs": [],
   "source": [
    "# # Savitsky-Golay smoothing function\n",
    "def sg_smooth(ds, window, poly, deriv):\n",
    "    return xr.apply_ufunc(\n",
    "        scipy.signal.savgol_filter,\n",
    "        ds,\n",
    "        input_core_dims=[['time']],\n",
    "        output_core_dims=[['time']],\n",
    "        kwargs=dict(\n",
    "            window_length=window,\n",
    "            polyorder=poly,\n",
    "            deriv=deriv,\n",
    "            mode='interp'),\n",
    "        dask='parallelized'\n",
    "    )\n",
    "\n",
    "def filter_complete_years(ds):\n",
    "    # Extract year and month information\n",
    "    df = ds.time.to_dataframe().reset_index(drop=True)\n",
    "    df['year'] = df['time'].dt.year\n",
    "    df['month'] = df['time'].dt.month\n",
    "    \n",
    "    # Identify years with all 12 months\n",
    "    complete_years = (\n",
    "        df.groupby('year')['month']\n",
    "        .nunique()\n",
    "        .loc[lambda x: x == 12]  # Keep only years with exactly 12 unique months\n",
    "        .index\n",
    "    )\n",
    "    \n",
    "    # Filter the data array to include only these complete years\n",
    "    filtered_data = ds.where(ds.time.dt.year.isin(complete_years), drop=True)\n",
    "    \n",
    "    return filtered_data"
   ]
  },
  {
   "cell_type": "markdown",
   "id": "868f9976-cf6a-4c2d-b3de-7741cafc60e2",
   "metadata": {},
   "source": [
    "## Remote sensing data"
   ]
  },
  {
   "cell_type": "code",
   "execution_count": null,
   "id": "91b6719a-cb9e-4d93-8919-7d2cd1ba1ede",
   "metadata": {},
   "outputs": [],
   "source": [
    "ds = assign_crs(xr.open_dataset('/g/data/os22/chad_tmp/AusENDVI/results/publication/AusENDVI-clim_MCD43A4_gapfilled_1982_2022_0.2.0.nc'), crs='EPSG:4326')\n",
    "ds = ds.rename({'AusENDVI_clim_MCD43A4':'NDVI'})\n",
    "ds = ds['NDVI']\n",
    "\n",
    "rain = xr.open_dataset('/g/data/os22/chad_tmp/Aus_phenology/data/rainfall_ANUClim_daily_5km_1960_2022.nc')['rain']\n",
    "rain = assign_crs(rain.sel(time=slice('1982', '2022')), crs='EPSG:4326')\n",
    "\n",
    "ds_8day = xr.open_dataset('/g/data/os22/chad_tmp/Aus_phenology/data/NDVI_mcd43a4_8day_2014_2020.nc')['NDVI']\n",
    "ds_8day = assign_crs(ds_8day, 'epsg:4326')"
   ]
  },
  {
   "cell_type": "markdown",
   "id": "b3094738-2361-4dd9-b6c3-82234d0466e8",
   "metadata": {},
   "source": [
    "## Flux tower data"
   ]
  },
  {
   "cell_type": "markdown",
   "id": "0aa9fffd-bca6-4bb4-b412-d5df1952c963",
   "metadata": {},
   "source": [
    "#### Process timeseries and calculate phenometrics"
   ]
  },
  {
   "cell_type": "code",
   "execution_count": null,
   "id": "ca685172-78f1-43f7-982f-4a838d387cc8",
   "metadata": {},
   "outputs": [],
   "source": [
    "flux = xr.open_dataset('https://dap.tern.org.au/thredds/dodsC/ecosystem_process/ozflux/AliceSpringsMulga/2022_v2/L6/default/AliceSpringsMulga_L6_Daily.nc')['GPP_SOLO']\n",
    "\n",
    "flux  = xr.where(flux<0, 0, flux)\n",
    "\n",
    "# Index NDVI at location and time so we have matching time series\n",
    "lat,lon = flux.latitude, flux.longitude\n",
    "\n",
    "# flux = filter_complete_years(flux)\n",
    "flux=sg_smooth(flux, window=60, poly=3, deriv=0)\n",
    "\n",
    "flux_phen = xr_phenometrics(flux, prominence=0.1, soil_signal=0.0).compute()"
   ]
  },
  {
   "cell_type": "markdown",
   "id": "11ef7e39-0ed3-41a9-8408-9148f5b72967",
   "metadata": {},
   "source": [
    "## Process NDVI data"
   ]
  },
  {
   "cell_type": "code",
   "execution_count": null,
   "id": "409eb3ab-950f-48e9-b0b4-f7f141428473",
   "metadata": {},
   "outputs": [],
   "source": [
    "ds_8day = ds_8day.sel(latitude=lat, longitude=lon, method='nearest')\n",
    "ndvi_monthly = ds.sel(latitude=lat, longitude=lon, method='nearest')\n",
    "rain = rain.sel(latitude=lat, longitude=lon, method='nearest')\n",
    "\n",
    "ndvi = ndvi_monthly.resample(time=\"2W\").interpolate(\"linear\")\n",
    "ndvi=sg_smooth(ndvi,  window=11, poly=3, deriv=0)\n",
    "ndvi = ndvi.dropna(dim='time',\n",
    "        how='all').resample(time='1D').interpolate(kind='quadratic')\n",
    "\n",
    "# # #phenology\n",
    "ndvi_phen = xr_phenometrics(ndvi, prominence=0.005, soil_signal=0.15).compute()\n",
    "\n"
   ]
  },
  {
   "cell_type": "code",
   "execution_count": null,
   "id": "dac28c54-22db-4809-8797-6e25200252b0",
   "metadata": {},
   "outputs": [],
   "source": [
    "# ts_daily = flux_tss[k].sel(time=slice('2012','2020'))\n",
    "# ts_monthly = flux_tss_orig[k].sel(time=slice('2012','2020'))\n",
    "# flux_pheno = flux_pheno[k].sel(index=range(0,10))"
   ]
  },
  {
   "cell_type": "code",
   "execution_count": null,
   "id": "30da373a-1038-4257-9656-47b277e4d29e",
   "metadata": {},
   "outputs": [],
   "source": [
    "fig,ax=plt.subplots(1,1, figsize=(10,4))\n",
    "\n",
    "ax2 = ax.twinx()\n",
    "\n",
    "flux.sel(time=slice('2011','2016')).plot(ax=ax, c='tab:blue', linestyle='--', linewidth=1.0, label='Daily GPP')\n",
    "\n",
    "ndvi_monthly.sel(time=slice('2011','2016')).plot(ax=ax2, c='tab:red', linestyle='--', linewidth=1.0, label='Monthly NDVI')\n",
    "\n",
    "# ndvi.sel(time=slice('2013','2014')).squeeze().drop_vars(['latitude', 'longitude']).plot(ax=ax2, label='NDVI daily')\n",
    "\n",
    "ax.legend(loc='upper left')\n",
    "ax2.legend(loc='upper right')\n",
    "ax.set_title('Alice Springs Mulga flux tower site')\n",
    "ax2.set_title(None)\n",
    "ax.grid(alpha=0.75)\n",
    "ax.set_ylabel('GPP gC/m\\N{SUPERSCRIPT TWO}/day')\n",
    "ax2.set_ylabel('NDVI')\n",
    "ax2.set_xlabel(None)\n",
    "ax.set_xlabel(None);\n"
   ]
  }
 ],
 "metadata": {
  "kernelspec": {
   "display_name": "Python 3 (ipykernel)",
   "language": "python",
   "name": "python3"
  },
  "language_info": {
   "codemirror_mode": {
    "name": "ipython",
    "version": 3
   },
   "file_extension": ".py",
   "mimetype": "text/x-python",
   "name": "python",
   "nbconvert_exporter": "python",
   "pygments_lexer": "ipython3",
   "version": "3.10.0"
  }
 },
 "nbformat": 4,
 "nbformat_minor": 5
}
