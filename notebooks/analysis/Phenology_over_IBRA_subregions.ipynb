{
 "cells": [
  {
   "cell_type": "markdown",
   "id": "8d6185d6-5015-4c74-a294-e3c3cea28081",
   "metadata": {},
   "source": [
    "# Extract phenometrics over IBRA subregions\n",
    "\n",
    "This is both for testing, and produce estimates for example regions to highlight the function of the algorithm etc."
   ]
  },
  {
   "cell_type": "code",
   "execution_count": null,
   "id": "be0c7445-4b35-4c1a-b586-353f4a293c32",
   "metadata": {
    "tags": []
   },
   "outputs": [],
   "source": [
    "%matplotlib inline\n",
    "\n",
    "import sys\n",
    "import pickle\n",
    "import warnings\n",
    "import numpy as np\n",
    "import xarray as xr\n",
    "import pandas as pd\n",
    "import geopandas as gpd\n",
    "import matplotlib.pyplot as plt\n",
    "from odc.geo.geom import Geometry\n",
    "from odc.geo.xr import assign_crs\n",
    "\n",
    "sys.path.append('/g/data/os22/chad_tmp/Aus_phenology/src')\n",
    "from phenology_pixel import _extract_peaks_troughs, xr_phenometrics\n",
    "\n",
    "# %load_ext autoreload\n",
    "# %autoreload 2"
   ]
  },
  {
   "cell_type": "markdown",
   "id": "9f402f2d-ab13-41f3-8442-43722664c9d5",
   "metadata": {},
   "source": [
    "## Analysis Parameters\n"
   ]
  },
  {
   "cell_type": "code",
   "execution_count": null,
   "id": "6a9c27f5-4dbd-40e2-904d-961b23786d23",
   "metadata": {
    "tags": []
   },
   "outputs": [],
   "source": [
    "product='AusENDVI-clim_MCD43A4'\n",
    "timeseries_file = '/g/data/os22/chad_tmp/Aus_phenology/data/pickle/IBRA_subregions_NDVI_'+product+'.pkl'\n",
    "save_file = '/g/data/os22/chad_tmp/Aus_phenology/data/pickle/IBRA_subregions_'+product+'_phenometrics_new.pkl'\n",
    "ecoregions_file = '/g/data/os22/chad_tmp/Aus_phenology/data/vectors/IBRAv7_subregions_modified.geojson'\n",
    "var='SUB_NAME_7'\n",
    "region_type = 'IBRA_subregions'\n",
    "years='1982-2022'"
   ]
  },
  {
   "cell_type": "markdown",
   "id": "a36d45f1-6dd9-44b4-bb31-825db4303234",
   "metadata": {},
   "source": [
    "## Open data"
   ]
  },
  {
   "cell_type": "code",
   "execution_count": null,
   "id": "3ea1bf71-29b3-4ea7-a9b9-0989f9bfb1f1",
   "metadata": {
    "tags": []
   },
   "outputs": [],
   "source": [
    "#NDVI timeseries processed earlier to daily\n",
    "with open(timeseries_file, 'rb') as f:\n",
    "    results = pickle.load(f)\n",
    "\n",
    "gdf = gpd.read_file(ecoregions_file)\n",
    "\n",
    "#bare soil NDVI data\n",
    "ss_path = f'/g/data/xc0/project/AusEFlux/data/ndvi_of_baresoil_5km.nc'\n",
    "ss = assign_crs(xr.open_dataset(ss_path)['NDVI'], crs='epsg:4326')\n",
    "ss.name = 'NDVI'"
   ]
  },
  {
   "cell_type": "markdown",
   "id": "695f636c-237a-4efa-afef-ef87da3e0d19",
   "metadata": {},
   "source": [
    "## Extract phenometrics \n",
    "\n",
    "<!-- import numpy as np\n",
    "import matplotlib.pyplot as plt\n",
    "from scipy.optimize import curve_fit\n",
    "\n",
    "def double_logistic_function(t, wNDVI, mNDVI, S, A, mS, mA):\n",
    "    sigmoid1 = 1 / (1 + np.exp(-mS * (t - S)))\n",
    "    sigmoid2 = 1 / (1 + np.exp(mA * (t - A)))\n",
    "    seasonal_term = sigmoid1 + sigmoid2 - 1\n",
    "    return wNDVI + (mNDVI - wNDVI) * seasonal_term\n",
    "\n",
    "def weight_function(t, S, A, r):\n",
    "    tr = 100 * (t - S) / (A - S)\n",
    "    tr = np.clip(tr, 0, 100)\n",
    "    return np.exp(-np.abs(r) / (1 + tr / 10))\n",
    "\n",
    "def fit_curve(t, ndvi_observed):\n",
    "    initial_guess = [np.min(ndvi_observed), np.max(ndvi_observed), np.mean(t), np.mean(t), 1, 1]\n",
    "    params, _ = curve_fit(double_logistic_function, t, ndvi_observed, p0=initial_guess, maxfev=10000)\n",
    "    residuals = ndvi_observed - double_logistic_function(t, *params)\n",
    "    weights = weight_function(t, params[2], params[3], residuals)\n",
    "    params, _ = curve_fit(double_logistic_function, t, ndvi_observed, p0=initial_guess, sigma=weights, maxfev=10000)\n",
    "    return params\n",
    "\n",
    "doys = ndvi_cycle.time.dt.dayofyear.values[2:]\n",
    "doys_frac = doys/365\n",
    "values = ndvi_cycle.values[2:]\n",
    "\n",
    "##Fit the curve\n",
    "parameters = fit_curve(doys_frac, values)\n",
    "\n",
    "##Plot the observed NDVI values\n",
    "plt.scatter(doys, values, label='Observed NDVI')\n",
    "\n",
    "##Generate points for the fitted curve\n",
    "t_fit = np.linspace(min(doys_frac), max(doys_frac), 365)\n",
    "ndvi_fit = double_logistic_function(t_fit, *parameters)\n",
    "\n",
    "##Plot the fitted curve\n",
    "plt.plot(t_fit*365, ndvi_fit, label='Fitted Curve', color='red')\n",
    "\n",
    "plt.xlabel('Day of the Year')\n",
    "plt.ylabel('NDVI')\n",
    "plt.legend()\n",
    "plt.title('Double Logistic Curve Fitting for NDVI Observations')\n",
    "plt.show() -->"
   ]
  },
  {
   "cell_type": "code",
   "execution_count": null,
   "id": "0893f740-0438-4503-bcda-00a560009670",
   "metadata": {
    "scrolled": true
   },
   "outputs": [],
   "source": [
    "pheno={}\n",
    "i=0\n",
    "for index, row in gdf.iterrows():\n",
    "    print(\" {:02}/{:02}\\r\".format(i + 1, len(range(0, len(gdf)))), end=\"\")\n",
    "\n",
    "    if row['SUB_NAME_7'] == 'Coral Se':\n",
    "        continue\n",
    "\n",
    "    if row['SUB_NAME_7'] == 'Timor Sea Coral Islands':\n",
    "        continue\n",
    "    \n",
    "    ds = results[row[var]]\n",
    "\n",
    "    #bare soil NDVI clip to region\n",
    "    geom = Geometry(geom=gdf.iloc[index].geometry, crs=gdf.crs)\n",
    "    soil = ss.odc.mask(poly=geom)\n",
    "    soil = soil.mean().values.item()\n",
    "\n",
    "    # fake expand dims\n",
    "    ds = ds.expand_dims(latitude=[-33.0],longitude=[135.0])\n",
    "    \n",
    "    #apply pheno\n",
    "    p = xr_phenometrics(ds,\n",
    "                    rolling=90,\n",
    "                    distance=90,\n",
    "                    prominence='auto',\n",
    "                    plateau_size=10,\n",
    "                    amplitude=0.2,\n",
    "                    verbose=True,\n",
    "                    soil_signal=soil,\n",
    "                       ).compute()\n",
    "    \n",
    "    p = p.squeeze().drop_vars(['latitude','longitude']).to_dataframe()\n",
    "\n",
    "    pheno[row['SUB_NAME_7']] = p\n",
    "    i+=1"
   ]
  },
  {
   "cell_type": "markdown",
   "id": "6981ae61-381a-4116-9957-767cef698462",
   "metadata": {},
   "source": [
    "## Save results"
   ]
  },
  {
   "cell_type": "code",
   "execution_count": null,
   "id": "01141218-b62f-4e74-87c1-321bc58bf837",
   "metadata": {},
   "outputs": [],
   "source": [
    "# with open(save_file, 'wb') as f:\n",
    "#     pickle.dump(pheno, f)"
   ]
  },
  {
   "cell_type": "markdown",
   "id": "19d9f869-8abe-49fe-8a5d-f996e02a6206",
   "metadata": {},
   "source": [
    "## Plot some regions"
   ]
  },
  {
   "cell_type": "code",
   "execution_count": null,
   "id": "0ed2819e-e7c4-45a3-82f7-da3273d4313c",
   "metadata": {},
   "outputs": [],
   "source": [
    "gdf.explore(column='SUB_NAME_7',\n",
    "            tiles = 'https://server.arcgisonline.com/ArcGIS/rest/services/World_Imagery/MapServer/tile/{z}/{y}/{x}',\n",
    "            attr = 'Esri',\n",
    "            name = 'Esri Satellite',\n",
    "            control = True,\n",
    "            legend=False\n",
    "           )"
   ]
  },
  {
   "cell_type": "code",
   "execution_count": null,
   "id": "b138757c-9d7b-4c74-9c00-dc6473fe95a1",
   "metadata": {},
   "outputs": [],
   "source": [
    "phenometrics_file = '/g/data/os22/chad_tmp/Aus_phenology/data/pickle/IBRA_subregions_AusENDVI-clim_MCD43A4_phenometrics_new.pkl'\n",
    "with open(phenometrics_file, 'rb') as f:\n",
    "    eco_regions_phenometrics = pickle.load(f)"
   ]
  },
  {
   "cell_type": "code",
   "execution_count": null,
   "id": "7a8f9891-7840-4318-98b3-b134038d169f",
   "metadata": {},
   "outputs": [],
   "source": [
    "k = 'Victorian Alps' #'Geraldton Hills rainfed crop' 'Weipa Plateau'"
   ]
  },
  {
   "cell_type": "code",
   "execution_count": null,
   "id": "4b57ca7b-cea9-46d7-9aaa-bf53ed885a37",
   "metadata": {},
   "outputs": [],
   "source": [
    "ds = results[k] #'Recherche rainfed crop'\n",
    "\n",
    "fig,ax=plt.subplots(1,1, figsize=(15,5))\n",
    "ds.plot(ax=ax, color='tab:blue', linestyle='--', linewidth=1.0, label='Daily NDVI') #.sel(time=slice('1997','2016'))\n",
    "\n",
    "# ax.set_ylim(0.15, 0.7)\n",
    "ax.scatter(x=[pd.to_datetime(d-1, unit='D', origin=str(int(y))) for d,y in zip(eco_regions_phenometrics[k].SOS.values, eco_regions_phenometrics[k].SOS_year.values)],\n",
    "       y=eco_regions_phenometrics[k].vSOS,\n",
    "      c='tab:green', label='SOS', zorder=10)\n",
    "\n",
    "ax.scatter(x=[pd.to_datetime(d-1, unit='D', origin=str(int(y))) for d,y in zip(eco_regions_phenometrics[k].EOS.values, eco_regions_phenometrics[k].EOS_year.values)],\n",
    "       y=eco_regions_phenometrics[k].vEOS,\n",
    "      c='tab:purple', label='EOS', zorder=10)\n",
    "\n",
    "ax.scatter(x=[pd.to_datetime(d-1, unit='D', origin=str(int(y))) for d,y in zip(eco_regions_phenometrics[k].POS.values, eco_regions_phenometrics[k].POS_year.values)],\n",
    "           y=eco_regions_phenometrics[k].vPOS,\n",
    "          c='black', label='POS', zorder=10)\n",
    "\n",
    "ax.scatter(x=[pd.to_datetime(d-1, unit='D', origin=str(int(y))) for d,y in zip(eco_regions_phenometrics[k].TOS.values, eco_regions_phenometrics[k].TOS_year.values)],\n",
    "       y=eco_regions_phenometrics[k].vTOS,\n",
    "      c='tab:orange', label='TOS', zorder=10)\n",
    "\n",
    "ax.set_xlabel(None)\n",
    "ax.set_ylabel(None)\n",
    "ax.set_title(k, fontsize=12)\n",
    "ax.grid()\n",
    "# plt.ylim(0.1,0.4)"
   ]
  },
  {
   "cell_type": "code",
   "execution_count": null,
   "id": "ee1cb47b-2ff6-4e15-9c4f-507df1343154",
   "metadata": {},
   "outputs": [],
   "source": [
    "ds.sel(time=slice('1982','2000')).groupby('time.month').mean().plot(label='1982-1999')\n",
    "ds.sel(time=slice('2010','2021')).groupby('time.month').mean().plot(label='2000-2021')\n",
    "plt.legend()\n",
    "plt.title(k+' NDVI average annual cycle');"
   ]
  },
  {
   "cell_type": "code",
   "execution_count": null,
   "id": "99cf2ce3-1727-4716-a591-b1bbcb763322",
   "metadata": {},
   "outputs": [],
   "source": [
    "eco_regions_phenometrics[k].SOS.plot()"
   ]
  },
  {
   "cell_type": "code",
   "execution_count": null,
   "id": "abff172a-4407-436a-b952-58978d2694bd",
   "metadata": {},
   "outputs": [],
   "source": [
    "(eco_regions_phenometrics[k].EOS).plot()\n",
    "# plt.ylim(100,400)"
   ]
  },
  {
   "cell_type": "code",
   "execution_count": null,
   "id": "327c4d3b-4c2b-4088-9043-d931e17035eb",
   "metadata": {},
   "outputs": [],
   "source": [
    "# sos = [pd.to_datetime(d-1, unit='D', origin=str(int(y))) for d,y in zip(eco_regions_phenometrics[k].SOS.values, eco_regions_phenometrics[k].SOS_year.values)]\n",
    "# eos = [pd.to_datetime(d-1, unit='D', origin=str(int(y))) for d,y in zip(eco_regions_phenometrics[k].EOS.values, eco_regions_phenometrics[k].EOS_year.values)]\n",
    "# sos = np.array(sos)\n",
    "# eos = np.array(eos)\n",
    "\n",
    "# var='EOS'\n",
    "# identical_dayofyear = [pd.to_datetime(int(eco_regions_phenometrics[k][var].mean()), unit='D', origin=str(int(y))) for y in range(int(eco_regions_phenometrics[k][f'{var}_year'][0].item()), int(eco_regions_phenometrics[k][f'{var}_year'][-1:].item() +1))]\n",
    "\n",
    "# plt.plot(eco_regions_phenometrics[k].index, identical_dayofyear, label='if EOS was identical every year');\n",
    "# plt.plot(eos, label='Actual EOS datetimes')\n",
    "# plt.legend();"
   ]
  },
  {
   "cell_type": "markdown",
   "id": "96b1c2ad-4b8c-4ba2-841c-4f6259cc4bfc",
   "metadata": {},
   "source": [
    "## Cirular linear regression\n",
    "\n",
    "https://agupubs.onlinelibrary.wiley.com/doi/full/10.1029/2017WR021731"
   ]
  },
  {
   "cell_type": "markdown",
   "id": "6eacd919-60cc-4169-9ee5-911c38c0f567",
   "metadata": {},
   "source": [
    "## Chat GPT response to doing trends in DOY"
   ]
  },
  {
   "cell_type": "markdown",
   "id": "1eca618f-46a3-4737-8f81-5c7eae5d7080",
   "metadata": {},
   "source": [
    "To resolve this issue, you can \"wrap around\" the day-of-year values to make events near the end and start of the year more comparable. This can be achieved by considering the year as circular rather than linear. A useful approach is to use trigonometric transformations to map day-of-year values onto a unit circle. This avoids the discontinuity between day 365 (or 366) and day 1.\r\n",
    "\r\n",
    "### Steps to Resolve:\r\n",
    "1. **Convert Day-of-Year to Circular Coordinates**:\r\n",
    "   - Represent the day-of-year \\( d \\) as an angle in radians:\r\n",
    "     \\[\r\n",
    "     \\theta = \\frac{2\\pi \\cdot d}{\\text{days\\_in\\_year}}\r\n",
    "     \\]\r\n",
    "   - Compute the x and y coordinates on the unit circle:\r\n",
    "     \\[\r\n",
    "     x = \\cos(\\theta), \\quad y = \\sin(\\theta)\r\n",
    "     \\]\r\n",
    "\r\n",
    "2. **Fit Trends Using Circular Coordinates**:\r\n",
    "   - Use \\( x \\) and \\( y \\) values to calculate the trend. For example, you can apply a linear regression on these coordinates over time.\r\n",
    "\r\n",
    "3. **Convert Back to Day-of-Year for Interpretation**:\r\n",
    "   - After calculating a trend in \\( x \\) and \\( y \\), you can convert back to a day-of-year using:\r\n",
    "     \\[\r\n",
    "     d = \\frac{\\arctan2(y, x) \\cdot \\text{days\\_in\\_year}}{2\\pi}\r\n",
    "     \\]\r\n",
    "   - Adjust for negative angles to ensure \\( d \\) lies within [1, days_in_year].\r\n",
    "\r\n",
    "This approach captures the circular nature of the calendar and ensures events near the year's end and beginning are treated a approach can be used with more sophisticated models, such as Fourier transforms or circular statistics, if needed."
   ]
  },
  {
   "cell_type": "code",
   "execution_count": null,
   "id": "d1a6482c-4287-4975-aeca-6a0f0cfeab24",
   "metadata": {},
   "outputs": [],
   "source": [
    "gdf.explore(column='SUB_NAME_7',\n",
    "            tiles = 'https://server.arcgisonline.com/ArcGIS/rest/services/World_Imagery/MapServer/tile/{z}/{y}/{x}',\n",
    "            attr = 'Esri',\n",
    "            name = 'Esri Satellite',\n",
    "            control = True,\n",
    "            legend=False\n",
    "           )"
   ]
  },
  {
   "cell_type": "code",
   "execution_count": null,
   "id": "b51ed233-8072-4848-9cbe-aa74846f575e",
   "metadata": {},
   "outputs": [],
   "source": [
    "from phenology_pixel import mk_with_slopes\n",
    "from scipy.stats import circmean\n",
    "import numpy as np\n",
    "import pandas as pd\n",
    "from scipy.stats import linregress"
   ]
  },
  {
   "cell_type": "code",
   "execution_count": null,
   "id": "b22a5d35-a8e0-4479-b87f-52a067191031",
   "metadata": {},
   "outputs": [],
   "source": [
    "k = 'Claraville Plains' #'Victorian Alps' #'Geraldton Hills rainfed crop' 'Weipa Plateau', Claraville Plains\n",
    "df = eco_regions_phenometrics[k]\n",
    "var='SOS'"
   ]
  },
  {
   "cell_type": "code",
   "execution_count": null,
   "id": "4f551bf1-670a-41d5-beab-409c6c09e5f5",
   "metadata": {},
   "outputs": [],
   "source": [
    "# Example data: day-of-year events and corresponding years\n",
    "data = pd.DataFrame({\n",
    "    \"year\": df[f'{var}_year'].values,\n",
    "    \"day_of_year\": df[var].values\n",
    "})\n",
    "\n",
    "# Number of days in a year (adjusting for leap years if needed)\n",
    "data['days_in_year'] = data['year'].apply(lambda y: 366 if y % 4 == 0 and (y % 100 != 0 or y % 400 == 0) else 365)\n",
    "\n",
    "# Convert day-of-year to circular coordinates doy / 365 * 2 * np.pi\n",
    "data['theta'] = data['day_of_year']*((2*np.pi)/data['days_in_year'])\n",
    "data['theta_unwrap'] = np.unwrap(data['theta'])\n",
    "\n",
    "# Calculate circular mean\n",
    "circular_mean = circmean(data['theta'])\n",
    "circular_mean_doy = circular_mean / (2 * np.pi) * 365\n",
    "print(f\"Circular mean {var} DOY: {circular_mean_doy}\")\n",
    "print(f\"Linear mean {var} DOY: {df[var].mean()}\")\n",
    "print('\\n')\n",
    "\n",
    "# p_value, slope, intercept = mk_with_slopes(data['theta'])\n",
    "p_value, slope, intercept = mk_with_slopes(data['theta_unwrap'])\n",
    "p_value_alt, slope_alt, intercept_alt = mk_with_slopes(data['theta_unwrap'])\n",
    "slope_doy = slope * 365 / (2 * np.pi)\n",
    "\n",
    "print(f\"{var} circular slope magnitude: {slope:.4f}\")\n",
    "print(f\"{var} circular slope magnitude converted to DOY units: {slope_doy:.4f}\")\n",
    "# print(f\"{var} unwrapped linear slope: {slope_alt:.4f}\")\n",
    "\n",
    "print(f\"{var} linear slope magnitude: {mk_with_slopes(df[var]).slope}\")\n",
    "print('\\n')\n",
    "print(f\"{var} circular p-value: {p_value:.4f}\")\n",
    "print(f\"{var} linear p-value: {mk_with_slopes(df[var]).p:.4f}\")"
   ]
  },
  {
   "cell_type": "code",
   "execution_count": null,
   "id": "78a99909-a0b1-4a5f-96fd-efe6d4dcbd02",
   "metadata": {},
   "outputs": [],
   "source": [
    "fig,ax=plt.subplots(3,1, figsize=(9,10), sharex=True)\n",
    "\n",
    "df[var].plot(ax=ax[0])\n",
    "data['theta'].plot(ax=ax[1],label='theta')\n",
    "data['theta_unwrap'].plot(ax=ax[2],label=f'x, slope={slope:.4f}')\n",
    "# data['day_of_year_unwrap'].plot(ax=ax[1,1],label='day_of_year_unwrap')\n",
    "ax[0].grid(alpha=0.75)\n",
    "ax[1].grid(alpha=0.75)\n",
    "ax[2].grid(alpha=0.75)\n",
    "ax[0].set_title(f'{k}: {var} slope={mk_with_slopes(df[var]).slope:.3f} (days/yr), Mean={df[var].mean():.0f} DOY')\n",
    "ax[1].set_title('theta')\n",
    "ax[2].set_title(f'theta unwrapped, slope={slope_doy:.3f} (days/yr), Mean={circular_mean_doy:.0f} DOY');"
   ]
  },
  {
   "cell_type": "code",
   "execution_count": null,
   "id": "fc65142b-4d85-4112-8f24-df19e00a8183",
   "metadata": {},
   "outputs": [],
   "source": []
  },
  {
   "cell_type": "code",
   "execution_count": null,
   "id": "716b1676-d5e6-4cfe-b59a-aa7414b2b813",
   "metadata": {},
   "outputs": [],
   "source": [
    "# Sample data: day-of-year and year\n",
    "years = np.array([2000, 2001, 2002, 2003, 2004])\n",
    "\n",
    "# days_of_year = np.array([360, 362, 364, 1, 3])  #later (positive) \n",
    "days_of_year = np.array([3, 1, 364, 362, 360])  #earlier (negative) \n",
    "# days_of_year = np.array([158, 156, 154, 152, 150])  # earlier (negative)\n",
    "# days_of_year = np.array([150, 152, 154, 156, 158])  # later (postive)\n",
    "\n",
    "# Step 1: Convert day-of-year to circular angles\n",
    "theta = days_of_year / 365 * 2 * np.pi  # Convert to radians\n",
    "\n",
    "# Step 2: Unwrap the angles to handle continuity\n",
    "theta_unwrapped = np.unwrap(theta)\n",
    "\n",
    "# Step 3: Fit linear regression on unwrapped angles\n",
    "time = years - years[0]\n",
    "reg = LinearRegression().fit(time.reshape(-1, 1), theta_unwrapped)\n",
    "slope_angle_per_year = reg.coef_[0]  # Angular slope (radians/year)\n",
    "\n",
    "# Step 4: Convert slope to days/year\n",
    "slope_days_per_year = slope_angle_per_year * (365 / (2 * np.pi))\n",
    "\n",
    "# Determine direction: Positive (later), Negative (earlier)\n",
    "direction = \"later (positive)\" if slope_days_per_year > 0 else \"earlier (negative)\"\n",
    "\n",
    "print(f'{slope_days_per_year:.3f} (days/year) and direction is {direction}')"
   ]
  },
  {
   "cell_type": "code",
   "execution_count": null,
   "id": "c5e3dfdb-6537-40f4-864e-d334667057bc",
   "metadata": {},
   "outputs": [],
   "source": [
    "plt.plot(years, theta)"
   ]
  },
  {
   "cell_type": "code",
   "execution_count": null,
   "id": "b0a358ed-0bc1-45cb-b281-a18f9eb0aaa7",
   "metadata": {},
   "outputs": [],
   "source": [
    "# Example data: day-of-year events and corresponding years\n",
    "data = pd.DataFrame({\n",
    "    \"year\": df[f'{var}_year'].values,\n",
    "    \"day_of_year\": df[var].values\n",
    "})\n",
    "\n",
    "# Number of days in a year (adjusting for leap years if needed)\n",
    "data['days_in_year'] = data['year'].apply(lambda y: 366 if y % 4 == 0 and (y % 100 != 0 or y % 400 == 0) else 365)\n",
    "\n",
    "# Convert day-of-year to circular coordinates doy / 365 * 2 * np.pi\n",
    "data['theta'] = data['day_of_year']*((2*np.pi)/data['days_in_year'])\n",
    "# Unwrap Angular Data: Use np.unwrap to handle angular continuity\n",
    "# for both wraparound and non-wraparound cases.\n",
    "data['theta_unwrap'] = np.unwrap(data['theta'])\n",
    "data['x'] = np.cos(data['theta'])\n",
    "data['y'] = np.sin(data['theta'])\n",
    "\n",
    "# Calculate circular mean\n",
    "circular_mean = circmean(data['theta'])\n",
    "\n",
    "circular_mean_doy = circular_mean / (2 * np.pi) * 365\n",
    "print(f\"Circular mean {var} DOY: {circular_mean_doy}\")\n",
    "print(f\"Linear mean {var} DOY: {df[var].mean()}\")\n",
    "print('\\n')\n",
    "\n",
    "# p_value, slope, intercept = mk_with_slopes(data['theta'])\n",
    "p_value_x, slope_x, intercept_x = mk_with_slopes(data['x'])\n",
    "p_value_y, slope_y, intercept_y = mk_with_slopes(data['y'])\n",
    "\n",
    "# Linear regression for x and y separately\n",
    "slope_magnitude = np.sqrt(slope_x**2 + slope_y**2)\n",
    "slope_angle = np.arctan2(slope_y, slope_x)  # angle in radians\n",
    "slope_magnitude_doy = slope_magnitude * 365 / (2 * np.pi)\n",
    "\n",
    "combined_p_value = max(p_value_x, p_value_y)\n",
    "# # Ensure DOY slope has the correct sign\n",
    "# if slope_angle < 0:\n",
    "#     slope_magnitude = slope_magnitude*-1\n",
    "#     slope_magnitude_doy = slope_magnitude_doy*-1\n",
    "# else:\n",
    "#     slope_magnitude = slope_magnitude*1\n",
    "#     slope_magnitude_doy  = slope_magnitude_doy*1\n",
    "\n",
    "# Output the results\n",
    "print(f\"{var} slope angle: {slope_angle:.4f}\")\n",
    "# print(f\"{var} slope angle DOY: {slope_angle_doy:.4f}\")\n",
    "print(f\"{var} circular slope magnitude: {slope_magnitude:.4f}\")\n",
    "print(f\"{var} circular slope magnitude converted to DOY units: {slope_magnitude_doy:.4f}\")\n",
    "\n",
    "print(f\"{var} linear slope magnitude: {mk_with_slopes(df[var]).slope}\")\n",
    "print('\\n')\n",
    "print(f\"{var} circular p-value: {combined_p_value:.4f}\")\n",
    "print(f\"{var} linear p-value: {mk_with_slopes(df[var]).p:.4f}\")"
   ]
  },
  {
   "cell_type": "code",
   "execution_count": null,
   "id": "7e3f7a24-b3a3-4529-8cdd-ee5c948dd863",
   "metadata": {},
   "outputs": [],
   "source": []
  },
  {
   "cell_type": "code",
   "execution_count": null,
   "id": "87e98516-fd2d-49bb-a074-d865b4f79fc4",
   "metadata": {},
   "outputs": [],
   "source": []
  },
  {
   "cell_type": "code",
   "execution_count": null,
   "id": "7b0d59c8-8bc0-49e5-b2c0-23fc69661159",
   "metadata": {},
   "outputs": [],
   "source": []
  },
  {
   "cell_type": "code",
   "execution_count": null,
   "id": "cac051bc-175c-48d3-9e0f-014f1561e20b",
   "metadata": {},
   "outputs": [],
   "source": []
  },
  {
   "cell_type": "code",
   "execution_count": null,
   "id": "6ef757ef-2cc9-4b39-be10-16ec28309db6",
   "metadata": {},
   "outputs": [],
   "source": [
    "# Example slopes for x and y\n",
    "slope_x = -0.02  # change in x per year\n",
    "slope_y = 0.01  # change in y per year\n",
    "\n",
    "# Compute magnitude and direction of the slope\n",
    "slope_magnitude = np.sqrt(slope_x**2 + slope_y**2)\n",
    "slope_angle = np.arctan2(slope_y, slope_x)  # angle in radians\n",
    "\n",
    "# Convert angle to change in day-of-year (DOY)\n",
    "days_in_year = 365\n",
    "doy_change = (slope_angle / (2 * np.pi)) * days_in_year\n",
    "\n",
    "# Ensure DOY slope has the correct sign\n",
    "# if doy_change < 0:\n",
    "#     slope_signed = -slope_magnitude\n",
    "# else:\n",
    "#     slope_signed = slope_magnitude\n",
    "\n",
    "# Output results\n",
    "print(f\"Slope angle: {slope_angle:.4f}\")\n",
    "print(f\"Slope magnitude: {slope_magnitude:.4f} (units/year)\")\n",
    "print(f\"Slope in DOY units (with sign): {slope_signed:.4f} days/year\")"
   ]
  },
  {
   "cell_type": "code",
   "execution_count": null,
   "id": "05690169-ef80-4586-8f11-d94882fd88c6",
   "metadata": {},
   "outputs": [],
   "source": []
  },
  {
   "cell_type": "code",
   "execution_count": null,
   "id": "e4d22565-e399-4555-a358-7fe849563b45",
   "metadata": {},
   "outputs": [],
   "source": [
    "# Example data: day-of-year events and corresponding years\n",
    "data = pd.DataFrame({\n",
    "    \"year\": df[f'{var}_year'].values,\n",
    "    \"day_of_year\": df[var].values\n",
    "})\n",
    "\n",
    "# Number of days in a year (adjusting for leap years if needed)\n",
    "data['days_in_year'] = data['year'].apply(lambda y: 366 if y % 4 == 0 and (y % 100 != 0 or y % 400 == 0) else 365)\n",
    "\n",
    "# Convert day-of-year to circular coordinates doy / 365 * 2 * np.pi\n",
    "data['theta'] = 2 * np.pi * data['day_of_year'] / data['days_in_year']\n",
    "\n",
    "# Calculate circular mean\n",
    "circular_mean = circmean(data['theta'])\n",
    "circular_mean_doy = circular_mean / (2 * np.pi) * 365\n",
    "print(f\"Circular mean {var} DOY: {circular_mean_doy}\")\n",
    "print(f\"Linear mean {var} DOY: {df[var].mean()}\")\n",
    "print('\\n')\n",
    "\n",
    "# Linear regression for x and y separately\n",
    "# slope_x, intercept_x, r_value_x, p_value_x, std_err_x = linregress(data['year'], data['x'])\n",
    "# slope_y, intercept_y, r_value_y, p_value_y, std_err_y = linregress(data['year'], data['y'])\n",
    "p_value, slope, intercept = mk_with_slopes(data['theta'])\n",
    "# p_value_y, slope_y, intercept_y = mk_with_slopes(data['y'])\n",
    "\n",
    "# # Combine slopes into a single magnitude and direction\n",
    "slope_magnitude = np.sqrt(slope_x**2 + slope_y**2)\n",
    "# slope_angle = np.arctan2(slope_y, slope_x)  # angle in radians\n",
    "slope_magnitude_doy = slope * 365 / (2 * np.pi)\n",
    "\n",
    "# slope_angle_doy = (slope_angle/(2*np.pi) * 365)\n",
    "\n",
    "# Ensure DOY slope has the correct sign\n",
    "if slope_angle < 0:\n",
    "    slope_magnitude = slope_magnitude*-1\n",
    "    slope_magnitude_doy = slope_magnitude_doy*-1\n",
    "else:\n",
    "    slope_magnitude = slope_magnitude*1\n",
    "    slope_magnitude_doy  = slope_magnitude_doy*1\n",
    "\n",
    "# Output the results\n",
    "# print(f\"{var} slope angle: {slope_angle:.4f}\")\n",
    "# print(f\"{var} slope angle DOY: {slope_angle_doy:.4f}\")\n",
    "print(f\"{var} circular slope magnitude: {slope:.4f}\")\n",
    "print(f\"{var} circular slope magnitude converted to DOY units: {slope_magnitude_doy:.4f}\")\n",
    "\n",
    "print(f\"{var} linear slope magnitude: {mk_with_slopes(df[var]).slope}\")\n",
    "print('\\n')\n",
    "print(f\"{var} circular p-value: {p_value:.4f}\")\n",
    "print(f\"{var} linear p-value: {mk_with_slopes(df[var]).p:.4f}\")"
   ]
  },
  {
   "cell_type": "code",
   "execution_count": null,
   "id": "051f53f1-b75e-44a2-affb-3f57ad51fafb",
   "metadata": {},
   "outputs": [],
   "source": []
  },
  {
   "cell_type": "code",
   "execution_count": null,
   "id": "c5902bdb-4b35-4837-b3bc-e316ba37bf49",
   "metadata": {},
   "outputs": [],
   "source": []
  },
  {
   "cell_type": "code",
   "execution_count": null,
   "id": "2bc359a1-4475-4049-8c66-397cb46e5b31",
   "metadata": {},
   "outputs": [],
   "source": []
  },
  {
   "cell_type": "code",
   "execution_count": null,
   "id": "0b25bcba-18aa-4760-8c4b-c9bd046cf723",
   "metadata": {},
   "outputs": [],
   "source": [
    "# # Fit linear trend on circular coordinates\n",
    "# from sklearn.linear_model import LinearRegression\n",
    "\n",
    "# model_x = LinearRegression().fit(data[['year']], data['x'])\n",
    "# model_y = LinearRegression().fit(data[['year']], data['y'])\n",
    "\n",
    "# # Predict future circular coordinates\n",
    "# future_years = np.array([[2024], [2025]])\n",
    "# x_pred = model_x.predict(future_years)\n",
    "# y_pred = model_y.predict(future_years)\n",
    "\n",
    "# # Convert predicted circular coordinates back to day-of-year\n",
    "# predicted_theta = np.arctan2(y_pred, x_pred)\n",
    "# predicted_day_of_year = (predicted_theta * (365 if not any(future_years % 4 == 0) else 366) / (2 * np.pi)) % 365\n",
    "# predicted_day_of_year = np.where(predicted_day_of_year < 1, predicted_day_of_year + 365, predicted_day_of_year)\n",
    "\n",
    "# # Output predictions\n",
    "# print(predicted_day_of_year)"
   ]
  },
  {
   "cell_type": "code",
   "execution_count": null,
   "id": "34af6c7f-a8e0-43da-9e33-8a8614dc9c2a",
   "metadata": {},
   "outputs": [],
   "source": []
  }
 ],
 "metadata": {
  "kernelspec": {
   "display_name": "Python 3 (ipykernel)",
   "language": "python",
   "name": "python3"
  },
  "language_info": {
   "codemirror_mode": {
    "name": "ipython",
    "version": 3
   },
   "file_extension": ".py",
   "mimetype": "text/x-python",
   "name": "python",
   "nbconvert_exporter": "python",
   "pygments_lexer": "ipython3",
   "version": "3.10.0"
  }
 },
 "nbformat": 4,
 "nbformat_minor": 5
}
