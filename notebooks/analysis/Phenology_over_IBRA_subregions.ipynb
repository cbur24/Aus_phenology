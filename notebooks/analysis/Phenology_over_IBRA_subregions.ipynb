{
 "cells": [
  {
   "cell_type": "markdown",
   "id": "8d6185d6-5015-4c74-a294-e3c3cea28081",
   "metadata": {},
   "source": [
    "# Extract phenometrics over IBRA subregions\n",
    "\n",
    "This is both for testing, and produce estimates for example regions to highlight the function of the algorithm etc."
   ]
  },
  {
   "cell_type": "code",
   "execution_count": null,
   "id": "be0c7445-4b35-4c1a-b586-353f4a293c32",
   "metadata": {
    "tags": []
   },
   "outputs": [],
   "source": [
    "%matplotlib inline\n",
    "\n",
    "import sys\n",
    "import pickle\n",
    "import warnings\n",
    "import numpy as np\n",
    "import xarray as xr\n",
    "import pandas as pd\n",
    "import geopandas as gpd\n",
    "import matplotlib.pyplot as plt\n",
    "from odc.geo.geom import Geometry\n",
    "from odc.geo.xr import assign_crs\n",
    "\n",
    "sys.path.append('/g/data/os22/chad_tmp/Aus_phenology/src')\n",
    "from phenology_pixel import _extract_peaks_troughs, xr_phenometrics\n",
    "\n",
    "# %load_ext autoreload\n",
    "# %autoreload 2"
   ]
  },
  {
   "cell_type": "markdown",
   "id": "9f402f2d-ab13-41f3-8442-43722664c9d5",
   "metadata": {},
   "source": [
    "## Analysis Parameters\n"
   ]
  },
  {
   "cell_type": "code",
   "execution_count": null,
   "id": "6a9c27f5-4dbd-40e2-904d-961b23786d23",
   "metadata": {
    "tags": []
   },
   "outputs": [],
   "source": [
    "product='AusENDVI-clim_MCD43A4'\n",
    "timeseries_file = '/g/data/os22/chad_tmp/Aus_phenology/data/pickle/IBRA_subregions_NDVI_'+product+'.pkl'\n",
    "save_file = '/g/data/os22/chad_tmp/Aus_phenology/data/pickle/IBRA_subregions_'+product+'_phenometrics_new.pkl'\n",
    "ecoregions_file = '/g/data/os22/chad_tmp/Aus_phenology/data/vectors/IBRAv7_subregions_modified.geojson'\n",
    "var='SUB_NAME_7'\n",
    "region_type = 'IBRA_subregions'\n",
    "years='1982-2022'"
   ]
  },
  {
   "cell_type": "markdown",
   "id": "a36d45f1-6dd9-44b4-bb31-825db4303234",
   "metadata": {},
   "source": [
    "## Open data"
   ]
  },
  {
   "cell_type": "code",
   "execution_count": null,
   "id": "3ea1bf71-29b3-4ea7-a9b9-0989f9bfb1f1",
   "metadata": {
    "tags": []
   },
   "outputs": [],
   "source": [
    "#NDVI timeseries processed earlier to daily\n",
    "with open(timeseries_file, 'rb') as f:\n",
    "    results = pickle.load(f)\n",
    "\n",
    "gdf = gpd.read_file(ecoregions_file)\n",
    "\n",
    "#bare soil NDVI data\n",
    "ss_path = f'/g/data/xc0/project/AusEFlux/data/ndvi_of_baresoil_5km.nc'\n",
    "ss = assign_crs(xr.open_dataset(ss_path)['NDVI'], crs='epsg:4326')\n",
    "ss.name = 'NDVI'"
   ]
  },
  {
   "cell_type": "markdown",
   "id": "695f636c-237a-4efa-afef-ef87da3e0d19",
   "metadata": {},
   "source": [
    "## Extract phenometrics \n",
    "\n",
    "<!-- import numpy as np\n",
    "import matplotlib.pyplot as plt\n",
    "from scipy.optimize import curve_fit\n",
    "\n",
    "def double_logistic_function(t, wNDVI, mNDVI, S, A, mS, mA):\n",
    "    sigmoid1 = 1 / (1 + np.exp(-mS * (t - S)))\n",
    "    sigmoid2 = 1 / (1 + np.exp(mA * (t - A)))\n",
    "    seasonal_term = sigmoid1 + sigmoid2 - 1\n",
    "    return wNDVI + (mNDVI - wNDVI) * seasonal_term\n",
    "\n",
    "def weight_function(t, S, A, r):\n",
    "    tr = 100 * (t - S) / (A - S)\n",
    "    tr = np.clip(tr, 0, 100)\n",
    "    return np.exp(-np.abs(r) / (1 + tr / 10))\n",
    "\n",
    "def fit_curve(t, ndvi_observed):\n",
    "    initial_guess = [np.min(ndvi_observed), np.max(ndvi_observed), np.mean(t), np.mean(t), 1, 1]\n",
    "    params, _ = curve_fit(double_logistic_function, t, ndvi_observed, p0=initial_guess, maxfev=10000)\n",
    "    residuals = ndvi_observed - double_logistic_function(t, *params)\n",
    "    weights = weight_function(t, params[2], params[3], residuals)\n",
    "    params, _ = curve_fit(double_logistic_function, t, ndvi_observed, p0=initial_guess, sigma=weights, maxfev=10000)\n",
    "    return params\n",
    "\n",
    "doys = ndvi_cycle.time.dt.dayofyear.values[2:]\n",
    "doys_frac = doys/365\n",
    "values = ndvi_cycle.values[2:]\n",
    "\n",
    "##Fit the curve\n",
    "parameters = fit_curve(doys_frac, values)\n",
    "\n",
    "##Plot the observed NDVI values\n",
    "plt.scatter(doys, values, label='Observed NDVI')\n",
    "\n",
    "##Generate points for the fitted curve\n",
    "t_fit = np.linspace(min(doys_frac), max(doys_frac), 365)\n",
    "ndvi_fit = double_logistic_function(t_fit, *parameters)\n",
    "\n",
    "##Plot the fitted curve\n",
    "plt.plot(t_fit*365, ndvi_fit, label='Fitted Curve', color='red')\n",
    "\n",
    "plt.xlabel('Day of the Year')\n",
    "plt.ylabel('NDVI')\n",
    "plt.legend()\n",
    "plt.title('Double Logistic Curve Fitting for NDVI Observations')\n",
    "plt.show() -->"
   ]
  },
  {
   "cell_type": "code",
   "execution_count": null,
   "id": "0893f740-0438-4503-bcda-00a560009670",
   "metadata": {
    "scrolled": true
   },
   "outputs": [],
   "source": [
    "pheno={}\n",
    "i=0\n",
    "for index, row in gdf.iterrows():\n",
    "    print(\" {:02}/{:02}\\r\".format(i + 1, len(range(0, len(gdf)))), end=\"\")\n",
    "\n",
    "    if row['SUB_NAME_7'] == 'Coral Se':\n",
    "        continue\n",
    "\n",
    "    if row['SUB_NAME_7'] == 'Timor Sea Coral Islands':\n",
    "        continue\n",
    "    \n",
    "    ds = results[row[var]]\n",
    "\n",
    "    #bare soil NDVI clip to region\n",
    "    geom = Geometry(geom=gdf.iloc[index].geometry, crs=gdf.crs)\n",
    "    soil = ss.odc.mask(poly=geom)\n",
    "    soil = soil.mean().values.item()\n",
    "\n",
    "    # fake expand dims\n",
    "    ds = ds.expand_dims(latitude=[-33.0],longitude=[135.0])\n",
    "    \n",
    "    #apply pheno\n",
    "    p = xr_phenometrics(ds,\n",
    "                    rolling=90,\n",
    "                    distance=90,\n",
    "                    prominence='auto',\n",
    "                    plateau_size=10,\n",
    "                    amplitude=0.2,\n",
    "                    verbose=True,\n",
    "                    soil_signal=soil,\n",
    "                       ).compute()\n",
    "    \n",
    "    p = p.squeeze().drop_vars(['latitude','longitude']).to_dataframe()\n",
    "\n",
    "    pheno[row['SUB_NAME_7']] = p\n",
    "    i+=1"
   ]
  },
  {
   "cell_type": "markdown",
   "id": "6981ae61-381a-4116-9957-767cef698462",
   "metadata": {},
   "source": [
    "## Save results"
   ]
  },
  {
   "cell_type": "code",
   "execution_count": null,
   "id": "01141218-b62f-4e74-87c1-321bc58bf837",
   "metadata": {},
   "outputs": [],
   "source": [
    "# with open(save_file, 'wb') as f:\n",
    "#     pickle.dump(pheno, f)"
   ]
  },
  {
   "cell_type": "markdown",
   "id": "19d9f869-8abe-49fe-8a5d-f996e02a6206",
   "metadata": {},
   "source": [
    "## Plot some regions"
   ]
  },
  {
   "cell_type": "code",
   "execution_count": null,
   "id": "0ed2819e-e7c4-45a3-82f7-da3273d4313c",
   "metadata": {},
   "outputs": [],
   "source": [
    "gdf.explore(column='SUB_NAME_7',\n",
    "            tiles = 'https://server.arcgisonline.com/ArcGIS/rest/services/World_Imagery/MapServer/tile/{z}/{y}/{x}',\n",
    "            attr = 'Esri',\n",
    "            name = 'Esri Satellite',\n",
    "            control = True,\n",
    "            legend=False\n",
    "           )"
   ]
  },
  {
   "cell_type": "code",
   "execution_count": null,
   "id": "b138757c-9d7b-4c74-9c00-dc6473fe95a1",
   "metadata": {},
   "outputs": [],
   "source": [
    "phenometrics_file = '/g/data/os22/chad_tmp/Aus_phenology/data/pickle/IBRA_subregions_AusENDVI-clim_MCD43A4_phenometrics_new.pkl'\n",
    "with open(phenometrics_file, 'rb') as f:\n",
    "    eco_regions_phenometrics = pickle.load(f)"
   ]
  },
  {
   "cell_type": "code",
   "execution_count": null,
   "id": "7a8f9891-7840-4318-98b3-b134038d169f",
   "metadata": {},
   "outputs": [],
   "source": [
    "k = 'Victorian Alps' #'Geraldton Hills rainfed crop' 'Weipa Plateau'"
   ]
  },
  {
   "cell_type": "code",
   "execution_count": null,
   "id": "4b57ca7b-cea9-46d7-9aaa-bf53ed885a37",
   "metadata": {},
   "outputs": [],
   "source": [
    "ds = results[k] #'Recherche rainfed crop'\n",
    "\n",
    "fig,ax=plt.subplots(1,1, figsize=(15,5))\n",
    "ds.plot(ax=ax, color='tab:blue', linestyle='--', linewidth=1.0, label='Daily NDVI') #.sel(time=slice('1997','2016'))\n",
    "\n",
    "# ax.set_ylim(0.15, 0.7)\n",
    "ax.scatter(x=[pd.to_datetime(d-1, unit='D', origin=str(int(y))) for d,y in zip(eco_regions_phenometrics[k].SOS.values, eco_regions_phenometrics[k].SOS_year.values)],\n",
    "       y=eco_regions_phenometrics[k].vSOS,\n",
    "      c='tab:green', label='SOS', zorder=10)\n",
    "\n",
    "ax.scatter(x=[pd.to_datetime(d-1, unit='D', origin=str(int(y))) for d,y in zip(eco_regions_phenometrics[k].EOS.values, eco_regions_phenometrics[k].EOS_year.values)],\n",
    "       y=eco_regions_phenometrics[k].vEOS,\n",
    "      c='tab:purple', label='EOS', zorder=10)\n",
    "\n",
    "ax.scatter(x=[pd.to_datetime(d-1, unit='D', origin=str(int(y))) for d,y in zip(eco_regions_phenometrics[k].POS.values, eco_regions_phenometrics[k].POS_year.values)],\n",
    "           y=eco_regions_phenometrics[k].vPOS,\n",
    "          c='black', label='POS', zorder=10)\n",
    "\n",
    "ax.scatter(x=[pd.to_datetime(d-1, unit='D', origin=str(int(y))) for d,y in zip(eco_regions_phenometrics[k].TOS.values, eco_regions_phenometrics[k].TOS_year.values)],\n",
    "       y=eco_regions_phenometrics[k].vTOS,\n",
    "      c='tab:orange', label='TOS', zorder=10)\n",
    "\n",
    "ax.set_xlabel(None)\n",
    "ax.set_ylabel(None)\n",
    "ax.set_title(k, fontsize=12)\n",
    "ax.grid()\n",
    "# plt.ylim(0.1,0.4)"
   ]
  },
  {
   "cell_type": "code",
   "execution_count": null,
   "id": "ee1cb47b-2ff6-4e15-9c4f-507df1343154",
   "metadata": {},
   "outputs": [],
   "source": [
    "ds.sel(time=slice('1982','2000')).groupby('time.month').mean().plot(label='1982-1999')\n",
    "ds.sel(time=slice('2010','2021')).groupby('time.month').mean().plot(label='2000-2021')\n",
    "plt.legend()\n",
    "plt.title(k+' NDVI average annual cycle');"
   ]
  },
  {
   "cell_type": "code",
   "execution_count": null,
   "id": "99cf2ce3-1727-4716-a591-b1bbcb763322",
   "metadata": {},
   "outputs": [],
   "source": [
    "eco_regions_phenometrics[k].SOS.plot()"
   ]
  },
  {
   "cell_type": "code",
   "execution_count": null,
   "id": "abff172a-4407-436a-b952-58978d2694bd",
   "metadata": {},
   "outputs": [],
   "source": [
    "(eco_regions_phenometrics[k].EOS).plot()\n",
    "# plt.ylim(100,400)"
   ]
  },
  {
   "cell_type": "code",
   "execution_count": null,
   "id": "327c4d3b-4c2b-4088-9043-d931e17035eb",
   "metadata": {},
   "outputs": [],
   "source": [
    "# sos = [pd.to_datetime(d-1, unit='D', origin=str(int(y))) for d,y in zip(eco_regions_phenometrics[k].SOS.values, eco_regions_phenometrics[k].SOS_year.values)]\n",
    "# eos = [pd.to_datetime(d-1, unit='D', origin=str(int(y))) for d,y in zip(eco_regions_phenometrics[k].EOS.values, eco_regions_phenometrics[k].EOS_year.values)]\n",
    "# sos = np.array(sos)\n",
    "# eos = np.array(eos)\n",
    "\n",
    "# var='EOS'\n",
    "# identical_dayofyear = [pd.to_datetime(int(eco_regions_phenometrics[k][var].mean()), unit='D', origin=str(int(y))) for y in range(int(eco_regions_phenometrics[k][f'{var}_year'][0].item()), int(eco_regions_phenometrics[k][f'{var}_year'][-1:].item() +1))]\n",
    "\n",
    "# plt.plot(eco_regions_phenometrics[k].index, identical_dayofyear, label='if EOS was identical every year');\n",
    "# plt.plot(eos, label='Actual EOS datetimes')\n",
    "# plt.legend();"
   ]
  },
  {
   "cell_type": "code",
   "execution_count": null,
   "id": "34af6c7f-a8e0-43da-9e33-8a8614dc9c2a",
   "metadata": {},
   "outputs": [],
   "source": []
  }
 ],
 "metadata": {
  "kernelspec": {
   "display_name": "Python 3 (ipykernel)",
   "language": "python",
   "name": "python3"
  },
  "language_info": {
   "codemirror_mode": {
    "name": "ipython",
    "version": 3
   },
   "file_extension": ".py",
   "mimetype": "text/x-python",
   "name": "python",
   "nbconvert_exporter": "python",
   "pygments_lexer": "ipython3",
   "version": "3.10.0"
  }
 },
 "nbformat": 4,
 "nbformat_minor": 5
}
