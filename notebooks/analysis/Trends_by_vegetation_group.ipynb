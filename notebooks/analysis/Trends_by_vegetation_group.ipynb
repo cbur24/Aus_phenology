{
 "cells": [
  {
   "cell_type": "markdown",
   "id": "fa3bcbdc-5f0d-436f-bd60-8e9f9d3c842c",
   "metadata": {},
   "source": [
    "\n",
    "# Trends disaggregated by vegetation group\n",
    "\n",
    "Using ESA WorldCover for its simplified classes"
   ]
  },
  {
   "cell_type": "code",
   "execution_count": 1,
   "id": "71f1a74a-7e16-45d7-8a29-ae05fd4dfa71",
   "metadata": {},
   "outputs": [
    {
     "name": "stderr",
     "output_type": "stream",
     "text": [
      "/g/data/os22/chad_tmp/AusENDVI/env/py310/lib/python3.10/site-packages/dask/config.py:779: FutureWarning: Dask configuration key 'ucx' has been deprecated; please use 'distributed.comm.ucx' instead\n",
      "  warnings.warn(\n",
      "/g/data/os22/chad_tmp/AusENDVI/env/py310/lib/python3.10/site-packages/dask/config.py:779: FutureWarning: Dask configuration key 'distributed.scheduler.transition-log-length' has been deprecated; please use 'distributed.admin.low-level-log-length' instead\n",
      "  warnings.warn(\n",
      "/g/data/os22/chad_tmp/AusENDVI/env/py310/lib/python3.10/site-packages/dask/config.py:779: FutureWarning: Dask configuration key 'distributed.comm.recent-messages-log-length' has been deprecated; please use 'distributed.admin.low-level-log-length' instead\n",
      "  warnings.warn(\n"
     ]
    }
   ],
   "source": [
    "%matplotlib inline\n",
    "\n",
    "import textwrap\n",
    "import distinctipy\n",
    "import numpy as np\n",
    "import xarray as xr\n",
    "import pandas as pd\n",
    "import seaborn as sb\n",
    "import contextily as ctx\n",
    "import matplotlib as mpl\n",
    "import matplotlib.pyplot as plt\n",
    "from odc.geo.xr import assign_crs\n",
    "from mpl_toolkits.axes_grid1.inset_locator import inset_axes\n",
    "from matplotlib.colors import LinearSegmentedColormap\n",
    "\n",
    "import sys\n",
    "sys.path.append('/g/data/os22/chad_tmp/AusEFlux/src/')\n",
    "from _utils import start_local_dask, round_coords"
   ]
  },
  {
   "cell_type": "markdown",
   "id": "c6c0e949-efa8-4ec9-85d0-8cd0328ed8cc",
   "metadata": {},
   "source": [
    "## Load data"
   ]
  },
  {
   "cell_type": "code",
   "execution_count": 2,
   "id": "b9fa182e-640e-41dd-80a3-994935674987",
   "metadata": {},
   "outputs": [],
   "source": [
    "lin_or_circ = 'circular'\n",
    "\n",
    "#open a simple landcover map\n",
    "lc = xr.open_dataarray('/g/data/os22/chad_tmp/Aus_phenology/data/ESA_WorldCover_processed.nc').drop_vars('band')\n",
    "\n",
    "p_average = assign_crs(xr.open_dataset(f'/g/data/os22/chad_tmp/Aus_phenology/results/mean_phenology_perpixel_{lin_or_circ}_final.nc'), crs='EPSG:4326')\n",
    "p_trends_orginal = assign_crs(xr.open_dataset(f'/g/data/os22/chad_tmp/Aus_phenology/results/trends_phenology_perpixel_{lin_or_circ}_final.nc'), crs='EPSG:4326')\n",
    "\n",
    "mask = ~np.isnan(p_trends_orginal.vPOS_slope)\n",
    "lc = lc.where(mask)\n",
    "\n",
    "season_per_year = p_average['n_seasons']/p_average['n_years']\n",
    "non_seasonal = xr.where((season_per_year <= 0.90),1,0)\n",
    "extra_seasonal = xr.where((season_per_year >= 1.1),1,0)\n",
    "seasonality_mask = (non_seasonal | extra_seasonal)\n",
    "\n",
    "sos_nan = np.isnan(p_trends_orginal['SOS_slope']).where(~np.isnan(p_average['SOS']))\n",
    "sos_nan = xr.where((sos_nan==1) & (seasonality_mask==0), 1, 0)\n",
    "\n",
    "eos_nan = np.isnan(p_trends_orginal['EOS_slope']).where(~np.isnan(p_average['EOS']))\n",
    "eos_nan = xr.where((eos_nan==1) & (seasonality_mask==0), 1, 0)\n",
    "\n",
    "pos_nan = np.isnan(p_trends_orginal['POS_slope']).where(~np.isnan(p_average['POS']))\n",
    "pos_nan = xr.where((pos_nan==1) & (seasonality_mask==0), 1, 0)\n",
    "\n",
    "extra_mask = (seasonality_mask | sos_nan | eos_nan | pos_nan)"
   ]
  },
  {
   "cell_type": "markdown",
   "id": "d319673f-48de-4bfc-9b1d-21b9c480dc60",
   "metadata": {},
   "source": [
    "## Adjust trend rates by seasons/yr"
   ]
  },
  {
   "cell_type": "code",
   "execution_count": 3,
   "id": "9f10ac25-4e34-4046-9cf3-0b9f2b794d8f",
   "metadata": {},
   "outputs": [],
   "source": [
    "p_trends_orginal = p_trends_orginal.where(seasonality_mask!=1)\n",
    "p_trends = (p_trends_orginal * season_per_year).where(seasonality_mask!=1)"
   ]
  },
  {
   "cell_type": "code",
   "execution_count": null,
   "id": "d0e99da3-09ed-40d2-8f0f-97501ee6e309",
   "metadata": {},
   "outputs": [],
   "source": [
    "# p_trends.TOS_slope.where(p_trends['TOS_p_value'] <= 0.05).plot.imshow(robust=True, cmap='coolwarm', vmin=-2, vmax=2)"
   ]
  },
  {
   "cell_type": "markdown",
   "id": "7fb80061-34aa-4eaa-a7e7-7c955003b3da",
   "metadata": {},
   "source": [
    "### Extract pixels over simple veg classes"
   ]
  },
  {
   "cell_type": "code",
   "execution_count": null,
   "id": "91a645be-e642-4602-bba3-9169d01830b4",
   "metadata": {},
   "outputs": [],
   "source": [
    "lc_names = {\n",
    "    1:'Trees',\n",
    "    2:'Shrubs',\n",
    "    3:'Grasses',\n",
    "    4:'Sparse',\n",
    "    5:'Crops'\n",
    "}\n",
    "\n",
    "def extract_vars(trends, var, classes_to_extract, lc, nvis_dict):\n",
    "    dfs = []\n",
    "    for c in classes_to_extract: #loop through veg classes\n",
    "        veg_trends = trends.where(lc==c)\n",
    "        df = veg_trends[[var]].drop_vars('spatial_ref').to_dataframe().rename({var:nvis_dict[c]},axis=1)\n",
    "        dfs.append(df)\n",
    "    \n",
    "    #now append values for entire continent \n",
    "    dfs.append(trends[[var]].drop_vars('spatial_ref').to_dataframe().rename({var:'All'},axis=1))\n",
    "\n",
    "    return pd.concat(dfs).dropna(axis=0, how='all')\n",
    "\n",
    "simple_classes_to_plot = [1,2,3,5]\n",
    "\n",
    "NVIS_simple_POS_slopes = extract_vars(p_trends.where(extra_mask!=1), 'POS_slope', simple_classes_to_plot, lc, lc_names)\n",
    "NVIS_simple_vPOS_slopes = extract_vars(p_trends, 'vPOS_slope',simple_classes_to_plot, lc, lc_names)\n",
    "\n",
    "NVIS_simple_SOS_slopes = extract_vars(p_trends.where(extra_mask!=1), 'SOS_slope', simple_classes_to_plot, lc, lc_names)\n",
    "NVIS_simple_vSOS_slopes = extract_vars(p_trends, 'vSOS_slope', simple_classes_to_plot, lc, lc_names)\n",
    "\n",
    "NVIS_simple_EOS_slopes = extract_vars(p_trends.where(extra_mask!=1), 'EOS_slope',simple_classes_to_plot, lc, lc_names)\n",
    "NVIS_simple_vEOS_slopes = extract_vars(p_trends, 'vEOS_slope',simple_classes_to_plot, lc, lc_names)\n",
    "NVIS_simple_vTOS_slopes = extract_vars(p_trends, 'vTOS_slope',simple_classes_to_plot, lc, lc_names)\n",
    "\n",
    "NVIS_simple_ROG_slopes = extract_vars(p_trends, 'ROG_slope',simple_classes_to_plot, lc, lc_names)\n",
    "NVIS_simple_ROS_slopes = extract_vars(p_trends, 'ROS_slope',simple_classes_to_plot, lc, lc_names)\n",
    "\n",
    "NVIS_simple_AOS_slopes = extract_vars(p_trends, 'AOS_slope',simple_classes_to_plot, lc, lc_names)\n",
    "NVIS_simple_LOS_slopes = extract_vars(p_trends.where(extra_mask!=1), 'LOS_slope', simple_classes_to_plot, lc, lc_names)\n",
    "NVIS_simple_IOS_slopes = extract_vars(p_trends, 'IOS_slope', simple_classes_to_plot, lc, lc_names)\n",
    "NVIS_simple_IOC_slopes = extract_vars(p_trends, 'IOC_slope', simple_classes_to_plot, lc, lc_names)"
   ]
  },
  {
   "cell_type": "markdown",
   "id": "dcf84d8d-c9e6-4720-85fe-02867e21f1a9",
   "metadata": {},
   "source": [
    "### Plot"
   ]
  },
  {
   "cell_type": "code",
   "execution_count": null,
   "id": "312dc462-12fb-4434-844f-a384fdb283ee",
   "metadata": {},
   "outputs": [],
   "source": [
    "import matplotlib.patheffects as path_effects\n",
    "\n",
    "def add_median_labels(ax: plt.Axes, fmt: str = \".1f\") -> None:\n",
    "    \"\"\"Add text labels to the median lines of a seaborn boxplot.\n",
    "\n",
    "    Args:\n",
    "        ax: plt.Axes, e.g. the return value of sns.boxplot()\n",
    "        fmt: format string for the median value\n",
    "    \"\"\"\n",
    "    lines = ax.get_lines()\n",
    "    boxes = [c for c in ax.get_children() if \"Patch\" in str(c)]\n",
    "    start = 4\n",
    "    if not boxes:  # seaborn v0.13 => fill=False => no patches => +1 line\n",
    "        boxes = [c for c in ax.get_lines() if len(c.get_xdata()) == 5]\n",
    "        start += 1\n",
    "    lines_per_box = len(lines) // len(boxes)\n",
    "    for median in lines[start::lines_per_box]:\n",
    "        x, y = (data.mean() for data in median.get_data())\n",
    "        # choose value depending on horizontal or vertical plot orientation\n",
    "        value = x if len(set(median.get_xdata())) == 1 else y\n",
    "        text = ax.text(x, y, f'{value:{fmt}}', ha='center', va='center',\n",
    "                       color='white') #fontweight='bold'\n",
    "        # create median-colored border around white text for contrast\n",
    "        text.set_path_effects([\n",
    "            path_effects.Stroke(linewidth=3, foreground=median.get_color()),\n",
    "            path_effects.Normal(),\n",
    "        ])"
   ]
  },
  {
   "cell_type": "code",
   "execution_count": null,
   "id": "a3ca4d59-ec19-4455-9a46-2ca460ffef05",
   "metadata": {},
   "outputs": [],
   "source": [
    "dd = [\n",
    "    NVIS_simple_SOS_slopes, NVIS_simple_vSOS_slopes, NVIS_simple_AOS_slopes,\n",
    "    NVIS_simple_POS_slopes, NVIS_simple_vPOS_slopes, NVIS_simple_ROG_slopes,\n",
    "    NVIS_simple_EOS_slopes, NVIS_simple_vEOS_slopes, NVIS_simple_ROS_slopes,\n",
    "    NVIS_simple_LOS_slopes, NVIS_simple_vTOS_slopes, NVIS_simple_IOS_slopes\n",
    "]\n",
    "names=[\n",
    "    'SOS slope', 'vSOS slope', 'AOS slope',\n",
    "    'POS slope', 'vPOS slope', 'ROG slope',\n",
    "    'EOS slope', 'vEOS slope', 'ROS slope',\n",
    "    'LOS slope', 'vTOS slope', 'IOS slope',\n",
    "]\n",
    "\n",
    "# colors = ['#2E7D32','#4CAF50', 'lightsalmon', '#FFEB3B'] #Forest,Shrub, GRass, crop,\n",
    "# cmap = LinearSegmentedColormap.from_list(\"landcover_cmap\", colors, N=len(colors))\n",
    "\n",
    "categories =['tree', 'shrub', 'grass', 'crop', 'all'] # 'sparse', \n",
    "colours = ['#006400', '#ffbb22', '#ffff4c', '#f096ff', '#b4b4b4'] # '#b4b4b4',\n",
    "cmap = LinearSegmentedColormap.from_list(\"landcover_cmap\", colours, N=len(colours))\n",
    "\n",
    "flierprops = dict(markerfacecolor='0.75', markersize=3, linestyle='none')\n",
    "fig,axes=plt.subplots(4,3, figsize=(13,13), layout='constrained', sharex=True)# sharey='row' # \n",
    "\n",
    "for d,n,ax in zip(dd,names,axes.ravel()):\n",
    "    \n",
    "    if \"v\" not in n:\n",
    "        vmin, vmax=-17.5,17.5\n",
    "        label='days decade⁻¹'\n",
    "        fmt = \".2f\"\n",
    "    if \"v\" in n:\n",
    "        vmin,vmax=-0.04, 0.04\n",
    "        label='NDVI decade⁻¹'\n",
    "        fmt = \".3f\"\n",
    "    if 'LOS' in n:\n",
    "        vmin, vmax=-25.0, 25.0\n",
    "        label='days decade⁻¹'\n",
    "        fmt = \".2f\"\n",
    "    if 'AOS' in n:\n",
    "        vmin, vmax=-0.05, 0.05\n",
    "        label='NDVI decade⁻¹'\n",
    "        fmt = \".3f\"\n",
    "    if 'ROG' in n:\n",
    "        vmin, vmax=-5e-04, 5e-04\n",
    "        label='NDVI decade⁻¹'\n",
    "        fmt = \".5f\"\n",
    "    if 'ROS' in n:\n",
    "        vmin, vmax=-5e-04, 5e-04\n",
    "        label='NDVI day⁻¹ decade⁻¹'\n",
    "        fmt = \".5f\"\n",
    "    if 'IOS' in n:\n",
    "        vmin, vmax=-10, 10\n",
    "        label='NDVI decade⁻¹'\n",
    "        fmt = \".2f\"\n",
    "\n",
    "    sb.boxplot(d*10, ax=ax, palette=colours,linewidth=1.5, showfliers=False) #\n",
    "    # sb.violinplot(d*10, ax=ax, palette=colours,linewidth=1.5) #\n",
    "    ax.set_ylim(vmin,vmax)\n",
    "    ax.axhline(0, c='k', linestyle='--')\n",
    "    ax.set_title(n)\n",
    "    ax.set_ylabel(label, fontsize=12)\n",
    "    ax.grid()\n",
    "    add_median_labels(ax, fmt=fmt)\n",
    "    \n",
    "fig.savefig(f'/g/data/os22/chad_tmp/Aus_phenology/results/figs/Landcover_simple_trends_boxplots.png',\n",
    "            bbox_inches='tight', dpi=300) "
   ]
  },
  {
   "cell_type": "code",
   "execution_count": null,
   "id": "d17d6268-24de-43bc-a210-1ae82baf310e",
   "metadata": {},
   "outputs": [],
   "source": []
  },
  {
   "cell_type": "code",
   "execution_count": null,
   "id": "a532e6be-952f-49d5-97dc-c5c50b349cd7",
   "metadata": {},
   "outputs": [],
   "source": []
  }
 ],
 "metadata": {
  "kernelspec": {
   "display_name": "Python 3 (ipykernel)",
   "language": "python",
   "name": "python3"
  },
  "language_info": {
   "codemirror_mode": {
    "name": "ipython",
    "version": 3
   },
   "file_extension": ".py",
   "mimetype": "text/x-python",
   "name": "python",
   "nbconvert_exporter": "python",
   "pygments_lexer": "ipython3",
   "version": "3.10.0"
  }
 },
 "nbformat": 4,
 "nbformat_minor": 5
}
