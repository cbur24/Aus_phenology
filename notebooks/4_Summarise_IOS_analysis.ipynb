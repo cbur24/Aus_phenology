{
 "cells": [
  {
   "cell_type": "markdown",
   "id": "d7b43d99-d698-40b4-a6cb-1e205a6cc0d7",
   "metadata": {},
   "source": [
    "# Summarise and plot IOS analysis\n"
   ]
  },
  {
   "cell_type": "code",
   "execution_count": null,
   "id": "d70a23e7-5a01-4839-a9c2-f02880a81e7a",
   "metadata": {
    "tags": []
   },
   "outputs": [],
   "source": [
    "import os\n",
    "import sys\n",
    "import xvec\n",
    "import pickle\n",
    "import textwrap\n",
    "import warnings\n",
    "import distinctipy\n",
    "import numpy as np\n",
    "import xarray as xr\n",
    "import pandas as pd\n",
    "import seaborn as sb\n",
    "import geopandas as gpd\n",
    "import contextily as ctx\n",
    "import matplotlib.pyplot as plt\n",
    "from odc.geo.xr import assign_crs\n",
    "import matplotlib.colors as colors\n",
    "import matplotlib.ticker as ticker\n",
    "from scipy.interpolate import griddata\n",
    "from matplotlib.colors import LinearSegmentedColormap\n",
    "from mpl_toolkits.axes_grid1.inset_locator import inset_axes\n",
    "\n",
    "import sys\n",
    "sys.path.append('/g/data/os22/chad_tmp/AusEFlux/src/')\n",
    "from _utils import round_coords\n",
    "from _prediction import allNaN_arg\n",
    "\n",
    "import sys\n",
    "sys.path.append('/g/data/os22/chad_tmp/Aus_phenology/src')\n",
    "from phenology_pixel import xr_phenometrics\n",
    "\n",
    "%matplotlib inline"
   ]
  },
  {
   "cell_type": "markdown",
   "id": "2c57f0af-0b7e-40b7-9713-a3d5a79447a3",
   "metadata": {},
   "source": [
    "## Open per pixel phenology data"
   ]
  },
  {
   "cell_type": "code",
   "execution_count": null,
   "id": "8868cf16-ff5a-44d6-9e0c-95691e3b2f6a",
   "metadata": {},
   "outputs": [],
   "source": [
    "lin_or_circ = 'circular'\n",
    "\n",
    "p_ios = assign_crs(xr.open_dataset(f'/g/data/os22/chad_tmp/Aus_phenology/results/ios_analysis_perpixel_{lin_or_circ}.nc'), crs='EPSG:4326')\n",
    "p_average = assign_crs(xr.open_dataset(f'/g/data/os22/chad_tmp/Aus_phenology/results/mean_phenology_perpixel_{lin_or_circ}.nc'), crs='EPSG:4326')\n",
    "p_trends = assign_crs(xr.open_dataset(f'/g/data/os22/chad_tmp/Aus_phenology/results/trends_phenology_perpixel_{lin_or_circ}.nc'), crs='EPSG:4326')\n",
    "\n",
    "gdf = gpd.read_file('/g/data/os22/chad_tmp/Aus_phenology/data/vectors/IBRAv7_subregions_modified.geojson')\n",
    "\n",
    "#seasonality mask\n",
    "season_per_year = p_average['n_seasons']/p_average['n_years']\n",
    "non_seasonal = xr.where((season_per_year <= 0.90),1,0)\n",
    "extra_seasonal = xr.where((season_per_year >= 1.1),1,0)\n",
    "seasonality_mask = (non_seasonal | extra_seasonal)\n",
    "\n",
    "# sos_nan = np.isnan(p_trends['SOS_slope']).where(~np.isnan(p_average['SOS']))\n",
    "# sos_nan = xr.where((sos_nan==1) & (seasonality_mask==0), 1, 0)\n",
    "# eos_nan = np.isnan(p_trends['EOS_slope']).where(~np.isnan(p_average['EOS']))\n",
    "# eos_nan = xr.where((eos_nan==1) & (seasonality_mask==0), 1, 0)\n",
    "# pos_nan = np.isnan(p_trends['POS_slope']).where(~np.isnan(p_average['POS']))\n",
    "# pos_nan = xr.where((pos_nan==1) & (seasonality_mask==0), 1, 0)\n",
    "# extra_mask = (seasonality_mask | sos_nan | eos_nan | pos_nan)\n"
   ]
  },
  {
   "cell_type": "code",
   "execution_count": null,
   "id": "3453e71e-2f33-4853-9542-712468c4c32e",
   "metadata": {},
   "outputs": [],
   "source": [
    "# cropping for masking\n",
    "# crops = xr.open_dataset('/g/data/os22/chad_tmp/Aus_phenology/data/croplands_5km.nc')['croplands']\n",
    "# crops = xr.where(crops==3, 0, 1) #rainfed crops\n",
    "# crops = round_coords(crops)\n",
    "# p_ios = p_ios.where(crops)\n",
    "# p_average = p_average.where(crops)\n",
    "# p_trends = p_trends.where(crops)\n",
    "\n",
    "seasonal_vars = ['vPOS','vSOS','vEOS','SOS','POS','EOS','LOS']\n",
    "# ios_most_important_var = allNaN_arg(p_ios[seasonal_vars].to_array(), dim='variable',stat='max', idx=False)\n",
    "ios_most_important_var = allNaN_arg(np.abs(p_ios[seasonal_vars].to_array()), dim='variable',stat='max', idx=False)"
   ]
  },
  {
   "cell_type": "markdown",
   "id": "d5a92a7c-10f5-45ab-92d5-598154049d06",
   "metadata": {},
   "source": [
    "## Partial correlations with IOS"
   ]
  },
  {
   "cell_type": "code",
   "execution_count": null,
   "id": "be4bddec-9659-4607-9904-328904b3fef7",
   "metadata": {},
   "outputs": [],
   "source": [
    "val_or_time = xr.where(ios_most_important_var<=3,0, 1).where(~np.isnan(p_average['SOS'])).where(non_seasonal!=1)"
   ]
  },
  {
   "cell_type": "code",
   "execution_count": null,
   "id": "711c7596-f58d-45ee-b315-f6595259fbd9",
   "metadata": {},
   "outputs": [],
   "source": [
    "vars=['vPOS', 'LOS', 'Highest partial correlation with IOS', 'Values or length']\n",
    "\n",
    "categories = seasonal_vars\n",
    "colours1 = distinctipy.get_colors(len(categories), pastel_factor=0.5, rng=2)\n",
    "cmap1 = LinearSegmentedColormap.from_list(\"cwc\", colours1, N=len(categories))\n",
    "\n",
    "fig,axes=plt.subplots(2,2,figsize=(8,7), layout='constrained', sharey=True)\n",
    "\n",
    "for v,ax in zip(vars, axes.ravel()):\n",
    "    if v=='Highest partial correlation with IOS':\n",
    "        cmap='cividis_r'\n",
    "        vmin=0\n",
    "        vmax=1\n",
    "        t=v\n",
    "        # im = ios_most_important_var.where(p_trends.vPOS_p_value <0.05).plot(ax=ax, add_colorbar=False, add_labels=False, cmap=cmap1)\n",
    "        im = ios_most_important_var.where(seasonality_mask!=1).plot(ax=ax, add_colorbar=False, add_labels=False, cmap=cmap1)\n",
    "        axins1 = inset_axes(ax,width=\"70%\",height=\"5%\",loc=\"lower left\", borderpad=1.75)\n",
    "        cbar = fig.colorbar(im, cax=axins1,  ticks=[0.4,1.3,2.2,3.1,3.9,4.8,5.7], orientation='horizontal') #ticks=[0.25,0.75]\n",
    "        cbar.ax.set_xticklabels(categories, fontsize=8);\n",
    "\n",
    "    elif v=='Values or length':\n",
    "        categories = ['values', 'length']\n",
    "        colours = distinctipy.get_colors(len(categories), pastel_factor=0.5, rng=2)\n",
    "        cmap = LinearSegmentedColormap.from_list(\"cwc\", colours, N=len(categories))\n",
    "        t=v\n",
    "        # im = ios_most_important_var.where(p_trends.vPOS_p_value <0.05).plot(ax=ax, add_colorbar=False, add_labels=False, cmap=cmap1)\n",
    "        im = val_or_time.where(seasonality_mask!=1).plot(ax=ax, add_colorbar=False, add_labels=False, cmap=cmap)\n",
    "        axins1 = inset_axes(ax,width=\"50%\",height=\"5%\",loc=\"lower left\", borderpad=1.75)\n",
    "        cbar = fig.colorbar(im, cax=axins1,  ticks=[0.25,0.75], orientation='horizontal') #ticks=[0.25,0.75]\n",
    "        cbar.ax.set_xticklabels(categories, fontsize=8);\n",
    "    \n",
    "    else:\n",
    "        cmap='plasma'\n",
    "        vmin=0\n",
    "        vmax=1\n",
    "        t = v\n",
    "        l='partial correlation w/ IOS'\n",
    "        # im=p_ios[v].where(p_trends.vPOS_p_value <0.05).plot(cmap=cmap, vmin=vmin,vmax=vmax, robust=True, ax=ax, add_labels=False,add_colorbar=False)\n",
    "        im=p_ios[v].where(seasonality_mask!=1).plot(cmap=cmap, vmin=vmin,vmax=vmax, robust=True, ax=ax, add_labels=False,add_colorbar=False)\n",
    "        axins1 = inset_axes(ax,width=\"50%\",height=\"5%\",loc=\"lower left\", borderpad=2)\n",
    "        norm = colors.Normalize(vmin=vmin, vmax=vmax)\n",
    "        cbar = plt.cm.ScalarMappable(norm=norm, cmap=cmap)\n",
    "        ax_cbar = fig.colorbar(cbar, ax=ax, cax=axins1, orientation='horizontal')\n",
    "        ax_cbar.ax.set_title(l, fontsize=8)\n",
    "    \n",
    "    ctx.add_basemap(ax, source=ctx.providers.CartoDB.VoyagerNoLabels, crs='EPSG:4326', attribution='', attribution_size=1)\n",
    "    ax.axes.get_xaxis().set_ticks([])\n",
    "    ax.axes.get_yaxis().set_ticks([])\n",
    "    ax.set_title(t, fontsize=9)\n",
    "    \n",
    "fig.savefig(f'/g/data/os22/chad_tmp/Aus_phenology/results/figs/IOS_parcorr.png',\n",
    "            bbox_inches='tight', dpi=300)"
   ]
  },
  {
   "cell_type": "code",
   "execution_count": null,
   "id": "7971369d-8c44-4064-bf5c-ff307563d5ef",
   "metadata": {},
   "outputs": [],
   "source": [
    "# ios_most_important_var.odc.explore(\n",
    "#             tiles = 'https://server.arcgisonline.com/ArcGIS/rest/services/World_Imagery/MapServer/tile/{z}/{y}/{x}',\n",
    "#            attr = 'Esri',\n",
    "#            name = 'Esri Satellite',\n",
    "#     cmap=cmap1,\n",
    "# )"
   ]
  },
  {
   "cell_type": "markdown",
   "id": "cc356f92-9dda-4566-bede-5f48333822dd",
   "metadata": {},
   "source": [
    "## Correlations across environmental gradients"
   ]
  },
  {
   "cell_type": "code",
   "execution_count": null,
   "id": "d4c91412-d1ee-4858-b270-ec36da872ccf",
   "metadata": {},
   "outputs": [],
   "source": [
    "from sklearn.linear_model import LinearRegression\n",
    "import statsmodels.formula.api as smf\n",
    "from sklearn.metrics import r2_score\n",
    "from scipy.stats import gaussian_kde\n",
    "import matplotlib.patheffects as pe\n",
    "\n",
    "def calculate_density(x, y):\n",
    "    xy = np.vstack([x, y])\n",
    "    return gaussian_kde(xy)(xy)"
   ]
  },
  {
   "cell_type": "code",
   "execution_count": null,
   "id": "e02dcb23-6971-458e-93c0-9ce5c783bc79",
   "metadata": {},
   "outputs": [],
   "source": [
    "pet = xr.open_dataset('/g/data/os22/chad_tmp/Aus_phenology/data/PET_GLEAM_1982_2022.nc')['PET']\n",
    "rain = xr.open_dataset('/g/data/os22/chad_tmp/AusENDVI/data/5km/rain_5km_monthly_1981_2022.nc')['rain']\n",
    "rain = rain.sel(time=slice('1982','2022'))\n",
    "pet = pet.sel(time=slice('1982','2022'))\n",
    "\n",
    "# trees = xr.open_dataset('/g/data/os22/chad_tmp/AusENDVI/data/5km/trees_5km_monthly_1982_2022.nc')['trees']\n",
    "# trees = trees.mean('time')\n",
    "\n",
    "mi = rain/pet\n",
    "mi = mi.rename('P:PET')\n",
    "mi = xr.where(mi>5, 5, mi) #remove extreme values\n",
    "mi = xr.where(mi<0, 0, mi) "
   ]
  },
  {
   "cell_type": "code",
   "execution_count": null,
   "id": "19f85b2e-5460-4f51-9231-751473f0efe3",
   "metadata": {},
   "outputs": [],
   "source": [
    "mi = mi.mean('time')\n",
    "mi = mi.where(seasonality_mask!=1).drop_vars('spatial_ref').to_dataframe()\n",
    "\n",
    "mi['LOS'] = p_ios['LOS'].where(seasonality_mask!=1).drop_vars('spatial_ref').to_dataframe()\n",
    "mi['vPOS'] = p_ios['vPOS'].where(seasonality_mask!=1).drop_vars('spatial_ref').to_dataframe()\n",
    "# mi['trees'] = trees.where(seasonality_mask!=1).drop_vars('spatial_ref').to_dataframe()\n",
    "\n",
    "mi = mi.dropna()\n",
    "mi = mi.reset_index(drop=True)"
   ]
  },
  {
   "cell_type": "markdown",
   "id": "39f4783d-bbc5-498a-b2f3-312c857275d3",
   "metadata": {},
   "source": [
    "### Trends across moisture gradient"
   ]
  },
  {
   "cell_type": "code",
   "execution_count": null,
   "id": "2f190af4-ecbe-4870-be89-0ce434ee469c",
   "metadata": {},
   "outputs": [],
   "source": [
    "df = mi.sample(50000)\n",
    "\n",
    "# Calculate density for LOS and vPOS plots\n",
    "df[\"LOS_density\"] = calculate_density(df[\"P:PET\"], df[\"LOS\"])\n",
    "df[\"vPOS_density\"] = calculate_density(df[\"P:PET\"], df[\"vPOS\"])\n",
    "\n",
    "# Set up the facet grid\n",
    "fig, axes = plt.subplots(1, 2, figsize=(8, 4), sharey=True, layout='constrained')\n",
    "\n",
    "# Plot 1: P:PET vs LOS\n",
    "dff = df[[\"P:PET\",\"LOS\"]].rename({'P:PET':'x', 'LOS':'y'}, axis=1).reset_index(drop=True)\n",
    "weights = np.polyfit(dff['x'],dff['y'], 3)\n",
    "model = np.poly1d(weights)\n",
    "results = smf.ols(formula='y ~ model(x)', data=dff).fit()\n",
    "p1 = results.pvalues['model(x)']\n",
    "r2_1 = results.rsquared\n",
    "\n",
    "sb.scatterplot(ax=axes[0], x=df['P:PET'], y=df['LOS'], data=df, hue=\"LOS_density\", palette=\"magma\", alpha=0.2, s=20, linewidth=0, legend=False)\n",
    "sb.lineplot(ax=axes[0], x=np.sort(dff['x']), y=model(np.sort(dff['x'])), color=\"blue\", lw=1, path_effects=[pe.Stroke(linewidth=2, foreground='white'), pe.Normal()])\n",
    "\n",
    "axes[0].set_title('LOS')\n",
    "axes[0].set_xlabel(\"P:PET\")\n",
    "axes[0].set_ylabel(\"partial correlation with IOS\")\n",
    "axes[0].set_ylim(0,1.05)\n",
    "axes[0].set_xlim(0,1.5)\n",
    "axes[0].grid(alpha=0.75)\n",
    "axes[0].text(0.8, 0.10, f\"$p$: {p1:.3f}\\n$R^2$: {r2_1:.2f}\", transform=axes[0].transAxes, fontsize=10)\n",
    "\n",
    "# Plot 2: P:PET vs vPOS\n",
    "dff = df[[\"P:PET\",\"vPOS\"]].rename({'P:PET':'x', 'vPOS':'y'}, axis=1).reset_index(drop=True)\n",
    "weights = np.polyfit(dff['x'],dff['y'], 1)\n",
    "model = np.poly1d(weights)\n",
    "results = smf.ols(formula='y ~ model(x)', data=dff).fit()\n",
    "p2 = results.pvalues['model(x)']\n",
    "r2_2 = results.rsquared\n",
    "\n",
    "sb.scatterplot(ax=axes[1], x=df['P:PET'], y=df['vPOS'],data=df, hue=\"vPOS_density\", palette=\"magma\", s=20, alpha=0.2, linewidth=0, legend=False)\n",
    "sb.lineplot(ax=axes[1], x=dff['x'], y=model(dff['x']), color=\"blue\", lw=1, path_effects=[pe.Stroke(linewidth=2, foreground='white'), pe.Normal()])\n",
    "\n",
    "axes[1].set_title('vPOS')\n",
    "axes[1].set_xlabel(\"P:PET\")\n",
    "axes[1].set_ylim(0,1.05)\n",
    "axes[1].grid(alpha=0.5)\n",
    "axes[1].set_xlim(0,1.5)\n",
    "\n",
    "axes[1].text(0.80, 0.85, f\"$p$: {p2:.3f}\\n$R^2$: {r2_2:.2f}\", transform=axes[1].transAxes, fontsize=10);\n",
    "fig.savefig(f'/g/data/os22/chad_tmp/Aus_phenology/results/figs/parcorr_ppet_scatterplots.png',\n",
    "            bbox_inches='tight', dpi=300)"
   ]
  },
  {
   "cell_type": "code",
   "execution_count": null,
   "id": "6e10ebaa-fc93-4873-b55e-3a78b60e2d74",
   "metadata": {},
   "outputs": [],
   "source": []
  }
 ],
 "metadata": {
  "kernelspec": {
   "display_name": "Python 3 (ipykernel)",
   "language": "python",
   "name": "python3"
  },
  "language_info": {
   "codemirror_mode": {
    "name": "ipython",
    "version": 3
   },
   "file_extension": ".py",
   "mimetype": "text/x-python",
   "name": "python",
   "nbconvert_exporter": "python",
   "pygments_lexer": "ipython3",
   "version": "3.10.0"
  }
 },
 "nbformat": 4,
 "nbformat_minor": 5
}
