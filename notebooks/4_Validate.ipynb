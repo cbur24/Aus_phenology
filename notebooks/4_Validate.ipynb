{
 "cells": [
  {
   "cell_type": "markdown",
   "id": "248c4ba7-1b91-4df6-91c0-cfdfcad54246",
   "metadata": {},
   "source": [
    "# Validate phenology\n",
    "\n",
    "Possibilities:\n",
    "* Validate against\n",
    "    * flux towers,\n",
    "    * VODCAv2,\n",
    "    * TERN phenology\n",
    "    * PKU-GIMMS.\n",
    "    * MODIS only\n",
    "* Inspect how the transition between AVHRR and MODIS impacts trends in seasonal cycle for a sample of ecoregions. And the gapfilling."
   ]
  },
  {
   "cell_type": "code",
   "execution_count": null,
   "id": "2387a15b-2689-4556-8ae5-2bf47beb7112",
   "metadata": {},
   "outputs": [],
   "source": []
  }
 ],
 "metadata": {
  "kernelspec": {
   "display_name": "Python 3 (ipykernel)",
   "language": "python",
   "name": "python3"
  },
  "language_info": {
   "codemirror_mode": {
    "name": "ipython",
    "version": 3
   },
   "file_extension": ".py",
   "mimetype": "text/x-python",
   "name": "python",
   "nbconvert_exporter": "python",
   "pygments_lexer": "ipython3",
   "version": "3.10.0"
  }
 },
 "nbformat": 4,
 "nbformat_minor": 5
}
