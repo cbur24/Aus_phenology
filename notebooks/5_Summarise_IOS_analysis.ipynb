{
 "cells": [
  {
   "cell_type": "markdown",
   "id": "d7b43d99-d698-40b4-a6cb-1e205a6cc0d7",
   "metadata": {},
   "source": [
    "# Summarise and plot IOS analysis\n",
    "\n",
    "In this notebook we plot the long-term average phenology across Australia, the long-term trends, and a number of plots that show the phenology time-series across Australia to show examples of change."
   ]
  },
  {
   "cell_type": "code",
   "execution_count": 1,
   "id": "d70a23e7-5a01-4839-a9c2-f02880a81e7a",
   "metadata": {
    "tags": []
   },
   "outputs": [
    {
     "name": "stderr",
     "output_type": "stream",
     "text": [
      "/g/data/os22/chad_tmp/AusENDVI/env/py310/lib/python3.10/site-packages/dask/config.py:779: FutureWarning: Dask configuration key 'ucx' has been deprecated; please use 'distributed.comm.ucx' instead\n",
      "  warnings.warn(\n",
      "/g/data/os22/chad_tmp/AusENDVI/env/py310/lib/python3.10/site-packages/dask/config.py:779: FutureWarning: Dask configuration key 'distributed.scheduler.transition-log-length' has been deprecated; please use 'distributed.admin.low-level-log-length' instead\n",
      "  warnings.warn(\n",
      "/g/data/os22/chad_tmp/AusENDVI/env/py310/lib/python3.10/site-packages/dask/config.py:779: FutureWarning: Dask configuration key 'distributed.comm.recent-messages-log-length' has been deprecated; please use 'distributed.admin.low-level-log-length' instead\n",
      "  warnings.warn(\n"
     ]
    }
   ],
   "source": [
    "import os\n",
    "import sys\n",
    "import xvec\n",
    "import pickle\n",
    "import textwrap\n",
    "import warnings\n",
    "import distinctipy\n",
    "import numpy as np\n",
    "import xarray as xr\n",
    "import pandas as pd\n",
    "import seaborn as sb\n",
    "import geopandas as gpd\n",
    "import contextily as ctx\n",
    "import matplotlib.pyplot as plt\n",
    "from odc.geo.xr import assign_crs\n",
    "import matplotlib.colors as colors\n",
    "import matplotlib.ticker as ticker\n",
    "from scipy.interpolate import griddata\n",
    "from matplotlib.colors import LinearSegmentedColormap\n",
    "from mpl_toolkits.axes_grid1.inset_locator import inset_axes\n",
    "\n",
    "import sys\n",
    "sys.path.append('/g/data/os22/chad_tmp/AusEFlux/src/')\n",
    "from _utils import round_coords\n",
    "from _prediction import allNaN_arg\n",
    "\n",
    "import sys\n",
    "sys.path.append('/g/data/os22/chad_tmp/Aus_phenology/src')\n",
    "from phenology_pixel import xr_phenometrics\n",
    "\n",
    "%matplotlib inline"
   ]
  },
  {
   "cell_type": "markdown",
   "id": "2c57f0af-0b7e-40b7-9713-a3d5a79447a3",
   "metadata": {},
   "source": [
    "## Open per pixel phenology data"
   ]
  },
  {
   "cell_type": "code",
   "execution_count": 2,
   "id": "8868cf16-ff5a-44d6-9e0c-95691e3b2f6a",
   "metadata": {},
   "outputs": [],
   "source": [
    "p_ios = assign_crs(xr.open_dataset('/g/data/os22/chad_tmp/Aus_phenology/results/ioc_analysis_perpixel.nc'), crs='EPSG:4326')\n",
    "p_average = assign_crs(xr.open_dataset('/g/data/os22/chad_tmp/Aus_phenology/results/mean_phenology_perpixel.nc'), crs='EPSG:4326')\n",
    "p_trends = assign_crs(xr.open_dataset('/g/data/os22/chad_tmp/Aus_phenology/results/trends_phenology_perpixel.nc'), crs='EPSG:4326')\n",
    "\n",
    "gdf = gpd.read_file('/g/data/os22/chad_tmp/Aus_phenology/data/vectors/IBRAv7_subregions_modified.geojson')\n",
    "\n",
    "# cropping for masking\n",
    "crops = xr.open_dataset('/g/data/os22/chad_tmp/Aus_phenology/data/croplands_5km.nc')['croplands']\n",
    "crops = xr.where(crops==3, 0, 1) #rainfed crops\n",
    "crops = round_coords(crops)\n",
    "\n",
    "season_per_year = p_average['n_seasons']/p_average['n_years']\n",
    "non_seasonal = xr.where((season_per_year <= 0.90),1,0)\n",
    "\n",
    "# p_ios = p_ios[['vPOS','vSOS','vEOS','vTOS','SOS','POS','EOS','LOS','slope_IOC_vs_LOS*vPOS','pearson_r_IOC_vs_LOS*vPOS']]\n",
    "# p_ios = p_ios[['vPOS','vSOS','vEOS','SOS','POS','EOS','LOS']]"
   ]
  },
  {
   "cell_type": "code",
   "execution_count": null,
   "id": "3453e71e-2f33-4853-9542-712468c4c32e",
   "metadata": {},
   "outputs": [],
   "source": [
    "p_ios = p_ios.where(crops)\n",
    "p_average = p_average.where(crops)\n",
    "p_trends = p_trends.where(crops)\n",
    "\n",
    "seasonal_vars = ['vPOS','vSOS','vEOS','vTOS','SOS','POS','EOS','LOC']\n",
    "# ios_most_important_var = allNaN_arg(p_ios[seasonal_vars].to_array(), dim='variable',stat='max', idx=False)\n",
    "ios_most_important_var = allNaN_arg(np.abs(p_ios[seasonal_vars].to_array()), dim='variable',stat='max', idx=False)"
   ]
  },
  {
   "cell_type": "markdown",
   "id": "d5a92a7c-10f5-45ab-92d5-598154049d06",
   "metadata": {},
   "source": [
    "## Partial correlations with IOS"
   ]
  },
  {
   "cell_type": "code",
   "execution_count": null,
   "id": "be4bddec-9659-4607-9904-328904b3fef7",
   "metadata": {},
   "outputs": [],
   "source": [
    "val_or_time = xr.where(ios_most_important_var<=3,0, 1).where(~np.isnan(p_average['SOS'])).where(non_seasonal!=1)"
   ]
  },
  {
   "cell_type": "code",
   "execution_count": null,
   "id": "711c7596-f58d-45ee-b315-f6595259fbd9",
   "metadata": {},
   "outputs": [],
   "source": [
    "vars=['vPOS', 'LOC', 'Highest partial correlation with IOC', 'Values or timing']\n",
    "\n",
    "categories = seasonal_vars\n",
    "colours1 = distinctipy.get_colors(len(categories), pastel_factor=0.5, rng=2)\n",
    "cmap1 = LinearSegmentedColormap.from_list(\"cwc\", colours1, N=len(categories))\n",
    "\n",
    "fig,axes=plt.subplots(2,2,figsize=(8,7), layout='constrained', sharey=True)\n",
    "\n",
    "for v,ax in zip(vars, axes.ravel()):\n",
    "    if v=='Highest partial correlation with IOS':\n",
    "        cmap='cividis_r'\n",
    "        vmin=0\n",
    "        vmax=1\n",
    "        t=v\n",
    "        # im = ios_most_important_var.where(p_trends.vPOS_p_value <0.05).plot(ax=ax, add_colorbar=False, add_labels=False, cmap=cmap1)\n",
    "        im = ios_most_important_var.where(non_seasonal!=1).plot(ax=ax, add_colorbar=False, add_labels=False, cmap=cmap1)\n",
    "        axins1 = inset_axes(ax,width=\"70%\",height=\"5%\",loc=\"lower left\", borderpad=1.75)\n",
    "        cbar = fig.colorbar(im, cax=axins1,  ticks=[0.4,1.3,2.2,3.1,3.9,4.8,5.7], orientation='horizontal') #ticks=[0.25,0.75]\n",
    "        cbar.ax.set_xticklabels(categories, fontsize=8);\n",
    "\n",
    "    elif v=='Values or timing':\n",
    "        categories = ['values', 'timing']\n",
    "        colours = distinctipy.get_colors(len(categories), pastel_factor=0.5, rng=2)\n",
    "        cmap = LinearSegmentedColormap.from_list(\"cwc\", colours, N=len(categories))\n",
    "        t=v\n",
    "        # im = ios_most_important_var.where(p_trends.vPOS_p_value <0.05).plot(ax=ax, add_colorbar=False, add_labels=False, cmap=cmap1)\n",
    "        im = val_or_time.plot(ax=ax, add_colorbar=False, add_labels=False, cmap=cmap)\n",
    "        axins1 = inset_axes(ax,width=\"50%\",height=\"5%\",loc=\"lower left\", borderpad=1.75)\n",
    "        cbar = fig.colorbar(im, cax=axins1,  ticks=[0.25,0.75], orientation='horizontal') #ticks=[0.25,0.75]\n",
    "        cbar.ax.set_xticklabels(categories, fontsize=8);\n",
    "    \n",
    "    else:\n",
    "        cmap='plasma'\n",
    "        vmin=0\n",
    "        vmax=1\n",
    "        t = v\n",
    "        l='partial correlation w/ IOS'\n",
    "        # im=p_ios[v].where(p_trends.vPOS_p_value <0.05).plot(cmap=cmap, vmin=vmin,vmax=vmax, robust=True, ax=ax, add_labels=False,add_colorbar=False)\n",
    "        im=p_ios[v].where(non_seasonal!=1).plot(cmap=cmap, vmin=vmin,vmax=vmax, robust=True, ax=ax, add_labels=False,add_colorbar=False)\n",
    "        axins1 = inset_axes(ax,width=\"50%\",height=\"5%\",loc=\"lower left\", borderpad=2)\n",
    "        norm = colors.Normalize(vmin=vmin, vmax=vmax)\n",
    "        cbar = plt.cm.ScalarMappable(norm=norm, cmap=cmap)\n",
    "        ax_cbar = fig.colorbar(cbar, ax=ax, cax=axins1, orientation='horizontal')\n",
    "        ax_cbar.ax.set_title(l, fontsize=8)\n",
    "    \n",
    "    ctx.add_basemap(ax, source=ctx.providers.CartoDB.VoyagerNoLabels, crs='EPSG:4326', attribution='', attribution_size=1)\n",
    "    ax.axes.get_xaxis().set_ticks([])\n",
    "    ax.axes.get_yaxis().set_ticks([])\n",
    "    ax.set_title(t, fontsize=9)\n",
    "    \n",
    "fig.savefig(f'/g/data/os22/chad_tmp/Aus_phenology/results/figs/IOC_parcorr.png',\n",
    "            bbox_inches='tight', dpi=300)"
   ]
  },
  {
   "cell_type": "code",
   "execution_count": null,
   "id": "7971369d-8c44-4064-bf5c-ff307563d5ef",
   "metadata": {},
   "outputs": [],
   "source": [
    "# val_or_time.odc.explore(\n",
    "#             tiles = 'https://server.arcgisonline.com/ArcGIS/rest/services/World_Imagery/MapServer/tile/{z}/{y}/{x}',\n",
    "#            attr = 'Esri',\n",
    "#            name = 'Esri Satellite',\n",
    "#     cmap=cmap1,\n",
    "# )"
   ]
  },
  {
   "cell_type": "markdown",
   "id": "cf6112e3-7fa9-4787-a801-aa305d801fa4",
   "metadata": {},
   "source": [
    "## Examples of disconnection between positive vPOS trends and IOC\n"
   ]
  },
  {
   "cell_type": "code",
   "execution_count": null,
   "id": "55b136c5-c696-4ba6-8bee-745bc5e4f783",
   "metadata": {},
   "outputs": [],
   "source": [
    "base = '/g/data/os22/chad_tmp/Aus_phenology/'\n",
    "ds_path = '/g/data/os22/chad_tmp/AusENDVI/results/publication/AusENDVI-clim_MCD43A4_gapfilled_1982_2022.nc'\n",
    "timeseries_file =f'{base}data/pickle/IBRA_subregions_climate.pkl'\n",
    "gdf = gpd.read_file('/g/data/os22/chad_tmp/Aus_phenology/data/vectors/IBRAv7_subregions_modified.geojson')\n",
    "phenometrics_file = f'{base}data/pickle/IBRA_subregions_AusENDVI-clim_MCD43A4_phenometrics_new.pkl'\n",
    "var='SUB_NAME_7'\n",
    "\n",
    "with open(phenometrics_file, 'rb') as f:\n",
    "    phenometrics = pickle.load(f)\n",
    "\n",
    "gdf = gdf[gdf[var].isin(list(phenometrics.keys()))]"
   ]
  },
  {
   "cell_type": "code",
   "execution_count": null,
   "id": "1925a821-4b4b-4722-970a-08f9e9740890",
   "metadata": {},
   "outputs": [],
   "source": [
    "# gdf.explore( tiles = 'https://server.arcgisonline.com/ArcGIS/rest/services/World_Imagery/MapServer/tile/{z}/{y}/{x}',\n",
    "#            attr = 'Esri',\n",
    "#            name = 'Esri Satellite',\n",
    "#            )"
   ]
  },
  {
   "cell_type": "code",
   "execution_count": null,
   "id": "9ff4e28b-2337-4bf7-9fff-6d245c208c85",
   "metadata": {},
   "outputs": [],
   "source": [
    "disconnected_from_vPOS = ['Daintree-Bloomfield', 'Warre',  'Otway Ranges', 'West'] #South East Coastal Ranges 'Dalmorto', Weipa Plateau Coffs Coast and Escarpment\n",
    "# disconnected_from_vPOS = ['Bogie River Hills', 'Daintree-Bloomfield', 'Weipa Plateau', 'Dalmorto', 'Otway Ranges', 'West'] \n",
    "connected_to_vPOS = ['Claraville Plains', 'Newcastle', 'Berkeley', 'Carlisle']\n",
    "\n",
    "gdf_dis = gdf[gdf['SUB_NAME_7'].isin(disconnected_from_vPOS)].reset_index(drop=True)"
   ]
  },
  {
   "cell_type": "code",
   "execution_count": null,
   "id": "f430e175-4be1-4018-9d2e-df902b405fbf",
   "metadata": {},
   "outputs": [],
   "source": [
    "fig,axes = plt.subplots(2,2, figsize=(8,5), sharex=True, layout='constrained')\n",
    "roll=5\n",
    "for region, ax in zip(connected_to_vPOS, axes.ravel()):\n",
    "    df = phenometrics[region]\n",
    "    vpos=((df.vPOS - df.vPOS.mean()) / df.vPOS.std())\n",
    "    vpos = vpos.rolling(roll).mean()\n",
    "    vpos.plot(ax=ax, label='vPOS')\n",
    "    los = ((df.LOS - df.LOS.mean()) / df.LOS.std())\n",
    "    los = los.rolling(roll).mean()\n",
    "    los.plot(ax=ax, label='LOS')\n",
    "    ios = ((df.IOC - df.IOC.mean()) / df.IOC.std())\n",
    "    ios = ios.rolling(roll).mean()\n",
    "    ios.plot(ax=ax, label='IOS', c='black', linestyle='--')\n",
    "    ax.grid(alpha=0.75)\n",
    "    ax.set_title(region)\n",
    "    ax.set_ylabel(None)\n",
    "    ax.set_xlabel(None)\n",
    "    ax.legend()\n",
    "    ax.set_xticks(ticks = range(0,40, 6), labels=range(1982,2022, 6));\n",
    "fig.supylabel('z-score');"
   ]
  },
  {
   "cell_type": "code",
   "execution_count": null,
   "id": "38a59283-bca2-44cd-b173-0e111902a2ac",
   "metadata": {},
   "outputs": [],
   "source": [
    "fig,axes = plt.subplots(2,2, figsize=(8,5), sharex=True,  layout='constrained')\n",
    "roll=5\n",
    "for region, ax in zip(disconnected_from_vPOS, axes.ravel()):\n",
    "    df = phenometrics[region]\n",
    "    # df = df.rolling(10).mean()\n",
    "    vpos=((df.vPOS - df.vPOS.mean()) / df.vPOS.std())\n",
    "    vpos = vpos.rolling(roll).mean()\n",
    "    vpos.plot(ax=ax, label='vPOS')\n",
    "    los = ((df.LOS - df.LOS.mean()) / df.LOS.std())\n",
    "    los = los.rolling(roll).mean()\n",
    "    los.plot(ax=ax, label='LOS')\n",
    "    ios = ((df.IOS - df.IOS.mean()) / df.IOS.std())\n",
    "    ios = ios.rolling(roll).mean()\n",
    "    ios.plot(ax=ax, label='IOS', c='black', linestyle='--')\n",
    "    ax.grid(alpha=0.75)\n",
    "    ax.set_title(region)\n",
    "    ax.set_ylabel(None)\n",
    "    ax.set_xlabel(None)\n",
    "    ax.legend()\n",
    "    ax.set_xticks(ticks = range(0,40, 6), labels=range(1982,2022, 6));\n",
    "fig.supylabel('z-score');"
   ]
  },
  {
   "cell_type": "code",
   "execution_count": null,
   "id": "43b0af10-c995-43e2-90c2-aa9267c9e169",
   "metadata": {},
   "outputs": [],
   "source": [
    "fig,ax = plt.subplots(1,1, figsize=(7,7))\n",
    "gdf_dis = gdf[gdf['SUB_NAME_7'].isin(disconnected_from_vPOS + connected_to_vPOS)].reset_index(drop=True)\n",
    "gdf.plot(column='SUB_NAME_7', ax=ax, legend=False, edgecolor=\"white\", linewidth=0.005,facecolor='none')\n",
    "gdf_dis.plot(column='SUB_NAME_7', ax=ax, legend=True, legend_kwds ={'ncols':2, 'loc':'lower left', 'fontsize':8})\n",
    "ctx.add_basemap(ax, source=ctx.providers.CartoDB.VoyagerNoLabels, crs='EPSG:4326', attribution='', attribution_size=1)\n",
    "ax.axes.get_xaxis().set_ticks([])\n",
    "ax.axes.get_yaxis().set_ticks([]);"
   ]
  },
  {
   "cell_type": "markdown",
   "id": "d42fe261-8049-4413-ac64-003b01b160f8",
   "metadata": {},
   "source": [
    "### Is this a trend for all high tree fraction regions?"
   ]
  },
  {
   "cell_type": "code",
   "execution_count": null,
   "id": "6b02b4a2-f933-4e5f-9218-5a8017fb41fc",
   "metadata": {},
   "outputs": [],
   "source": [
    "trees = xr.open_dataset('/g/data/os22/chad_tmp/AusENDVI/data/5km/trees_5km_monthly_1982_2022.nc')['trees']\n",
    "trees = trees.mean('time')\n",
    "tree_mask = xr.where(trees>=0.5, 1, 0)\n",
    "\n",
    "#and significant change in vPOS\n",
    "tree_mask = ((tree_mask) & (p_trends.vPOS_p_value <=0.05))"
   ]
  },
  {
   "cell_type": "code",
   "execution_count": null,
   "id": "cd956b7d-49a1-483b-b4f1-a281b7d18c24",
   "metadata": {},
   "outputs": [],
   "source": [
    "ds_path = '/g/data/os22/chad_tmp/Aus_phenology/data/NDVI/NDVI_smooth_AusENDVI-clim_MCD43A4.nc'\n",
    "ds = xr.open_dataarray(ds_path)\n",
    "ds = ds.where(tree_mask)\n",
    "ds = ds.mean(['latitude', 'longitude'])\n",
    "times_to_keep = ds.dropna(dim='time',how='any').time\n",
    "ds = ds.sel(time=times_to_keep)\n",
    "ds = ds.resample(time='1D').interpolate(kind='quadratic').astype('float32')"
   ]
  },
  {
   "cell_type": "code",
   "execution_count": null,
   "id": "8a6d5005-c394-4bd6-8cb4-1c9cf8a82dbb",
   "metadata": {},
   "outputs": [],
   "source": [
    "#run the phenometrics\n",
    "ds_phen= xr_phenometrics(ds.expand_dims(latitude=[-33], longitude = [125]),\n",
    "                  rolling=90,\n",
    "                  distance=90,\n",
    "                  prominence='auto',\n",
    "                  plateau_size=10,\n",
    "                  amplitude=0.20,\n",
    "                  soil_signal = 0.14\n",
    "                 ).compute()\n",
    "        "
   ]
  },
  {
   "cell_type": "code",
   "execution_count": null,
   "id": "0ec9cb2e-e644-4ca6-bf05-270eecdbdf4a",
   "metadata": {},
   "outputs": [],
   "source": [
    "layout = [\n",
    "    ['A','A' ,'B', 'B','B'],\n",
    "]\n",
    "\n",
    "fig, ax = plt.subplot_mosaic(layout, figsize=(15, 4))\n",
    "\n",
    "df = ds_phen.squeeze().to_dataframe()\n",
    "# df = df.rolling(5).mean()\n",
    "tree_mask.where(tree_mask==1).plot(ax=ax['A'], add_colorbar=False, add_labels=False)\n",
    "ctx.add_basemap(ax['A'], source=ctx.providers.CartoDB.VoyagerNoLabels, crs='EPSG:4326', attribution='', attribution_size=1)\n",
    "ax['A'].axes.get_xaxis().set_ticks([])\n",
    "ax['A'].axes.get_yaxis().set_ticks([])\n",
    "ax['A'].set_title('Tree fraction >= 0.5 & vPOS p-value < 0.05')\n",
    "\n",
    "roll=1\n",
    "vpos=((df.vPOS - df.vPOS.mean()) / df.vPOS.std())\n",
    "vpos = vpos.rolling(roll).mean()\n",
    "vpos.plot(ax=ax['B'], label='vPOS')\n",
    "los = ((df.LOS - df.LOS.mean()) / df.LOS.std())\n",
    "los = los.rolling(roll).mean()\n",
    "los.plot(ax=ax['B'], label='LOS')\n",
    "ios = ((df.IOC - df.IOC.mean()) / df.IOC.std())\n",
    "ios = ios.rolling(roll).mean()\n",
    "ios.plot(ax=ax['B'], label='IOS', c='black', linestyle='--')\n",
    "\n",
    "ax['B'].grid(alpha=0.75)\n",
    "ax['B'].set_xlabel(None)\n",
    "ax['B'].set_ylabel('z-score',fontsize=12)\n",
    "ax['B'].legend()\n",
    "ax['B'].set_xticks(ticks = range(0,40, 6), labels=range(1982,2022, 6));"
   ]
  },
  {
   "cell_type": "code",
   "execution_count": null,
   "id": "5970834e-101e-432b-809a-2c4d9c1bd6bf",
   "metadata": {},
   "outputs": [],
   "source": [
    "fig,ax = plt.subplots(1,1, figsize=(7,7))\n",
    "ios_most_important_var.where(p_trends.IOS_p_value <0.05).plot(cmap=cmap1, ax=ax, add_colorbar=False)\n",
    "ctx.add_basemap(ax, source=ctx.providers.CartoDB.VoyagerNoLabels, crs='EPSG:4326', attribution='', attribution_size=1)"
   ]
  },
  {
   "cell_type": "code",
   "execution_count": null,
   "id": "5dd51865-1d81-4f35-a211-05a56dcc5ef8",
   "metadata": {},
   "outputs": [],
   "source": []
  },
  {
   "cell_type": "code",
   "execution_count": null,
   "id": "d825bfce-846b-40b4-a383-bfe051392d23",
   "metadata": {},
   "outputs": [],
   "source": [
    "\n",
    "\n",
    "\n",
    "# gdf_dis.explore(col='SUB_NAME_7',\n",
    "#             tiles = 'https://server.arcgisonline.com/ArcGIS/rest/services/World_Imagery/MapServer/tile/{z}/{y}/{x}',\n",
    "#             attr = 'Esri',\n",
    "#             name = 'Esri Satellite',\n",
    "#            )"
   ]
  },
  {
   "cell_type": "code",
   "execution_count": null,
   "id": "ec2e63cb-ded6-483b-8cdd-213ea20f57c4",
   "metadata": {},
   "outputs": [],
   "source": []
  },
  {
   "cell_type": "code",
   "execution_count": null,
   "id": "6e10ebaa-fc93-4873-b55e-3a78b60e2d74",
   "metadata": {},
   "outputs": [],
   "source": []
  },
  {
   "cell_type": "markdown",
   "id": "acaaa4ee-ba6c-4ef4-807e-35882858b590",
   "metadata": {
    "jp-MarkdownHeadingCollapsed": true
   },
   "source": [
    "## IOS and vPOS*LOS"
   ]
  },
  {
   "cell_type": "code",
   "execution_count": null,
   "id": "c4de68f6-f099-4af1-ab4c-5dcec7eb334e",
   "metadata": {},
   "outputs": [],
   "source": [
    "median_corr = p_ios['pearson_r_IOC_vs_LOS*vPOS'].median()"
   ]
  },
  {
   "cell_type": "code",
   "execution_count": null,
   "id": "7be3e462-dbe1-42ec-bd70-9e4ecbbab552",
   "metadata": {},
   "outputs": [],
   "source": [
    "vars=['IOC', 'LOS*vPOS','IOC:(LOS*vPOS)', 'pearson_r_IOC_vs_LOS*vPOS']\n",
    "\n",
    "fig,axes=plt.subplots(2,2,figsize=(10,7), layout='constrained', sharey=True)\n",
    "\n",
    "for v,ax in zip(vars, axes.ravel()):\n",
    "    if v=='IOC:(LOS*vPOS)':\n",
    "        cmap='cividis'\n",
    "        vmin=0.5\n",
    "        vmax=1\n",
    "        t=v\n",
    "        l='ratio'\n",
    "\n",
    "    if any(v in s for s in ['IOC','LOS*vPOS']):\n",
    "        cmap='inferno'\n",
    "        vmin=0\n",
    "        vmax=200\n",
    "        t = v\n",
    "        l='NDVI\\nyr⁻¹'\n",
    "    \n",
    "    if v == 'pearson_r_IOC_vs_LOS*vPOS':\n",
    "        cmap='viridis'\n",
    "        vmin=0.5\n",
    "        vmax=1\n",
    "        t=f'Correlation IOC & vPOS*LOS, median = {median_corr.values.item():.2f}'\n",
    "        l='Pearson\\nR'\n",
    "\n",
    "    if v == 'pearson_r_IOC_vs_LOS*vPOS':\n",
    "        im=p_ios[v].plot(cmap=cmap, vmin=vmin,vmax=vmax, robust=True, ax=ax, add_labels=False,add_colorbar=False)\n",
    "    \n",
    "    else:\n",
    "        im=p_average[v].plot(cmap=cmap, vmin=vmin,vmax=vmax, robust=True, ax=ax, add_labels=False,add_colorbar=False)\n",
    "    \n",
    "    ctx.add_basemap(ax, source=ctx.providers.CartoDB.VoyagerNoLabels, crs='EPSG:4326', attribution='', attribution_size=1)\n",
    "    ax.axes.get_xaxis().set_ticks([])\n",
    "    ax.axes.get_yaxis().set_ticks([])\n",
    "    ax.set_title(t, fontsize=12)\n",
    "    norm = colors.Normalize(vmin=vmin, vmax=vmax)\n",
    "    cbar = plt.cm.ScalarMappable(norm=norm, cmap=cmap)\n",
    "    ax_cbar = fig.colorbar(cbar, ax=ax, shrink=0.7)\n",
    "    ax_cbar.ax.set_title(l, fontsize=8)\n",
    "    \n",
    "# fig.savefig(f'/g/data/os22/chad_tmp/Aus_phenology/results/figs/IOS_LOSvPOS_ratio.png',\n",
    "#             bbox_inches='tight', dpi=300)"
   ]
  },
  {
   "cell_type": "code",
   "execution_count": null,
   "id": "d8e48200-82cb-4bc2-bf89-7f4da33a7119",
   "metadata": {},
   "outputs": [],
   "source": []
  },
  {
   "cell_type": "code",
   "execution_count": null,
   "id": "3fc43cef-adea-4555-acc6-bc102a172bbe",
   "metadata": {},
   "outputs": [],
   "source": []
  },
  {
   "cell_type": "code",
   "execution_count": null,
   "id": "a19526c7-a779-4e11-8ca5-67c4d604aa1f",
   "metadata": {},
   "outputs": [],
   "source": []
  },
  {
   "cell_type": "code",
   "execution_count": null,
   "id": "d2e87cff-3f6e-4b6d-a66c-2d0daa794819",
   "metadata": {},
   "outputs": [],
   "source": []
  },
  {
   "cell_type": "code",
   "execution_count": null,
   "id": "31832a8f-0311-4387-8424-cddd1410695a",
   "metadata": {},
   "outputs": [],
   "source": [
    "# region='Wilto'\n",
    "\n",
    "# for index, row in gdf.iterrows():\n",
    "#     if row[var] == region:\n",
    "#         df = phenometrics[row[var]]\n",
    "#         # df = df.rolling(5).mean()\n",
    "\n",
    "# fig,ax = plt.subplots(1,1, figsize=(7,4), sharex=True)\n",
    "# ((df.vPOS - df.vPOS.mean()) / df.vPOS.std()).plot(ax=ax, label='vPOS')\n",
    "# ((df.LOS - df.LOS.mean()) / df.LOS.std()).plot(ax=ax, label='LOS')\n",
    "# ((df.IOS - df.IOS.mean()) / df.IOS.std()).plot(ax=ax, label='IOS', c='black', linestyle='--')\n",
    "# ax.grid(alpha=0.75)\n",
    "# ax.set_title(region)\n",
    "# ax.legend()\n",
    "# ax.set_ylabel('z-score')\n",
    "# ax.set_xticks(ticks = range(0,40, 6), labels=range(1982,2022, 6));\n",
    "# # ax.set_ylim(-2,2)\n"
   ]
  },
  {
   "cell_type": "code",
   "execution_count": null,
   "id": "0b821df2-026b-4904-88d6-2a350333be90",
   "metadata": {},
   "outputs": [],
   "source": []
  },
  {
   "cell_type": "code",
   "execution_count": null,
   "id": "c567aff8-7dcf-4adb-b25b-71c55deb42e7",
   "metadata": {},
   "outputs": [],
   "source": []
  },
  {
   "cell_type": "code",
   "execution_count": null,
   "id": "19de1f5d-0d75-4c71-9ce2-2bbd066555b3",
   "metadata": {},
   "outputs": [],
   "source": []
  },
  {
   "cell_type": "code",
   "execution_count": null,
   "id": "a1e61a40-aa0f-4ecd-9989-29c1db5822ea",
   "metadata": {},
   "outputs": [],
   "source": []
  }
 ],
 "metadata": {
  "kernelspec": {
   "display_name": "Python 3 (ipykernel)",
   "language": "python",
   "name": "python3"
  },
  "language_info": {
   "codemirror_mode": {
    "name": "ipython",
    "version": 3
   },
   "file_extension": ".py",
   "mimetype": "text/x-python",
   "name": "python",
   "nbconvert_exporter": "python",
   "pygments_lexer": "ipython3",
   "version": "3.10.0"
  }
 },
 "nbformat": 4,
 "nbformat_minor": 5
}
