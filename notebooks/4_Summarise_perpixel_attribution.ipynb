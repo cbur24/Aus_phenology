{
 "cells": [
  {
   "cell_type": "markdown",
   "id": "d7b43d99-d698-40b4-a6cb-1e205a6cc0d7",
   "metadata": {},
   "source": [
    "# Summarise the attribution analysis\n",
    "\n",
    "In this notebook we generate a number of plots demonstrating the statistical attribution of phenology trends"
   ]
  },
  {
   "cell_type": "code",
   "execution_count": 1,
   "id": "d70a23e7-5a01-4839-a9c2-f02880a81e7a",
   "metadata": {
    "tags": []
   },
   "outputs": [
    {
     "name": "stderr",
     "output_type": "stream",
     "text": [
      "/g/data/os22/chad_tmp/AusENDVI/env/py310/lib/python3.10/site-packages/dask/config.py:779: FutureWarning: Dask configuration key 'ucx' has been deprecated; please use 'distributed.comm.ucx' instead\n",
      "  warnings.warn(\n",
      "/g/data/os22/chad_tmp/AusENDVI/env/py310/lib/python3.10/site-packages/dask/config.py:779: FutureWarning: Dask configuration key 'distributed.scheduler.transition-log-length' has been deprecated; please use 'distributed.admin.low-level-log-length' instead\n",
      "  warnings.warn(\n",
      "/g/data/os22/chad_tmp/AusENDVI/env/py310/lib/python3.10/site-packages/dask/config.py:779: FutureWarning: Dask configuration key 'distributed.comm.recent-messages-log-length' has been deprecated; please use 'distributed.admin.low-level-log-length' instead\n",
      "  warnings.warn(\n"
     ]
    }
   ],
   "source": [
    "import os\n",
    "import sys\n",
    "import xvec\n",
    "import pickle\n",
    "import scipy\n",
    "import textwrap\n",
    "import warnings\n",
    "import numpy as np\n",
    "import xarray as xr\n",
    "import pandas as pd\n",
    "import seaborn as sb\n",
    "from scipy import stats\n",
    "import geopandas as gpd\n",
    "import contextily as ctx\n",
    "import matplotlib.pyplot as plt\n",
    "from odc.geo.xr import assign_crs\n",
    "import matplotlib.colors as colors\n",
    "import matplotlib.ticker as ticker\n",
    "from scipy.stats import gaussian_kde\n",
    "from scipy.interpolate import griddata\n",
    "import distinctipy\n",
    "from matplotlib.colors import LinearSegmentedColormap\n",
    "from mpl_toolkits.axes_grid1.inset_locator import inset_axes\n",
    "\n",
    "sys.path.append('/g/data/os22/chad_tmp/AusEFlux/src/')\n",
    "from _prediction import allNaN_arg\n",
    "from _utils import round_coords\n",
    "\n",
    "%matplotlib inline"
   ]
  },
  {
   "cell_type": "markdown",
   "id": "2c57f0af-0b7e-40b7-9713-a3d5a79447a3",
   "metadata": {},
   "source": [
    "## Open data\n"
   ]
  },
  {
   "cell_type": "code",
   "execution_count": 2,
   "id": "8868cf16-ff5a-44d6-9e0c-95691e3b2f6a",
   "metadata": {},
   "outputs": [],
   "source": [
    "#phenology data\n",
    "p_attribution = assign_crs(xr.open_dataset('/g/data/os22/chad_tmp/Aus_phenology/results/attribution_vPOS_perpixel.nc'), crs='EPSG:4326')\n",
    "p_parcorr = assign_crs(xr.open_dataset('/g/data/os22/chad_tmp/Aus_phenology/results/parcorr_phenology_perpixel.nc'), crs='EPSG:4326')\n",
    "p_trends = assign_crs(xr.open_dataset('/g/data/os22/chad_tmp/Aus_phenology/results/trends_phenology_perpixel.nc'), crs='EPSG:4326')\n",
    "\n",
    "# cropping for masking\n",
    "crops = xr.open_dataset('/g/data/os22/chad_tmp/Aus_phenology/data/croplands_5km.nc')['croplands']\n",
    "crops = xr.where(crops==3, 0, 1) #rainfed crops\n",
    "crops = round_coords(crops)\n",
    "\n",
    "# some other enviro datasets for plots\n",
    "wcf = xr.open_dataarray('/g/data/os22/chad_tmp/AusENDVI/data/5km/WCF_5km_monthly_1982_2022.nc')\n",
    "wcf = wcf.mean('time')\n",
    "vegh = xr.open_dataset('/g/data/os22/chad_tmp/AusENDVI/data/5km/VegH_5km_monthly_1982_2022.nc')['VegH']\n",
    "vegh = vegh.mean('time')\n",
    "\n",
    "#moisture index\n",
    "mi = xr.open_dataarray('/g/data/os22/chad_tmp/Aus_phenology/data/MI_1982_2022.nc')\n",
    "mi = mi.mean('time')\n",
    "mi = assign_crs(mi, crs='EPSG:4326')\n",
    "mi = mi.rename('P:PET')\n",
    "mi = xr.where(mi>5, np.nan, mi) #remove extreme values\n",
    "\n",
    "#IBRA subregions data if summarise across the regions (mostly superceeded)\n",
    "ecoregions_file = '/g/data/os22/chad_tmp/Aus_phenology/data/vectors/IBRAv7_subregions_modified.geojson'\n",
    "gdf = gpd.read_file(ecoregions_file)"
   ]
  },
  {
   "cell_type": "markdown",
   "id": "1ed02474-deb8-4f72-83a7-de8c02a90f40",
   "metadata": {},
   "source": [
    "## Mask significance and cropping"
   ]
  },
  {
   "cell_type": "code",
   "execution_count": null,
   "id": "c484d32f-ccd0-47b4-95cd-111bb8cfd907",
   "metadata": {},
   "outputs": [],
   "source": [
    "p_attribution = p_attribution.where(crops)\n",
    "p_parcorr = p_parcorr.where(crops)\n",
    "p_trends = p_trends.where(crops)\n",
    "\n",
    "sig_mask = xr.where(p_trends.vPOS_p_value<=0.05, 1, 0)\n",
    "\n",
    "vPOS_trends = p_trends.vPOS_slope.where(sig_mask)\n",
    "\n",
    "p_attribution = p_attribution.where(sig_mask)"
   ]
  },
  {
   "cell_type": "markdown",
   "id": "a42b09aa-51b3-4aa1-9eec-d037449869a2",
   "metadata": {},
   "source": [
    "## Summary plots"
   ]
  },
  {
   "cell_type": "markdown",
   "id": "3046747a-d9d1-4961-a25f-847b0da250b6",
   "metadata": {},
   "source": [
    "### Climate atttribution for vPOS trends"
   ]
  },
  {
   "cell_type": "code",
   "execution_count": null,
   "id": "b18341a9-bebe-40ce-b934-4f06563dca50",
   "metadata": {},
   "outputs": [],
   "source": [
    "clim_most_important_var = allNaN_arg(np.abs(p_attribution.PLS_coefficent), dim='feature',stat='max', idx=False)"
   ]
  },
  {
   "cell_type": "code",
   "execution_count": null,
   "id": "9de1d413-b5df-4641-baec-be5cf0532016",
   "metadata": {},
   "outputs": [],
   "source": [
    "fig,axes=plt.subplots(1,5,figsize=(18,6), layout='constrained')\n",
    "\n",
    "vmin,vmax=-0.03,0.03\n",
    "for v,ax in zip(p_attribution.feature.values,axes.ravel()):\n",
    "    p_attribution.sel(feature=v).PLS_coefficent.plot(add_labels=False,ax=ax,vmin=vmin,vmax=vmax,cmap='RdBu', add_colorbar=False)\n",
    "    ctx.add_basemap(ax, source=ctx.providers.CartoDB.VoyagerNoLabels, crs='EPSG:4326', attribution='', attribution_size=1)\n",
    "    ax.axes.get_xaxis().set_ticks([])\n",
    "    ax.axes.get_yaxis().set_ticks([])\n",
    "    ax.set_title(v)\n",
    "\n",
    "norm = colors.Normalize(vmin=vmin, vmax=vmax)\n",
    "cbar = plt.cm.ScalarMappable(norm=norm, cmap='RdBu')\n",
    "ax_cbar = fig.colorbar(cbar, ax=ax, shrink=0.4)\n",
    "ax_cbar.ax.set_title('corr', fontsize=10);"
   ]
  },
  {
   "cell_type": "markdown",
   "id": "cfd3b880-6d61-458c-b21b-a797c821a29f",
   "metadata": {},
   "source": [
    "#### plot"
   ]
  },
  {
   "cell_type": "code",
   "execution_count": null,
   "id": "dfca96ce-781e-4387-9dcf-f38586819d95",
   "metadata": {},
   "outputs": [],
   "source": [
    "fig,ax=plt.subplots(1,2,figsize=(12,6), layout='constrained', sharey=True)\n",
    "\n",
    "categories = list(p_attribution.feature.values)\n",
    "colours = distinctipy.get_colors(len(categories), pastel_factor=0.5, rng=2)\n",
    "cmap = LinearSegmentedColormap.from_list(\"cwc\", colours, N=len(categories))\n",
    "\n",
    "im = clim_most_important_var.plot(add_colorbar=False,ax=ax[0], add_labels=False, cmap=cmap)\n",
    "ctx.add_basemap(ax[0], source=ctx.providers.CartoDB.VoyagerNoLabels, crs='EPSG:4326', attribution='', attribution_size=1)\n",
    "ax[0].axes.get_xaxis().set_ticks([])\n",
    "ax[0].axes.get_yaxis().set_ticks([])\n",
    "\n",
    "axins1 = inset_axes(ax[0],width=\"55%\",height=\"5%\",loc=\"lower left\", borderpad=2)\n",
    "cbar = fig.colorbar(im, cax=axins1, ticks=[0.4,1.2,2,2.8, 3.65],orientation='horizontal')\n",
    "cbar.ax.set_xticklabels(categories)\n",
    "\n",
    "im1 = vPOS_trends.plot(ax=ax[1], cmap='BrBG', add_colorbar=False, add_labels=False, vmin=-0.002, vmax=0.002)\n",
    "ctx.add_basemap(ax[1], source=ctx.providers.CartoDB.VoyagerNoLabels, crs='EPSG:4326', attribution='', attribution_size=1)\n",
    "\n",
    "axins1 = inset_axes(ax[1],width=\"55%\",height=\"5%\",loc=\"lower left\", borderpad=2)\n",
    "cbar = fig.colorbar(im1, cax=axins1, orientation='horizontal')\n",
    "cbar.ax.set_title('NDVI/year', fontsize=8)\n",
    "ax[1].axes.get_xaxis().set_ticks([])\n",
    "ax[1].axes.get_yaxis().set_ticks([]);\n",
    "\n",
    "ax[0].set_title('Attribution of trends in vPOS, (PLS regression)')\n",
    "ax[1].set_title('Significant trends in vPOS');\n",
    "fig.savefig(f'/g/data/os22/chad_tmp/Aus_phenology/results/figs/attribution_vPOS_AusENDVI.png',\n",
    "            bbox_inches='tight', dpi=300)"
   ]
  },
  {
   "cell_type": "markdown",
   "id": "68157abd-0bfb-430f-83a3-61a4de1332d8",
   "metadata": {},
   "source": [
    "## Relationship between environmental gradients and CO2 sensitivity"
   ]
  },
  {
   "cell_type": "markdown",
   "id": "cb8749f8-1f3c-4918-a9a9-97b3b09acf4b",
   "metadata": {},
   "source": [
    "### CO2 sensitivity"
   ]
  },
  {
   "cell_type": "code",
   "execution_count": null,
   "id": "3071b509-9d73-4aaf-8d73-eb1a5324e48f",
   "metadata": {},
   "outputs": [],
   "source": [
    "# p_attribution = assign_crs(xr.open_dataset('/g/data/os22/chad_tmp/Aus_phenology/results/attribution_vPOS_perpixel.nc'), crs='EPSG:4326')\n",
    "# p_attribution = p_attribution.where(crops)"
   ]
  },
  {
   "cell_type": "code",
   "execution_count": null,
   "id": "ad707afe-cca5-40c3-a715-55aaffdc16cd",
   "metadata": {},
   "outputs": [],
   "source": [
    "co2 = p_attribution.sel(feature='co2').PLS_coefficent.where(p_attribution.sel(feature='co2').PLS_coefficent>0).drop_vars('feature')\n",
    "co2_df = co2.to_dataframe().reset_index(drop=True).drop(['spatial_ref'],axis=1)\n",
    "\n",
    "co2_df['P:PET'] = mi.where(~np.isnan(co2)).to_dataframe().reset_index(drop=True).drop(['spatial_ref'],axis=1)\n",
    "co2_df['WCF'] = wcf.where(~np.isnan(co2)).to_dataframe().reset_index(drop=True).drop(['spatial_ref'],axis=1)\n",
    "co2_df['VegH'] = vegh.where(~np.isnan(co2)).to_dataframe().reset_index(drop=True).drop(['spatial_ref'],axis=1)\n",
    "\n",
    "co2_df = co2_df.dropna()"
   ]
  },
  {
   "cell_type": "code",
   "execution_count": null,
   "id": "c34e895b-c143-4852-b4f8-961d2add3fac",
   "metadata": {},
   "outputs": [],
   "source": [
    "vars = ['P:PET', 'WCF', 'VegH']\n",
    "fig,axes=plt.subplots(1,3, figsize=(12,4),  layout='constrained', sharey=True)\n",
    "\n",
    "for v,ax in zip(vars, axes.ravel()): \n",
    "    obs,pred = co2_df[v].values, co2_df['PLS_coefficent'].values\n",
    "    mask = ~np.isnan(obs) & ~np.isnan(pred)\n",
    "    sl, i, r, p, s = stats.linregress(obs[mask],pred[mask])\n",
    "    r2 = r**2\n",
    "    \n",
    "    xy = np.vstack([obs[mask],pred[mask]])\n",
    "    z = gaussian_kde(xy)(xy)\n",
    "    \n",
    "    sb.scatterplot(data=co2_df, x=v,y='PLS_coefficent', alpha=0.5, ax=ax, c=z, cmap='magma')\n",
    "    sb.regplot(data=co2_df, x=v,y='PLS_coefficent',  scatter=False,\n",
    "               line_kws={'linewidth':1}, color='blue', ax=ax, robust=True)\n",
    "    # ax.set_ylim(0, 0.08)\n",
    "    # ax.set_title()\n",
    "    ax.grid()\n",
    "    ax.set_ylabel('CO2 coefficient, vPOS', fontsize=14)\n",
    "    ax.set_xlabel(v, fontsize=14)\n",
    "    ax.text(.70, .90, 'r\\N{SUPERSCRIPT TWO}={:.2f}'.format(r2),\n",
    "            transform=ax.transAxes, fontsize=12)\n",
    "    ax.text(.70, .825, 'p={:.3f}'.format(p), transform=ax.transAxes, fontsize=12);\n",
    "fig.savefig(f'/g/data/os22/chad_tmp/Aus_phenology/results/figs/CO2_sensitivity_vPOS_AusENDVI.png',\n",
    "            bbox_inches='tight', dpi=300)"
   ]
  },
  {
   "cell_type": "markdown",
   "id": "c9ad82f3-41cb-487a-a826-6bc8f68cc7bb",
   "metadata": {},
   "source": [
    "### vPOS Trends across same gradients"
   ]
  },
  {
   "cell_type": "code",
   "execution_count": null,
   "id": "9855bcb4-785a-4d2c-a505-d5823123b01b",
   "metadata": {},
   "outputs": [],
   "source": [
    "vPOS_df = vPOS_trends.to_dataframe().reset_index(drop=True).drop(['spatial_ref'],axis=1)\n",
    "\n",
    "vPOS_df['P:PET'] = mi.where(~np.isnan(vPOS_trends)).to_dataframe().reset_index(drop=True).drop(['spatial_ref'],axis=1)\n",
    "vPOS_df['WCF'] = wcf.where(~np.isnan(vPOS_trends)).to_dataframe().reset_index(drop=True).drop(['spatial_ref'],axis=1)\n",
    "vPOS_df['VegH'] = vegh.where(~np.isnan(vPOS_trends)).to_dataframe().reset_index(drop=True).drop(['spatial_ref'],axis=1)\n",
    "\n",
    "vPOS_df = vPOS_df.dropna()"
   ]
  },
  {
   "cell_type": "code",
   "execution_count": null,
   "id": "1d545cea-7e30-4e52-a1dc-cba59901514c",
   "metadata": {},
   "outputs": [],
   "source": [
    "vars = ['P:PET', 'WCF', 'VegH']\n",
    "fig,axes=plt.subplots(1,3, figsize=(12,4),  layout='constrained', sharey=True)\n",
    "\n",
    "for v,ax in zip(vars, axes.ravel()): \n",
    "    obs,pred = vPOS_df[v].values, vPOS_df['vPOS_slope'].values\n",
    "    mask = ~np.isnan(obs) & ~np.isnan(pred)\n",
    "    sl, i, r, p, s = stats.linregress(obs[mask],pred[mask])\n",
    "    r2 = r**2\n",
    "    \n",
    "    xy = np.vstack([obs[mask],pred[mask]])\n",
    "    z = gaussian_kde(xy)(xy)\n",
    "    \n",
    "    sb.scatterplot(data=vPOS_df, x=v,y='vPOS_slope', alpha=0.5, ax=ax, c=z, cmap='magma')\n",
    "    sb.regplot(data=vPOS_df, x=v,y='vPOS_slope',  scatter=False,\n",
    "               line_kws={'linewidth':1}, color='blue', ax=ax, robust=True)\n",
    "    # ax.set_ylim(0, 0.08)\n",
    "    # ax.set_title()\n",
    "    ax.grid()\n",
    "    ax.set_ylabel('vPOS slope (NDVI/year)', fontsize=14)\n",
    "    ax.set_xlabel(v, fontsize=14)\n",
    "    # ax.axhline(0, color='grey', linestyle='--')\n",
    "    ax.text(.70, .90, 'r\\N{SUPERSCRIPT TWO}={:.2f}'.format(r2),\n",
    "            transform=ax.transAxes, fontsize=12)\n",
    "    ax.text(.70, .825, 'p={:.3f}'.format(p), transform=ax.transAxes, fontsize=12);\n",
    "fig.savefig(f'/g/data/os22/chad_tmp/Aus_phenology/results/figs/vPOS_slope_enviro_gradients_AusENDVI.png',\n",
    "            bbox_inches='tight', dpi=300)"
   ]
  },
  {
   "cell_type": "markdown",
   "id": "d1645f33-8a85-4d00-9e65-3559880ea0e1",
   "metadata": {},
   "source": [
    "### Plot with binning"
   ]
  },
  {
   "cell_type": "code",
   "execution_count": null,
   "id": "dbddd088-1712-45d8-be9d-29ee0308d059",
   "metadata": {},
   "outputs": [],
   "source": [
    "trees = xr.open_dataset('/g/data/os22/chad_tmp/AusENDVI/data/5km/trees_5km_monthly_1982_2022.nc')['trees']\n",
    "trees = trees.mean('time')\n",
    "\n",
    "grass = xr.open_dataset('/g/data/os22/chad_tmp/AusENDVI/data/5km/grass_5km_monthly_1982_2022.nc')['grass']\n",
    "grass = grass.mean('time')"
   ]
  },
  {
   "cell_type": "code",
   "execution_count": null,
   "id": "69d21584-3d9f-477a-b87d-f3aea7ca7f2b",
   "metadata": {},
   "outputs": [],
   "source": [
    "co2 = p_attribution.sel(feature='co2').PLS_coefficent.where(p_attribution.sel(feature='co2').PLS_coefficent>0).drop_vars('feature')\n",
    "co2_df = co2.to_dataframe().reset_index(drop=True).drop(['spatial_ref'],axis=1)\n",
    "\n",
    "co2_df['P:PET'] = mi.where(~np.isnan(co2)).to_dataframe().reset_index(drop=True).drop(['spatial_ref'],axis=1)\n",
    "co2_df['trees'] = trees.where(~np.isnan(co2)).to_dataframe().reset_index(drop=True).drop(['spatial_ref'],axis=1)\n",
    "co2_df['grass'] = grass.where(~np.isnan(co2)).to_dataframe().reset_index(drop=True).drop(['spatial_ref'],axis=1)\n",
    "\n",
    "co2_df = co2_df.dropna()"
   ]
  },
  {
   "cell_type": "code",
   "execution_count": null,
   "id": "9e9cb232-dc74-40cd-9844-1efe2ad09f8c",
   "metadata": {},
   "outputs": [],
   "source": [
    "vars = ['P:PET', 'trees', 'grass']\n",
    "bins = [\n",
    "    np.arange(0,4.25, 0.25),\n",
    "    np.arange(0,1, 0.1),\n",
    "    np.arange(0,1, 0.1)\n",
    "]\n",
    "fig,axes=plt.subplots(1,3, figsize=(12,4),  layout='constrained', sharey=True)\n",
    "\n",
    "for v,b,ax in zip(vars,bins, axes.ravel()): \n",
    "    # bins=[0,0.1,0.2,0.3,0.4,0.5,0.6,0.7,0.8,0.9]\n",
    "    bins = pd.cut(co2_df[v], bins=b, right=False)\n",
    "    grouped = co2_df.groupby(bins)['PLS_coefficent'].mean()\n",
    "\n",
    "    grouped.plot(kind='bar', color='skyblue', edgecolor='black', ax=ax)\n",
    "    \n",
    "    # Add labels and title\n",
    "    ax.set_xlabel(v)\n",
    "\n",
    "    ax.set_ylabel('Mean CO2 PLS regression coefficient');"
   ]
  },
  {
   "cell_type": "markdown",
   "id": "491e30a1-7d20-45d1-9df6-b70bf0289216",
   "metadata": {},
   "source": [
    "## Partial correlations with IOS trends"
   ]
  },
  {
   "cell_type": "code",
   "execution_count": null,
   "id": "50cc3a9f-6665-4e2c-b38d-ee9f9d04c0c9",
   "metadata": {},
   "outputs": [],
   "source": [
    "categories = list(p_parcorr.data_vars)\n",
    "colours = distinctipy.get_colors(len(categories), pastel_factor=0.5, rng=2)\n",
    "cmap = LinearSegmentedColormap.from_list(\"cwc\", colours, N=len(categories))\n",
    "\n",
    "categories1 = ['values', 'timing']\n",
    "colours1 = distinctipy.get_colors(len(categories1), pastel_factor=0.5, rng=2)\n",
    "cmap1 = LinearSegmentedColormap.from_list(\"cwc\", colours1, N=len(categories1))\n",
    "\n",
    "ios_most_important_var = allNaN_arg(p_parcorr.to_array(), dim='variable',stat='max', idx=False)\n",
    "values_or_timing = xr.where(ios_most_important_var.isin([0,1,2]), 1, 2)"
   ]
  },
  {
   "cell_type": "code",
   "execution_count": null,
   "id": "49f2d041-5d58-40dd-983c-c592136ab3ee",
   "metadata": {
    "scrolled": true
   },
   "outputs": [],
   "source": [
    "fig,ax=plt.subplots(1,2,figsize=(12,6), layout='constrained')\n",
    "im = ios_most_important_var.plot(ax=ax[0], add_colorbar=False, add_labels=False, cmap=cmap)\n",
    "ctx.add_basemap(ax[0], source=ctx.providers.CartoDB.VoyagerNoLabels, crs='EPSG:4326', attribution='', attribution_size=1)\n",
    "ax[0].set_yticklabels([])\n",
    "ax[0].set_xticklabels([])\n",
    "ax[0].set_title('Phenometric with highest partial correlation with IOS trends');\n",
    "\n",
    "axins1 = inset_axes(ax[0],width=\"65%\",height=\"5%\",loc=\"lower left\", borderpad=2)\n",
    "cbar = fig.colorbar(im,cax=axins1, ticks=[0.45,1.25,2.15,3,3.85,4.75,5.65,6.5],orientation='horizontal')\n",
    "cbar.ax.set_xticklabels(list(p_parcorr.data_vars));\n",
    "\n",
    "im = values_or_timing.where(~np.isnan(ios_most_important_var)).plot(ax=ax[1], add_colorbar=False, add_labels=False, cmap=cmap1)\n",
    "ctx.add_basemap(ax[1], source=ctx.providers.CartoDB.VoyagerNoLabels, crs='EPSG:4326', attribution='', attribution_size=1)\n",
    "ax[1].set_yticklabels([])\n",
    "ax[1].set_xticklabels([])\n",
    "ax[1].set_title('Values or timing');\n",
    "\n",
    "axins1 = inset_axes(ax[1],width=\"45%\",height=\"5%\",loc=\"lower left\", borderpad=2)\n",
    "cbar = fig.colorbar(im, cax=axins1, ticks=[1.25,1.75],orientation='horizontal')\n",
    "cbar.ax.set_xticklabels(['values', 'timing']);\n",
    "\n",
    "fig.savefig(f'/g/data/os22/chad_tmp/Aus_phenology/results/figs/parcorr_perpixel_AusENDVI.png',\n",
    "            bbox_inches='tight', dpi=300)"
   ]
  },
  {
   "cell_type": "code",
   "execution_count": null,
   "id": "a8842e19-2779-45ce-999e-796e79db9a0c",
   "metadata": {},
   "outputs": [],
   "source": []
  },
  {
   "cell_type": "code",
   "execution_count": null,
   "id": "2a6d61ca-ee32-49b2-8ac1-497b48b4c804",
   "metadata": {},
   "outputs": [],
   "source": []
  },
  {
   "cell_type": "code",
   "execution_count": null,
   "id": "99b67ebe-4554-49b2-a52e-4f6c7a10c7ec",
   "metadata": {},
   "outputs": [],
   "source": []
  },
  {
   "cell_type": "code",
   "execution_count": null,
   "id": "665b2eb6-6f86-416e-ad35-e2420ad5c2e0",
   "metadata": {},
   "outputs": [],
   "source": []
  },
  {
   "cell_type": "code",
   "execution_count": null,
   "id": "31589c51-6c43-40de-bce8-4d8ccd96aa75",
   "metadata": {},
   "outputs": [],
   "source": [
    "#### Summarise over IBRA regions\n",
    "\n",
    "# Using the mode statistics\n",
    "# clim_most_important_var.name='PLS_coefficent_max'\n",
    "# clim_most_important_var_gdf = clim_most_important_var.drop_vars('spatial_ref').xvec.zonal_stats(\n",
    "#     gdf.geometry, x_coords=\"longitude\", y_coords=\"latitude\",\n",
    "#     stats=[\n",
    "#         (\"mode\", scipy.stats.mode, {'nan_policy':'omit'}),\n",
    "#         # ('count', np.unique, {'return_counts':True, 'equal_nan':True})\n",
    "#           ]\n",
    "# ).xvec.to_geodataframe()\n",
    "\n",
    "# clim_most_important_var_gdf = clim_most_important_var_gdf.dropna()\n",
    "# clim_most_important_var_gdf['mode'] = [i[0] for i in clim_most_important_var_gdf['PLS_coefficent_max']]\n",
    "# clim_most_important_var_gdf['count'] = [i[1] for i in clim_most_important_var_gdf['PLS_coefficent_max']]\n",
    "# clim_most_important_var_gdf = clim_most_important_var_gdf[clim_most_important_var_gdf['count'] >75]"
   ]
  },
  {
   "cell_type": "code",
   "execution_count": null,
   "id": "5241281d-d4f1-4894-b8d7-d03c10c4d8b8",
   "metadata": {},
   "outputs": [],
   "source": [
    "# ios_most_important_var.name='IOS_most_important_var'\n",
    "# ios_most_important_var_gdf = ios_most_important_var.drop_vars('spatial_ref').xvec.zonal_stats(\n",
    "#     gdf.geometry, x_coords=\"longitude\", y_coords=\"latitude\", stats=[(\"mode\", scipy.stats.mode, {'nan_policy':'omit'})]\n",
    "# ).xvec.to_geodataframe()\n",
    "\n",
    "# ios_most_important_var_gdf = ios_most_important_var_gdf.dropna()\n",
    "# ios_most_important_var_gdf['IOS_most_important_var'] = [i[0] for i in ios_most_important_var_gdf['IOS_most_important_var']]\n",
    "\n",
    "# values_or_timing.name='values_or_timing'\n",
    "# values_or_timing_gdf = values_or_timing.drop_vars('spatial_ref').xvec.zonal_stats(\n",
    "#     gdf.geometry, x_coords=\"longitude\", y_coords=\"latitude\", stats=[(\"mode\", scipy.stats.mode, {'nan_policy':'omit'})]\n",
    "# ).xvec.to_geodataframe()\n",
    "\n",
    "# values_or_timing_gdf = values_or_timing_gdf.dropna()\n",
    "# values_or_timing_gdf['values_or_timing'] = [i[0] for i in values_or_timing_gdf['values_or_timing']]"
   ]
  },
  {
   "cell_type": "code",
   "execution_count": null,
   "id": "2ad9b95f-848b-4cee-b29b-4ea290766fe0",
   "metadata": {},
   "outputs": [],
   "source": [
    "# fig,ax=plt.subplots(1,2,figsize=(12,6), layout='constrained', sharey=True)\n",
    "# im = ios_most_important_var_gdf.plot(column='IOS_most_important_var', ax=ax[0], legend=False, cmap=cmap)\n",
    "# ctx.add_basemap(ax[0], source=ctx.providers.CartoDB.VoyagerNoLabels, crs='EPSG:4326', attribution='', attribution_size=1)\n",
    "# ax[0].set_yticklabels([])\n",
    "# ax[0].set_xticklabels([])\n",
    "# ax[0].set_title('Phenometric with highest partial correlation with IOS trends');\n",
    "\n",
    "# axins1 = inset_axes(ax[0],width=\"55%\",height=\"5%\",loc=\"lower left\", borderpad=2)\n",
    "# # norm = colors.Normalize()\n",
    "# cbar = plt.cm.ScalarMappable(cmap=cmap)\n",
    "# ax_cbar = fig.colorbar(cbar, cmap=cmap, cax=axins1, ticks=[0.09,0.25,0.4,0.6,0.75,0.925], orientation='horizontal')\n",
    "# ax_cbar.ax.set_xticklabels(list(p_parcorr.data_vars));\n",
    "\n",
    "# im = values_or_timing_gdf.plot(ax=ax[1],  cmap=cmap1)\n",
    "# ctx.add_basemap(ax[1], source=ctx.providers.CartoDB.VoyagerNoLabels, crs='EPSG:4326', attribution='', attribution_size=1)\n",
    "# ax[1].set_yticklabels([])\n",
    "# ax[1].set_xticklabels([])\n",
    "# ax[1].set_title('Values or timing');\n",
    "\n",
    "# axins1 = inset_axes(ax[1],width=\"55%\",height=\"5%\",loc=\"lower left\", borderpad=2)\n",
    "# # norm = colors.Normalize()\n",
    "# cbar = plt.cm.ScalarMappable(cmap=cmap1)\n",
    "# ax_cbar = fig.colorbar(cbar, cmap=cmap1, cax=axins1, ticks=[0.25,0.75], orientation='horizontal')\n",
    "# ax_cbar.ax.set_xticklabels(['values', 'timing']);"
   ]
  }
 ],
 "metadata": {
  "kernelspec": {
   "display_name": "Python 3 (ipykernel)",
   "language": "python",
   "name": "python3"
  },
  "language_info": {
   "codemirror_mode": {
    "name": "ipython",
    "version": 3
   },
   "file_extension": ".py",
   "mimetype": "text/x-python",
   "name": "python",
   "nbconvert_exporter": "python",
   "pygments_lexer": "ipython3",
   "version": "3.10.0"
  }
 },
 "nbformat": 4,
 "nbformat_minor": 5
}
