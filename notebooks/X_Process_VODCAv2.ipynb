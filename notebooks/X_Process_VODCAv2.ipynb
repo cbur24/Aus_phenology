{
 "cells": [
  {
   "cell_type": "markdown",
   "metadata": {},
   "source": [
    "# Process VODCA v2\n",
    "\n",
    "Downloaded from here: https://essd.copernicus.org/preprints/essd-2024-35/\n"
   ]
  },
  {
   "cell_type": "markdown",
   "metadata": {},
   "source": [
    "## Load packages"
   ]
  },
  {
   "cell_type": "code",
   "execution_count": null,
   "metadata": {},
   "outputs": [],
   "source": [
    "import sys\n",
    "import os\n",
    "import xarray as xr\n",
    "import pandas as pd\n",
    "from odc.geo.xr import assign_crs"
   ]
  },
  {
   "cell_type": "markdown",
   "metadata": {},
   "source": [
    "## Combine files"
   ]
  },
  {
   "cell_type": "code",
   "execution_count": null,
   "metadata": {},
   "outputs": [],
   "source": [
    "base='/g/data/os22/chad_tmp/Aus_phenology/data/VODCA_CXKu/daily_images_VODCA_CXKu/'\n",
    "years = [str(i) for i in range(1988,2022)]"
   ]
  },
  {
   "cell_type": "code",
   "execution_count": null,
   "metadata": {},
   "outputs": [],
   "source": [
    "dss=[]\n",
    "for y in years:\n",
    "    print(y)\n",
    "    files = [base+y+'/'+i for i in os.listdir(base+y)]\n",
    "    files.sort()\n",
    "    ds = xr.open_mfdataset(files)\n",
    "    ds = ds.rename({'lat':'latitude', 'lon':'longitude'})\n",
    "    ds = assign_crs(ds['VODCA_CXKu'], crs='EPSG:4326')\n",
    "    ds = ds.sel(latitude=slice(-10,-45), longitude=slice(110,155))\n",
    "    ds = ds.resample(time='MS', loffset=pd.Timedelta(14, 'd')).mean()\n",
    "    dss.append(ds.compute())\n",
    "\n",
    "vodca = xr.concat(dss, dim='time').sortby('time')"
   ]
  },
  {
   "cell_type": "code",
   "execution_count": null,
   "metadata": {},
   "outputs": [],
   "source": [
    "vodca.mean('time').plot(robust=True)"
   ]
  },
  {
   "cell_type": "code",
   "execution_count": null,
   "metadata": {},
   "outputs": [],
   "source": [
    "vodca.mean(['latitude','longitude']).plot(figsize=(12,4))"
   ]
  },
  {
   "cell_type": "code",
   "execution_count": null,
   "metadata": {},
   "outputs": [],
   "source": [
    "vodca.to_netcdf('/g/data/os22/chad_tmp/Aus_phenology/data/VODCAv2_1988_2021.nc')"
   ]
  },
  {
   "cell_type": "code",
   "execution_count": null,
   "metadata": {},
   "outputs": [],
   "source": []
  }
 ],
 "metadata": {
  "kernelspec": {
   "display_name": "Python 3 (ipykernel)",
   "language": "python",
   "name": "python3"
  },
  "language_info": {
   "codemirror_mode": {
    "name": "ipython",
    "version": 3
   },
   "file_extension": ".py",
   "mimetype": "text/x-python",
   "name": "python",
   "nbconvert_exporter": "python",
   "pygments_lexer": "ipython3",
   "version": "3.10.0"
  }
 },
 "nbformat": 4,
 "nbformat_minor": 4
}
