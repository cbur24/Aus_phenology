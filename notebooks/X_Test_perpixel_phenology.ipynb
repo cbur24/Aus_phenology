{
 "cells": [
  {
   "cell_type": "markdown",
   "id": "8d6185d6-5015-4c74-a294-e3c3cea28081",
   "metadata": {},
   "source": [
    "# Try our phenology code per pixel\n",
    "\n",
    "Extremely difficult because per-pixel we don't return an even number of peaks or troughs and the time at which peaks occur is different for every pixel so we'd need to different length arrays...or you'd need to fill...ergh"
   ]
  },
  {
   "cell_type": "code",
   "execution_count": null,
   "id": "be0c7445-4b35-4c1a-b586-353f4a293c32",
   "metadata": {
    "tags": []
   },
   "outputs": [],
   "source": [
    "%matplotlib inline\n",
    "\n",
    "import sys\n",
    "import warnings\n",
    "import numpy as np\n",
    "import xarray as xr\n",
    "import pandas as pd\n",
    "from scipy import stats\n",
    "from scipy import signal\n",
    "import contextily as ctx\n",
    "import matplotlib.pyplot as plt\n",
    "from odc.geo.xr import assign_crs\n",
    "\n",
    "sys.path.append('/g/data/os22/chad_tmp/Aus_phenology/src')\n",
    "from phenology import extract_peaks_troughs, phenometrics\n",
    "\n",
    "%load_ext autoreload\n",
    "%autoreload 2"
   ]
  },
  {
   "cell_type": "code",
   "execution_count": null,
   "id": "381c3b19-a516-4bc8-a051-7037b950dbd1",
   "metadata": {},
   "outputs": [],
   "source": [
    "sys.path.append('/g/data/os22/chad_tmp/AusEFlux/src/')\n",
    "from _utils import start_local_dask\n",
    "start_local_dask()"
   ]
  },
  {
   "cell_type": "markdown",
   "id": "9f402f2d-ab13-41f3-8442-43722664c9d5",
   "metadata": {},
   "source": [
    "## Analysis Parameters\n"
   ]
  },
  {
   "cell_type": "code",
   "execution_count": null,
   "id": "6a9c27f5-4dbd-40e2-904d-961b23786d23",
   "metadata": {
    "tags": []
   },
   "outputs": [],
   "source": [
    "ds_path = '/g/data/os22/chad_tmp/AusENDVI/results/publication/AusENDVI-clim_MCD43A4_gapfilled_1982_2022.nc'\n",
    "chunks = dict(latitude=250, longitude=250)"
   ]
  },
  {
   "cell_type": "markdown",
   "id": "a36d45f1-6dd9-44b4-bb31-825db4303234",
   "metadata": {},
   "source": [
    "## Open data"
   ]
  },
  {
   "cell_type": "code",
   "execution_count": null,
   "id": "6f340aa2-f406-43b7-9528-6d8a966e4526",
   "metadata": {
    "tags": []
   },
   "outputs": [],
   "source": [
    "ds = assign_crs(xr.open_dataset(ds_path, chunks=chunks), crs='EPSG:4326')\n",
    "ds = ds.rename({'AusENDVI_clim_MCD43A4':'NDVI'})\n",
    "ds = ds['NDVI']"
   ]
  },
  {
   "cell_type": "markdown",
   "id": "e3254b3d-6b96-43be-9950-fd4f89e6174b",
   "metadata": {},
   "source": [
    "## Smoothing filters"
   ]
  },
  {
   "cell_type": "code",
   "execution_count": null,
   "id": "9ad59d93-de01-4d65-9f45-ff548618171d",
   "metadata": {},
   "outputs": [],
   "source": [
    "#resample before we smooth\n",
    "ds = ds.resample(time=\"2W\").interpolate(\"linear\")\n",
    "\n",
    "# # Savitsky-Golay smoothing\n",
    "ds_smooth = xr.apply_ufunc(\n",
    "        signal.savgol_filter,\n",
    "        ds,\n",
    "        input_core_dims=[['time']],\n",
    "        output_core_dims=[['time']],\n",
    "        kwargs=dict(\n",
    "            window_length=11,\n",
    "            polyorder=3,\n",
    "            deriv=0,\n",
    "            mode='interp'),\n",
    "        dask='parallelized',\n",
    "    output_dtypes='float32'\n",
    "    )\n",
    "\n",
    "# ufunc reordered dims for some reason\n",
    "ds_smooth = ds_smooth.transpose('time', 'latitude','longitude')\n",
    "ds_smooth = ds_smooth.resample(time=\"1W\").interpolate(\"slinear\")"
   ]
  },
  {
   "cell_type": "markdown",
   "id": "695f636c-237a-4efa-afef-ef87da3e0d19",
   "metadata": {},
   "source": [
    "## Extract phenometrics "
   ]
  },
  {
   "cell_type": "markdown",
   "id": "16430c94-adc8-4e36-9b42-0c2f26210abb",
   "metadata": {},
   "source": [
    "## test per pixel"
   ]
  },
  {
   "cell_type": "code",
   "execution_count": null,
   "id": "0d87d988-ed47-455b-be8c-6bef1b0dc125",
   "metadata": {},
   "outputs": [],
   "source": [
    "def xr_find_peaks(ds, peak_or_trough='peak', rolling=12, distance=12, prominence=0.01, plateau_size=2):\n",
    "    \n",
    "    def _find_peaks(ds):\n",
    "        if peak_or_trough=='peak':\n",
    "            ds = ds.rolling(time=rolling, min_periods=1, center=True).max()\n",
    "            peaks = scipy.signal.find_peaks(ds, #invert\n",
    "                         distance=distance,\n",
    "                         prominence=prominence,\n",
    "                         plateau_size=plateau_size\n",
    "                                           )\n",
    "\n",
    "        if peak_or_trough=='trough':\n",
    "            ds = ds.rolling(rolling=rolling, min_periods=1, center=True).min()\n",
    "            peaks = scipy.signal.find_peaks(ds*-1, #invert\n",
    "                         distance=distance,\n",
    "                         prominence=prominence,\n",
    "                         plateau_size=plateau_size\n",
    "                                           )\n",
    "        return peaks\n",
    "    \n",
    "    ds_n_peaks = xr.apply_ufunc(_find_peaks,\n",
    "                      ds, \n",
    "                      peak_or_trough,\n",
    "                      rolling,\n",
    "                      distance,\n",
    "                      prominence,\n",
    "                      plateau_size,\n",
    "                      input_core_dims=[['time'],['time'],['time'],['time'],['time'],['time']],\n",
    "                      vectorize=True, \n",
    "                      dask='parallelized',\n",
    "                      output_dtypes=[np.float32]\n",
    "                             )\n",
    "\n",
    "    return ds_n_peaks.rename(peak_or_trough)"
   ]
  },
  {
   "cell_type": "code",
   "execution_count": null,
   "id": "0ac74ca1-23bd-44f0-9701-b0160b3a92d4",
   "metadata": {},
   "outputs": [],
   "source": [
    "%%time\n",
    "n_peaks = xr_find_peaks(ds_smooth.sel(time=slice('2004', '2005')))"
   ]
  }
 ],
 "metadata": {
  "kernelspec": {
   "display_name": "Python 3 (ipykernel)",
   "language": "python",
   "name": "python3"
  },
  "language_info": {
   "codemirror_mode": {
    "name": "ipython",
    "version": 3
   },
   "file_extension": ".py",
   "mimetype": "text/x-python",
   "name": "python",
   "nbconvert_exporter": "python",
   "pygments_lexer": "ipython3",
   "version": "3.10.0"
  }
 },
 "nbformat": 4,
 "nbformat_minor": 5
}
