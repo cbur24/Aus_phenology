{
 "cells": [
  {
   "cell_type": "markdown",
   "id": "8d6185d6-5015-4c74-a294-e3c3cea28081",
   "metadata": {},
   "source": [
    "# Extract climate timeseries over the ecoregions\n",
    "\n",
    "And save to disk as this process is time consuming.\n",
    "\n",
    "\n",
    "***\n",
    "\n",
    "**To Do:**\n",
    "* Consider sourcing climate data from somewhere other than ANUClim, perhaps ERA5"
   ]
  },
  {
   "cell_type": "code",
   "execution_count": null,
   "id": "be0c7445-4b35-4c1a-b586-353f4a293c32",
   "metadata": {
    "tags": []
   },
   "outputs": [],
   "source": [
    "%matplotlib inline\n",
    "import os\n",
    "import sys\n",
    "import math\n",
    "import pickle\n",
    "import warnings\n",
    "import dask\n",
    "import xarray as xr\n",
    "import rioxarray as rxr\n",
    "import geopandas as gpd\n",
    "import numpy as np\n",
    "\n",
    "from odc.geo.xr import assign_crs\n",
    "from odc.geo.geom import Geometry\n"
   ]
  },
  {
   "cell_type": "code",
   "execution_count": null,
   "id": "ec1f9f01-d018-4001-ab53-18278062e809",
   "metadata": {},
   "outputs": [],
   "source": [
    "sys.path.append('/g/data/os22/chad_tmp/AusEFlux/src/')\n",
    "from _utils import start_local_dask\n",
    "start_local_dask()"
   ]
  },
  {
   "cell_type": "markdown",
   "id": "9f402f2d-ab13-41f3-8442-43722664c9d5",
   "metadata": {},
   "source": [
    "## Analysis Parameters\n"
   ]
  },
  {
   "cell_type": "code",
   "execution_count": null,
   "id": "6a9c27f5-4dbd-40e2-904d-961b23786d23",
   "metadata": {
    "tags": []
   },
   "outputs": [],
   "source": [
    "# save_file = '/g/data/os22/chad_tmp/Aus_phenology/data/ecoregions_NDVI_timeseries.pkl'\n",
    "# save_file = '/g/data/os22/chad_tmp/Aus_phenology/data/IBRA_regions_NDVI_timeseries.pkl'\n",
    "save_file = '/g/data/os22/chad_tmp/Aus_phenology/data/IBRA_subregions_climate_timeseries.pkl'\n",
    "\n",
    "# ecoregions_file = '/g/data/os22/chad_tmp/Aus_phenology/data/vectors/Ecoregions2017_modified.geojson'\n",
    "# ecoregions_file = '/g/data/os22/chad_tmp/Aus_phenology/data/vectors/IBRAv7_regions_modified.geojson'\n",
    "ecoregions_file = '/g/data/os22/chad_tmp/Aus_phenology/data/vectors/IBRAv7_subregions_modified.geojson'\n",
    "\n",
    "# var='ECO_NAME'\n",
    "# var='REG_NAME_7'\n",
    "var='SUB_NAME_7'"
   ]
  },
  {
   "cell_type": "markdown",
   "id": "6b6096af-0efe-4f0a-88d7-cc193cd512c2",
   "metadata": {},
   "source": [
    "## Load climate data"
   ]
  },
  {
   "cell_type": "code",
   "execution_count": null,
   "id": "8f6c51f0-dcb2-4357-8501-976556a00068",
   "metadata": {},
   "outputs": [],
   "source": [
    "base_clim = '/g/data/os22/chad_tmp/AusENDVI/data/5km/'\n",
    "co2 = xr.open_dataset(base_clim+'CO2_5km_monthly_1982_2022.nc')\n",
    "rain = xr.open_dataset(base_clim+'rain_5km_monthly_1981_2022.nc').sel(time=slice('1982','2022')).drop_vars('spatial_ref')\n",
    "srad = xr.open_dataset(base_clim+'srad_5km_monthly_1982_2022.nc').drop_vars('spatial_ref')\n",
    "tavg = xr.open_dataset(base_clim+'tavg_5km_monthly_1982_2022.nc').drop_vars('spatial_ref')\n",
    "vpd = xr.open_dataset(base_clim+'vpd_5km_monthly_1982_2022.nc').drop_vars('spatial_ref')\n",
    "\n",
    "climate = xr.merge([co2, rain, srad, tavg, vpd])\n",
    "climate = assign_crs(climate, crs='EPSG:4326')\n",
    "climate = climate.transpose('time', 'latitude','longitude')\n",
    "climate = climate.sel(time=slice('1982', '2022'))\n",
    "\n",
    "for v in climate.data_vars:\n",
    "    try:\n",
    "        del climate[v].attrs['grid_mapping']\n",
    "    except:\n",
    "        continue"
   ]
  },
  {
   "cell_type": "code",
   "execution_count": null,
   "id": "6a7465fc-ec54-4d6e-b8e5-ba695a7ac3a9",
   "metadata": {},
   "outputs": [],
   "source": [
    "# save to disk for multiprocessing next\n",
    "climate.to_netcdf('/g/data/os22/chad_tmp/Aus_phenology/data/climate.nc')"
   ]
  },
  {
   "cell_type": "markdown",
   "id": "1f35bf8e-f0c9-40bf-a484-56a2bd00d0dc",
   "metadata": {},
   "source": [
    "### Summarise climate data over polygons\n",
    "\n",
    "Slow so using Dask to multiprocess"
   ]
  },
  {
   "cell_type": "code",
   "execution_count": null,
   "id": "a8c3c618-aaa3-4a01-a706-27258dfb7dce",
   "metadata": {},
   "outputs": [],
   "source": [
    "gdf = gpd.read_file(ecoregions_file)"
   ]
  },
  {
   "cell_type": "code",
   "execution_count": null,
   "id": "56f57515-a479-40eb-8e46-e2d765758365",
   "metadata": {},
   "outputs": [],
   "source": [
    "#decorate the function\n",
    "@dask.delayed\n",
    "def clim_zonal_timeseries(index, ds, gdf, var):\n",
    "    \n",
    "    ds = assign_crs(ds, crs='EPSG:4326')\n",
    "    geom = Geometry(geom=gdf.iloc[index].geometry, crs=gdf.crs)\n",
    "    yy = ds.odc.mask(poly=geom)\n",
    "    yy = yy.dropna(dim='longitude',\n",
    "          how='all').dropna(dim='latitude', how='all')\n",
    "\n",
    "    #summarise into 1d timeseries\n",
    "    yy = yy.mean(['latitude', 'longitude'])\n",
    "\n",
    "    if np.isnan(yy['rain']).sum() == len(yy.time):\n",
    "        yy=np.nan\n",
    "\n",
    "    return yy\n",
    "\n",
    "#delay open datasets\n",
    "path='/g/data/os22/chad_tmp/Aus_phenology/data/climate.nc'\n",
    "dss = dask.delayed(xr.open_dataset)(path)\n",
    "gdff = dask.delayed(gpd.read_file)(ecoregions_file)\n",
    "\n",
    "results_clim={}\n",
    "# lazily loop through polygons\n",
    "for index, row in gdf.iterrows():\n",
    "    zz = clim_zonal_timeseries(index, dss, gdff, var)\n",
    "    results_clim[row[var]] = zz"
   ]
  },
  {
   "cell_type": "code",
   "execution_count": null,
   "id": "1346d99f-3718-47df-a535-623bdbf82877",
   "metadata": {},
   "outputs": [],
   "source": [
    "%%time\n",
    "results_clim = dask.compute(results_clim)[0] #bring into memory\n",
    "\n",
    "# remove NaNs\n",
    "results_clim = {k: results_clim[k] for k in results_clim if not type(results_clim[k]) is float}"
   ]
  },
  {
   "cell_type": "markdown",
   "id": "74f49d4a-cbb3-41b7-98b4-1dab983d94b5",
   "metadata": {},
   "source": [
    "## Save data"
   ]
  },
  {
   "cell_type": "code",
   "execution_count": null,
   "id": "5629edef-5a93-4d38-a8fb-d5258d44df05",
   "metadata": {},
   "outputs": [],
   "source": [
    "with open(save_file, 'wb') as f:\n",
    "    pickle.dump(results_clim, f)"
   ]
  },
  {
   "cell_type": "code",
   "execution_count": null,
   "id": "69c210dd-435c-4493-89e5-b32303e4a16a",
   "metadata": {},
   "outputs": [],
   "source": []
  }
 ],
 "metadata": {
  "kernelspec": {
   "display_name": "Python 3 (ipykernel)",
   "language": "python",
   "name": "python3"
  },
  "language_info": {
   "codemirror_mode": {
    "name": "ipython",
    "version": 3
   },
   "file_extension": ".py",
   "mimetype": "text/x-python",
   "name": "python",
   "nbconvert_exporter": "python",
   "pygments_lexer": "ipython3",
   "version": "3.10.0"
  }
 },
 "nbformat": 4,
 "nbformat_minor": 5
}
