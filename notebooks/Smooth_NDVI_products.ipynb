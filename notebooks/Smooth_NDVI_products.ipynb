{
 "cells": [
  {
   "cell_type": "markdown",
   "id": "8d6185d6-5015-4c74-a294-e3c3cea28081",
   "metadata": {},
   "source": [
    "# Export a series of smoothed NDVI products\n",
    "\n",
    "We can use these to see how NDVI trends differ between products"
   ]
  },
  {
   "cell_type": "code",
   "execution_count": null,
   "id": "be0c7445-4b35-4c1a-b586-353f4a293c32",
   "metadata": {
    "tags": []
   },
   "outputs": [],
   "source": [
    "%matplotlib inline\n",
    "\n",
    "import sys\n",
    "import warnings\n",
    "import scipy.signal\n",
    "import xarray as xr\n",
    "import pandas as pd\n",
    "import numpy as np\n",
    "import geopandas as gpd\n",
    "import matplotlib.pyplot as plt\n",
    "from odc.geo.xr import assign_crs\n",
    "from odc.geo.geom import Geometry\n",
    "\n",
    "sys.path.append('/g/data/os22/chad_tmp/AusEFlux/src/')\n",
    "from _utils import round_coords"
   ]
  },
  {
   "cell_type": "markdown",
   "id": "9f402f2d-ab13-41f3-8442-43722664c9d5",
   "metadata": {},
   "source": [
    "## Analysis Parameters\n"
   ]
  },
  {
   "cell_type": "code",
   "execution_count": null,
   "id": "6a9c27f5-4dbd-40e2-904d-961b23786d23",
   "metadata": {
    "tags": []
   },
   "outputs": [],
   "source": [
    "# ds_path = '/g/data/os22/chad_tmp/AusENDVI/results/publication/AusENDVI-clim_MCD43A4_gapfilled_1982_2022.nc'\n",
    "ds_path = '/g/data/os22/chad_tmp/AusENDVI/results/publication/AusENDVI-clim_1982_2013.nc'\n",
    "# ds_path = '/g/data/os22/chad_tmp/AusENDVI/data/NDVI_harmonization/AVHRR_GIMMS3g_v1.2_1982_2022.nc4'\n",
    "# ds_path = '/g/data/os22/chad_tmp/AusENDVI/data/NDVI_harmonization/AVHRR_GIMMS-PKU-MODIS_1982_2022.nc'\n",
    "# ds_path = '/g/data/os22/chad_tmp/AusENDVI/data/NDVI_harmonization/AVHRR_GIMMS3g_v1.1_1982_2013.nc'\n",
    "# ds_path ='/g/data/os22/chad_tmp/AusENDVI/data/NDVI_harmonization/Landsat_NDVI_5km_monthly_1988_2012.nc'\n",
    "\n",
    "syn_path = '/g/data/os22/chad_tmp/AusENDVI/data/synthetic/NDVI/NDVI_CLIM_synthetic_5km_monthly_1982_2022.nc'\n"
   ]
  },
  {
   "cell_type": "markdown",
   "id": "a36d45f1-6dd9-44b4-bb31-825db4303234",
   "metadata": {},
   "source": [
    "## Open data"
   ]
  },
  {
   "cell_type": "code",
   "execution_count": null,
   "id": "ab8d9996-9fd5-49fd-b23a-7c65059d8e01",
   "metadata": {},
   "outputs": [],
   "source": [
    "# ds.sel(time='2000').plot.imshow(col='time', col_wrap=6, vmin=0)"
   ]
  },
  {
   "cell_type": "code",
   "execution_count": null,
   "id": "3ea1bf71-29b3-4ea7-a9b9-0989f9bfb1f1",
   "metadata": {
    "tags": []
   },
   "outputs": [],
   "source": [
    "# AusENDVI merged with MCD43A4\n",
    "# ds = assign_crs(xr.open_dataset(ds_path), crs='EPSG:4326')\n",
    "# ds = ds.rename({'AusENDVI_clim_MCD43A4':'NDVI'})\n",
    "# ds = ds['NDVI']\n",
    "\n",
    "# AusENDVI-clim\n",
    "ds = assign_crs(xr.open_dataset(ds_path), crs='EPSG:4326')\n",
    "ds = ds.rename({'AusENDVI_clim':'NDVI'})\n",
    "ds = ds['NDVI']\n",
    "\n",
    "#PKU GIMMS\n",
    "# ds = assign_crs(xr.open_dataset(ds_path), crs='EPSG:4326')\n",
    "# ds = ds['__xarray_dataarray_variable__']\n",
    "# ds = ds.rename('NDVI')\n",
    "# ds = ds.sel(time=slice('1982','2013'))\n",
    "\n",
    "# #gimms v1.2 - can't figure out the flags\n",
    "# ds = assign_crs(xr.open_dataset(ds_path), crs='EPSG:4326')\n",
    "# ds = ds['ndvi']\n",
    "# ds = ds/10000\n",
    "# ds = ds.where(ds>0)\n",
    "# ds = ds.sel(lat=slice(-10,-45), lon=slice(110,154))\n",
    "# ds = ds.rename({'lat':'latitude','lon':'longitude'})\n",
    "# ds = assign_crs(ds, crs='EPSG:4326')\n",
    "\n",
    "# #gimms v1.1\n",
    "# ds = assign_crs(xr.open_dataset(ds_path), crs='EPSG:3577')\n",
    "# ds = ds['NDVI']\n",
    "# ds = ds.odc.reproject(ds.odc.geobox.to_crs('EPSG:4326'), resampling='nearest')\n",
    "\n",
    "#synthetic\n",
    "syn = xr.open_dataset(syn_path)['NDVI']\n",
    "syn = assign_crs(syn, crs='EPSG:4326')\n",
    "syn.attrs['nodata'] = np.nan\n",
    "syn = syn.rename('NDVI')\n",
    "syn = syn.sel(time=ds.time)\n",
    "# syn = syn.odc.reproject(ds.odc.geobox, resampling='average')\n",
    "# ds = round_coords(ds)\n",
    "# syn = round_coords(syn)\n",
    "\n",
    "#Landsat\n",
    "# ds = xr.open_dataset(ds_path)['NDVI']\n",
    "# ds = assign_crs(ds, crs='EPSG:4326')\n",
    "# ds.attrs['nodata'] = np.nan"
   ]
  },
  {
   "cell_type": "code",
   "execution_count": null,
   "id": "35651c75-ce37-4302-bab1-b87b3812adb9",
   "metadata": {},
   "outputs": [],
   "source": [
    "# ds.sel(time='1994').plot.imshow(col='time', col_wrap=6, vmin=0)"
   ]
  },
  {
   "cell_type": "code",
   "execution_count": null,
   "id": "c9969c35-f650-4b24-862a-71d486f33d24",
   "metadata": {},
   "outputs": [],
   "source": [
    "# gapfill landsat\n",
    "# obs_monthly = ds.groupby('time.month').mean()\n",
    "# obs_anom = ds.groupby('time.month') - obs_monthly\n",
    "# obs_anom = obs_anom.interpolate_na(dim='time', method='linear', limit=2)\n",
    "# ds = obs_anom.groupby('time.month') + obs_monthly\n",
    "# ds = ds.drop('month')\n",
    "# ds = ds.groupby(\"time.month\").fillna(obs_monthly)\n",
    "# #mask landsat with syn to remove ocean +ve values\n",
    "# m = syn.mean('time')\n",
    "# m = ~np.isnan(m)\n",
    "# ds = ds.where(m)\n",
    "\n",
    "#gapfill ause and pku\n",
    "obs_monthly = ds.groupby('time.month').mean()\n",
    "obs_anom = ds.groupby('time.month') - obs_monthly\n",
    "obs_anom = obs_anom.interpolate_na(dim='time', method='linear', limit=1)\n",
    "ds = obs_anom.groupby('time.month') + obs_monthly\n",
    "ds = ds.drop('month')\n",
    "ds = ds.fillna(syn)\n",
    "\n",
    "#gapfill gimms3g\n",
    "# obs_monthly = ds.groupby('time.month').mean()\n",
    "# obs_anom = ds.groupby('time.month') - obs_monthly\n",
    "# obs_anom = obs_anom.interpolate_na(dim='time', method='linear', limit=1)\n",
    "# ds = obs_anom.groupby('time.month') + obs_monthly\n",
    "# ds = ds.drop('month')\n",
    "# ds = ds.groupby(\"time.month\").fillna(obs_monthly)"
   ]
  },
  {
   "cell_type": "markdown",
   "id": "f812fff0-7dc6-4e37-8dcb-399de37db3ff",
   "metadata": {},
   "source": [
    "## Smoothing filters"
   ]
  },
  {
   "cell_type": "code",
   "execution_count": null,
   "id": "4b1b282a-8a25-4655-acc0-63b8b758e9db",
   "metadata": {},
   "outputs": [],
   "source": [
    "#resample before we smooth\n",
    "ds = ds.resample(time=\"2W\").interpolate(\"linear\")\n",
    "\n",
    "# # Savitsky-Golay smoothing\n",
    "ds_smooth = xr.apply_ufunc(\n",
    "        scipy.signal.savgol_filter,\n",
    "        ds,\n",
    "        input_core_dims=[['time']],\n",
    "        output_core_dims=[['time']],\n",
    "        kwargs=dict(\n",
    "            window_length=11,\n",
    "            polyorder=3,\n",
    "            deriv=0,\n",
    "            mode='interp'),\n",
    "        dask='parallelized'\n",
    "    )\n",
    "\n",
    "# ufunc reordered dims for some reason\n",
    "ds_smooth = ds_smooth.transpose('time', 'latitude','longitude')"
   ]
  },
  {
   "cell_type": "code",
   "execution_count": null,
   "id": "7809784b-e3c7-43f3-89f7-1dee9f59aab9",
   "metadata": {},
   "outputs": [],
   "source": [
    "with plt.style.context('ggplot'):\n",
    "    fig,ax=plt.subplots(1,1, figsize=(12,4))\n",
    "    ds.mean(['latitude','longitude']).plot(ax=ax, label='NDVI')\n",
    "    ds_smooth.mean(['latitude','longitude']).plot(ax=ax, label='Interpolated & smoothed NDVI')\n",
    "    ax.legend(loc='upper left')\n",
    "    ax.set_title('Smoothed NDVI');"
   ]
  },
  {
   "cell_type": "markdown",
   "id": "3224048e-e554-465a-820d-66d671cb5a79",
   "metadata": {},
   "source": [
    "## Save smoothed data to file\n",
    "\n",
    "This make parallelisation with dask.delayed efficient. Each processor will read in the dataset rather than transferring the dataset across processors."
   ]
  },
  {
   "cell_type": "code",
   "execution_count": null,
   "id": "8ffaf192-1b63-4ccf-9223-1ea4d16c7ff0",
   "metadata": {},
   "outputs": [],
   "source": [
    "# ds_smooth = ds_smooth.sel(time=slice('1982','2000'))"
   ]
  },
  {
   "cell_type": "code",
   "execution_count": null,
   "id": "d062c918-b055-4787-9884-c6107d6eccf1",
   "metadata": {},
   "outputs": [],
   "source": [
    "ds_smooth.to_netcdf('/g/data/os22/chad_tmp/Aus_phenology/data/NDVI/NDVI_smooth_AusENDVI-clim_2000.nc')"
   ]
  },
  {
   "cell_type": "code",
   "execution_count": null,
   "id": "2dbe1c09-0a32-4042-a116-d470772e472d",
   "metadata": {},
   "outputs": [],
   "source": [
    "# dss = xr.open_dataarray('/g/data/os22/chad_tmp/Aus_phenology/data/NDVI/NDVI_smooth_GIMMSv1.2.nc')\n",
    "\n",
    "# with plt.style.context('ggplot'):\n",
    "#     fig,ax=plt.subplots(1,1, figsize=(12,4))\n",
    "#     ds.mean(['latitude','longitude']).plot(ax=ax, label='GIMSSSv1.1')\n",
    "#     dss.mean(['latitude','longitude']).plot(ax=ax, label='GIMMSv1.2')\n",
    "#     ax.legend(loc='upper left')\n",
    "#     # ax.set_title('Smoothed NDVI');"
   ]
  },
  {
   "cell_type": "code",
   "execution_count": null,
   "id": "d282545f-16b2-481c-b966-78d0d633b106",
   "metadata": {},
   "outputs": [],
   "source": []
  }
 ],
 "metadata": {
  "kernelspec": {
   "display_name": "Python 3 (ipykernel)",
   "language": "python",
   "name": "python3"
  },
  "language_info": {
   "codemirror_mode": {
    "name": "ipython",
    "version": 3
   },
   "file_extension": ".py",
   "mimetype": "text/x-python",
   "name": "python",
   "nbconvert_exporter": "python",
   "pygments_lexer": "ipython3",
   "version": "3.10.0"
  }
 },
 "nbformat": 4,
 "nbformat_minor": 5
}
