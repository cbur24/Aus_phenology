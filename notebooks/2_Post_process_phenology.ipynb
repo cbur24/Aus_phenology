{
 "cells": [
  {
   "cell_type": "markdown",
   "id": "efe8b79f-4c9d-4866-bc8c-a99af9f9e30b",
   "metadata": {},
   "source": [
    "# Combine the phenology analysis tiles\n",
    "\n",
    "And mask regions such as urban, irrigated agriculture (we don't trust AusENDVI over these regions), and water bodies."
   ]
  },
  {
   "cell_type": "code",
   "execution_count": null,
   "id": "d70a23e7-5a01-4839-a9c2-f02880a81e7a",
   "metadata": {
    "tags": []
   },
   "outputs": [],
   "source": [
    "%matplotlib inline\n",
    "\n",
    "import os\n",
    "import sys\n",
    "import warnings\n",
    "\n",
    "import numpy as np\n",
    "import xarray as xr\n",
    "import pandas as pd\n",
    "from odc.geo.xr import assign_crs\n",
    "\n",
    "sys.path.append('/g/data/os22/chad_tmp/AusEFlux/src/')\n",
    "from _utils import round_coords\n"
   ]
  },
  {
   "cell_type": "markdown",
   "id": "b198fe4d-089b-4861-85c9-85072d9b3bb8",
   "metadata": {},
   "source": [
    "## Open masking datasets"
   ]
  },
  {
   "cell_type": "code",
   "execution_count": null,
   "id": "29a35334-fbed-4f72-9317-d145cc5f7712",
   "metadata": {},
   "outputs": [],
   "source": [
    "crops = xr.open_dataset('/g/data/os22/chad_tmp/Aus_phenology/data/croplands_5km.nc')['croplands']\n",
    "crops = xr.where(crops==2, 0, 1) #irrigated crops\n",
    "crops = round_coords(crops)\n",
    "\n",
    "urban = xr.open_dataarray('/g/data/xc0/project/AusEFlux/data/urban_water_mask_5km.nc')\n",
    "urban = ~urban\n",
    "mask = (urban & crops)"
   ]
  },
  {
   "cell_type": "markdown",
   "id": "2c57f0af-0b7e-40b7-9713-a3d5a79447a3",
   "metadata": {},
   "source": [
    "## Join tiles together\n",
    "\n",
    "and mask with urban etc."
   ]
  },
  {
   "cell_type": "code",
   "execution_count": null,
   "id": "e560dd06-ffff-48c5-8c47-c906a8ba9a5e",
   "metadata": {},
   "outputs": [],
   "source": [
    "tiles_path = '/g/data/os22/chad_tmp/Aus_phenology/results/combined_tiles/'\n",
    "\n",
    "def combine_tiles(path, v, mask):\n",
    "    tiles = [path+i for i in os.listdir(path) if v in i]\n",
    "    tiles = [xr.open_dataset(t) for t in tiles]\n",
    "    p = xr.combine_by_coords(tiles)\n",
    "    p = assign_crs(p,crs='EPSG:4326')\n",
    "    \n",
    "    for var in p.data_vars:\n",
    "        try:\n",
    "            del p[var].attrs['grid_mapping']\n",
    "        except:\n",
    "            continue\n",
    "\n",
    "    # mask = (urban & crops)\n",
    "    p = p.where(mask)\n",
    "    return p\n",
    "\n",
    "p_parcorr_ios = combine_tiles(tiles_path, 'IOS', mask)\n",
    "# p_parcorr_ioc = combine_tiles(tiles_path, 'IOC', mask)\n",
    "p_average = combine_tiles(tiles_path, 'mean', mask)\n",
    "p_trends = combine_tiles(tiles_path, 'trends', mask)\n",
    "\n",
    "# p_attribute_pls = combine_tiles(tiles_path, 'PLS', mask)\n",
    "# p_attribute_ml = combine_tiles(tiles_path, 'ML', mask)\n",
    "# p_attribute_pcmci = combine_tiles(tiles_path, 'PCMCI', mask)\n",
    "# p_attribute_delta_slope = combine_tiles(tiles_path, 'delta_slope', mask)\n"
   ]
  },
  {
   "cell_type": "markdown",
   "id": "699bb578-cfbe-4b55-8270-0a0b2606b95f",
   "metadata": {},
   "source": [
    "## Interactive maps"
   ]
  },
  {
   "cell_type": "code",
   "execution_count": null,
   "id": "d2068041-950d-4057-aefb-516a3a4f78ab",
   "metadata": {},
   "outputs": [],
   "source": [
    "# p_average['SOS'].odc.explore(\n",
    "#             tiles = 'https://server.arcgisonline.com/ArcGIS/rest/services/World_Imagery/MapServer/tile/{z}/{y}/{x}',\n",
    "#            attr = 'Esri',\n",
    "#            name = 'Esri Satellite',\n",
    "#     cmap='twilight'\n",
    "# )"
   ]
  },
  {
   "cell_type": "code",
   "execution_count": null,
   "id": "f69404a3-6274-42ed-8539-62359a5c40ba",
   "metadata": {},
   "outputs": [],
   "source": [
    "season_per_year = p_average['n_seasons']/p_average['n_years']\n",
    "non_seasonal = xr.where((season_per_year <= 0.90),1,0)\n",
    "extra_seasonal = xr.where((season_per_year >= 1.1),1,0)\n",
    "seasonality_mask = (non_seasonal | extra_seasonal)\n",
    "seasonality_mask.plot();"
   ]
  },
  {
   "cell_type": "code",
   "execution_count": null,
   "id": "e20639f6-bed4-47ee-992b-15d810fb800d",
   "metadata": {},
   "outputs": [],
   "source": [
    "import contextily as ctx\n",
    "import matplotlib.pyplot as plt\n",
    "v='POS'\n",
    "sos_nan = np.isnan(p_trends[v+'_slope']).where(~np.isnan(p_average[v]))\n",
    "\n",
    "fig,ax=plt.subplots(1,1, figsize=(6,6), layout='constrained')\n",
    "xr.where((sos_nan==1) & (seasonality_mask==0), 1, np.nan).plot(ax=ax, add_colorbar=False, add_labels=False)\n",
    "ctx.add_basemap(ax, source=ctx.providers.CartoDB.VoyagerNoLabels, crs='EPSG:4326', attribution='', attribution_size=1)\n",
    "ax.axes.get_xaxis().set_ticks([])\n",
    "ax.axes.get_yaxis().set_ticks([])\n",
    "ax.set_title('Nans in '+v+' trends but not in seasonality mask');\n",
    "print(np.sum(sos_nan) / np.sum(~np.isnan(p_average[v].where(seasonality_mask!=1))) * 100)"
   ]
  },
  {
   "cell_type": "code",
   "execution_count": null,
   "id": "1c312824-f738-48c9-93ea-188d4ccd5337",
   "metadata": {},
   "outputs": [],
   "source": [
    "# var = 'POS'\n",
    "# cmap='RdBu_r'\n",
    "# vmin, vmax= -2,2\n",
    "\n",
    "# m = p_trends[var+'_slope'].odc.explore( #.where(p_trends[var+'_p_value']<=0.05) .where(seasonality_mask!=1)\n",
    "#             tiles = 'https://server.arcgisonline.com/ArcGIS/rest/services/World_Imagery/MapServer/tile/{z}/{y}/{x}',\n",
    "#             attr = 'Esri',\n",
    "#             name = 'Esri Satellite',\n",
    "#             cmap=cmap,\n",
    "#             vmin=vmin,\n",
    "#             vmax=vmax\n",
    "# )\n",
    "# m"
   ]
  },
  {
   "cell_type": "markdown",
   "id": "928bd19c-49f3-447c-9e99-aae65b4bb959",
   "metadata": {},
   "source": [
    "## Export"
   ]
  },
  {
   "cell_type": "code",
   "execution_count": null,
   "id": "be11967d-6491-4109-b074-5d844c4c7d66",
   "metadata": {},
   "outputs": [],
   "source": [
    "p_average.to_netcdf('/g/data/os22/chad_tmp/Aus_phenology/results/mean_phenology_perpixel_circular_final.nc')\n",
    "p_trends.to_netcdf('/g/data/os22/chad_tmp/Aus_phenology/results/trends_phenology_perpixel_circular_final.nc')\n",
    "\n",
    "p_parcorr_ios.to_netcdf('/g/data/os22/chad_tmp/Aus_phenology/results/ios_analysis_perpixel_circular_final.nc')\n",
    "# p_parcorr_ioc.to_netcdf('/g/data/os22/chad_tmp/Aus_phenology/results/ioc_analysis_perpixel.nc')s\n",
    "\n",
    "# p_attribute_pls.to_netcdf('/g/data/os22/chad_tmp/Aus_phenology/results/attribution_vPOS_PLS_perpixel.nc')\n",
    "# p_attribute_ml.to_netcdf('/g/data/os22/chad_tmp/Aus_phenology/results/attribution_vPOS_ML_perpixel.nc')\n",
    "# p_attribute_pcmci.to_netcdf('/g/data/os22/chad_tmp/Aus_phenology/results/attribution_vPOS_PCMCI_perpixel.nc')\n",
    "# p_attribute_delta_slope.to_netcdf('/g/data/os22/chad_tmp/Aus_phenology/results/attribution_vPOS_delta_slope_perpixel.nc')"
   ]
  },
  {
   "cell_type": "code",
   "execution_count": null,
   "id": "77142928-2c68-458c-a534-c4c412fd1821",
   "metadata": {},
   "outputs": [],
   "source": []
  }
 ],
 "metadata": {
  "kernelspec": {
   "display_name": "Python 3 (ipykernel)",
   "language": "python",
   "name": "python3"
  },
  "language_info": {
   "codemirror_mode": {
    "name": "ipython",
    "version": 3
   },
   "file_extension": ".py",
   "mimetype": "text/x-python",
   "name": "python",
   "nbconvert_exporter": "python",
   "pygments_lexer": "ipython3",
   "version": "3.10.0"
  }
 },
 "nbformat": 4,
 "nbformat_minor": 5
}
